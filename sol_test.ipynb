{
 "cells": [
  {
   "cell_type": "code",
   "execution_count": 1,
   "metadata": {},
   "outputs": [],
   "source": [
    "\"\"\"Explore the behaviour of optimal solution of linear autoencoder.\"\"\"\n",
    "import torch\n",
    "import torch.nn as nn\n",
    "import torch.optim as optim\n",
    "from torch import mm, transpose\n",
    "from torch.linalg import inv\n",
    "import matplotlib.pyplot as plt"
   ]
  },
  {
   "cell_type": "code",
   "execution_count": 2,
   "metadata": {},
   "outputs": [],
   "source": [
    "class LAE(nn.Module):\n",
    "    def __init__(self, M, N):\n",
    "        super(LAE, self).__init__()\n",
    "        self.m = M\n",
    "        self.n = N\n",
    "        self.w1 = nn.Linear(M, N, bias=False)\n",
    "        self.w2 = nn.Linear(N, M, bias=False)\n",
    "\n",
    "    def forward(self, y):\n",
    "        y = self.w1(y)\n",
    "        y = self.w2(y)\n",
    "        return y\n",
    "\n",
    "def L2Loss(outputs, targets):\n",
    "    return torch.linalg.norm(outputs-targets)\n"
   ]
  },
  {
   "cell_type": "code",
   "execution_count": 3,
   "metadata": {},
   "outputs": [],
   "source": [
    "M = 50\n",
    "N = 40\n",
    "\n",
    "inputs = torch.rand(M)*2\n",
    "targets = inputs"
   ]
  },
  {
   "cell_type": "code",
   "execution_count": 89,
   "metadata": {},
   "outputs": [],
   "source": [
    "net = LAE(M, N)\n",
    "\n",
    "learning_rate = 0.000003\n",
    "epochs = 20000\n",
    "counter = 1000\n",
    "params = list(net.parameters())\n",
    "optimizer = optim.Adam(params, lr=learning_rate)"
   ]
  },
  {
   "cell_type": "code",
   "execution_count": 90,
   "metadata": {},
   "outputs": [
    {
     "name": "stdout",
     "output_type": "stream",
     "text": [
      "epoch:  0 loss:  8.346915245056152\n",
      "epoch:  1000 loss:  7.594297409057617\n",
      "epoch:  2000 loss:  6.823571681976318\n",
      "epoch:  3000 loss:  5.9849677085876465\n",
      "epoch:  4000 loss:  5.058610916137695\n",
      "epoch:  5000 loss:  4.055693626403809\n",
      "epoch:  6000 loss:  2.9831743240356445\n",
      "epoch:  7000 loss:  1.8793143033981323\n",
      "epoch:  8000 loss:  0.8795311450958252\n",
      "epoch:  9000 loss:  0.05684281513094902\n",
      "epoch:  10000 loss:  8.811266161501408e-05\n",
      "epoch:  11000 loss:  8.877358777681366e-05\n",
      "epoch:  12000 loss:  5.172152305021882e-05\n",
      "epoch:  13000 loss:  0.00011202640598639846\n",
      "epoch:  14000 loss:  0.00012596213491633534\n",
      "epoch:  15000 loss:  8.887576404958963e-05\n",
      "epoch:  16000 loss:  9.326284634880722e-05\n",
      "epoch:  17000 loss:  9.114357817452401e-05\n",
      "epoch:  18000 loss:  0.00010279334674123675\n",
      "epoch:  19000 loss:  0.00011049524619011208\n"
     ]
    }
   ],
   "source": [
    "loss_plt = []\n",
    "for epoch in range(epochs):\n",
    "    optimizer.zero_grad()\n",
    "    outputs = net(inputs)\n",
    "    loss = L2Loss(outputs, targets)\n",
    "    loss.backward()\n",
    "    optimizer.step()\n",
    "    #outputs = outputs.detach()\n",
    "    loss_plt.append(loss.item())\n",
    "    if ((epoch+1)%counter) == True:\n",
    "        print('epoch: ', epoch, 'loss: ', loss.item())"
   ]
  },
  {
   "cell_type": "code",
   "execution_count": 91,
   "metadata": {},
   "outputs": [
    {
     "data": {
      "text/plain": [
       "8.688915841048583e-05"
      ]
     },
     "execution_count": 91,
     "metadata": {},
     "output_type": "execute_result"
    },
    {
     "data": {
      "image/png": "[encoded data removed]",
      "text/plain": [
       "<Figure size 432x288 with 1 Axes>"
      ]
     },
     "metadata": {
      "needs_background": "light"
     },
     "output_type": "display_data"
    }
   ],
   "source": [
    "plt.plot(loss_plt)\n",
    "loss_plt[-1]\n"
   ]
  },
  {
   "cell_type": "code",
   "execution_count": 92,
   "metadata": {},
   "outputs": [
    {
     "data": {
      "text/plain": [
       "tensor(9.6942e-05, grad_fn=<LinalgVectorNormBackward0>)"
      ]
     },
     "execution_count": 92,
     "metadata": {},
     "output_type": "execute_result"
    }
   ],
   "source": [
    "L2Loss(net(inputs), targets)"
   ]
  },
  {
   "cell_type": "code",
   "execution_count": 93,
   "metadata": {},
   "outputs": [
    {
     "name": "stdout",
     "output_type": "stream",
     "text": [
      "[Parameter containing:\n",
      "tensor([[-0.0680, -0.1324, -0.1327,  ..., -0.0485,  0.0518, -0.0054],\n",
      "        [-0.1118, -0.0112,  0.0051,  ...,  0.1051,  0.0854, -0.0253],\n",
      "        [-0.1108, -0.0779,  0.0694,  ..., -0.0404,  0.0112, -0.0727],\n",
      "        ...,\n",
      "        [ 0.0301, -0.0818,  0.0178,  ..., -0.1211, -0.1065, -0.1284],\n",
      "        [-0.0853, -0.0983,  0.0156,  ...,  0.1011,  0.0409,  0.1333],\n",
      "        [-0.0511, -0.1050, -0.0183,  ..., -0.0002, -0.1150,  0.0216]],\n",
      "       requires_grad=True), Parameter containing:\n",
      "tensor([[-0.0199,  0.0208,  0.1530,  ...,  0.0572, -0.0816, -0.0162],\n",
      "        [ 0.1196,  0.1630, -0.1398,  ..., -0.0417,  0.1510,  0.1162],\n",
      "        [-0.1083,  0.1377,  0.0623,  ...,  0.0912, -0.0358,  0.1350],\n",
      "        ...,\n",
      "        [-0.1501, -0.0220,  0.1080,  ...,  0.0646,  0.0229,  0.0339],\n",
      "        [-0.1418, -0.0806,  0.1196,  ..., -0.0015, -0.0150,  0.1415],\n",
      "        [-0.1131,  0.1681,  0.0198,  ...,  0.0838,  0.1486,  0.0851]],\n",
      "       requires_grad=True)]\n"
     ]
    }
   ],
   "source": [
    "print(params)"
   ]
  },
  {
   "cell_type": "code",
   "execution_count": 94,
   "metadata": {},
   "outputs": [],
   "source": [
    "W1 = params[0].requires_grad_(False)\n",
    "W2 = params[1].requires_grad_(False)"
   ]
  },
  {
   "cell_type": "code",
   "execution_count": 95,
   "metadata": {},
   "outputs": [
    {
     "data": {
      "text/plain": [
       "tensor([0.0006])"
      ]
     },
     "execution_count": 95,
     "metadata": {},
     "output_type": "execute_result"
    }
   ],
   "source": [
    "input = inputs.resize(M, 1)\n",
    "sum(abs(mm(mm(W2, W1), input) - input))"
   ]
  },
  {
   "cell_type": "code",
   "execution_count": 96,
   "metadata": {},
   "outputs": [],
   "source": [
    "Y = input\n",
    "grad_w1_true = 2*mm(mm(transpose(W2, 0, 1), mm(W2, W1)-torch.eye(M)), mm(Y, transpose(Y, 0, 1)))\n",
    "grad_w2_true = 2*mm(mm(mm(W2, W1)-torch.eye(M), mm(Y, transpose(Y, 0, 1))), transpose(W1, 0, 1))"
   ]
  },
  {
   "cell_type": "code",
   "execution_count": 97,
   "metadata": {},
   "outputs": [
    {
     "name": "stdout",
     "output_type": "stream",
     "text": [
      "tensor([[ 6.4671e-05,  7.2002e-05,  2.6375e-05,  ...,  4.4525e-05,\n",
      "          5.5730e-05,  6.8545e-05],\n",
      "        [-1.0967e-05, -1.2159e-05, -4.2617e-06,  ..., -7.5102e-06,\n",
      "         -9.2983e-06, -1.1563e-05],\n",
      "        [-4.4048e-05, -4.9293e-05, -1.8030e-05,  ..., -3.0667e-05,\n",
      "         -3.7789e-05, -4.6432e-05],\n",
      "        ...,\n",
      "        [ 1.9729e-05,  2.2292e-05,  8.1658e-06,  ...,  1.3828e-05,\n",
      "          1.7047e-05,  2.1577e-05],\n",
      "        [ 1.6570e-05,  1.8656e-05,  6.8843e-06,  ...,  1.1295e-05,\n",
      "          1.4424e-05,  1.7822e-05],\n",
      "        [ 6.0439e-05,  6.7323e-05,  2.4587e-05,  ...,  4.1842e-05,\n",
      "          5.1945e-05,  6.4850e-05]])\n",
      "tensor([[ 4.5910e-05, -8.2040e-05, -3.4909e-05,  ...,  1.1618e-04,\n",
      "         -4.2174e-05, -3.1550e-05],\n",
      "        [-3.7829e-05,  6.7463e-05,  2.8675e-05,  ..., -9.5760e-05,\n",
      "          3.4684e-05,  2.6077e-05],\n",
      "        [ 2.9364e-05, -5.1950e-05, -2.1995e-05,  ...,  7.4138e-05,\n",
      "         -2.6865e-05, -2.0219e-05],\n",
      "        ...,\n",
      "        [ 2.8348e-05, -5.0047e-05, -2.0832e-05,  ...,  7.1038e-05,\n",
      "         -2.5670e-05, -1.9194e-05],\n",
      "        [ 3.3580e-05, -5.9613e-05, -2.5140e-05,  ...,  8.4858e-05,\n",
      "         -3.1065e-05, -2.2925e-05],\n",
      "        [-2.5191e-05,  4.4301e-05,  1.8640e-05,  ..., -6.3309e-05,\n",
      "          2.2935e-05,  1.6825e-05]])\n"
     ]
    }
   ],
   "source": [
    "print(grad_w1_true)\n",
    "print(grad_w2_true)"
   ]
  },
  {
   "cell_type": "code",
   "execution_count": 98,
   "metadata": {},
   "outputs": [
    {
     "data": {
      "text/plain": [
       "tensor([[-1.5797,  2.8030,  1.1856,  ..., -3.9830,  1.4456,  1.0864],\n",
       "        [-1.7618,  3.1260,  1.3222,  ..., -4.4420,  1.6122,  1.2116],\n",
       "        [-0.6441,  1.1429,  0.4834,  ..., -1.6241,  0.5895,  0.4430],\n",
       "        ...,\n",
       "        [-1.0882,  1.9309,  0.8167,  ..., -2.7437,  0.9958,  0.7483],\n",
       "        [-1.3588,  2.4110,  1.0198,  ..., -3.4260,  1.2434,  0.9344],\n",
       "        [-1.6838,  2.9878,  1.2638,  ..., -4.2456,  1.5409,  1.1580]])"
      ]
     },
     "execution_count": 98,
     "metadata": {},
     "output_type": "execute_result"
    }
   ],
   "source": [
    "mm(mm(Y, transpose(Y, 0, 1)), transpose(W1, 0, 1))"
   ]
  },
  {
   "cell_type": "code",
   "execution_count": 99,
   "metadata": {},
   "outputs": [
    {
     "name": "stdout",
     "output_type": "stream",
     "text": [
      "tensor(40)\n",
      "tensor(10)\n"
     ]
    }
   ],
   "source": [
    "if torch.linalg.matrix_rank(W2) == N:\n",
    "    test_mat = mm(mm(W2, inv(mm(transpose(W2, 0, 1), W2))), transpose(W2, 0, 1)) - torch.eye(M)\n",
    "    print(torch.linalg.matrix_rank(test_mat + torch.eye(M)))\n",
    "    print(torch.linalg.matrix_rank(test_mat))"
   ]
  },
  {
   "cell_type": "code",
   "execution_count": 100,
   "metadata": {},
   "outputs": [
    {
     "data": {
      "text/plain": [
       "tensor([[-2.0742e-05, -2.2888e-05, -8.4043e-06,  ..., -1.4424e-05,\n",
       "         -1.7643e-05, -2.1696e-05],\n",
       "        [ 5.8413e-06,  6.7949e-06,  2.4736e-06,  ...,  3.4571e-06,\n",
       "          5.4836e-06,  5.7220e-06],\n",
       "        [ 1.9193e-05,  2.0266e-05,  7.9274e-06,  ...,  1.3471e-05,\n",
       "          1.7405e-05,  2.0027e-05],\n",
       "        ...,\n",
       "        [-2.8610e-05, -3.1710e-05, -1.1623e-05,  ..., -1.9193e-05,\n",
       "         -2.4438e-05, -3.0279e-05],\n",
       "        [-1.1772e-05, -1.3977e-05, -4.9919e-06,  ..., -8.6427e-06,\n",
       "         -1.1161e-05, -1.3098e-05],\n",
       "        [-5.3495e-05, -6.0141e-05, -2.1830e-05,  ..., -3.6955e-05,\n",
       "         -4.6104e-05, -5.7518e-05]])"
      ]
     },
     "execution_count": 100,
     "metadata": {},
     "output_type": "execute_result"
    }
   ],
   "source": [
    "mm(mm(inv(mm(transpose(W2, 0, 1), W2)), transpose(W2, 0, 1)) - W1, mm(Y, transpose(Y, 0, 1)))"
   ]
  },
  {
   "cell_type": "code",
   "execution_count": 101,
   "metadata": {},
   "outputs": [
    {
     "data": {
      "text/plain": [
       "tensor([[2.8248, 3.1503, 1.1518,  ..., 1.9459, 2.4297, 3.0110],\n",
       "        [3.1503, 3.5134, 1.2846,  ..., 2.1701, 2.7097, 3.3580],\n",
       "        [1.1518, 1.2846, 0.4697,  ..., 0.7934, 0.9907, 1.2278],\n",
       "        ...,\n",
       "        [1.9459, 2.1701, 0.7934,  ..., 1.3404, 1.6737, 2.0741],\n",
       "        [2.4297, 2.7097, 0.9907,  ..., 1.6737, 2.0899, 2.5899],\n",
       "        [3.0110, 3.3580, 1.2278,  ..., 2.0741, 2.5899, 3.2095]])"
      ]
     },
     "execution_count": 101,
     "metadata": {},
     "output_type": "execute_result"
    }
   ],
   "source": [
    "mm(Y, transpose(Y, 0, 1))"
   ]
  },
  {
   "cell_type": "code",
   "execution_count": 102,
   "metadata": {},
   "outputs": [
    {
     "name": "stdout",
     "output_type": "stream",
     "text": [
      "tensor(49)\n",
      "tensor(48)\n"
     ]
    }
   ],
   "source": [
    "print(torch.linalg.matrix_rank(mm(W2, W1) - torch.eye(M)))\n",
    "print(torch.linalg.matrix_rank(mm(mm(W2, W1) - torch.eye(M), mm(Y, transpose(Y, 0, 1)))))"
   ]
  }
 ],
 "metadata": {
  "kernelspec": {
   "display_name": "Python 3.9.6 ('SSL_venv': venv)",
   "language": "python",
   "name": "python3"
  },
  "language_info": {
   "codemirror_mode": {
    "name": "ipython",
    "version": 3
   },
   "file_extension": ".py",
   "mimetype": "text/x-python",
   "name": "python",
   "nbconvert_exporter": "python",
   "pygments_lexer": "ipython3",
   "version": "3.9.6"
  },
  "orig_nbformat": 4,
  "vscode": {
   "interpreter": {
    "hash": "9c3c12edae13c0508bae753e64eeaec91e16c05e32c8c48bac5bd7ee2e37cd7c"
   }
  }
 },
 "nbformat": 4,
 "nbformat_minor": 2
}
