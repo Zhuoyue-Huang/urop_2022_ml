{
 "cells": [
  {
   "cell_type": "code",
   "execution_count": 62,
   "metadata": {},
   "outputs": [],
   "source": [
    "\"\"\"Explore the behaviour of optimal solution of linear autoencoder.\"\"\"\n",
    "import torch\n",
    "import torch.nn as nn\n",
    "import torch.optim as optim\n",
    "from torch import mm, transpose\n",
    "import matplotlib.pyplot as plt"
   ]
  },
  {
   "cell_type": "code",
   "execution_count": 63,
   "metadata": {},
   "outputs": [],
   "source": [
    "class LAE(nn.Module):\n",
    "    def __init__(self, M, N):\n",
    "        super(LAE, self).__init__()\n",
    "        self.m = M\n",
    "        self.n = N\n",
    "        self.w1 = nn.Linear(M, N, bias=False)\n",
    "        self.w2 = nn.Linear(N, M, bias=False)\n",
    "\n",
    "    def forward(self, y):\n",
    "        y = self.w1(y)\n",
    "        y = self.w2(y)\n",
    "        return y\n",
    "\n",
    "def L2Loss(outputs, targets):\n",
    "    return torch.linalg.norm(outputs-targets)\n"
   ]
  },
  {
   "cell_type": "code",
   "execution_count": 64,
   "metadata": {},
   "outputs": [],
   "source": [
    "M = 7\n",
    "N = 5\n",
    "\n",
    "net = LAE(M, N)\n",
    "\n",
    "learning_rate = 0.003\n",
    "epochs = 10000\n",
    "counter = 1000\n",
    "params = list(net.parameters())\n",
    "optimizer = optim.Adam(params, lr=learning_rate)"
   ]
  },
  {
   "cell_type": "code",
   "execution_count": 65,
   "metadata": {},
   "outputs": [],
   "source": [
    "inputs = torch.rand(M)*2\n",
    "targets = inputs"
   ]
  },
  {
   "cell_type": "code",
   "execution_count": 66,
   "metadata": {},
   "outputs": [
    {
     "name": "stdout",
     "output_type": "stream",
     "text": [
      "epoch:  0 loss:  3.4131720066070557\n",
      "epoch:  1000 loss:  0.007013953290879726\n",
      "epoch:  2000 loss:  0.003904192242771387\n",
      "epoch:  3000 loss:  0.006096253637224436\n",
      "epoch:  4000 loss:  0.005763025488704443\n",
      "epoch:  5000 loss:  0.005831998307257891\n",
      "epoch:  6000 loss:  0.005916993133723736\n",
      "epoch:  7000 loss:  0.0074995774775743484\n",
      "epoch:  8000 loss:  0.0063502429984509945\n",
      "epoch:  9000 loss:  0.00381756154820323\n"
     ]
    }
   ],
   "source": [
    "loss_plt = []\n",
    "for epoch in range(epochs):\n",
    "    optimizer.zero_grad()\n",
    "    outputs = net(inputs)\n",
    "    loss = L2Loss(outputs, targets)\n",
    "    loss.backward()\n",
    "    optimizer.step()\n",
    "    #outputs = outputs.detach()\n",
    "    loss_plt.append(loss.item())\n",
    "    if ((epoch+1)%counter) == True:\n",
    "        print('epoch: ', epoch, 'loss: ', loss.item())"
   ]
  },
  {
   "cell_type": "code",
   "execution_count": 67,
   "metadata": {},
   "outputs": [
    {
     "data": {
      "text/plain": [
       "0.005808331537991762"
      ]
     },
     "execution_count": 67,
     "metadata": {},
     "output_type": "execute_result"
    },
    {
     "data": {
      "image/png": "[encoded data removed]",
      "text/plain": [
       "<Figure size 432x288 with 1 Axes>"
      ]
     },
     "metadata": {
      "needs_background": "light"
     },
     "output_type": "display_data"
    }
   ],
   "source": [
    "plt.plot(loss_plt)\n",
    "loss_plt[-1]\n"
   ]
  },
  {
   "cell_type": "code",
   "execution_count": 68,
   "metadata": {},
   "outputs": [
    {
     "data": {
      "text/plain": [
       "tensor(0.0053, grad_fn=<LinalgVectorNormBackward0>)"
      ]
     },
     "execution_count": 68,
     "metadata": {},
     "output_type": "execute_result"
    }
   ],
   "source": [
    "L2Loss(net(inputs), targets)"
   ]
  },
  {
   "cell_type": "code",
   "execution_count": 70,
   "metadata": {},
   "outputs": [],
   "source": [
    "W1 = params[0].requires_grad_(False)\n",
    "W2 = params[1].requires_grad_(False)"
   ]
  },
  {
   "cell_type": "code",
   "execution_count": 71,
   "metadata": {},
   "outputs": [
    {
     "data": {
      "text/plain": [
       "tensor([[-0.0018],\n",
       "        [-0.0024],\n",
       "        [-0.0024],\n",
       "        [-0.0004],\n",
       "        [-0.0019],\n",
       "        [-0.0022],\n",
       "        [-0.0023]])"
      ]
     },
     "execution_count": 71,
     "metadata": {},
     "output_type": "execute_result"
    }
   ],
   "source": [
    "input = inputs.resize(M, 1)\n",
    "mm(mm(W2, W1), input) - input"
   ]
  },
  {
   "cell_type": "code",
   "execution_count": 74,
   "metadata": {},
   "outputs": [],
   "source": [
    "Y = input\n",
    "grad_w1_true = 2*mm(mm(transpose(W2, 0, 1), mm(W2, W1)-torch.eye(M)), mm(Y, transpose(Y, 0, 1)))\n",
    "grad_w2_true = 2*mm(mm(mm(W2, W1)-torch.eye(M), mm(Y, transpose(Y, 0, 1))), transpose(W1, 0, 1))"
   ]
  },
  {
   "cell_type": "code",
   "execution_count": 76,
   "metadata": {},
   "outputs": [
    {
     "data": {
      "text/plain": [
       "tensor(0.2002)"
      ]
     },
     "execution_count": 76,
     "metadata": {},
     "output_type": "execute_result"
    }
   ],
   "source": [
    "sum(sum(abs(grad_w1_true)))"
   ]
  },
  {
   "cell_type": "code",
   "execution_count": null,
   "metadata": {},
   "outputs": [],
   "source": []
  }
 ],
 "metadata": {
  "kernelspec": {
   "display_name": "Python 3.9.6 64-bit",
   "language": "python",
   "name": "python3"
  },
  "language_info": {
   "codemirror_mode": {
    "name": "ipython",
    "version": 3
   },
   "file_extension": ".py",
   "mimetype": "text/x-python",
   "name": "python",
   "nbconvert_exporter": "python",
   "pygments_lexer": "ipython3",
   "version": "3.9.6"
  },
  "orig_nbformat": 4,
  "vscode": {
   "interpreter": {
    "hash": "564aee36413f03b7190b7de1b12a6e695e2661bae8bd59105d5e2048aa9f9e35"
   }
  }
 },
 "nbformat": 4,
 "nbformat_minor": 2
}
