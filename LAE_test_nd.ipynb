{
 "cells": [
  {
   "cell_type": "code",
   "execution_count": 1,
   "metadata": {},
   "outputs": [],
   "source": [
    "\"\"\"Explore the behaviour of optimal solution of linear autoencoder for multiple samples.\"\"\"\n",
    "import torch\n",
    "import torch.nn as nn\n",
    "import torch.optim as optim\n",
    "from torch import mm, transpose\n",
    "import matplotlib.pyplot as plt\n",
    "import numpy as np"
   ]
  },
  {
   "cell_type": "code",
   "execution_count": 2,
   "metadata": {},
   "outputs": [],
   "source": [
    "class LAE(nn.Module):\n",
    "    def __init__(self, n, p):\n",
    "        super(LAE, self).__init__()\n",
    "        self.n = n\n",
    "        self.p = p\n",
    "        self.w1 = nn.Linear(n, p, bias=False)\n",
    "        self.w2 = nn.Linear(p, n, bias=False)\n",
    "\n",
    "    def forward(self, y):\n",
    "        y = self.w1(y)\n",
    "        y = self.w2(y)\n",
    "        return y"
   ]
  },
  {
   "cell_type": "code",
   "execution_count": 3,
   "metadata": {},
   "outputs": [],
   "source": [
    "n = 25\n",
    "p = 20\n",
    "m = 100\n",
    "\n",
    "inputs = torch.rand(m, n)*2\n",
    "targets = inputs"
   ]
  },
  {
   "cell_type": "code",
   "execution_count": 4,
   "metadata": {},
   "outputs": [],
   "source": [
    "net = LAE(n, p)\n",
    "\n",
    "learning_rate = 0.0001\n",
    "epochs = 10000\n",
    "counter = 1000\n",
    "params = list(net.parameters())\n",
    "criterion = nn.MSELoss()\n",
    "optimizer = optim.Adam(params, lr=learning_rate)"
   ]
  },
  {
   "cell_type": "code",
   "execution_count": 5,
   "metadata": {},
   "outputs": [
    {
     "name": "stdout",
     "output_type": "stream",
     "text": [
      "epoch:  0 loss:  1.5320738554000854\n",
      "epoch:  1000 loss:  0.2883506715297699\n",
      "epoch:  2000 loss:  0.13551951944828033\n",
      "epoch:  3000 loss:  0.056992676109075546\n",
      "epoch:  4000 loss:  0.032523997128009796\n",
      "epoch:  5000 loss:  0.029237475246191025\n",
      "epoch:  6000 loss:  0.02879430539906025\n",
      "epoch:  7000 loss:  0.02871590293943882\n",
      "epoch:  8000 loss:  0.028707092627882957\n",
      "epoch:  9000 loss:  0.028706539422273636\n"
     ]
    }
   ],
   "source": [
    "loss_plt = []\n",
    "for epoch in range(epochs):\n",
    "    optimizer.zero_grad()\n",
    "    outputs = net(inputs)\n",
    "    loss = criterion(outputs, targets)\n",
    "    loss.backward()\n",
    "    optimizer.step()\n",
    "    loss_plt.append(loss.item())\n",
    "    if epoch % counter == 0:\n",
    "        learning_rate *= 0.95\n",
    "        optimizer = optim.Adam(params, lr=learning_rate)\n",
    "        print('epoch: ', epoch, 'loss: ', loss.item())"
   ]
  },
  {
   "cell_type": "code",
   "execution_count": 6,
   "metadata": {},
   "outputs": [
    {
     "data": {
      "text/plain": [
       "[<matplotlib.lines.Line2D at 0x148313c5820>]"
      ]
     },
     "execution_count": 6,
     "metadata": {},
     "output_type": "execute_result"
    },
    {
     "data": {
      "image/png": "[encoded data removed]",
      "text/plain": [
       "<Figure size 432x288 with 1 Axes>"
      ]
     },
     "metadata": {
      "needs_background": "light"
     },
     "output_type": "display_data"
    }
   ],
   "source": [
    "plt.plot(loss_plt)"
   ]
  },
  {
   "cell_type": "code",
   "execution_count": 7,
   "metadata": {},
   "outputs": [
    {
     "name": "stdout",
     "output_type": "stream",
     "text": [
      "[Parameter containing:\n",
      "tensor([[ 0.5264,  0.2372, -0.0734, -0.3236, -0.1304, -0.0542,  0.1599,  0.1967,\n",
      "          0.2510, -0.0511,  0.1184, -0.0980, -0.0622, -0.2523, -0.1728,  0.0830,\n",
      "          0.2359, -0.2179, -0.0546,  0.2159,  0.0915, -0.2478,  0.1683,  0.1917,\n",
      "          0.3311],\n",
      "        [-0.1783,  0.1680, -0.1484, -0.2706,  0.1501,  0.3023,  0.2008, -0.1319,\n",
      "          0.0934, -0.1594,  0.1234, -0.0392, -0.2700,  0.1618,  0.4171, -0.0066,\n",
      "          0.2762,  0.2046,  0.2099, -0.2421,  0.1251, -0.0334, -0.2464,  0.0236,\n",
      "          0.2166],\n",
      "        [-0.1339, -0.1601,  0.3250, -0.1958, -0.0127,  0.0966, -0.1093,  0.0055,\n",
      "          0.2519,  0.1441,  0.4210,  0.1229, -0.2250, -0.0463, -0.2128, -0.1986,\n",
      "          0.0014, -0.2327,  0.3345, -0.1961,  0.2448,  0.1645,  0.0998,  0.1941,\n",
      "         -0.0614],\n",
      "        [-0.1231,  0.1468, -0.1898,  0.1691,  0.1360,  0.2384, -0.1467,  0.2057,\n",
      "         -0.0633,  0.2658,  0.0532, -0.0835,  0.2305,  0.1865,  0.2226,  0.0627,\n",
      "          0.0793, -0.2206,  0.1323,  0.3826,  0.0174, -0.1702,  0.2635, -0.0711,\n",
      "          0.0545],\n",
      "        [ 0.1589, -0.1805,  0.0439, -0.1125, -0.2959,  0.2477,  0.1260, -0.1629,\n",
      "         -0.3105,  0.0827,  0.3833, -0.2975, -0.1595,  0.0826, -0.0433, -0.0482,\n",
      "         -0.1323,  0.1583,  0.0870,  0.1296, -0.1935, -0.0827, -0.1769, -0.1991,\n",
      "         -0.0072],\n",
      "        [-0.3375,  0.2391,  0.2552,  0.0388,  0.0243, -0.2129,  0.3332, -0.0123,\n",
      "         -0.3046, -0.0797, -0.0852, -0.2319,  0.2418, -0.1101,  0.0306, -0.0791,\n",
      "         -0.1173, -0.1168,  0.2345,  0.0930,  0.2530, -0.1046, -0.2001, -0.0884,\n",
      "          0.2225],\n",
      "        [ 0.1205, -0.1773, -0.0349,  0.1530,  0.2262, -0.2159,  0.3049, -0.1459,\n",
      "          0.2216,  0.1549,  0.0208, -0.2120,  0.2686,  0.4681,  0.2502, -0.1188,\n",
      "         -0.1500, -0.1217, -0.0400,  0.0090, -0.0701,  0.1249, -0.2910,  0.1342,\n",
      "          0.2185],\n",
      "        [ 0.3862, -0.0495,  0.2046, -0.1348,  0.3597,  0.0836,  0.0554, -0.2238,\n",
      "         -0.0901,  0.2188, -0.1106,  0.1599,  0.1197,  0.0194,  0.2126,  0.0526,\n",
      "          0.3128, -0.0786,  0.0177, -0.0904,  0.1241, -0.2331,  0.0402, -0.2160,\n",
      "         -0.4147],\n",
      "        [ 0.0312,  0.2079, -0.3909, -0.0742,  0.2380, -0.0345, -0.0032, -0.1477,\n",
      "         -0.1971,  0.0578,  0.0635, -0.2873, -0.2370, -0.1442,  0.1129,  0.1507,\n",
      "         -0.1160, -0.3647,  0.0810,  0.0523, -0.2261,  0.1953, -0.2520,  0.2039,\n",
      "         -0.2585],\n",
      "        [-0.0709, -0.2337, -0.1655, -0.1269, -0.0283,  0.2356,  0.2397,  0.0733,\n",
      "         -0.0690, -0.0453,  0.0617,  0.1914,  0.2131, -0.0150, -0.2527,  0.5556,\n",
      "          0.1119,  0.0016,  0.0525,  0.0097,  0.2747,  0.3348, -0.2254,  0.0494,\n",
      "         -0.0636],\n",
      "        [-0.0214,  0.0026,  0.1486,  0.0838, -0.0313,  0.3761,  0.2778,  0.0562,\n",
      "          0.2064, -0.1893,  0.1419, -0.3915,  0.3375, -0.3352,  0.0596, -0.2318,\n",
      "         -0.2591, -0.0228, -0.2514, -0.2119,  0.1767, -0.1520,  0.0462,  0.2508,\n",
      "         -0.2182],\n",
      "        [-0.1993,  0.0388,  0.2273,  0.0977,  0.3487, -0.2343,  0.3410, -0.0505,\n",
      "          0.1011,  0.2403,  0.2847,  0.1915, -0.0844, -0.2440,  0.0702,  0.1265,\n",
      "         -0.0896,  0.2110,  0.0362, -0.1671, -0.1315, -0.0290,  0.3735, -0.1179,\n",
      "          0.0201],\n",
      "        [ 0.1688,  0.2686,  0.4158, -0.1392, -0.2089,  0.0706,  0.0130,  0.4550,\n",
      "          0.0384,  0.1135, -0.0799, -0.0649, -0.1479,  0.2385,  0.2893,  0.2045,\n",
      "         -0.3245, -0.0506,  0.2542, -0.3286,  0.1283,  0.2583, -0.0202, -0.0934,\n",
      "          0.1129],\n",
      "        [ 0.3234,  0.0546, -0.0261,  0.0569, -0.0129,  0.1084, -0.0228,  0.2526,\n",
      "         -0.3104, -0.2628,  0.1562,  0.4038,  0.3070, -0.1927,  0.1380, -0.1331,\n",
      "         -0.1471,  0.2137,  0.3446, -0.1790, -0.0644,  0.0821,  0.1406,  0.2688,\n",
      "          0.0926],\n",
      "        [ 0.1206,  0.0575, -0.0704,  0.1887,  0.3710, -0.1157, -0.1230, -0.0555,\n",
      "          0.2789, -0.3713, -0.0588,  0.0657, -0.3343,  0.0949, -0.1662,  0.1314,\n",
      "         -0.4085,  0.0673,  0.3732,  0.1437,  0.0126, -0.1642, -0.1879, -0.2211,\n",
      "         -0.2625],\n",
      "        [-0.0092,  0.0557,  0.0063, -0.2588,  0.0128, -0.0018, -0.3028, -0.2065,\n",
      "         -0.0889,  0.0075,  0.4509,  0.2454,  0.0380, -0.1459, -0.0007, -0.0867,\n",
      "         -0.2020, -0.0373, -0.3648, -0.1178,  0.2428, -0.1425, -0.2467, -0.2749,\n",
      "          0.2435],\n",
      "        [ 0.1156, -0.0636, -0.1747,  0.1579, -0.0385,  0.2479,  0.1448, -0.4741,\n",
      "          0.2993,  0.2487, -0.2385,  0.1896, -0.2444, -0.2829,  0.0718, -0.1932,\n",
      "         -0.0366, -0.2372,  0.0704, -0.0534, -0.1681,  0.1159,  0.0354, -0.3366,\n",
      "          0.1272],\n",
      "        [ 0.1741,  0.3341,  0.0848,  0.2585,  0.0808,  0.0582,  0.2036,  0.1028,\n",
      "         -0.3484, -0.1866,  0.1123,  0.0195, -0.0533,  0.3440, -0.1574, -0.1063,\n",
      "          0.1369, -0.3329, -0.2224, -0.3051, -0.0824,  0.0366, -0.0403,  0.0290,\n",
      "          0.1375],\n",
      "        [ 0.1242,  0.3481, -0.0318,  0.2955, -0.2041,  0.0920,  0.0080, -0.2778,\n",
      "         -0.0900,  0.1702, -0.0412,  0.1290, -0.1926,  0.1990, -0.1640,  0.2237,\n",
      "         -0.0180,  0.3307, -0.0411,  0.1853,  0.4543,  0.1885,  0.0369,  0.3683,\n",
      "          0.0566],\n",
      "        [-0.0268, -0.0258, -0.4435, -0.1300, -0.1372, -0.1329,  0.1580, -0.0351,\n",
      "         -0.1502,  0.0160, -0.2307,  0.1343, -0.0813,  0.1893, -0.0635,  0.1621,\n",
      "         -0.1141, -0.0459,  0.0931, -0.2184,  0.2152, -0.4507,  0.3079, -0.0180,\n",
      "          0.0630]], requires_grad=True), Parameter containing:\n",
      "tensor([[ 0.4991, -0.2641, -0.1788, -0.2133,  0.2565, -0.2720,  0.2853,  0.4581,\n",
      "          0.0133, -0.0709, -0.0225, -0.1705,  0.1879,  0.3551,  0.1595,  0.0174,\n",
      "          0.1175,  0.0591,  0.1583, -0.0770],\n",
      "        [ 0.1927,  0.1822, -0.2555,  0.1751, -0.2836,  0.2256, -0.3375, -0.0218,\n",
      "          0.2623, -0.2799,  0.0541,  0.1183,  0.2244, -0.0324,  0.0777,  0.1603,\n",
      "          0.0184,  0.2605,  0.3684, -0.2115],\n",
      "        [ 0.0010, -0.1652,  0.1866, -0.2175,  0.0833,  0.3158, -0.1150,  0.3398,\n",
      "         -0.3735, -0.1650, -0.0161,  0.1008,  0.2624, -0.1695, -0.0029, -0.1110,\n",
      "         -0.1323,  0.0873,  0.0565, -0.4914],\n",
      "        [-0.2640, -0.2067, -0.1268,  0.2904, -0.0428, -0.0083,  0.0497, -0.1848,\n",
      "         -0.2076, -0.0368,  0.1603,  0.1327, -0.1578,  0.0775,  0.2512, -0.1857,\n",
      "          0.2640,  0.4101,  0.3011, -0.1985],\n",
      "        [-0.0125,  0.1859,  0.0017,  0.2044, -0.3425, -0.0241,  0.1803,  0.2707,\n",
      "          0.1887,  0.0635, -0.0079,  0.3565, -0.2263,  0.0315,  0.3405,  0.1060,\n",
      "         -0.1788,  0.1577, -0.1151, -0.2211],\n",
      "        [-0.1392,  0.3312,  0.0034,  0.5239,  0.2550, -0.2632, -0.3268,  0.0087,\n",
      "         -0.1999,  0.3174,  0.4576, -0.2264,  0.0671,  0.0420,  0.0680, -0.0440,\n",
      "          0.3736,  0.2193,  0.0489, -0.1689],\n",
      "        [ 0.2278,  0.1201, -0.1278, -0.2168,  0.2808,  0.2899,  0.2284,  0.0224,\n",
      "         -0.0920,  0.3627,  0.2054,  0.4451, -0.0611, -0.0419, -0.0270, -0.3912,\n",
      "          0.2132,  0.2397, -0.0294,  0.1862],\n",
      "        [ 0.1496, -0.0541, -0.1032,  0.2782, -0.1426, -0.1876, -0.1725, -0.2624,\n",
      "         -0.1342,  0.1624,  0.0194,  0.0387,  0.3643,  0.0293,  0.0519, -0.1434,\n",
      "         -0.3243,  0.1164, -0.3931, -0.0905],\n",
      "        [ 0.3008,  0.1707,  0.1068,  0.0409, -0.3784, -0.3703,  0.2862, -0.2099,\n",
      "         -0.3093,  0.0360,  0.2511,  0.0524,  0.0894, -0.3048,  0.3039, -0.0398,\n",
      "          0.1854, -0.2525, -0.0651, -0.1764],\n",
      "        [-0.0663, -0.2948,  0.1802,  0.2616,  0.1391, -0.0591,  0.2173,  0.2196,\n",
      "          0.2185, -0.0787, -0.1450,  0.2582,  0.2296, -0.1751, -0.4478,  0.0803,\n",
      "          0.1491, -0.2873,  0.2543,  0.1134],\n",
      "        [ 0.1274,  0.0860,  0.3508,  0.3012,  0.4471, -0.2353,  0.1413, -0.1636,\n",
      "          0.0973,  0.0939,  0.0563,  0.4388, -0.1956,  0.1125,  0.0792,  0.3861,\n",
      "         -0.3023,  0.1827,  0.0009, -0.1535],\n",
      "        [-0.1083, -0.0388,  0.0823, -0.0093, -0.3278, -0.1164, -0.0435,  0.0780,\n",
      "         -0.2314,  0.2138, -0.3234,  0.0868, -0.0956,  0.4182,  0.0528,  0.2740,\n",
      "          0.2475,  0.1128,  0.0460,  0.0451],\n",
      "        [-0.0612, -0.2572, -0.1638,  0.2429, -0.1773,  0.2150,  0.3320,  0.1613,\n",
      "         -0.1925,  0.2809,  0.1976, -0.1423, -0.1133,  0.3284, -0.1748,  0.1469,\n",
      "         -0.0668, -0.1619, -0.1523, -0.0663],\n",
      "        [-0.2361,  0.1233,  0.1568,  0.2166,  0.1686, -0.3050,  0.4695,  0.0334,\n",
      "         -0.3128, -0.0505, -0.2038, -0.2049,  0.0844, -0.2184,  0.1308, -0.1065,\n",
      "         -0.3214,  0.3610,  0.0901,  0.2590],\n",
      "        [-0.1519,  0.3993, -0.3086,  0.1916, -0.1409, -0.0808,  0.1841,  0.1816,\n",
      "          0.2049, -0.3071,  0.0603,  0.0336,  0.3223,  0.2027, -0.2454,  0.1212,\n",
      "          0.0105, -0.3877, -0.0345, -0.0678],\n",
      "        [ 0.1322, -0.0623, -0.3711,  0.0923,  0.0022, -0.1723, -0.1202,  0.0167,\n",
      "          0.1691,  0.6230, -0.0641,  0.3610,  0.3192, -0.2542,  0.1157,  0.0456,\n",
      "         -0.1820, -0.0886,  0.0675,  0.0583],\n",
      "        [ 0.2032,  0.4317,  0.0754, -0.0226, -0.1451,  0.0051, -0.2498,  0.2973,\n",
      "         -0.2328,  0.0584, -0.3391, -0.1174, -0.4078, -0.1737, -0.3293, -0.3823,\n",
      "         -0.1170,  0.2341, -0.0918, -0.3400],\n",
      "        [-0.1259,  0.3276, -0.4343, -0.2763,  0.2528, -0.2036, -0.0644, -0.0501,\n",
      "         -0.3481, -0.1391,  0.0027,  0.2927, -0.0749,  0.1516,  0.0435, -0.0988,\n",
      "         -0.3159, -0.3979,  0.3310, -0.1545],\n",
      "        [ 0.0113,  0.1435,  0.4925,  0.1635,  0.2136,  0.4521,  0.0154,  0.0709,\n",
      "          0.0294,  0.0012, -0.2935, -0.1427,  0.0051,  0.4535,  0.2746, -0.4373,\n",
      "          0.1534, -0.2576, -0.0710,  0.1109],\n",
      "        [ 0.3127, -0.1525, -0.1217,  0.4564,  0.2158,  0.2394,  0.0168, -0.0509,\n",
      "         -0.0854,  0.0252, -0.2252, -0.0940, -0.2661, -0.0573,  0.2036, -0.0750,\n",
      "         -0.0449, -0.3131,  0.1969, -0.4301],\n",
      "        [ 0.0128,  0.0467,  0.2934,  0.0772, -0.2745,  0.3369,  0.0104,  0.2623,\n",
      "         -0.1557,  0.1576,  0.2267, -0.2666,  0.0652, -0.1222,  0.0890,  0.2989,\n",
      "         -0.0726, -0.1578,  0.4310,  0.2450],\n",
      "        [-0.1781, -0.0896,  0.0471, -0.1730, -0.1956, -0.0974,  0.0807, -0.2233,\n",
      "          0.2395,  0.3176, -0.1943,  0.0088,  0.2179,  0.1034, -0.2390, -0.0976,\n",
      "          0.2100,  0.0124,  0.1058, -0.4879],\n",
      "        [ 0.0445, -0.1705,  0.1317,  0.3053, -0.0245, -0.2577, -0.2152, -0.0571,\n",
      "         -0.1278, -0.2131,  0.1069,  0.3991, -0.0053,  0.0380, -0.1623, -0.2553,\n",
      "          0.0063,  0.0490,  0.0491,  0.3490],\n",
      "        [ 0.0857,  0.0536,  0.3438, -0.2025, -0.2545, -0.1452,  0.2605, -0.1027,\n",
      "          0.3872, -0.2074,  0.1623, -0.0969, -0.2324,  0.2786, -0.2658, -0.2599,\n",
      "         -0.3554, -0.1503,  0.3763,  0.0925],\n",
      "        [ 0.3460,  0.2116, -0.1155,  0.1162, -0.0460,  0.2117,  0.2640, -0.4950,\n",
      "         -0.3136,  0.0072, -0.3024,  0.0642,  0.0178,  0.1374, -0.1305,  0.2529,\n",
      "          0.2761,  0.0803, -0.0310, -0.0500]], requires_grad=True)]\n"
     ]
    }
   ],
   "source": [
    "print(params)"
   ]
  },
  {
   "cell_type": "code",
   "execution_count": 8,
   "metadata": {},
   "outputs": [],
   "source": [
    "W1 = params[0].requires_grad_(False)\n",
    "W2 = params[1].requires_grad_(False)"
   ]
  },
  {
   "cell_type": "code",
   "execution_count": 9,
   "metadata": {},
   "outputs": [
    {
     "data": {
      "text/plain": [
       "torch.Size([20, 25])"
      ]
     },
     "execution_count": 9,
     "metadata": {},
     "output_type": "execute_result"
    }
   ],
   "source": [
    "W1.size()"
   ]
  },
  {
   "cell_type": "code",
   "execution_count": null,
   "metadata": {},
   "outputs": [],
   "source": []
  }
 ],
 "metadata": {
  "kernelspec": {
   "display_name": "Python 3.9.6 ('SSL_venv': venv)",
   "language": "python",
   "name": "python3"
  },
  "language_info": {
   "codemirror_mode": {
    "name": "ipython",
    "version": 3
   },
   "file_extension": ".py",
   "mimetype": "text/x-python",
   "name": "python",
   "nbconvert_exporter": "python",
   "pygments_lexer": "ipython3",
   "version": "3.9.6"
  },
  "orig_nbformat": 4,
  "vscode": {
   "interpreter": {
    "hash": "9c3c12edae13c0508bae753e64eeaec91e16c05e32c8c48bac5bd7ee2e37cd7c"
   }
  }
 },
 "nbformat": 4,
 "nbformat_minor": 2
}
