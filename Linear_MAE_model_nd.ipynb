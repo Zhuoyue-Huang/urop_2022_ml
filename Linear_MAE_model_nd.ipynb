{
 "cells": [
  {
   "cell_type": "code",
   "execution_count": 1,
   "metadata": {},
   "outputs": [],
   "source": [
    "\"\"\"Explore the behaviour of optimal solution of linear masked autoencoder for multiple samples.\"\"\"\n",
    "import torch\n",
    "import torch.nn as nn\n",
    "import torch.optim as optim\n",
    "import matplotlib.pyplot as plt"
   ]
  },
  {
   "cell_type": "code",
   "execution_count": 2,
   "metadata": {},
   "outputs": [],
   "source": [
    "# Note prob is the un-masked probability\n",
    "\"\"\"\n",
    "def binary_mat_generator(prob, m, n):\n",
    "    num0 = int(n*prob) # num1 of entries is 1 in every row\n",
    "    num1 = n - num0\n",
    "    vec = np.concatenate([np.zeros(num0), np.ones(num1)])\n",
    "    mat = np.tile(vec, (m, 1))\n",
    "    idx = np.random.rand(*mat.shape).argsort(axis=1)\n",
    "    mat_shuffle = np.take_along_axis(mat, idx, axis=1)\n",
    "    return torch.tensor(mat_shuffle).float()\n",
    "\"\"\"\n",
    "    \n",
    "## Masked lienar auto-encoder model\n",
    "# Define different types of masks\n",
    "def mask_basic(prob, sample_num, feature_num):\n",
    "    return torch.zeros(sample_num, feature_num).bernoulli_(prob)\n",
    "\n",
    "def mask_dropping_probs(prob_list: torch.Tensor, sample_num, feature_num):\n",
    "    return torch.zeros(sample_num, feature_num).bernoulli_(prob_list)\n",
    "\n",
    "def mask_patches(prob, patch_size, sample_num, sample_dim):\n",
    "    patch_size = torch.tensor(patch_size)\n",
    "    sample_dim = torch.tensor(sample_dim)\n",
    "    feature_num = sample_dim[0]*sample_dim[1]\n",
    "    div_check = sample_dim % patch_size == torch.zeros(2)\n",
    "    if torch.all(div_check):\n",
    "        pix_num = torch.div(sample_dim, patch_size, rounding_mode='floor')\n",
    "        mat_patches = torch.zeros(sample_num, *pix_num).bernoulli_(prob)\n",
    "        mat_patches = torch.repeat_interleave(mat_patches, patch_size[1], dim=2)\n",
    "        return mat_patches.repeat_interleave(patch_size[0], dim=1).view(sample_num, feature_num)\n",
    "    else:\n",
    "        raise NotImplementedError(f\"Both height ({sample_dim[0]}) and width ({sample_dim[1]}) should be divisible by patch_size ({patch_size}).\")\n"
   ]
  },
  {
   "cell_type": "code",
   "execution_count": 3,
   "metadata": {},
   "outputs": [],
   "source": [
    "# Masked autoencoder (linear)\n",
    "class M_LAE(nn.Module):\n",
    "    def __init__(self, prob, sample_num, sample_dim, type='basic', patch_size=None):\n",
    "        super(M_LAE, self).__init__()\n",
    "        self.prob = prob\n",
    "        self.m = sample_num\n",
    "        self.sample_dim = sample_dim\n",
    "        self.H, self.W = sample_dim\n",
    "        self.n = self.H * self.W\n",
    "        if type not in ['basic', 'probs', 'patches']:\n",
    "            raise NotImplementedError(\"Could only implement 'basic', 'probs' and 'patches' type of masking.\")\n",
    "        else:\n",
    "            self.masking_type = type\n",
    "        if patch_size is not None:\n",
    "            self.patch_size = patch_size\n",
    "        w1 = nn.Linear(self.n, self.n, bias=False)\n",
    "        w2 = nn.Linear(self.n, self.n, bias=False)\n",
    "        self.body = nn.Sequential(*[w1, w2])\n",
    "    \n",
    "    def forward(self, X, mask=None):\n",
    "        if mask is None:\n",
    "            if self.masking_type == 'basic':\n",
    "                mask = mask_basic(self.prob, self.m, self.n)\n",
    "            elif self.masking_type == 'probs':\n",
    "                mask = mask_dropping_probs(self.prob, self.m, self.n)\n",
    "            elif self.masking_type == 'patches':\n",
    "                mask = mask_patches(self.prob, self.patch_size, self.m, self.sample_dim)\n",
    "        Y = mask * X\n",
    "        Y = self.body(Y)\n",
    "        return Y"
   ]
  },
  {
   "cell_type": "code",
   "execution_count": 5,
   "metadata": {},
   "outputs": [],
   "source": [
    "prob = 0.5\n",
    "sample_num = 100\n",
    "H = 4\n",
    "W = 4\n",
    "sample_dim = [H, W]\n",
    "m = sample_num\n",
    "n = H * W\n",
    "\n",
    "inputs = torch.rand(m, n) * 2\n",
    "targets = inputs"
   ]
  },
  {
   "cell_type": "code",
   "execution_count": 8,
   "metadata": {},
   "outputs": [],
   "source": [
    "m_net = M_LAE(prob, sample_num, sample_dim, type='basic')\n",
    "\n",
    "learning_rate = 0.0001\n",
    "epochs = 10000\n",
    "counter = 2000\n",
    "criterion = nn.MSELoss()\n",
    "optimizer = optim.Adam(m_net.body.parameters(), lr=learning_rate)"
   ]
  },
  {
   "cell_type": "code",
   "execution_count": 9,
   "metadata": {},
   "outputs": [
    {
     "name": "stdout",
     "output_type": "stream",
     "text": [
      "epoch:  0 loss:  1.444421410560608\n",
      "epoch:  2000 loss:  0.6345778703689575\n",
      "epoch:  4000 loss:  0.4209226369857788\n",
      "epoch:  6000 loss:  0.38404273986816406\n",
      "epoch:  8000 loss:  0.3648962676525116\n"
     ]
    }
   ],
   "source": [
    "\"\"\"\n",
    "# version 1\n",
    "loss_plt = []\n",
    "for epoch in range(epochs):\n",
    "    optimizer.zero_grad()\n",
    "    outputs = m_net(inputs)\n",
    "    loss = criterion(outputs, targets)\n",
    "    loss.backward()\n",
    "    optimizer.step()\n",
    "    loss_plt.append(loss.item())\n",
    "    if epoch % counter == 0:\n",
    "        print('epoch: ', epoch, 'loss: ', loss.item())\n",
    "    if epoch == 6000:\n",
    "        learning_rate /= 3\n",
    "        optimizer = optim.Adam(m_net.body.parameters(), lr=learning_rate)\n",
    "\"\"\"\n",
    "\n",
    "# version 2\n",
    "N = 30\n",
    "loss_plt = []\n",
    "for epoch in range(epochs):\n",
    "    loss_total = 0\n",
    "    optimizer.zero_grad()\n",
    "    #N = torch.randint(20, 60, (1,))[0]\n",
    "    for i in range(N):\n",
    "        outputs = m_net(inputs)\n",
    "        loss = criterion(outputs, targets)\n",
    "        loss_total += loss\n",
    "    loss_total /= N\n",
    "    loss_total.backward()\n",
    "    optimizer.step()\n",
    "    loss_plt.append(loss_total.item())\n",
    "    if epoch % counter == 0:\n",
    "        print('epoch: ', epoch, 'loss: ', loss_total.item())\n",
    "    if epoch % 10000 == 0:\n",
    "        learning_rate /= 4\n",
    "        optimizer = optim.Adam(m_net.body.parameters(), lr=learning_rate)"
   ]
  },
  {
   "cell_type": "code",
   "execution_count": 10,
   "metadata": {},
   "outputs": [
    {
     "data": {
      "text/plain": [
       "[<matplotlib.lines.Line2D at 0x20a9e040190>]"
      ]
     },
     "execution_count": 10,
     "metadata": {},
     "output_type": "execute_result"
    },
    {
     "data": {
      "image/png": "[encoded data removed]",
      "text/plain": [
       "<Figure size 432x288 with 1 Axes>"
      ]
     },
     "metadata": {
      "needs_background": "light"
     },
     "output_type": "display_data"
    }
   ],
   "source": [
    "plt.plot(loss_plt)"
   ]
  },
  {
   "cell_type": "code",
   "execution_count": 11,
   "metadata": {},
   "outputs": [],
   "source": [
    "params = list(m_net.body.parameters())"
   ]
  },
  {
   "cell_type": "code",
   "execution_count": 12,
   "metadata": {},
   "outputs": [],
   "source": [
    "W1 = params[0].requires_grad_(False)\n",
    "W2 = params[1].requires_grad_(False)"
   ]
  },
  {
   "cell_type": "code",
   "execution_count": 13,
   "metadata": {},
   "outputs": [
    {
     "name": "stdout",
     "output_type": "stream",
     "text": [
      "tensor([[-4.8683e-03, -1.3682e-01,  7.2729e-01,  1.5095e+00,  8.8139e-01,\n",
      "         -9.9802e-02, -2.1892e+00,  2.2251e-01,  6.2661e-01, -2.9464e-01,\n",
      "          8.1962e-01,  1.1299e+00, -3.4293e+00,  1.2465e-01,  1.9142e-01,\n",
      "         -1.8168e+00],\n",
      "        [-6.2014e-02, -1.1009e+00, -4.5098e-02,  6.3619e-02,  7.1414e-01,\n",
      "          5.8975e-02,  9.6733e-02,  2.8147e-01,  3.1999e-01, -1.9500e-01,\n",
      "          9.5180e-01,  1.4379e-02, -3.7625e-01, -3.2970e-01,  1.2974e+00,\n",
      "         -8.3017e-01],\n",
      "        [ 2.6770e-01,  8.4235e-02, -7.4019e-01, -1.6048e-01, -7.6319e-01,\n",
      "          6.0641e-02,  2.8961e-01,  5.3797e-02,  2.3715e-01, -1.4802e+00,\n",
      "         -1.0262e+00,  1.7175e+00,  1.2430e+00,  7.1704e-01, -3.6758e-01,\n",
      "          8.8358e-01],\n",
      "        [-4.0761e-01, -8.0475e-01,  1.0733e+00, -5.9675e-02, -3.4109e-02,\n",
      "         -4.1519e-01,  2.4235e-01,  7.0293e-01, -6.8010e-03, -4.1854e-01,\n",
      "          7.9474e-01,  1.9462e-01,  1.4752e+00, -1.5892e+00, -2.0163e-02,\n",
      "          4.2631e-01],\n",
      "        [-5.6079e-01,  8.4434e-01, -1.8574e-01,  1.1333e-01, -1.4484e+00,\n",
      "          6.2966e-01,  9.2779e-01,  9.5595e-01,  2.3992e-01, -7.3658e-01,\n",
      "          1.6111e-01,  2.0539e-01, -1.5878e+00,  4.9217e-02, -1.7056e+00,\n",
      "         -3.9003e-02],\n",
      "        [-1.0570e-01,  1.7219e-01,  6.7262e-02,  8.8213e-01, -3.4102e-01,\n",
      "          8.3192e-01, -1.8319e+00, -2.5667e+00,  2.4660e-01,  1.1291e+00,\n",
      "          3.6682e-01, -6.5514e-01, -1.2322e+00,  9.6021e-01, -5.5804e-01,\n",
      "          1.9339e-01],\n",
      "        [ 1.3903e+00, -9.6112e-01, -3.4758e-01, -1.3703e-01,  2.8058e-01,\n",
      "          1.6939e-01, -4.0419e-01, -1.3604e+00,  6.3525e-01,  6.4684e-02,\n",
      "          9.2629e-01,  7.2300e-01, -1.7991e+00, -6.2802e-02,  1.4776e-01,\n",
      "         -5.1202e-02],\n",
      "        [-3.8870e-01,  8.4952e-01,  9.3365e-01, -9.9418e-01,  2.4494e-01,\n",
      "          1.9506e-01, -5.9830e-01,  1.3044e-02, -4.5086e-01,  9.3402e-01,\n",
      "         -2.3584e-03,  5.7898e-01,  4.8363e-01,  5.7504e-01, -5.5217e-01,\n",
      "         -8.1680e-01],\n",
      "        [ 8.1300e-01, -1.9280e-01,  1.5515e-01,  8.4229e-01, -9.8159e-01,\n",
      "         -5.1005e-01,  2.0940e-01,  1.0242e+00,  7.2743e-01,  5.7046e-02,\n",
      "          4.6181e-01, -1.7199e-01, -1.9847e+00,  1.3761e+00,  4.2936e-01,\n",
      "         -2.2779e+00],\n",
      "        [ 3.3319e-01,  6.2980e-01,  3.4666e-01,  1.1253e+00, -1.2668e+00,\n",
      "          4.4386e-01,  3.3903e-01,  2.0674e-01, -6.2370e-01,  1.1065e+00,\n",
      "         -1.5219e+00, -1.0608e-01,  8.5316e-01, -8.1284e-01, -1.6885e-01,\n",
      "         -1.1513e-01],\n",
      "        [ 5.8179e-01,  6.4220e-01, -2.8243e-02, -5.6667e-01,  1.5892e-01,\n",
      "          1.0581e-01,  3.3159e-01,  6.7795e-02,  7.1061e-01, -7.0237e-01,\n",
      "         -6.8067e-01, -9.2935e-02,  3.9211e-01, -4.9336e-01,  2.8189e-01,\n",
      "          2.8782e-01],\n",
      "        [-2.2283e+00,  6.7336e-01, -1.0385e+00, -4.0242e-01,  1.8700e+00,\n",
      "          6.0047e-01,  3.4250e-01,  1.9820e-01,  4.7289e-01, -1.3368e+00,\n",
      "         -6.3041e-01,  2.0574e-01,  8.7879e-01,  7.6214e-01,  4.1479e-01,\n",
      "         -6.2598e-01],\n",
      "        [-1.6140e-01,  5.8049e-04, -1.6964e-01, -1.0568e+00, -1.4672e-01,\n",
      "          1.3593e+00, -6.9686e-01, -9.0481e-01, -3.9790e-01,  7.0851e-01,\n",
      "          2.1549e+00,  4.9105e-02,  2.2370e-01,  2.1506e-01, -1.3606e+00,\n",
      "          6.0207e-01],\n",
      "        [ 6.4597e-01, -2.6021e+00,  1.1919e-01,  1.4149e+00, -3.8860e-01,\n",
      "         -2.8136e-01,  8.8948e-01, -1.3907e+00,  7.3087e-01, -8.5617e-01,\n",
      "          1.0944e+00, -3.2915e-01,  9.8451e-01, -1.1003e+00,  6.9064e-01,\n",
      "          6.7378e-01],\n",
      "        [ 2.3719e-01,  7.4150e-01,  7.3349e-02,  2.3481e-01, -5.4883e-01,\n",
      "         -3.5466e-01, -5.2460e-01,  2.7408e-01,  7.2886e-01,  1.1518e-01,\n",
      "         -3.0985e-01, -7.5387e-01, -1.7824e+00,  7.9673e-01,  4.7587e-01,\n",
      "         -1.0462e+00],\n",
      "        [ 2.1181e+00,  2.7969e-02,  2.1679e+00,  6.1737e-01, -8.5713e-01,\n",
      "         -1.3340e+00,  4.2330e-01,  1.0183e-01, -7.0558e-01,  1.6316e+00,\n",
      "          3.5915e-01, -1.7288e+00,  1.2508e+00, -1.3579e-01, -8.6211e-01,\n",
      "         -5.0924e-01]])\n",
      "tensor([[-4.8683e-03, -1.3682e-01,  7.2729e-01,  1.5095e+00,  8.8139e-01,\n",
      "         -9.9802e-02, -2.1892e+00,  2.2251e-01,  6.2661e-01, -2.9464e-01,\n",
      "          8.1962e-01,  1.1299e+00, -3.4293e+00,  1.2465e-01,  1.9142e-01,\n",
      "         -1.8168e+00],\n",
      "        [-6.2014e-02, -1.1009e+00, -4.5098e-02,  6.3619e-02,  7.1414e-01,\n",
      "          5.8975e-02,  9.6733e-02,  2.8147e-01,  3.1999e-01, -1.9500e-01,\n",
      "          9.5180e-01,  1.4379e-02, -3.7625e-01, -3.2970e-01,  1.2974e+00,\n",
      "         -8.3017e-01],\n",
      "        [ 2.6770e-01,  8.4235e-02, -7.4019e-01, -1.6048e-01, -7.6319e-01,\n",
      "          6.0641e-02,  2.8961e-01,  5.3797e-02,  2.3715e-01, -1.4802e+00,\n",
      "         -1.0262e+00,  1.7175e+00,  1.2430e+00,  7.1704e-01, -3.6758e-01,\n",
      "          8.8358e-01],\n",
      "        [-4.0761e-01, -8.0475e-01,  1.0733e+00, -5.9675e-02, -3.4109e-02,\n",
      "         -4.1519e-01,  2.4235e-01,  7.0293e-01, -6.8010e-03, -4.1854e-01,\n",
      "          7.9474e-01,  1.9462e-01,  1.4752e+00, -1.5892e+00, -2.0163e-02,\n",
      "          4.2631e-01],\n",
      "        [-5.6079e-01,  8.4434e-01, -1.8574e-01,  1.1333e-01, -1.4484e+00,\n",
      "          6.2966e-01,  9.2779e-01,  9.5595e-01,  2.3992e-01, -7.3658e-01,\n",
      "          1.6111e-01,  2.0539e-01, -1.5878e+00,  4.9217e-02, -1.7056e+00,\n",
      "         -3.9003e-02],\n",
      "        [-1.0570e-01,  1.7219e-01,  6.7262e-02,  8.8213e-01, -3.4102e-01,\n",
      "          8.3192e-01, -1.8319e+00, -2.5667e+00,  2.4660e-01,  1.1291e+00,\n",
      "          3.6682e-01, -6.5514e-01, -1.2322e+00,  9.6021e-01, -5.5804e-01,\n",
      "          1.9339e-01],\n",
      "        [ 1.3903e+00, -9.6112e-01, -3.4758e-01, -1.3703e-01,  2.8058e-01,\n",
      "          1.6939e-01, -4.0419e-01, -1.3604e+00,  6.3525e-01,  6.4684e-02,\n",
      "          9.2629e-01,  7.2300e-01, -1.7991e+00, -6.2802e-02,  1.4776e-01,\n",
      "         -5.1202e-02],\n",
      "        [-3.8870e-01,  8.4952e-01,  9.3365e-01, -9.9418e-01,  2.4494e-01,\n",
      "          1.9506e-01, -5.9830e-01,  1.3044e-02, -4.5086e-01,  9.3402e-01,\n",
      "         -2.3584e-03,  5.7898e-01,  4.8363e-01,  5.7504e-01, -5.5217e-01,\n",
      "         -8.1680e-01],\n",
      "        [ 8.1300e-01, -1.9280e-01,  1.5515e-01,  8.4229e-01, -9.8159e-01,\n",
      "         -5.1005e-01,  2.0940e-01,  1.0242e+00,  7.2743e-01,  5.7046e-02,\n",
      "          4.6181e-01, -1.7199e-01, -1.9847e+00,  1.3761e+00,  4.2936e-01,\n",
      "         -2.2779e+00],\n",
      "        [ 3.3319e-01,  6.2980e-01,  3.4666e-01,  1.1253e+00, -1.2668e+00,\n",
      "          4.4386e-01,  3.3903e-01,  2.0674e-01, -6.2370e-01,  1.1065e+00,\n",
      "         -1.5219e+00, -1.0608e-01,  8.5316e-01, -8.1284e-01, -1.6885e-01,\n",
      "         -1.1513e-01],\n",
      "        [ 5.8179e-01,  6.4220e-01, -2.8243e-02, -5.6667e-01,  1.5892e-01,\n",
      "          1.0581e-01,  3.3159e-01,  6.7795e-02,  7.1061e-01, -7.0237e-01,\n",
      "         -6.8067e-01, -9.2935e-02,  3.9211e-01, -4.9336e-01,  2.8189e-01,\n",
      "          2.8782e-01],\n",
      "        [-2.2283e+00,  6.7336e-01, -1.0385e+00, -4.0242e-01,  1.8700e+00,\n",
      "          6.0047e-01,  3.4250e-01,  1.9820e-01,  4.7289e-01, -1.3368e+00,\n",
      "         -6.3041e-01,  2.0574e-01,  8.7879e-01,  7.6214e-01,  4.1479e-01,\n",
      "         -6.2598e-01],\n",
      "        [-1.6140e-01,  5.8049e-04, -1.6964e-01, -1.0568e+00, -1.4672e-01,\n",
      "          1.3593e+00, -6.9686e-01, -9.0481e-01, -3.9790e-01,  7.0851e-01,\n",
      "          2.1549e+00,  4.9105e-02,  2.2370e-01,  2.1506e-01, -1.3606e+00,\n",
      "          6.0207e-01],\n",
      "        [ 6.4597e-01, -2.6021e+00,  1.1919e-01,  1.4149e+00, -3.8860e-01,\n",
      "         -2.8136e-01,  8.8948e-01, -1.3907e+00,  7.3087e-01, -8.5617e-01,\n",
      "          1.0944e+00, -3.2915e-01,  9.8451e-01, -1.1003e+00,  6.9064e-01,\n",
      "          6.7378e-01],\n",
      "        [ 2.3719e-01,  7.4150e-01,  7.3349e-02,  2.3481e-01, -5.4883e-01,\n",
      "         -3.5466e-01, -5.2460e-01,  2.7408e-01,  7.2886e-01,  1.1518e-01,\n",
      "         -3.0985e-01, -7.5387e-01, -1.7824e+00,  7.9673e-01,  4.7587e-01,\n",
      "         -1.0462e+00],\n",
      "        [ 2.1181e+00,  2.7969e-02,  2.1679e+00,  6.1737e-01, -8.5713e-01,\n",
      "         -1.3340e+00,  4.2330e-01,  1.0183e-01, -7.0558e-01,  1.6316e+00,\n",
      "          3.5915e-01, -1.7288e+00,  1.2508e+00, -1.3579e-01, -8.6211e-01,\n",
      "         -5.0924e-01]])\n"
     ]
    }
   ],
   "source": [
    "N = 1000\n",
    "gradient1 = 0\n",
    "gradient2 = 0\n",
    "X = inputs\n",
    "for i in range(N):\n",
    "    Y = torch.mul(mask_basic(prob, m, n), X)\n",
    "    gradient1 += W2.T @ (W2@W1@Y.T-X.T) @ Y\n",
    "    gradient2 += (W2@W1@Y.T-X.T) @ Y @ W1.T\n",
    "print(gradient1 / N)\n",
    "print(gradient1 / N)"
   ]
  },
  {
   "cell_type": "code",
   "execution_count": 14,
   "metadata": {},
   "outputs": [
    {
     "data": {
      "text/plain": [
       "tensor([[ 0.0491, -0.1111,  0.7212,  1.4889,  1.0329, -0.1685, -2.1776,  0.2243,\n",
       "          0.6612, -0.2318,  0.7131,  1.0885, -3.3981,  0.1797,  0.2573, -1.8114],\n",
       "        [-0.1759, -1.1893, -0.1443,  0.0647,  0.6414,  0.2083, -0.1261,  0.2373,\n",
       "          0.2378, -0.0301,  0.8584,  0.1689, -0.4618, -0.3049,  1.1686, -0.8732],\n",
       "        [ 0.2493, -0.0460, -0.8605, -0.1979, -0.8668,  0.1789,  0.1044, -0.0629,\n",
       "          0.1579, -1.3643, -1.1280,  1.7117,  1.2050,  0.7727, -0.5688,  0.8624],\n",
       "        [-0.4746, -0.9336,  0.8928, -0.1072, -0.2170, -0.2175,  0.0361,  0.6338,\n",
       "         -0.0402, -0.2297,  0.6304,  0.2203,  1.4917, -1.5939, -0.1625,  0.4649],\n",
       "        [-0.4445,  1.0080, -0.0720,  0.0641, -1.3335,  0.5171,  1.1722,  1.0239,\n",
       "          0.3142, -0.9528,  0.2927,  0.0386, -1.5566,  0.0110, -1.5598,  0.0128],\n",
       "        [-0.0088,  0.1903,  0.1479,  0.8990, -0.1706,  0.6708, -1.8056, -2.4334,\n",
       "          0.2589,  1.0180,  0.3483, -0.6913, -1.2794,  0.9665, -0.4914,  0.1569],\n",
       "        [ 1.4931, -0.7828, -0.1306, -0.1122,  0.5243, -0.0289, -0.1892, -1.3519,\n",
       "          0.6843, -0.1095,  1.0806,  0.6786, -1.8365, -0.0246,  0.3372, -0.0558],\n",
       "        [-0.4715,  0.7111,  0.7821, -1.0339,  0.1336,  0.2548, -0.7353,  0.0353,\n",
       "         -0.5386,  1.0240, -0.0930,  0.6659,  0.4375,  0.5243, -0.6829, -0.7498],\n",
       "        [ 0.7303, -0.2875, -0.0523,  0.6828, -1.1171, -0.3763,  0.0160,  0.9910,\n",
       "          0.5601,  0.1848,  0.2943, -0.1716, -2.0209,  1.3678,  0.1489, -2.2858],\n",
       "        [ 0.2278,  0.5709,  0.2658,  1.1092, -1.3361,  0.4679,  0.3421,  0.2077,\n",
       "         -0.6798,  1.1931, -1.4660, -0.1962,  0.8422, -0.8418, -0.2979, -0.1732],\n",
       "        [ 0.5556,  0.5466, -0.0962, -0.5390,  0.0647,  0.1848,  0.1825,  0.0072,\n",
       "          0.6600, -0.5341, -0.7155, -0.0531,  0.4703, -0.5060,  0.1460,  0.2204],\n",
       "        [-2.2156,  0.5062, -1.1834, -0.4548,  1.7245,  0.6104,  0.2684,  0.0780,\n",
       "          0.3823, -1.1719, -0.7168,  0.1930,  1.0079,  0.7352,  0.2043, -0.6336],\n",
       "        [-0.1550, -0.0553, -0.2527, -1.0991, -0.2500,  1.3647, -0.7970, -0.8846,\n",
       "         -0.4534,  0.8054,  2.1776,  0.0736,  0.3552,  0.0427, -1.4464,  0.6389],\n",
       "        [ 0.6100, -2.7092,  0.0132,  1.3562, -0.4793, -0.1535,  0.6722, -1.4742,\n",
       "          0.6041, -0.7567,  0.9252, -0.3197,  0.9466, -1.0421,  0.4883,  0.5905],\n",
       "        [ 0.2319,  0.7184, -0.0983,  0.1046, -0.6689, -0.2199, -0.5845,  0.3419,\n",
       "          0.6729,  0.1299, -0.4490, -0.7967, -1.6541,  0.7437,  0.3481, -0.9881],\n",
       "        [ 2.0093, -0.1236,  2.0286,  0.6108, -1.0574, -1.2782,  0.2114,  0.1117,\n",
       "         -0.8344,  1.7817,  0.2209, -1.6682,  1.3356, -0.2228, -1.0377, -0.5701]])"
      ]
     },
     "execution_count": 14,
     "metadata": {},
     "output_type": "execute_result"
    }
   ],
   "source": [
    "X = inputs\n",
    "mean_m = torch.ones(m, n) * prob\n",
    "square_m = torch.ones(n, n) * prob**2\n",
    "square_m.fill_diagonal_(prob)\n",
    "W2.T @ (W2@W1@(square_m*(X.T@X)) - X.T@(mean_m*X))"
   ]
  },
  {
   "cell_type": "code",
   "execution_count": null,
   "metadata": {},
   "outputs": [],
   "source": []
  }
 ],
 "metadata": {
  "kernelspec": {
   "display_name": "Python 3.9.6 ('SSL_venv': venv)",
   "language": "python",
   "name": "python3"
  },
  "language_info": {
   "codemirror_mode": {
    "name": "ipython",
    "version": 3
   },
   "file_extension": ".py",
   "mimetype": "text/x-python",
   "name": "python",
   "nbconvert_exporter": "python",
   "pygments_lexer": "ipython3",
   "version": "3.9.6"
  },
  "orig_nbformat": 4,
  "vscode": {
   "interpreter": {
    "hash": "9c3c12edae13c0508bae753e64eeaec91e16c05e32c8c48bac5bd7ee2e37cd7c"
   }
  }
 },
 "nbformat": 4,
 "nbformat_minor": 2
}
