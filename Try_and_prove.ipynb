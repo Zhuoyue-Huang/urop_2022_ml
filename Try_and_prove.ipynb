{
  "nbformat": 4,
  "nbformat_minor": 0,
  "metadata": {
    "colab": {
      "name": "Try_and_prove.ipynb",
      "provenance": [],
      "authorship_tag": "ABX9TyOBQdYMNVJet3IgE9SQNrLk",
      "include_colab_link": true
    },
    "kernelspec": {
      "name": "python3",
      "display_name": "Python 3"
    },
    "language_info": {
      "name": "python"
    },
    "accelerator": "GPU",
    "gpuClass": "standard"
  },
  "cells": [
    {
      "cell_type": "markdown",
      "metadata": {
        "id": "view-in-github",
        "colab_type": "text"
      },
      "source": [
        "<a href=\"https://colab.research.google.com/github/Zhuoyue-Huang/urop_2022_ml/blob/main/Try_and_prove.ipynb\" target=\"_parent\"><img src=\"https://colab.research.google.com/assets/colab-badge.svg\" alt=\"Open In Colab\"/></a>"
      ]
    },
    {
      "cell_type": "code",
      "execution_count": 3,
      "metadata": {
        "id": "Z2y2zwRVhxvx"
      },
      "outputs": [],
      "source": [
        "\"\"\"try and prove different results\"\"\"\n",
        "import torch\n",
        "import torch.nn as nn\n",
        "import torch.optim as optim\n",
        "import matplotlib.pyplot as plt\n",
        "from tqdm import tqdm\n",
        "import statistics\n",
        "import numpy as np\n",
        "import pandas as pd \n",
        "import scipy.stats as stats\n",
        "from copy import deepcopy"
      ]
    },
    {
      "cell_type": "code",
      "source": [
        "device = torch.device('cuda' if torch.cuda.is_available() else 'cpu')"
      ],
      "metadata": {
        "id": "kGSOoJzUh6U3"
      },
      "execution_count": 4,
      "outputs": []
    },
    {
      "cell_type": "markdown",
      "source": [
        "### Examine the effect of detach"
      ],
      "metadata": {
        "id": "o9oWKJKGx09m"
      }
    },
    {
      "cell_type": "code",
      "source": [
        "# Linear auto-encoder model\n",
        "class LAE(nn.Module):\n",
        "    def __init__(self, n, p):\n",
        "        super(LAE, self).__init__()\n",
        "        self.n = n\n",
        "        self.p = p\n",
        "        self.w1 = nn.Linear(n, p, bias=False)\n",
        "        self.w2 = nn.Linear(p, n, bias=False)\n",
        "\n",
        "    def forward(self, y):\n",
        "        y = self.w1(y)\n",
        "        y = self.w2(y)\n",
        "        return y\n",
        "\n",
        "class FE_Net(nn.Module):\n",
        "    def __init__(self, in_dim, out_dim):\n",
        "        super(FE_Net, self).__init__()\n",
        "        self.in_dim = in_dim\n",
        "        self.out_dim = out_dim\n",
        "        self.theta = nn.Linear(in_dim, out_dim, bias=False)\n",
        "\n",
        "    def forward(self, W):\n",
        "        return self.theta(W)"
      ],
      "metadata": {
        "id": "PpAqNqjzh_eb"
      },
      "execution_count": 21,
      "outputs": []
    },
    {
      "cell_type": "code",
      "source": [
        "def train_loop(data_dict, model, criterion, optimizer, type, epochs=10, sample_average=10, record=True):\n",
        "    train_loss = []\n",
        "    val_loss = []\n",
        "    if type=='encoder':\n",
        "        train_inputs = data_dict['train_inputs']\n",
        "        train_targets = train_inputs\n",
        "    elif type=='fe':\n",
        "        train_inputs = data_dict['train_inputs']\n",
        "        train_targets = data_dict['train_targets']\n",
        "        sample_average = 1\n",
        "\n",
        "    for epoch in range(epochs+1):\n",
        "        loss_total = 0\n",
        "        optimizer.zero_grad()\n",
        "        for i in range(sample_average):\n",
        "            train_outputs = model(train_inputs)\n",
        "            loss = criterion(train_outputs, train_targets)\n",
        "            loss_total += loss\n",
        "        loss_total /= sample_average\n",
        "        loss_total.backward()\n",
        "        optimizer.step()\n",
        "        if record:\n",
        "          train_loss.append(loss_total.item())\n",
        "          if epochs>=5 and epoch%(epochs//5)==0:\n",
        "              v_loss = test_loop(data_dict, model, criterion, type)\n",
        "              val_loss.append(v_loss)\n",
        "              print('epoch: ', epoch, ', train loss: ', loss.item(), ', val loss', v_loss)\n",
        "    if record:\n",
        "        return {'train_loss': train_loss, 'val_loss': val_loss}\n",
        "    else:\n",
        "        return loss_total.item()\n",
        "\n",
        "def test_loop(data_dict, model, criterion, type):\n",
        "    if type=='encoder':\n",
        "        val_inputs = data_dict['val_inputs']\n",
        "        val_targets = val_inputs\n",
        "    elif type=='fe':\n",
        "        val_inputs = data_dict['val_inputs']\n",
        "        val_targets = data_dict['val_targets']\n",
        "\n",
        "    with torch.no_grad():\n",
        "        val_outputs = model(val_inputs)\n",
        "        loss = criterion(val_outputs, val_targets)\n",
        "    return loss.item()"
      ],
      "metadata": {
        "id": "JCYIbXbGiBYj"
      },
      "execution_count": null,
      "outputs": []
    },
    {
      "cell_type": "code",
      "source": [
        "# feature extraction\n",
        "def feature_extraction_test(data_dict, model_parameters, criterion, type, epochs=200, device='cuda'):\n",
        "    train_inputs, train_targets, val_inputs, val_targets = data_dict.values()\n",
        "\n",
        "    params = list(model_parameters)\n",
        "    W1 = params[0]\n",
        "    W10 = deepcopy(W1)\n",
        "    W10 = W10.clone().detach()\n",
        "    print(W10)\n",
        "    train_inputs_fe0 = train_inputs @ W10.T\n",
        "    val_inputs_fe0 = val_inputs @ W10.T\n",
        "\n",
        "    W11 = deepcopy(W1)\n",
        "    W11 = W11.clone()\n",
        "    print(W11)\n",
        "    train_inputs_fe1 = (train_inputs @ W11.T).detach()\n",
        "    val_inputs_fe1 = (val_inputs @ W11.T).detach()\n",
        "\n",
        "    reduction_dim = train_inputs_fe1.shape[1]\n",
        "    target_dim = train_targets.shape[1]\n",
        "\n",
        "    if type=='ls':\n",
        "        param_fe0 = (torch.inverse(train_inputs_fe0.T@train_inputs_fe0) @ train_inputs_fe0.T @ train_targets).T\n",
        "        loss0 = criterion(val_targets, val_inputs_fe0 @ param_fe0.T)\n",
        "        print('test0', loss0.item())\n",
        "\n",
        "        param_fe1 = (torch.inverse(train_inputs_fe1.T@train_inputs_fe1) @ train_inputs_fe1.T @ train_targets).T\n",
        "        loss1 = criterion(val_targets, val_inputs_fe1 @ param_fe1.T)\n",
        "        print('test1', loss1.item())\n",
        "        #return loss.item()\n",
        "    elif type=='gd':\n",
        "        net_fe = FE_Net(reduction_dim, target_dim).to(device)\n",
        "        net_fe0 = deepcopy(net_fe)\n",
        "        net_fe1 = deepcopy(net_fe)\n",
        "\n",
        "        data_dict_fe0 = {'train_inputs': train_inputs_fe0, 'train_targets': train_targets,\n",
        "                        'val_inputs': val_inputs_fe0, 'val_targets': val_targets}\n",
        "        param_fe0 = list(net_fe0.parameters())\n",
        "        optimizer0 = optim.Adam(param_fe0, lr=0.0001)\n",
        "        ### TRAINING ###\n",
        "        loss_fe0 = train_loop(data_dict_fe0, net_fe0, criterion, optimizer0, epochs=epochs, record=False, type='fe')\n",
        "        print('test0', loss_fe0)\n",
        "        data_dict_fe1 = {'train_inputs': train_inputs_fe1, 'train_targets': train_targets,\n",
        "                        'val_inputs': val_inputs_fe1, 'val_targets': val_targets}\n",
        "        param_fe1 = list(net_fe1.parameters())\n",
        "        optimizer1 = optim.Adam(param_fe1, lr=0.0001)\n",
        "        ### TRAINING ###\n",
        "        loss_fe1 = train_loop(data_dict_fe1, net_fe1, criterion, optimizer1, epochs=epochs, record=False, type='fe')\n",
        "        print('test1', loss_fe1)\n",
        "        #return loss_fe"
      ],
      "metadata": {
        "id": "GM2bVyOuiKE4"
      },
      "execution_count": null,
      "outputs": []
    },
    {
      "cell_type": "code",
      "source": [
        "train_num = 50\n",
        "val_num = 20\n",
        "H = 8\n",
        "W = 8\n",
        "sample_dim = torch.tensor([H, W])\n",
        "feature_num = H * W\n",
        "reduction_dim = feature_num\n",
        "target_dim = feature_num\n",
        "\n",
        "prob = 0.75\n",
        "prob_list = torch.rand(feature_num)*0.2 + 0.65\n",
        "patch_size = torch.div(sample_dim, 2, rounding_mode='floor')\n",
        "\n",
        "train_inputs = torch.rand(train_num, feature_num) * 2\n",
        "train_inputs = train_inputs.to(device)\n",
        "train_targets = torch.rand(train_num, target_dim)\n",
        "train_targets = train_targets.to(device)\n",
        "val_inputs = torch.rand(val_num, feature_num) * 2\n",
        "val_inputs = val_inputs.to(device)\n",
        "val_targets = torch.rand(val_num, target_dim)\n",
        "val_targets = val_targets.to(device)\n",
        "data_dict = {'train_inputs': train_inputs, 'train_targets': train_targets,\n",
        "             'val_inputs': val_inputs, 'val_targets': val_targets}"
      ],
      "metadata": {
        "id": "XzBp1SkZjuoV"
      },
      "execution_count": null,
      "outputs": []
    },
    {
      "cell_type": "code",
      "source": [
        "net_LAE = LAE(feature_num, reduction_dim).to(device)\n",
        "\n",
        "params = list(net_LAE.parameters())\n",
        "criterion = nn.MSELoss()\n",
        "optimizer = optim.Adam(params, lr=0.001)\n",
        "\n",
        "### TRAINING ###\n",
        "train_loop(data_dict, net_LAE, criterion, optimizer, epochs=500, record=False, type='encoder')\n",
        "\n",
        "# feature extraction\n",
        "loss_ls = feature_extraction_test(data_dict, net_LAE.parameters(), criterion, type='ls', epochs=500)\n",
        "loss_gd = feature_extraction_test(data_dict, net_LAE.parameters(), criterion, type='gd', epochs=500)"
      ],
      "metadata": {
        "colab": {
          "base_uri": "https://localhost:8080/"
        },
        "id": "h6j4-h7cjy3I",
        "outputId": "92da21bf-28e0-4b44-f42e-bf3cfb72fb9a"
      },
      "execution_count": null,
      "outputs": [
        {
          "output_type": "stream",
          "name": "stdout",
          "text": [
            "tensor([[-0.1336,  0.0542,  0.0287,  ..., -0.1842,  0.0315,  0.1009],\n",
            "        [-0.0978, -0.0365, -0.1108,  ..., -0.0541, -0.1404,  0.0120],\n",
            "        [ 0.1117,  0.0700,  0.0037,  ...,  0.0655,  0.0070, -0.1101],\n",
            "        ...,\n",
            "        [ 0.1055,  0.0057, -0.0793,  ..., -0.0329,  0.1920,  0.0874],\n",
            "        [-0.1235, -0.0956,  0.1405,  ..., -0.0077,  0.0426, -0.1306],\n",
            "        [ 0.1496, -0.1518, -0.1922,  ..., -0.0546, -0.0099, -0.0903]],\n",
            "       device='cuda:0')\n",
            "tensor([[-0.1336,  0.0542,  0.0287,  ..., -0.1842,  0.0315,  0.1009],\n",
            "        [-0.0978, -0.0365, -0.1108,  ..., -0.0541, -0.1404,  0.0120],\n",
            "        [ 0.1117,  0.0700,  0.0037,  ...,  0.0655,  0.0070, -0.1101],\n",
            "        ...,\n",
            "        [ 0.1055,  0.0057, -0.0793,  ..., -0.0329,  0.1920,  0.0874],\n",
            "        [-0.1235, -0.0956,  0.1405,  ..., -0.0077,  0.0426, -0.1306],\n",
            "        [ 0.1496, -0.1518, -0.1922,  ..., -0.0546, -0.0099, -0.0903]],\n",
            "       device='cuda:0', grad_fn=<CloneBackward0>)\n",
            "test0 606.8356323242188\n",
            "test1 606.8356323242188\n",
            "tensor([[-0.1336,  0.0542,  0.0287,  ..., -0.1842,  0.0315,  0.1009],\n",
            "        [-0.0978, -0.0365, -0.1108,  ..., -0.0541, -0.1404,  0.0120],\n",
            "        [ 0.1117,  0.0700,  0.0037,  ...,  0.0655,  0.0070, -0.1101],\n",
            "        ...,\n",
            "        [ 0.1055,  0.0057, -0.0793,  ..., -0.0329,  0.1920,  0.0874],\n",
            "        [-0.1235, -0.0956,  0.1405,  ..., -0.0077,  0.0426, -0.1306],\n",
            "        [ 0.1496, -0.1518, -0.1922,  ..., -0.0546, -0.0099, -0.0903]],\n",
            "       device='cuda:0')\n",
            "tensor([[-0.1336,  0.0542,  0.0287,  ..., -0.1842,  0.0315,  0.1009],\n",
            "        [-0.0978, -0.0365, -0.1108,  ..., -0.0541, -0.1404,  0.0120],\n",
            "        [ 0.1117,  0.0700,  0.0037,  ...,  0.0655,  0.0070, -0.1101],\n",
            "        ...,\n",
            "        [ 0.1055,  0.0057, -0.0793,  ..., -0.0329,  0.1920,  0.0874],\n",
            "        [-0.1235, -0.0956,  0.1405,  ..., -0.0077,  0.0426, -0.1306],\n",
            "        [ 0.1496, -0.1518, -0.1922,  ..., -0.0546, -0.0099, -0.0903]],\n",
            "       device='cuda:0', grad_fn=<CloneBackward0>)\n",
            "test0 0.1140785962343216\n",
            "test1 0.1140785962343216\n"
          ]
        }
      ]
    },
    {
      "cell_type": "code",
      "source": [],
      "metadata": {
        "id": "kJjYBQb_kAjA"
      },
      "execution_count": null,
      "outputs": []
    },
    {
      "cell_type": "markdown",
      "source": [
        "### Least square vs gradient decent"
      ],
      "metadata": {
        "id": "TQ7WTuT0x-lT"
      }
    },
    {
      "cell_type": "markdown",
      "source": [
        "##### check whether least square estimator has zero gradient"
      ],
      "metadata": {
        "id": "TuKRG8eeyirE"
      }
    },
    {
      "cell_type": "code",
      "source": [
        "def train_loop(data_dict, model, criterion, optimizer, type, epochs=10, sample_average=10, record=True):\n",
        "    train_loss = []\n",
        "    val_loss = []\n",
        "    if type=='encoder':\n",
        "        train_x = data_dict['train_x']\n",
        "        train_y = train_x\n",
        "    elif type=='fe':\n",
        "        train_x = data_dict['train_x']\n",
        "        train_y = data_dict['train_y']\n",
        "        sample_average = 1\n",
        "\n",
        "    for epoch in range(epochs+1):\n",
        "        loss_total = 0\n",
        "        optimizer.zero_grad()\n",
        "        for i in range(sample_average):\n",
        "            outputs = model(train_x)\n",
        "            loss = criterion(outputs, train_y)\n",
        "            loss_total += loss\n",
        "        loss_total /= sample_average\n",
        "        loss_total.backward()\n",
        "        optimizer.step()\n",
        "        if record:\n",
        "          train_loss.append(loss_total.item())\n",
        "          if epochs>=5 and epoch%(epochs//5)==0:\n",
        "              v_loss = test_loop(data_dict, model, criterion, type)\n",
        "              val_loss.append(v_loss)\n",
        "              print('epoch: ', epoch, ', train loss: ', loss.item(), ', val loss', v_loss)\n",
        "    if record:\n",
        "        return {'train_loss': train_loss, 'val_loss': val_loss}\n",
        "    else:\n",
        "        return loss_total.item()\n",
        "\n",
        "def test_loop(data_dict, model, criterion, type):\n",
        "    if type=='encoder':\n",
        "        val_x = data_dict['val_x']\n",
        "        val_y = val_x\n",
        "    elif type=='fe':\n",
        "        val_x = data_dict['val_x']\n",
        "        val_y = data_dict['val_y']\n",
        "\n",
        "    with torch.no_grad():\n",
        "        outputs = model(val_x)\n",
        "        loss = criterion(outputs, val_y)\n",
        "    return loss.item()"
      ],
      "metadata": {
        "id": "rsyR9nDZ5Wxk"
      },
      "execution_count": 22,
      "outputs": []
    },
    {
      "cell_type": "code",
      "source": [
        "class FE_Net(nn.Module):\n",
        "    def __init__(self, z_dim, y_dim):\n",
        "        super(FE_Net, self).__init__()\n",
        "        self.theta = nn.Linear(z_dim, y_dim, bias=False)\n",
        "\n",
        "    def forward(self, W):\n",
        "        return self.theta(W)\n",
        "\n",
        "def feature_extraction(data_dict, model_parameters, criterion, type, epochs=200, device='cuda'):\n",
        "    train_x, train_y, val_x, val_y, _, _ = data_dict.values()\n",
        "\n",
        "    params = list(model_parameters)\n",
        "    W1 = params[0].clone().detach()\n",
        "    train_z = train_x @ W1.T\n",
        "    val_z = val_x @ W1.T\n",
        "    z_dim = train_z.shape[1]\n",
        "    y_dim = train_y.shape[1]\n",
        "\n",
        "    if type=='ls':\n",
        "        theta = (torch.inverse(train_z.T @ train_z) @ train_z.T @ train_y).T\n",
        "        print(-train_z.T @ train_y + train_z.T @ train_z @ theta.T)\n",
        "        loss = criterion(val_y, val_z @ theta.T)\n",
        "        return loss.item()\n",
        "    elif type=='gd':\n",
        "        data_dict_fe = {'train_x': train_z, 'train_y': train_y,\n",
        "                        'val_x': val_z, 'val_y': val_y}\n",
        "        net_fe = FE_Net(z_dim, y_dim).to(device)\n",
        "        theta = list(net_fe.parameters())\n",
        "        optimizer = optim.Adam(theta, lr=0.00001)\n",
        "        ### TRAINING ###\n",
        "        loss_fe = train_loop(data_dict_fe, net_fe, criterion, optimizer, epochs=epochs, record=False, type='fe')\n",
        "        return loss_fe"
      ],
      "metadata": {
        "id": "KR3VvCZ_yDYL"
      },
      "execution_count": 41,
      "outputs": []
    },
    {
      "cell_type": "code",
      "source": [
        "train_num, val_num, test_num = (60, 20, 20)\n",
        "sample_num_split = (train_num, train_num+val_num)\n",
        "total = train_num+val_num+test_num\n",
        "\n",
        "# need to consider x_dim < and > z_dim\n",
        "z_dim = 10 # dimension of z\n",
        "H = 8\n",
        "W = 8\n",
        "sample_dim = torch.tensor([H, W])\n",
        "x_dim = H * W\n",
        "y_dim = z_dim // 2\n",
        "\n",
        "prob = 0.75\n",
        "prob_list = torch.rand(x_dim)*0.2 + 0.65\n",
        "patch_size = torch.tensor([2, 2])"
      ],
      "metadata": {
        "id": "HeTM_8Bp5MuA"
      },
      "execution_count": 42,
      "outputs": []
    },
    {
      "cell_type": "code",
      "source": [
        "z = torch.normal(mean=0, std=1, size=(total,z_dim)) # here distribution is high dimensional guassian\n",
        "z = z.to(device)\n",
        "\n",
        "U = torch.rand(x_dim, z_dim)\n",
        "U = U.to(device)\n",
        "V = torch.rand(y_dim, z_dim)\n",
        "V = V.to(device)\n",
        "\n",
        "x = z @ U.T\n",
        "y = z @ V.T\n",
        "train_x, val_x, test_x = torch.tensor_split(x, sample_num_split)\n",
        "train_y, val_y, test_y = torch.tensor_split(y, sample_num_split)\n",
        "data_dict = {'train_x': train_x, 'train_y': train_y, 'val_x': val_x, 'val_y': val_y, 'test_x': test_x, 'test_y': test_y}\n",
        "fe_loss_dict = {'LAE': [], 'MLAE_basic': [], 'MLAE_probs': [], 'MLAE_patches': []}"
      ],
      "metadata": {
        "id": "QI1ZUTGGG6nf"
      },
      "execution_count": 43,
      "outputs": []
    },
    {
      "cell_type": "code",
      "source": [
        "learning_rate = 0.01\n",
        "epochs = 500\n",
        "epochs_fe = 250"
      ],
      "metadata": {
        "id": "lQuHMagF5Dn6"
      },
      "execution_count": 44,
      "outputs": []
    },
    {
      "cell_type": "code",
      "source": [
        "net_LAE = LAE(x_dim, z_dim).to(device)\n",
        "\n",
        "params = list(net_LAE.parameters())\n",
        "criterion = nn.MSELoss()\n",
        "optimizer = optim.Adam(params, lr=learning_rate)\n",
        "\n",
        "### TRAINING ###\n",
        "train_loop(data_dict, net_LAE, criterion, optimizer, epochs=epochs, record=False, type='encoder')\n",
        "\n",
        "# feature extraction\n",
        "loss_ls = feature_extraction(data_dict, net_LAE.parameters(), criterion, type='ls')\n",
        "loss_gd = feature_extraction(data_dict, net_LAE.parameters(), criterion, type='gd', epochs=50000)\n",
        "print('least square loss', loss_ls)\n",
        "print('gradient decent loss', loss_gd)"
      ],
      "metadata": {
        "colab": {
          "base_uri": "https://localhost:8080/"
        },
        "id": "pfAV8_imCkwU",
        "outputId": "52ec6954-7980-47bc-e978-4d181f76abd0"
      },
      "execution_count": 45,
      "outputs": [
        {
          "output_type": "stream",
          "name": "stdout",
          "text": [
            "tensor([[-7.6294e-05, -3.0518e-05,  0.0000e+00, -4.5776e-05, -3.0518e-05],\n",
            "        [-1.3733e-04, -1.2207e-04, -1.2207e-04, -1.3733e-04, -1.3733e-04],\n",
            "        [-2.4414e-04, -2.4414e-04, -1.8311e-04, -2.1362e-04, -2.4414e-04],\n",
            "        [ 3.0518e-05,  3.0518e-05,  3.0518e-05,  4.5776e-05,  2.2888e-05],\n",
            "        [ 4.2439e-05,  4.1962e-05,  4.2915e-05,  3.9101e-05,  4.1008e-05],\n",
            "        [-1.6785e-04, -1.2207e-04, -1.0681e-04, -1.5259e-04, -1.3733e-04],\n",
            "        [ 7.6294e-05,  4.5776e-05,  4.1962e-05,  4.5776e-05,  6.1035e-05],\n",
            "        [ 4.5776e-05,  4.5776e-05,  3.0518e-05,  4.1962e-05,  4.5776e-05],\n",
            "        [-5.0545e-05, -5.7220e-05, -5.1498e-05, -4.1962e-05, -5.4359e-05],\n",
            "        [ 4.5776e-05,  3.8147e-05,  3.0518e-05,  3.0518e-05,  3.8147e-05]],\n",
            "       device='cuda:0')\n",
            "least square loss 2.0417222600099816e-12\n",
            "gradient decent loss 0.009000109508633614\n"
          ]
        }
      ]
    },
    {
      "cell_type": "code",
      "source": [],
      "metadata": {
        "id": "72ucN2OFHBHB"
      },
      "execution_count": 45,
      "outputs": []
    }
  ]
}