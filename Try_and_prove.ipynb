{
  "nbformat": 4,
  "nbformat_minor": 0,
  "metadata": {
    "colab": {
      "provenance": [],
      "authorship_tag": "ABX9TyNcI5gTzB5koCCkCRPolj5i",
      "include_colab_link": true
    },
    "kernelspec": {
      "name": "python3",
      "display_name": "Python 3"
    },
    "language_info": {
      "name": "python"
    },
    "accelerator": "GPU",
    "gpuClass": "standard"
  },
  "cells": [
    {
      "cell_type": "markdown",
      "metadata": {
        "id": "view-in-github",
        "colab_type": "text"
      },
      "source": [
        "<a href=\"https://colab.research.google.com/github/Zhuoyue-Huang/urop_2022_ml/blob/main/Try_and_prove.ipynb\" target=\"_parent\"><img src=\"https://colab.research.google.com/assets/colab-badge.svg\" alt=\"Open In Colab\"/></a>"
      ]
    },
    {
      "cell_type": "code",
      "execution_count": 2,
      "metadata": {
        "id": "Z2y2zwRVhxvx"
      },
      "outputs": [],
      "source": [
        "\"\"\"try and prove different results\"\"\"\n",
        "import torch\n",
        "import torch.nn as nn\n",
        "import torch.optim as optim\n",
        "import matplotlib.pyplot as plt\n",
        "from tqdm import tqdm\n",
        "import statistics\n",
        "import numpy as np\n",
        "import pandas as pd \n",
        "import scipy.stats as stats\n",
        "from copy import deepcopy"
      ]
    },
    {
      "cell_type": "code",
      "source": [
        "device = torch.device('cuda' if torch.cuda.is_available() else 'cpu')"
      ],
      "metadata": {
        "id": "kGSOoJzUh6U3"
      },
      "execution_count": 3,
      "outputs": []
    },
    {
      "cell_type": "code",
      "source": [
        "# Linear auto-encoder model\n",
        "class LAE(nn.Module):\n",
        "    def __init__(self, n, p):\n",
        "        super(LAE, self).__init__()\n",
        "        self.n = n\n",
        "        self.p = p\n",
        "        self.w1 = nn.Linear(n, p, bias=False)\n",
        "        self.w2 = nn.Linear(p, n, bias=False)\n",
        "\n",
        "    def forward(self, y):\n",
        "        y = self.w1(y)\n",
        "        y = self.w2(y)\n",
        "        return y\n",
        "\n",
        "## Masked lienar auto-encoder model\n",
        "# Define different types of masks\n",
        "def mask_basic(prob, sample_num, x_dim):\n",
        "    return torch.zeros(sample_num, x_dim).bernoulli_(prob)\n",
        "\n",
        "def mask_probs(prob_list: torch.Tensor, sample_num, x_dim):\n",
        "    return torch.zeros(sample_num, x_dim).bernoulli_(prob_list)\n",
        "\n",
        "def mask_patches_block(prob, patch_size: torch.Tensor, sample_num, sample_dim: torch.Tensor):\n",
        "    x_dim = sample_dim[0]*sample_dim[1]\n",
        "    div_check = sample_dim % patch_size == torch.zeros(2)\n",
        "    if torch.all(div_check):\n",
        "        pix_num = torch.div(sample_dim, patch_size, rounding_mode='floor')\n",
        "        mat_patches = torch.zeros(sample_num, *pix_num).bernoulli_(prob)\n",
        "        mat_patches = torch.repeat_interleave(mat_patches, patch_size[1], dim=2)\n",
        "        return mat_patches.repeat_interleave(patch_size[0], dim=1).view(sample_num, x_dim)\n",
        "    else:\n",
        "        raise NotImplementedError(f\"Both height ({sample_dim[0]}) and width ({sample_dim[1]}) should be divisible by patch_size ({patch_size}).\")\n",
        "\n",
        "def mask_patches_plain(prob, patch_size, sample_num, x_dim):\n",
        "    if not x_dim % patch_size:\n",
        "        pix_num = x_dim // patch_size\n",
        "        mat_patches = torch.zeros(sample_num, pix_num).bernoulli_(prob)\n",
        "        return mat_patches.repeat_interleave(patch_size, dim=1)\n",
        "    else:\n",
        "        raise NotImplementedError\n",
        "\n",
        "# Masked autoencoder (linear)\n",
        "class M_LAE(nn.Module):\n",
        "    def __init__(self, prob, x_dim, f_dim, type='basic', patch_size=None, sample_dim=None):\n",
        "        super(M_LAE, self).__init__()\n",
        "        self.prob = prob\n",
        "        if sample_dim is not None:\n",
        "            self.sample_dim = sample_dim\n",
        "            self.H, self.W = sample_dim\n",
        "            self.n = self.H * self.W\n",
        "        self.n = x_dim\n",
        "        self.p = f_dim\n",
        "        if type not in ['basic', 'probs', 'patches']:\n",
        "            raise NotImplementedError(\"Could only implement 'basic', 'probs' and 'patches' type of masking.\")\n",
        "        else:\n",
        "            self.masking_type = type\n",
        "        if patch_size is not None:\n",
        "            self.patch_size = patch_size\n",
        "        w1 = nn.Linear(self.n, self.p, bias=False)\n",
        "        w2 = nn.Linear(self.p, self.n, bias=False)\n",
        "        self.body = nn.Sequential(*[w1, w2])\n",
        "    \n",
        "    def forward(self, X, mask=None):\n",
        "        m = X.shape[0]\n",
        "        if mask is None:\n",
        "            if self.masking_type == 'basic':\n",
        "                mask = mask_basic(self.prob, m, self.n).to(device)\n",
        "            elif self.masking_type == 'probs':\n",
        "                mask = mask_dropping_probs(self.prob, m, self.n).to(device)\n",
        "            elif self.masking_type == 'patches':\n",
        "                mask = mask_patches_plain(self.prob, self.patch_size, m, self.n).to(device)\n",
        "        Y = mask * X\n",
        "        Y = self.body(Y)\n",
        "        return Y\n",
        "\n",
        "class FE_Net(nn.Module):\n",
        "    def __init__(self, f_dim, y_dim):\n",
        "        super(FE_Net, self).__init__()\n",
        "        self.theta = nn.Linear(f_dim, y_dim, bias=False)\n",
        "\n",
        "    def forward(self, W):\n",
        "        return self.theta(W)\n",
        "\n",
        "# representation learning\n",
        "def repr_learning(data_dict, model_parameters, criterion, type, epochs=200, device='cuda'):\n",
        "    X_train, y_train, _, _, X_test, y_test = data_dict.values()\n",
        "\n",
        "    params = list(model_parameters)\n",
        "    W1 = params[0].clone().detach()\n",
        "    f_train = X_train @ W1.T\n",
        "    f_test = X_test @ W1.T\n",
        "    f_dim = f_train.shape[1]\n",
        "    y_dim = y_train.shape[1]\n",
        "\n",
        "    if type=='ls':\n",
        "        theta = (torch.inverse(f_train.T @ f_train) @ f_train.T @ y_train).T\n",
        "        loss = criterion(y_test, f_test @ theta.T)\n",
        "        return loss.item()\n",
        "    elif type=='gd':\n",
        "        data_dict_fe = {'X_train': f_train, 'y_train': y_train,\n",
        "                        'X_test': f_test, 'y_test': y_test}\n",
        "        net_fe = FE_Net(f_dim, y_dim).to(device)\n",
        "        theta = list(net_fe.parameters())\n",
        "        optimizer = optim.Adam(theta, lr=0.0001)\n",
        "        ### TRAINING ###\n",
        "        train_loop(data_dict_fe, net_fe, criterion, optimizer, epochs=epochs, record=False, type='fe')\n",
        "        loss_fe = test_loop(data_dict_fe, net_fe, criterion, type='fe')\n",
        "        return loss_fe"
      ],
      "metadata": {
        "id": "0ao5Y8m4_aqd"
      },
      "execution_count": 15,
      "outputs": []
    },
    {
      "cell_type": "markdown",
      "source": [
        "### Examine the effect of detach"
      ],
      "metadata": {
        "id": "o9oWKJKGx09m"
      }
    },
    {
      "cell_type": "code",
      "source": [
        "# Linear auto-encoder model\n",
        "class LAE(nn.Module):\n",
        "    def __init__(self, n, p):\n",
        "        super(LAE, self).__init__()\n",
        "        self.n = n\n",
        "        self.p = p\n",
        "        self.w1 = nn.Linear(n, p, bias=False)\n",
        "        self.w2 = nn.Linear(p, n, bias=False)\n",
        "\n",
        "    def forward(self, y):\n",
        "        y = self.w1(y)\n",
        "        y = self.w2(y)\n",
        "        return y\n",
        "\n",
        "class FE_Net(nn.Module):\n",
        "    def __init__(self, in_dim, out_dim):\n",
        "        super(FE_Net, self).__init__()\n",
        "        self.in_dim = in_dim\n",
        "        self.out_dim = out_dim\n",
        "        self.theta = nn.Linear(in_dim, out_dim, bias=False)\n",
        "\n",
        "    def forward(self, W):\n",
        "        return self.theta(W)"
      ],
      "metadata": {
        "id": "PpAqNqjzh_eb"
      },
      "execution_count": null,
      "outputs": []
    },
    {
      "cell_type": "code",
      "source": [
        "def train_loop(data_dict, model, criterion, optimizer, type, epochs=10, sample_average=10, record=True):\n",
        "    train_loss = []\n",
        "    val_loss = []\n",
        "    if type=='encoder':\n",
        "        train_inputs = data_dict['train_inputs']\n",
        "        train_targets = train_inputs\n",
        "    elif type=='fe':\n",
        "        train_inputs = data_dict['train_inputs']\n",
        "        train_targets = data_dict['train_targets']\n",
        "        sample_average = 1\n",
        "\n",
        "    for epoch in range(epochs+1):\n",
        "        loss_total = 0\n",
        "        optimizer.zero_grad()\n",
        "        for i in range(sample_average):\n",
        "            train_outputs = model(train_inputs)\n",
        "            loss = criterion(train_outputs, train_targets)\n",
        "            loss_total += loss\n",
        "        loss_total /= sample_average\n",
        "        loss_total.backward()\n",
        "        optimizer.step()\n",
        "        if record:\n",
        "          train_loss.append(loss_total.item())\n",
        "          if epochs>=5 and epoch%(epochs//5)==0:\n",
        "              v_loss = test_loop(data_dict, model, criterion, type)\n",
        "              val_loss.append(v_loss)\n",
        "              print('epoch: ', epoch, ', train loss: ', loss.item(), ', val loss', v_loss)\n",
        "    if record:\n",
        "        return {'train_loss': train_loss, 'val_loss': val_loss}\n",
        "    else:\n",
        "        return loss_total.item()\n",
        "\n",
        "def test_loop(data_dict, model, criterion, type):\n",
        "    if type=='encoder':\n",
        "        val_inputs = data_dict['val_inputs']\n",
        "        val_targets = val_inputs\n",
        "    elif type=='fe':\n",
        "        val_inputs = data_dict['val_inputs']\n",
        "        val_targets = data_dict['val_targets']\n",
        "\n",
        "    with torch.no_grad():\n",
        "        val_outputs = model(val_inputs)\n",
        "        loss = criterion(val_outputs, val_targets)\n",
        "    return loss.item()"
      ],
      "metadata": {
        "id": "JCYIbXbGiBYj"
      },
      "execution_count": null,
      "outputs": []
    },
    {
      "cell_type": "code",
      "source": [
        "# feature extraction\n",
        "def feature_extraction_test(data_dict, model_parameters, criterion, type, epochs=200, device='cuda'):\n",
        "    train_inputs, train_targets, val_inputs, val_targets = data_dict.values()\n",
        "\n",
        "    params = list(model_parameters)\n",
        "    W1 = params[0]\n",
        "    W10 = deepcopy(W1)\n",
        "    W10 = W10.clone().detach()\n",
        "    print(W10)\n",
        "    train_inputs_fe0 = train_inputs @ W10.T\n",
        "    val_inputs_fe0 = val_inputs @ W10.T\n",
        "\n",
        "    W11 = deepcopy(W1)\n",
        "    W11 = W11.clone()\n",
        "    print(W11)\n",
        "    train_inputs_fe1 = (train_inputs @ W11.T).detach()\n",
        "    val_inputs_fe1 = (val_inputs @ W11.T).detach()\n",
        "\n",
        "    reduction_dim = train_inputs_fe1.shape[1]\n",
        "    target_dim = train_targets.shape[1]\n",
        "\n",
        "    if type=='ls':\n",
        "        param_fe0 = (torch.inverse(train_inputs_fe0.T@train_inputs_fe0) @ train_inputs_fe0.T @ train_targets).T\n",
        "        loss0 = criterion(val_targets, val_inputs_fe0 @ param_fe0.T)\n",
        "        print('test0', loss0.item())\n",
        "\n",
        "        param_fe1 = (torch.inverse(train_inputs_fe1.T@train_inputs_fe1) @ train_inputs_fe1.T @ train_targets).T\n",
        "        loss1 = criterion(val_targets, val_inputs_fe1 @ param_fe1.T)\n",
        "        print('test1', loss1.item())\n",
        "        #return loss.item()\n",
        "    elif type=='gd':\n",
        "        net_fe = FE_Net(reduction_dim, target_dim).to(device)\n",
        "        net_fe0 = deepcopy(net_fe)\n",
        "        net_fe1 = deepcopy(net_fe)\n",
        "\n",
        "        data_dict_fe0 = {'train_inputs': train_inputs_fe0, 'train_targets': train_targets,\n",
        "                        'val_inputs': val_inputs_fe0, 'val_targets': val_targets}\n",
        "        param_fe0 = list(net_fe0.parameters())\n",
        "        optimizer0 = optim.Adam(param_fe0, lr=0.0001)\n",
        "        ### TRAINING ###\n",
        "        loss_fe0 = train_loop(data_dict_fe0, net_fe0, criterion, optimizer0, epochs=epochs, record=False, type='fe')\n",
        "        print('test0', loss_fe0)\n",
        "        data_dict_fe1 = {'train_inputs': train_inputs_fe1, 'train_targets': train_targets,\n",
        "                        'val_inputs': val_inputs_fe1, 'val_targets': val_targets}\n",
        "        param_fe1 = list(net_fe1.parameters())\n",
        "        optimizer1 = optim.Adam(param_fe1, lr=0.0001)\n",
        "        ### TRAINING ###\n",
        "        loss_fe1 = train_loop(data_dict_fe1, net_fe1, criterion, optimizer1, epochs=epochs, record=False, type='fe')\n",
        "        print('test1', loss_fe1)\n",
        "        #return loss_fe"
      ],
      "metadata": {
        "id": "GM2bVyOuiKE4"
      },
      "execution_count": null,
      "outputs": []
    },
    {
      "cell_type": "code",
      "source": [
        "train_num = 50\n",
        "val_num = 20\n",
        "H = 8\n",
        "W = 8\n",
        "sample_dim = torch.tensor([H, W])\n",
        "feature_num = H * W\n",
        "reduction_dim = feature_num\n",
        "target_dim = feature_num\n",
        "\n",
        "prob = 0.75\n",
        "prob_list = torch.rand(feature_num)*0.2 + 0.65\n",
        "patch_size = torch.div(sample_dim, 2, rounding_mode='floor')\n",
        "\n",
        "train_inputs = torch.rand(train_num, feature_num) * 2\n",
        "train_inputs = train_inputs.to(device)\n",
        "train_targets = torch.rand(train_num, target_dim)\n",
        "train_targets = train_targets.to(device)\n",
        "val_inputs = torch.rand(val_num, feature_num) * 2\n",
        "val_inputs = val_inputs.to(device)\n",
        "val_targets = torch.rand(val_num, target_dim)\n",
        "val_targets = val_targets.to(device)\n",
        "data_dict = {'train_inputs': train_inputs, 'train_targets': train_targets,\n",
        "             'val_inputs': val_inputs, 'val_targets': val_targets}"
      ],
      "metadata": {
        "id": "XzBp1SkZjuoV"
      },
      "execution_count": null,
      "outputs": []
    },
    {
      "cell_type": "code",
      "source": [
        "net_LAE = LAE(feature_num, reduction_dim).to(device)\n",
        "\n",
        "params = list(net_LAE.parameters())\n",
        "criterion = nn.MSELoss()\n",
        "optimizer = optim.Adam(params, lr=0.001)\n",
        "\n",
        "### TRAINING ###\n",
        "train_loop(data_dict, net_LAE, criterion, optimizer, epochs=500, record=False, type='encoder')\n",
        "\n",
        "# feature extraction\n",
        "loss_ls = feature_extraction_test(data_dict, net_LAE.parameters(), criterion, type='ls', epochs=500)\n",
        "loss_gd = feature_extraction_test(data_dict, net_LAE.parameters(), criterion, type='gd', epochs=500)"
      ],
      "metadata": {
        "colab": {
          "base_uri": "https://localhost:8080/"
        },
        "id": "h6j4-h7cjy3I",
        "outputId": "92da21bf-28e0-4b44-f42e-bf3cfb72fb9a"
      },
      "execution_count": null,
      "outputs": [
        {
          "output_type": "stream",
          "name": "stdout",
          "text": [
            "tensor([[-0.1336,  0.0542,  0.0287,  ..., -0.1842,  0.0315,  0.1009],\n",
            "        [-0.0978, -0.0365, -0.1108,  ..., -0.0541, -0.1404,  0.0120],\n",
            "        [ 0.1117,  0.0700,  0.0037,  ...,  0.0655,  0.0070, -0.1101],\n",
            "        ...,\n",
            "        [ 0.1055,  0.0057, -0.0793,  ..., -0.0329,  0.1920,  0.0874],\n",
            "        [-0.1235, -0.0956,  0.1405,  ..., -0.0077,  0.0426, -0.1306],\n",
            "        [ 0.1496, -0.1518, -0.1922,  ..., -0.0546, -0.0099, -0.0903]],\n",
            "       device='cuda:0')\n",
            "tensor([[-0.1336,  0.0542,  0.0287,  ..., -0.1842,  0.0315,  0.1009],\n",
            "        [-0.0978, -0.0365, -0.1108,  ..., -0.0541, -0.1404,  0.0120],\n",
            "        [ 0.1117,  0.0700,  0.0037,  ...,  0.0655,  0.0070, -0.1101],\n",
            "        ...,\n",
            "        [ 0.1055,  0.0057, -0.0793,  ..., -0.0329,  0.1920,  0.0874],\n",
            "        [-0.1235, -0.0956,  0.1405,  ..., -0.0077,  0.0426, -0.1306],\n",
            "        [ 0.1496, -0.1518, -0.1922,  ..., -0.0546, -0.0099, -0.0903]],\n",
            "       device='cuda:0', grad_fn=<CloneBackward0>)\n",
            "test0 606.8356323242188\n",
            "test1 606.8356323242188\n",
            "tensor([[-0.1336,  0.0542,  0.0287,  ..., -0.1842,  0.0315,  0.1009],\n",
            "        [-0.0978, -0.0365, -0.1108,  ..., -0.0541, -0.1404,  0.0120],\n",
            "        [ 0.1117,  0.0700,  0.0037,  ...,  0.0655,  0.0070, -0.1101],\n",
            "        ...,\n",
            "        [ 0.1055,  0.0057, -0.0793,  ..., -0.0329,  0.1920,  0.0874],\n",
            "        [-0.1235, -0.0956,  0.1405,  ..., -0.0077,  0.0426, -0.1306],\n",
            "        [ 0.1496, -0.1518, -0.1922,  ..., -0.0546, -0.0099, -0.0903]],\n",
            "       device='cuda:0')\n",
            "tensor([[-0.1336,  0.0542,  0.0287,  ..., -0.1842,  0.0315,  0.1009],\n",
            "        [-0.0978, -0.0365, -0.1108,  ..., -0.0541, -0.1404,  0.0120],\n",
            "        [ 0.1117,  0.0700,  0.0037,  ...,  0.0655,  0.0070, -0.1101],\n",
            "        ...,\n",
            "        [ 0.1055,  0.0057, -0.0793,  ..., -0.0329,  0.1920,  0.0874],\n",
            "        [-0.1235, -0.0956,  0.1405,  ..., -0.0077,  0.0426, -0.1306],\n",
            "        [ 0.1496, -0.1518, -0.1922,  ..., -0.0546, -0.0099, -0.0903]],\n",
            "       device='cuda:0', grad_fn=<CloneBackward0>)\n",
            "test0 0.1140785962343216\n",
            "test1 0.1140785962343216\n"
          ]
        }
      ]
    },
    {
      "cell_type": "code",
      "source": [],
      "metadata": {
        "id": "kJjYBQb_kAjA"
      },
      "execution_count": null,
      "outputs": []
    },
    {
      "cell_type": "markdown",
      "source": [
        "### Least square vs gradient decent"
      ],
      "metadata": {
        "id": "TQ7WTuT0x-lT"
      }
    },
    {
      "cell_type": "markdown",
      "source": [
        "##### check whether least square estimator has zero gradient"
      ],
      "metadata": {
        "id": "TuKRG8eeyirE"
      }
    },
    {
      "cell_type": "code",
      "source": [
        "def train_loop(data_dict, model, criterion, optimizer, type, epochs=10, sample_average=10, record=True):\n",
        "    train_loss = []\n",
        "    val_loss = []\n",
        "    if type=='encoder':\n",
        "        train_x = data_dict['train_x']\n",
        "        train_y = train_x\n",
        "    elif type=='fe':\n",
        "        train_x = data_dict['train_x']\n",
        "        train_y = data_dict['train_y']\n",
        "        sample_average = 1\n",
        "\n",
        "    for epoch in range(epochs+1):\n",
        "        loss_total = 0\n",
        "        optimizer.zero_grad()\n",
        "        for i in range(sample_average):\n",
        "            outputs = model(train_x)\n",
        "            loss = criterion(outputs, train_y)\n",
        "            loss_total += loss\n",
        "        loss_total /= sample_average\n",
        "        loss_total.backward()\n",
        "        optimizer.step()\n",
        "        if record:\n",
        "          train_loss.append(loss_total.item())\n",
        "          if epochs>=5 and epoch%(epochs//5)==0:\n",
        "              v_loss = test_loop(data_dict, model, criterion, type)\n",
        "              val_loss.append(v_loss)\n",
        "              print('epoch: ', epoch, ', train loss: ', loss.item(), ', val loss', v_loss)\n",
        "    if record:\n",
        "        return {'train_loss': train_loss, 'val_loss': val_loss}\n",
        "    else:\n",
        "        return loss_total.item()\n",
        "\n",
        "def test_loop(data_dict, model, criterion, type):\n",
        "    if type=='encoder':\n",
        "        val_x = data_dict['val_x']\n",
        "        val_y = val_x\n",
        "    elif type=='fe':\n",
        "        val_x = data_dict['val_x']\n",
        "        val_y = data_dict['val_y']\n",
        "\n",
        "    with torch.no_grad():\n",
        "        outputs = model(val_x)\n",
        "        loss = criterion(outputs, val_y)\n",
        "    return loss.item()"
      ],
      "metadata": {
        "id": "rsyR9nDZ5Wxk"
      },
      "execution_count": null,
      "outputs": []
    },
    {
      "cell_type": "code",
      "source": [
        "class FE_Net(nn.Module):\n",
        "    def __init__(self, z_dim, y_dim):\n",
        "        super(FE_Net, self).__init__()\n",
        "        self.theta = nn.Linear(z_dim, y_dim, bias=False)\n",
        "\n",
        "    def forward(self, W):\n",
        "        return self.theta(W)\n",
        "\n",
        "def feature_extraction(data_dict, model_parameters, criterion, type, epochs=200, device='cuda'):\n",
        "    train_x, train_y, val_x, val_y, _, _ = data_dict.values()\n",
        "\n",
        "    params = list(model_parameters)\n",
        "    W1 = params[0].clone().detach()\n",
        "    train_z = train_x @ W1.T\n",
        "    val_z = val_x @ W1.T\n",
        "    z_dim = train_z.shape[1]\n",
        "    y_dim = train_y.shape[1]\n",
        "\n",
        "    if type=='ls':\n",
        "        print(torch.linalg.matrix_rank(train_z))\n",
        "        theta = (torch.inverse(train_z.T @ train_z) @ train_z.T @ train_y).T\n",
        "        print(-train_z.T @ train_y + train_z.T @ train_z @ theta.T)\n",
        "        loss = criterion(val_y, val_z @ theta.T)\n",
        "        return loss.item()\n",
        "    elif type=='gd':\n",
        "        data_dict_fe = {'train_x': train_z, 'train_y': train_y,\n",
        "                        'val_x': val_z, 'val_y': val_y}\n",
        "        net_fe = FE_Net(z_dim, y_dim).to(device)\n",
        "        theta = list(net_fe.parameters())\n",
        "        optimizer = optim.Adam(theta, lr=0.00001)\n",
        "        ### TRAINING ###\n",
        "        loss_fe = train_loop(data_dict_fe, net_fe, criterion, optimizer, epochs=epochs, record=False, type='fe')\n",
        "        return loss_fe"
      ],
      "metadata": {
        "id": "KR3VvCZ_yDYL"
      },
      "execution_count": null,
      "outputs": []
    },
    {
      "cell_type": "code",
      "source": [
        "train_num, val_num, test_num = (60, 20, 20)\n",
        "sample_num_split = (train_num, train_num+val_num)\n",
        "total = train_num+val_num+test_num\n",
        "\n",
        "# need to consider x_dim < and > z_dim\n",
        "z_dim = 10 # dimension of z\n",
        "H = 4\n",
        "W = 4\n",
        "sample_dim = torch.tensor([H, W])\n",
        "x_dim = H * W\n",
        "y_dim = z_dim // 2\n",
        "\n",
        "prob = 0.75\n",
        "prob_list = torch.rand(x_dim)*0.2 + 0.65\n",
        "patch_size = torch.tensor([2, 2])"
      ],
      "metadata": {
        "id": "HeTM_8Bp5MuA"
      },
      "execution_count": null,
      "outputs": []
    },
    {
      "cell_type": "code",
      "source": [
        "z = torch.normal(mean=0, std=1, size=(total,z_dim)) # here distribution is high dimensional guassian\n",
        "z = z.to(device)\n",
        "\n",
        "U = torch.rand(x_dim, z_dim)\n",
        "U = U.to(device)\n",
        "V = torch.rand(y_dim, z_dim)\n",
        "V = V.to(device)\n",
        "\n",
        "x = z @ U.T\n",
        "y = z @ V.T\n",
        "train_x, val_x, test_x = torch.tensor_split(x, sample_num_split)\n",
        "train_y, val_y, test_y = torch.tensor_split(y, sample_num_split)\n",
        "data_dict = {'train_x': train_x, 'train_y': train_y, 'val_x': val_x, 'val_y': val_y, 'test_x': test_x, 'test_y': test_y}\n",
        "fe_loss_dict = {'LAE': [], 'MLAE_basic': [], 'MLAE_probs': [], 'MLAE_patches': []}"
      ],
      "metadata": {
        "id": "QI1ZUTGGG6nf"
      },
      "execution_count": null,
      "outputs": []
    },
    {
      "cell_type": "code",
      "source": [
        "learning_rate = 0.01\n",
        "epochs = 500\n",
        "epochs_fe = 250"
      ],
      "metadata": {
        "id": "lQuHMagF5Dn6"
      },
      "execution_count": null,
      "outputs": []
    },
    {
      "cell_type": "code",
      "source": [
        "net_LAE = LAE(x_dim, z_dim).to(device)\n",
        "\n",
        "params = list(net_LAE.parameters())\n",
        "criterion = nn.MSELoss()\n",
        "optimizer = optim.Adam(params, lr=learning_rate)\n",
        "\n",
        "### TRAINING ###\n",
        "train_loop(data_dict, net_LAE, criterion, optimizer, epochs=epochs, record=False, type='encoder')\n",
        "\n",
        "# feature extraction\n",
        "loss_ls = feature_extraction(data_dict, net_LAE.parameters(), criterion, type='ls')\n",
        "loss_gd = feature_extraction(data_dict, net_LAE.parameters(), criterion, type='gd', epochs=50000)\n",
        "print('least square loss', loss_ls)\n",
        "print('gradient decent loss', loss_gd)"
      ],
      "metadata": {
        "colab": {
          "base_uri": "https://localhost:8080/"
        },
        "id": "pfAV8_imCkwU",
        "outputId": "7ceceb24-dc6d-4bc4-e4b3-3bfdde5d1d9b"
      },
      "execution_count": null,
      "outputs": [
        {
          "output_type": "stream",
          "name": "stdout",
          "text": [
            "tensor(10, device='cuda:0')\n",
            "tensor([[ 5.3024e-04,  6.4087e-04,  6.7139e-04,  8.3160e-04,  6.7902e-04],\n",
            "        [ 3.3569e-04,  3.6621e-04,  2.4414e-04,  5.1880e-04,  4.5776e-04],\n",
            "        [ 8.0109e-05,  1.1253e-04,  1.2589e-04,  1.4019e-04,  1.2922e-04],\n",
            "        [ 1.0681e-04,  1.6022e-04,  1.9836e-04,  1.8311e-04,  1.3733e-04],\n",
            "        [-4.5776e-05, -3.4332e-05, -3.0518e-05, -6.8665e-05, -3.8147e-05],\n",
            "        [-2.4796e-04, -2.7466e-04, -2.4414e-04, -3.9673e-04, -3.3569e-04],\n",
            "        [ 1.1253e-04,  1.6022e-04,  1.5831e-04,  2.0981e-04,  1.7548e-04],\n",
            "        [ 4.5776e-05,  3.0518e-05, -7.6294e-05,  9.1553e-05,  7.6294e-05],\n",
            "        [ 1.9073e-05,  2.2888e-05,  3.0518e-05,  2.4319e-05,  2.2888e-05],\n",
            "        [-2.0599e-04, -2.7466e-04, -1.9836e-04, -3.8147e-04, -3.2043e-04]],\n",
            "       device='cuda:0')\n",
            "least square loss 5.977891098796206e-11\n",
            "gradient decent loss 0.09737139940261841\n"
          ]
        }
      ]
    },
    {
      "cell_type": "markdown",
      "source": [
        "##### set gradient of network to the theoretical sol"
      ],
      "metadata": {
        "id": "V6y1VUCa_8dP"
      }
    },
    {
      "cell_type": "code",
      "source": [
        "n = 10\n",
        "p = 5\n",
        "m = 100\n",
        "X = torch.rand(m, n)\n",
        "y = torch.rand(m, p)\n",
        "theta = (torch.inverse(X.T @ X) @ X.T @ y).T\n",
        "\n",
        "net = FE_Net(n, p)\n",
        "net.theta.weight.data = theta\n",
        "#print(theta)\n",
        "#print(list(net.parameters()))"
      ],
      "metadata": {
        "id": "72ucN2OFHBHB"
      },
      "execution_count": null,
      "outputs": []
    },
    {
      "cell_type": "code",
      "source": [
        "criterion = nn.MSELoss()\n",
        "params = list(net.parameters())\n",
        "optimiser = optim.SGD(params, lr=1)\n",
        "optimiser.zero_grad()\n",
        "output = net(X)\n",
        "loss = criterion(output, y)\n",
        "loss.backward()\n",
        "optimiser.step()"
      ],
      "metadata": {
        "id": "rFpxanz5DWKz"
      },
      "execution_count": null,
      "outputs": []
    },
    {
      "cell_type": "code",
      "source": [
        "print(list(net.parameters())[0].clone().detach()-theta)"
      ],
      "metadata": {
        "colab": {
          "base_uri": "https://localhost:8080/"
        },
        "id": "vzJf_s2MDcOM",
        "outputId": "027ba43a-df92-4c21-b609-403f10765b36"
      },
      "execution_count": null,
      "outputs": [
        {
          "output_type": "stream",
          "name": "stdout",
          "text": [
            "tensor([[0., 0., 0., 0., 0., 0., 0., 0., 0., 0.],\n",
            "        [0., 0., 0., 0., 0., 0., 0., 0., 0., 0.],\n",
            "        [0., 0., 0., 0., 0., 0., 0., 0., 0., 0.],\n",
            "        [0., 0., 0., 0., 0., 0., 0., 0., 0., 0.],\n",
            "        [0., 0., 0., 0., 0., 0., 0., 0., 0., 0.]])\n"
          ]
        }
      ]
    },
    {
      "cell_type": "code",
      "source": [],
      "metadata": {
        "id": "B-5pjYfhIIZt"
      },
      "execution_count": null,
      "outputs": []
    },
    {
      "cell_type": "markdown",
      "source": [
        "### check the analytic solution of autoencoder\n",
        "Linear autoencoder"
      ],
      "metadata": {
        "id": "sDJB-HAnIak4"
      }
    },
    {
      "cell_type": "code",
      "source": [
        "train_num, val_num, test_num = (4000, 500, 2000) # larger number of dataset\n",
        "sample_num_split = (train_num, train_num + val_num)\n",
        "total = train_num+val_num+test_num\n",
        "\n",
        "# need to consider f_dim <, =, > z_dim\n",
        "z_dim = 6 # dimension of z\n",
        "H = 3\n",
        "W = 3\n",
        "sample_dim = torch.tensor([H, W])\n",
        "x_dim = H * W\n",
        "f_dim = 7\n",
        "y_dim = z_dim // 2\n",
        "\n",
        "z = torch.normal(mean=0, std=1, size=(total,z_dim), generator=torch.random.manual_seed(1911)) # here distribution is high dimensional guassian\n",
        "#z = z.to(device)\n",
        "\n",
        "U = torch.rand(x_dim, z_dim, generator=torch.random.manual_seed(1911))\n",
        "#U = U.to(device)\n",
        "V = torch.rand(y_dim, z_dim, generator=torch.random.manual_seed(1911))\n",
        "#V = V.to(device)\n",
        "\n",
        "x = z @ U.T\n",
        "y = z @ V.T\n",
        "X_train, X_val, X_test = torch.tensor_split(x, sample_num_split)\n",
        "y_train, y_val, y_test = torch.tensor_split(y, sample_num_split)\n",
        "data_dict = {'X_train': X_train, 'y_train': y_train, 'X_val': X_val, 'y_val': y_val, 'X_test': X_test, 'y_test': y_test}\n",
        "fe_loss_dict = {'LAE': [], 'MLAE_basic': [], 'MLAE_probs': [], 'MLAE_patches': []}"
      ],
      "metadata": {
        "id": "Zi8eMutEIgyk"
      },
      "execution_count": 5,
      "outputs": []
    },
    {
      "cell_type": "code",
      "source": [
        "Sigma = X_train.T @ X_train\n",
        "U, S, Vh = torch.linalg.svd(Sigma)\n",
        "U = U[:, :f_dim]\n",
        "W1 = U.T\n",
        "W2 = U"
      ],
      "metadata": {
        "id": "9SwwUQ0TMMp8"
      },
      "execution_count": 6,
      "outputs": []
    },
    {
      "cell_type": "code",
      "source": [
        "net = LAE(x_dim, f_dim)\n",
        "net.w1.weight.data = W1\n",
        "net.w2.weight.data = W2"
      ],
      "metadata": {
        "id": "MyfIN22MO7yb"
      },
      "execution_count": 7,
      "outputs": []
    },
    {
      "cell_type": "code",
      "source": [
        "criterion = nn.MSELoss()\n",
        "params = list(net.parameters())\n",
        "optimiser = optim.SGD(params, lr=0.3)\n",
        "\n",
        "optimiser.zero_grad()\n",
        "output = net(X_train)\n",
        "loss = criterion(output, X_train)\n",
        "loss.backward()\n",
        "optimiser.step()"
      ],
      "metadata": {
        "id": "1TnC8o3YPvuM"
      },
      "execution_count": 8,
      "outputs": []
    },
    {
      "cell_type": "code",
      "source": [
        "print(list(net.parameters())[0].clone().detach()-W1)"
      ],
      "metadata": {
        "colab": {
          "base_uri": "https://localhost:8080/"
        },
        "id": "ZJDZ7RvXP3JQ",
        "outputId": "22ca4146-dc6a-48a8-daa4-d4b91e187cb8"
      },
      "execution_count": 9,
      "outputs": [
        {
          "output_type": "stream",
          "name": "stdout",
          "text": [
            "tensor([[0., 0., 0., 0., 0., 0., 0., 0., 0.],\n",
            "        [0., 0., 0., 0., 0., 0., 0., 0., 0.],\n",
            "        [0., 0., 0., 0., 0., 0., 0., 0., 0.],\n",
            "        [0., 0., 0., 0., 0., 0., 0., 0., 0.],\n",
            "        [0., 0., 0., 0., 0., 0., 0., 0., 0.],\n",
            "        [0., 0., 0., 0., 0., 0., 0., 0., 0.],\n",
            "        [0., 0., 0., 0., 0., 0., 0., 0., 0.]])\n"
          ]
        }
      ]
    },
    {
      "cell_type": "code",
      "source": [
        "print(list(net.parameters())[1].clone().detach()-W2)"
      ],
      "metadata": {
        "colab": {
          "base_uri": "https://localhost:8080/"
        },
        "id": "eCz_U_p9RInz",
        "outputId": "a8afaddc-0220-40f5-f822-75955f6e9525"
      },
      "execution_count": 10,
      "outputs": [
        {
          "output_type": "stream",
          "name": "stdout",
          "text": [
            "tensor([[0., 0., 0., 0., 0., 0., 0.],\n",
            "        [0., 0., 0., 0., 0., 0., 0.],\n",
            "        [0., 0., 0., 0., 0., 0., 0.],\n",
            "        [0., 0., 0., 0., 0., 0., 0.],\n",
            "        [0., 0., 0., 0., 0., 0., 0.],\n",
            "        [0., 0., 0., 0., 0., 0., 0.],\n",
            "        [0., 0., 0., 0., 0., 0., 0.],\n",
            "        [0., 0., 0., 0., 0., 0., 0.],\n",
            "        [0., 0., 0., 0., 0., 0., 0.]])\n"
          ]
        }
      ]
    },
    {
      "cell_type": "markdown",
      "source": [
        "Masked linear autoencoder"
      ],
      "metadata": {
        "id": "CHpBxCQYyLzC"
      }
    },
    {
      "cell_type": "code",
      "source": [
        "prob = 0.75\n",
        "prob_list = torch.rand(x_dim)*0.5+0.5\n",
        "patch_size = 3\n",
        "X = mask_patches_plain(prob, patch_size, train_num, x_dim) * X_train\n",
        "Y = X_train\n",
        "try:\n",
        "    torch.inverse(X.T@X)\n",
        "except torch._C._LinAlgError:\n",
        "    # Sigma_XX = X.T@X\n",
        "    # U_XX, S_XX, Vh_XX = torch.linalg.svd(Sigma_XX)\n",
        "    # print(S_XX)\n",
        "    # inv = Vh_XX.T*torch.inverse(torch.diag(S_XX+1e-4))*U_XX.T\n",
        "\n",
        "    perturbation = torch.diag(torch.ones(x_dim)*1e-25).to(device)\n",
        "    inv = torch.inverse(X.T@X+perturbation)\n",
        "else:\n",
        "    inv = torch.inverse(X.T@X)\n",
        "if prob == 1:\n",
        "    Sigma = X.T@X\n",
        "    U, _, _ = torch.linalg.svd(Sigma)\n",
        "    U = U[:, :f_dim]\n",
        "    W1 = U.T\n",
        "    W2 = U\n",
        "    loss = criterion(X_val@W1.T@W2.T, X_val)\n",
        "else:\n",
        "    Sigma = Y.T@X @ inv @ X.T@Y\n",
        "    U, _, _ = torch.linalg.svd(Sigma)\n",
        "    U = U[:, :f_dim]\n",
        "    W1 = U.T @ Y.T@X @ inv\n",
        "    W2 = U\n",
        "\n",
        "net = M_LAE(prob, x_dim, f_dim, type='patches', patch_size=patch_size).to(device)\n",
        "#net.body[0].weight.data = W1.to(device)\n",
        "#net.body[1].weight.data = W2.to(device)"
      ],
      "metadata": {
        "id": "RWM-XOX0RLbv"
      },
      "execution_count": 102,
      "outputs": []
    },
    {
      "cell_type": "code",
      "source": [
        "criterion = nn.MSELoss()\n",
        "optimiser = optim.SGD(net.body.parameters(), lr=0.00003)\n",
        "\n",
        "optimiser.zero_grad()\n",
        "output = net(X.to(device)).cpu()\n",
        "loss = criterion(output, Y)\n",
        "loss.backward()\n",
        "optimiser.step()"
      ],
      "metadata": {
        "id": "SC8uUk3q3jEq"
      },
      "execution_count": 103,
      "outputs": []
    },
    {
      "cell_type": "code",
      "source": [
        "print(net.body[0].weight.data.clone().detach().cpu()-W1)"
      ],
      "metadata": {
        "colab": {
          "base_uri": "https://localhost:8080/"
        },
        "id": "IRc94mL85a8i",
        "outputId": "5fba10d9-903c-41c5-d8cf-4d6f4035bce2"
      },
      "execution_count": 104,
      "outputs": [
        {
          "output_type": "stream",
          "name": "stdout",
          "text": [
            "tensor([[ 0.5033,  0.5395,  0.2116,  0.2571,  0.1447,  0.7348,  0.3950,  0.3597,\n",
            "          0.2357],\n",
            "        [-0.3260, -0.1455, -0.3120, -0.3251,  0.2629,  0.0936,  0.5053, -0.6902,\n",
            "          0.1025],\n",
            "        [ 0.7152,  0.5165, -0.9393, -0.2183, -0.4868,  0.6244, -0.1655,  0.0852,\n",
            "          0.2344],\n",
            "        [ 0.3057, -0.9323,  0.5493, -0.0810, -0.1123, -0.0338,  0.0153,  0.7233,\n",
            "         -0.8845],\n",
            "        [-0.0142,  0.0888,  0.6672, -0.3754, -0.2846,  0.1243, -0.0072,  0.3585,\n",
            "          0.1466],\n",
            "        [ 0.4467, -0.1064,  0.1370,  0.1360, -0.2693,  0.2277, -0.3397, -0.5521,\n",
            "          0.8495],\n",
            "        [ 0.0139, -0.2390,  0.1163, -0.2921, -0.3236,  0.2936, -0.1189, -0.2236,\n",
            "         -0.2266]])\n"
          ]
        }
      ]
    },
    {
      "cell_type": "code",
      "source": [
        "print(net.body[1].weight.data.clone().detach().cpu()-W2)"
      ],
      "metadata": {
        "colab": {
          "base_uri": "https://localhost:8080/"
        },
        "id": "VVLGIDp06r2L",
        "outputId": "cf8762c4-173c-4e95-98d6-ebd3a9293971"
      },
      "execution_count": 105,
      "outputs": [
        {
          "output_type": "stream",
          "name": "stdout",
          "text": [
            "tensor([[-4.2126e-02, -7.4196e-02,  1.9054e-01,  9.1858e-01,  2.7286e-01,\n",
            "         -6.3993e-01,  4.4679e-01],\n",
            "        [ 1.3010e-01,  3.0320e-01,  1.4474e-02, -6.0894e-01,  2.2834e-01,\n",
            "         -5.8287e-01,  3.5847e-01],\n",
            "        [ 3.5783e-01, -1.9535e-01, -2.3142e-01,  1.5506e-01,  1.5971e-01,\n",
            "         -5.1313e-01, -4.4760e-01],\n",
            "        [ 1.4157e-01, -2.2960e-01,  1.6529e-01,  2.2411e-01, -7.7696e-01,\n",
            "          2.5713e-01,  1.0124e-01],\n",
            "        [-1.1048e-02,  8.0061e-01, -1.7853e-01,  3.3526e-02, -2.2878e-01,\n",
            "          5.5054e-01,  4.8066e-01],\n",
            "        [ 2.0034e-01,  2.1286e-01,  8.1251e-01, -1.4271e-01,  1.6497e-01,\n",
            "         -6.5245e-03, -2.7509e-01],\n",
            "        [ 6.3963e-01,  5.3663e-01,  5.2370e-02,  3.1917e-01, -1.4941e-01,\n",
            "         -5.8123e-02,  3.1589e-02],\n",
            "        [ 2.7677e-01, -3.4743e-01, -6.8589e-02, -1.7627e-01,  5.2726e-01,\n",
            "          5.0883e-01, -1.1774e-01],\n",
            "        [-4.7837e-04, -4.5594e-01, -3.5591e-01,  1.4961e-01,  8.0373e-02,\n",
            "          8.0342e-01,  1.3784e-01]])\n"
          ]
        }
      ]
    },
    {
      "cell_type": "code",
      "source": [],
      "metadata": {
        "id": "lDOoJ1rP8q4B"
      },
      "execution_count": 73,
      "outputs": []
    }
  ]
}