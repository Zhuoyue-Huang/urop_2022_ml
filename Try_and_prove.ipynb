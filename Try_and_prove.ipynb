{
  "nbformat": 4,
  "nbformat_minor": 0,
  "metadata": {
    "colab": {
      "provenance": [],
      "authorship_tag": "ABX9TyNyBuSWFD9Jm9RvQ/vl6Uxx",
      "include_colab_link": true
    },
    "kernelspec": {
      "name": "python3",
      "display_name": "Python 3"
    },
    "language_info": {
      "name": "python"
    },
    "accelerator": "GPU",
    "gpuClass": "standard"
  },
  "cells": [
    {
      "cell_type": "markdown",
      "metadata": {
        "id": "view-in-github",
        "colab_type": "text"
      },
      "source": [
        "<a href=\"https://colab.research.google.com/github/Zhuoyue-Huang/urop_2022_ml/blob/main/Try_and_prove.ipynb\" target=\"_parent\"><img src=\"https://colab.research.google.com/assets/colab-badge.svg\" alt=\"Open In Colab\"/></a>"
      ]
    },
    {
      "cell_type": "code",
      "execution_count": 1,
      "metadata": {
        "id": "Z2y2zwRVhxvx"
      },
      "outputs": [],
      "source": [
        "\"\"\"try and prove different results\"\"\"\n",
        "import torch\n",
        "import torch.nn as nn\n",
        "import torch.optim as optim\n",
        "import matplotlib.pyplot as plt\n",
        "from tqdm import tqdm\n",
        "import statistics\n",
        "import numpy as np\n",
        "import pandas as pd \n",
        "import scipy.stats as stats\n",
        "from copy import deepcopy"
      ]
    },
    {
      "cell_type": "code",
      "source": [
        "device = torch.device('cuda' if torch.cuda.is_available() else 'cpu')"
      ],
      "metadata": {
        "id": "kGSOoJzUh6U3"
      },
      "execution_count": 2,
      "outputs": []
    },
    {
      "cell_type": "code",
      "source": [
        "# Linear auto-encoder model\n",
        "class LAE(nn.Module):\n",
        "    def __init__(self, n, p):\n",
        "        super(LAE, self).__init__()\n",
        "        self.n = n\n",
        "        self.p = p\n",
        "        self.w1 = nn.Linear(n, p, bias=False)\n",
        "        self.w2 = nn.Linear(p, n, bias=False)\n",
        "\n",
        "    def forward(self, y):\n",
        "        y = self.w1(y)\n",
        "        y = self.w2(y)\n",
        "        return y\n",
        "\n",
        "## Masked lienar auto-encoder model\n",
        "# Define different types of masks\n",
        "def mask_basic(prob, sample_num, x_dim, cst=0, device='cuda'):\n",
        "    return torch.zeros(sample_num, x_dim, device=device).bernoulli_(prob)*(1-cst) + cst\n",
        "\n",
        "def mask_probs(prob_list: torch.Tensor, sample_num, x_dim, cst=0, device='cuda'):\n",
        "    return torch.zeros(sample_num, x_dim, device=device).bernoulli_(prob_list)*(1-cst) + cst\n",
        "\n",
        "# def mask_patches_block(prob, patch_size: torch.Tensor, sample_num, sample_dim: torch.Tensor, device='cuda'):\n",
        "#     x_dim = sample_dim[0]*sample_dim[1]\n",
        "#     div_check = sample_dim % patch_size == torch.zeros(2)\n",
        "#     if torch.all(div_check):\n",
        "#         pix_num = torch.div(sample_dim, patch_size, rounding_mode='floor')\n",
        "#         mat_patches = torch.zeros(sample_num, *pix_num).bernoulli_(prob).to(device)\n",
        "#         mat_patches = torch.repeat_interleave(mat_patches, patch_size[1], dim=2)\n",
        "#         return mat_patches.repeat_interleave(patch_size[0], dim=1).view(sample_num, x_dim)\n",
        "#     else:\n",
        "#         raise NotImplementedError(f\"Both height ({sample_dim[0]}) and width ({sample_dim[1]}) should be divisible by patch_size ({patch_size}).\")\n",
        "\n",
        "def mask_patches_plain(prob, patch_size, sample_num, x_dim, cst=0, device='cuda'):\n",
        "    if not x_dim % patch_size:\n",
        "        pix_num = x_dim // patch_size\n",
        "        mat_patches = torch.zeros(sample_num, pix_num).bernoulli_(prob)\n",
        "        return mat_patches.repeat_interleave(patch_size, dim=1).to(device)*(1-cst) + cst\n",
        "    else:\n",
        "        raise NotImplementedError\n",
        "\n",
        "# Masked autoencoder (linear)\n",
        "class M_LAE(nn.Module):\n",
        "    def __init__(self, prob, x_dim, f_dim, type='basic', patch_size=None, sample_dim=None, cst=0):\n",
        "        super(M_LAE, self).__init__()\n",
        "        self.prob = prob\n",
        "        if sample_dim is not None:\n",
        "            self.sample_dim = sample_dim\n",
        "            self.H, self.W = sample_dim\n",
        "            self.n = self.H * self.W\n",
        "        self.n = x_dim\n",
        "        self.p = f_dim\n",
        "        self.cst = cst\n",
        "        if type not in ['basic', 'probs', 'patches']:\n",
        "            raise NotImplementedError(\"Could only implement 'basic', 'probs' and 'patches' type of masking.\")\n",
        "        else:\n",
        "            self.masking_type = type\n",
        "        if patch_size is not None:\n",
        "            self.patch_size = patch_size\n",
        "        w1 = nn.Linear(self.n, self.p, bias=False)\n",
        "        w2 = nn.Linear(self.p, self.n, bias=False)\n",
        "        self.body = nn.Sequential(*[w1, w2])\n",
        "    \n",
        "    def forward(self, X, mask=None):\n",
        "        m = X.shape[0]\n",
        "        if mask is None:\n",
        "            if self.masking_type == 'basic':\n",
        "                mask = mask_basic(self.prob, m, self.n, cst=self.cst)\n",
        "            elif self.masking_type == 'probs':\n",
        "                mask = mask_probs(self.prob, m, self.n, cst=self.cst)\n",
        "            elif self.masking_type == 'patches':\n",
        "                mask = mask_patches_plain(self.prob, self.patch_size, m, self.n, cst=self.cst)\n",
        "        Y = mask * X\n",
        "        Y = self.body(Y)\n",
        "        return Y\n",
        "\n",
        "class FE_Net(nn.Module):\n",
        "    def __init__(self, f_dim, y_dim):\n",
        "        super(FE_Net, self).__init__()\n",
        "        self.theta = nn.Linear(f_dim, y_dim, bias=False)\n",
        "\n",
        "    def forward(self, W):\n",
        "        return self.theta(W)\n",
        "\n",
        "# representation learning\n",
        "def repr_learning(data_dict, model_parameters, criterion, type, epochs=200, device='cuda'):\n",
        "    X_train, y_train, _, _, X_test, y_test = data_dict.values()\n",
        "\n",
        "    params = list(model_parameters)\n",
        "    W1 = params[0].clone().detach()\n",
        "    f_train = X_train @ W1.T\n",
        "    f_test = X_test @ W1.T\n",
        "    f_dim = f_train.shape[1]\n",
        "    y_dim = y_train.shape[1]\n",
        "\n",
        "    if type=='ls':\n",
        "        theta = (torch.inverse(f_train.T @ f_train) @ f_train.T @ y_train).T\n",
        "        loss = criterion(y_test, f_test @ theta.T)\n",
        "        return loss.item()\n",
        "    elif type=='gd':\n",
        "        data_dict_fe = {'X_train': f_train, 'y_train': y_train,\n",
        "                        'X_test': f_test, 'y_test': y_test}\n",
        "        net_fe = FE_Net(f_dim, y_dim).to(device)\n",
        "        theta = list(net_fe.parameters())\n",
        "        optimizer = optim.Adam(theta, lr=0.0001)\n",
        "        ### TRAINING ###\n",
        "        train_loop(data_dict_fe, net_fe, criterion, optimizer, epochs=epochs, record=False, type='fe')\n",
        "        loss_fe = test_loop(data_dict_fe, net_fe, criterion, type='fe')\n",
        "        return loss_fe"
      ],
      "metadata": {
        "id": "0ao5Y8m4_aqd"
      },
      "execution_count": 3,
      "outputs": []
    },
    {
      "cell_type": "markdown",
      "source": [
        "### Examine the effect of detach"
      ],
      "metadata": {
        "id": "o9oWKJKGx09m"
      }
    },
    {
      "cell_type": "code",
      "source": [
        "# Linear auto-encoder model\n",
        "class LAE(nn.Module):\n",
        "    def __init__(self, n, p):\n",
        "        super(LAE, self).__init__()\n",
        "        self.n = n\n",
        "        self.p = p\n",
        "        self.w1 = nn.Linear(n, p, bias=False)\n",
        "        self.w2 = nn.Linear(p, n, bias=False)\n",
        "\n",
        "    def forward(self, y):\n",
        "        y = self.w1(y)\n",
        "        y = self.w2(y)\n",
        "        return y\n",
        "\n",
        "class FE_Net(nn.Module):\n",
        "    def __init__(self, in_dim, out_dim):\n",
        "        super(FE_Net, self).__init__()\n",
        "        self.in_dim = in_dim\n",
        "        self.out_dim = out_dim\n",
        "        self.theta = nn.Linear(in_dim, out_dim, bias=False)\n",
        "\n",
        "    def forward(self, W):\n",
        "        return self.theta(W)"
      ],
      "metadata": {
        "id": "PpAqNqjzh_eb"
      },
      "execution_count": null,
      "outputs": []
    },
    {
      "cell_type": "code",
      "source": [
        "def train_loop(data_dict, model, criterion, optimizer, type, epochs=10, sample_average=10, record=True):\n",
        "    train_loss = []\n",
        "    val_loss = []\n",
        "    if type=='encoder':\n",
        "        train_inputs = data_dict['train_inputs']\n",
        "        train_targets = train_inputs\n",
        "    elif type=='fe':\n",
        "        train_inputs = data_dict['train_inputs']\n",
        "        train_targets = data_dict['train_targets']\n",
        "        sample_average = 1\n",
        "\n",
        "    for epoch in range(epochs+1):\n",
        "        loss_total = 0\n",
        "        optimizer.zero_grad()\n",
        "        for i in range(sample_average):\n",
        "            train_outputs = model(train_inputs)\n",
        "            loss = criterion(train_outputs, train_targets)\n",
        "            loss_total += loss\n",
        "        loss_total /= sample_average\n",
        "        loss_total.backward()\n",
        "        optimizer.step()\n",
        "        if record:\n",
        "          train_loss.append(loss_total.item())\n",
        "          if epochs>=5 and epoch%(epochs//5)==0:\n",
        "              v_loss = test_loop(data_dict, model, criterion, type)\n",
        "              val_loss.append(v_loss)\n",
        "              print('epoch: ', epoch, ', train loss: ', loss.item(), ', val loss', v_loss)\n",
        "    if record:\n",
        "        return {'train_loss': train_loss, 'val_loss': val_loss}\n",
        "    else:\n",
        "        return loss_total.item()\n",
        "\n",
        "def test_loop(data_dict, model, criterion, type):\n",
        "    if type=='encoder':\n",
        "        val_inputs = data_dict['val_inputs']\n",
        "        val_targets = val_inputs\n",
        "    elif type=='fe':\n",
        "        val_inputs = data_dict['val_inputs']\n",
        "        val_targets = data_dict['val_targets']\n",
        "\n",
        "    with torch.no_grad():\n",
        "        val_outputs = model(val_inputs)\n",
        "        loss = criterion(val_outputs, val_targets)\n",
        "    return loss.item()"
      ],
      "metadata": {
        "id": "JCYIbXbGiBYj"
      },
      "execution_count": null,
      "outputs": []
    },
    {
      "cell_type": "code",
      "source": [
        "# feature extraction\n",
        "def feature_extraction_test(data_dict, model_parameters, criterion, type, epochs=200, device='cuda'):\n",
        "    train_inputs, train_targets, val_inputs, val_targets = data_dict.values()\n",
        "\n",
        "    params = list(model_parameters)\n",
        "    W1 = params[0]\n",
        "    W10 = deepcopy(W1)\n",
        "    W10 = W10.clone().detach()\n",
        "    print(W10)\n",
        "    train_inputs_fe0 = train_inputs @ W10.T\n",
        "    val_inputs_fe0 = val_inputs @ W10.T\n",
        "\n",
        "    W11 = deepcopy(W1)\n",
        "    W11 = W11.clone()\n",
        "    print(W11)\n",
        "    train_inputs_fe1 = (train_inputs @ W11.T).detach()\n",
        "    val_inputs_fe1 = (val_inputs @ W11.T).detach()\n",
        "\n",
        "    reduction_dim = train_inputs_fe1.shape[1]\n",
        "    target_dim = train_targets.shape[1]\n",
        "\n",
        "    if type=='ls':\n",
        "        param_fe0 = (torch.inverse(train_inputs_fe0.T@train_inputs_fe0) @ train_inputs_fe0.T @ train_targets).T\n",
        "        loss0 = criterion(val_targets, val_inputs_fe0 @ param_fe0.T)\n",
        "        print('test0', loss0.item())\n",
        "\n",
        "        param_fe1 = (torch.inverse(train_inputs_fe1.T@train_inputs_fe1) @ train_inputs_fe1.T @ train_targets).T\n",
        "        loss1 = criterion(val_targets, val_inputs_fe1 @ param_fe1.T)\n",
        "        print('test1', loss1.item())\n",
        "        #return loss.item()\n",
        "    elif type=='gd':\n",
        "        net_fe = FE_Net(reduction_dim, target_dim).to(device)\n",
        "        net_fe0 = deepcopy(net_fe)\n",
        "        net_fe1 = deepcopy(net_fe)\n",
        "\n",
        "        data_dict_fe0 = {'train_inputs': train_inputs_fe0, 'train_targets': train_targets,\n",
        "                        'val_inputs': val_inputs_fe0, 'val_targets': val_targets}\n",
        "        param_fe0 = list(net_fe0.parameters())\n",
        "        optimizer0 = optim.Adam(param_fe0, lr=0.0001)\n",
        "        ### TRAINING ###\n",
        "        loss_fe0 = train_loop(data_dict_fe0, net_fe0, criterion, optimizer0, epochs=epochs, record=False, type='fe')\n",
        "        print('test0', loss_fe0)\n",
        "        data_dict_fe1 = {'train_inputs': train_inputs_fe1, 'train_targets': train_targets,\n",
        "                        'val_inputs': val_inputs_fe1, 'val_targets': val_targets}\n",
        "        param_fe1 = list(net_fe1.parameters())\n",
        "        optimizer1 = optim.Adam(param_fe1, lr=0.0001)\n",
        "        ### TRAINING ###\n",
        "        loss_fe1 = train_loop(data_dict_fe1, net_fe1, criterion, optimizer1, epochs=epochs, record=False, type='fe')\n",
        "        print('test1', loss_fe1)\n",
        "        #return loss_fe"
      ],
      "metadata": {
        "id": "GM2bVyOuiKE4"
      },
      "execution_count": null,
      "outputs": []
    },
    {
      "cell_type": "code",
      "source": [
        "train_num = 50\n",
        "val_num = 20\n",
        "H = 8\n",
        "W = 8\n",
        "sample_dim = torch.tensor([H, W])\n",
        "feature_num = H * W\n",
        "reduction_dim = feature_num\n",
        "target_dim = feature_num\n",
        "\n",
        "prob = 0.75\n",
        "prob_list = torch.rand(feature_num)*0.2 + 0.65\n",
        "patch_size = torch.div(sample_dim, 2, rounding_mode='floor')\n",
        "\n",
        "train_inputs = torch.rand(train_num, feature_num) * 2\n",
        "train_inputs = train_inputs.to(device)\n",
        "train_targets = torch.rand(train_num, target_dim)\n",
        "train_targets = train_targets.to(device)\n",
        "val_inputs = torch.rand(val_num, feature_num) * 2\n",
        "val_inputs = val_inputs.to(device)\n",
        "val_targets = torch.rand(val_num, target_dim)\n",
        "val_targets = val_targets.to(device)\n",
        "data_dict = {'train_inputs': train_inputs, 'train_targets': train_targets,\n",
        "             'val_inputs': val_inputs, 'val_targets': val_targets}"
      ],
      "metadata": {
        "id": "XzBp1SkZjuoV"
      },
      "execution_count": null,
      "outputs": []
    },
    {
      "cell_type": "code",
      "source": [
        "net_LAE = LAE(feature_num, reduction_dim).to(device)\n",
        "\n",
        "params = list(net_LAE.parameters())\n",
        "criterion = nn.MSELoss()\n",
        "optimizer = optim.Adam(params, lr=0.001)\n",
        "\n",
        "### TRAINING ###\n",
        "train_loop(data_dict, net_LAE, criterion, optimizer, epochs=500, record=False, type='encoder')\n",
        "\n",
        "# feature extraction\n",
        "loss_ls = feature_extraction_test(data_dict, net_LAE.parameters(), criterion, type='ls', epochs=500)\n",
        "loss_gd = feature_extraction_test(data_dict, net_LAE.parameters(), criterion, type='gd', epochs=500)"
      ],
      "metadata": {
        "colab": {
          "base_uri": "https://localhost:8080/"
        },
        "id": "h6j4-h7cjy3I",
        "outputId": "92da21bf-28e0-4b44-f42e-bf3cfb72fb9a"
      },
      "execution_count": null,
      "outputs": [
        {
          "output_type": "stream",
          "name": "stdout",
          "text": [
            "tensor([[-0.1336,  0.0542,  0.0287,  ..., -0.1842,  0.0315,  0.1009],\n",
            "        [-0.0978, -0.0365, -0.1108,  ..., -0.0541, -0.1404,  0.0120],\n",
            "        [ 0.1117,  0.0700,  0.0037,  ...,  0.0655,  0.0070, -0.1101],\n",
            "        ...,\n",
            "        [ 0.1055,  0.0057, -0.0793,  ..., -0.0329,  0.1920,  0.0874],\n",
            "        [-0.1235, -0.0956,  0.1405,  ..., -0.0077,  0.0426, -0.1306],\n",
            "        [ 0.1496, -0.1518, -0.1922,  ..., -0.0546, -0.0099, -0.0903]],\n",
            "       device='cuda:0')\n",
            "tensor([[-0.1336,  0.0542,  0.0287,  ..., -0.1842,  0.0315,  0.1009],\n",
            "        [-0.0978, -0.0365, -0.1108,  ..., -0.0541, -0.1404,  0.0120],\n",
            "        [ 0.1117,  0.0700,  0.0037,  ...,  0.0655,  0.0070, -0.1101],\n",
            "        ...,\n",
            "        [ 0.1055,  0.0057, -0.0793,  ..., -0.0329,  0.1920,  0.0874],\n",
            "        [-0.1235, -0.0956,  0.1405,  ..., -0.0077,  0.0426, -0.1306],\n",
            "        [ 0.1496, -0.1518, -0.1922,  ..., -0.0546, -0.0099, -0.0903]],\n",
            "       device='cuda:0', grad_fn=<CloneBackward0>)\n",
            "test0 606.8356323242188\n",
            "test1 606.8356323242188\n",
            "tensor([[-0.1336,  0.0542,  0.0287,  ..., -0.1842,  0.0315,  0.1009],\n",
            "        [-0.0978, -0.0365, -0.1108,  ..., -0.0541, -0.1404,  0.0120],\n",
            "        [ 0.1117,  0.0700,  0.0037,  ...,  0.0655,  0.0070, -0.1101],\n",
            "        ...,\n",
            "        [ 0.1055,  0.0057, -0.0793,  ..., -0.0329,  0.1920,  0.0874],\n",
            "        [-0.1235, -0.0956,  0.1405,  ..., -0.0077,  0.0426, -0.1306],\n",
            "        [ 0.1496, -0.1518, -0.1922,  ..., -0.0546, -0.0099, -0.0903]],\n",
            "       device='cuda:0')\n",
            "tensor([[-0.1336,  0.0542,  0.0287,  ..., -0.1842,  0.0315,  0.1009],\n",
            "        [-0.0978, -0.0365, -0.1108,  ..., -0.0541, -0.1404,  0.0120],\n",
            "        [ 0.1117,  0.0700,  0.0037,  ...,  0.0655,  0.0070, -0.1101],\n",
            "        ...,\n",
            "        [ 0.1055,  0.0057, -0.0793,  ..., -0.0329,  0.1920,  0.0874],\n",
            "        [-0.1235, -0.0956,  0.1405,  ..., -0.0077,  0.0426, -0.1306],\n",
            "        [ 0.1496, -0.1518, -0.1922,  ..., -0.0546, -0.0099, -0.0903]],\n",
            "       device='cuda:0', grad_fn=<CloneBackward0>)\n",
            "test0 0.1140785962343216\n",
            "test1 0.1140785962343216\n"
          ]
        }
      ]
    },
    {
      "cell_type": "code",
      "source": [],
      "metadata": {
        "id": "kJjYBQb_kAjA"
      },
      "execution_count": null,
      "outputs": []
    },
    {
      "cell_type": "markdown",
      "source": [
        "### Least square vs gradient decent"
      ],
      "metadata": {
        "id": "TQ7WTuT0x-lT"
      }
    },
    {
      "cell_type": "markdown",
      "source": [
        "##### check whether least square estimator has zero gradient"
      ],
      "metadata": {
        "id": "TuKRG8eeyirE"
      }
    },
    {
      "cell_type": "code",
      "source": [
        "def train_loop(data_dict, model, criterion, optimizer, type, epochs=10, sample_average=10, record=True):\n",
        "    train_loss = []\n",
        "    val_loss = []\n",
        "    if type=='encoder':\n",
        "        train_x = data_dict['train_x']\n",
        "        train_y = train_x\n",
        "    elif type=='fe':\n",
        "        train_x = data_dict['train_x']\n",
        "        train_y = data_dict['train_y']\n",
        "        sample_average = 1\n",
        "\n",
        "    for epoch in range(epochs+1):\n",
        "        loss_total = 0\n",
        "        optimizer.zero_grad()\n",
        "        for i in range(sample_average):\n",
        "            outputs = model(train_x)\n",
        "            loss = criterion(outputs, train_y)\n",
        "            loss_total += loss\n",
        "        loss_total /= sample_average\n",
        "        loss_total.backward()\n",
        "        optimizer.step()\n",
        "        if record:\n",
        "          train_loss.append(loss_total.item())\n",
        "          if epochs>=5 and epoch%(epochs//5)==0:\n",
        "              v_loss = test_loop(data_dict, model, criterion, type)\n",
        "              val_loss.append(v_loss)\n",
        "              print('epoch: ', epoch, ', train loss: ', loss.item(), ', val loss', v_loss)\n",
        "    if record:\n",
        "        return {'train_loss': train_loss, 'val_loss': val_loss}\n",
        "    else:\n",
        "        return loss_total.item()\n",
        "\n",
        "def test_loop(data_dict, model, criterion, type):\n",
        "    if type=='encoder':\n",
        "        val_x = data_dict['val_x']\n",
        "        val_y = val_x\n",
        "    elif type=='fe':\n",
        "        val_x = data_dict['val_x']\n",
        "        val_y = data_dict['val_y']\n",
        "\n",
        "    with torch.no_grad():\n",
        "        outputs = model(val_x)\n",
        "        loss = criterion(outputs, val_y)\n",
        "    return loss.item()"
      ],
      "metadata": {
        "id": "rsyR9nDZ5Wxk"
      },
      "execution_count": null,
      "outputs": []
    },
    {
      "cell_type": "code",
      "source": [
        "class FE_Net(nn.Module):\n",
        "    def __init__(self, z_dim, y_dim):\n",
        "        super(FE_Net, self).__init__()\n",
        "        self.theta = nn.Linear(z_dim, y_dim, bias=False)\n",
        "\n",
        "    def forward(self, W):\n",
        "        return self.theta(W)\n",
        "\n",
        "def feature_extraction(data_dict, model_parameters, criterion, type, epochs=200, device='cuda'):\n",
        "    train_x, train_y, val_x, val_y, _, _ = data_dict.values()\n",
        "\n",
        "    params = list(model_parameters)\n",
        "    W1 = params[0].clone().detach()\n",
        "    train_z = train_x @ W1.T\n",
        "    val_z = val_x @ W1.T\n",
        "    z_dim = train_z.shape[1]\n",
        "    y_dim = train_y.shape[1]\n",
        "\n",
        "    if type=='ls':\n",
        "        print(torch.linalg.matrix_rank(train_z))\n",
        "        theta = (torch.inverse(train_z.T @ train_z) @ train_z.T @ train_y).T\n",
        "        print(-train_z.T @ train_y + train_z.T @ train_z @ theta.T)\n",
        "        loss = criterion(val_y, val_z @ theta.T)\n",
        "        return loss.item()\n",
        "    elif type=='gd':\n",
        "        data_dict_fe = {'train_x': train_z, 'train_y': train_y,\n",
        "                        'val_x': val_z, 'val_y': val_y}\n",
        "        net_fe = FE_Net(z_dim, y_dim).to(device)\n",
        "        theta = list(net_fe.parameters())\n",
        "        optimizer = optim.Adam(theta, lr=0.00001)\n",
        "        ### TRAINING ###\n",
        "        loss_fe = train_loop(data_dict_fe, net_fe, criterion, optimizer, epochs=epochs, record=False, type='fe')\n",
        "        return loss_fe"
      ],
      "metadata": {
        "id": "KR3VvCZ_yDYL"
      },
      "execution_count": null,
      "outputs": []
    },
    {
      "cell_type": "code",
      "source": [
        "train_num, val_num, test_num = (60, 20, 20)\n",
        "sample_num_split = (train_num, train_num+val_num)\n",
        "total = train_num+val_num+test_num\n",
        "\n",
        "# need to consider x_dim < and > z_dim\n",
        "z_dim = 10 # dimension of z\n",
        "H = 4\n",
        "W = 4\n",
        "sample_dim = torch.tensor([H, W])\n",
        "x_dim = H * W\n",
        "y_dim = z_dim // 2\n",
        "\n",
        "prob = 0.75\n",
        "prob_list = torch.rand(x_dim)*0.2 + 0.65\n",
        "patch_size = torch.tensor([2, 2])"
      ],
      "metadata": {
        "id": "HeTM_8Bp5MuA"
      },
      "execution_count": null,
      "outputs": []
    },
    {
      "cell_type": "code",
      "source": [
        "z = torch.normal(mean=0, std=1, size=(total,z_dim)) # here distribution is high dimensional guassian\n",
        "z = z.to(device)\n",
        "\n",
        "U = torch.rand(x_dim, z_dim)\n",
        "U = U.to(device)\n",
        "V = torch.rand(y_dim, z_dim)\n",
        "V = V.to(device)\n",
        "\n",
        "x = z @ U.T\n",
        "y = z @ V.T\n",
        "train_x, val_x, test_x = torch.tensor_split(x, sample_num_split)\n",
        "train_y, val_y, test_y = torch.tensor_split(y, sample_num_split)\n",
        "data_dict = {'train_x': train_x, 'train_y': train_y, 'val_x': val_x, 'val_y': val_y, 'test_x': test_x, 'test_y': test_y}\n",
        "fe_loss_dict = {'LAE': [], 'MLAE_basic': [], 'MLAE_probs': [], 'MLAE_patches': []}"
      ],
      "metadata": {
        "id": "QI1ZUTGGG6nf"
      },
      "execution_count": null,
      "outputs": []
    },
    {
      "cell_type": "code",
      "source": [
        "learning_rate = 0.01\n",
        "epochs = 500\n",
        "epochs_fe = 250"
      ],
      "metadata": {
        "id": "lQuHMagF5Dn6"
      },
      "execution_count": null,
      "outputs": []
    },
    {
      "cell_type": "code",
      "source": [
        "net_LAE = LAE(x_dim, z_dim).to(device)\n",
        "\n",
        "params = list(net_LAE.parameters())\n",
        "criterion = nn.MSELoss()\n",
        "optimizer = optim.Adam(params, lr=learning_rate)\n",
        "\n",
        "### TRAINING ###\n",
        "train_loop(data_dict, net_LAE, criterion, optimizer, epochs=epochs, record=False, type='encoder')\n",
        "\n",
        "# feature extraction\n",
        "loss_ls = feature_extraction(data_dict, net_LAE.parameters(), criterion, type='ls')\n",
        "loss_gd = feature_extraction(data_dict, net_LAE.parameters(), criterion, type='gd', epochs=50000)\n",
        "print('least square loss', loss_ls)\n",
        "print('gradient decent loss', loss_gd)"
      ],
      "metadata": {
        "colab": {
          "base_uri": "https://localhost:8080/"
        },
        "id": "pfAV8_imCkwU",
        "outputId": "7ceceb24-dc6d-4bc4-e4b3-3bfdde5d1d9b"
      },
      "execution_count": null,
      "outputs": [
        {
          "output_type": "stream",
          "name": "stdout",
          "text": [
            "tensor(10, device='cuda:0')\n",
            "tensor([[ 5.3024e-04,  6.4087e-04,  6.7139e-04,  8.3160e-04,  6.7902e-04],\n",
            "        [ 3.3569e-04,  3.6621e-04,  2.4414e-04,  5.1880e-04,  4.5776e-04],\n",
            "        [ 8.0109e-05,  1.1253e-04,  1.2589e-04,  1.4019e-04,  1.2922e-04],\n",
            "        [ 1.0681e-04,  1.6022e-04,  1.9836e-04,  1.8311e-04,  1.3733e-04],\n",
            "        [-4.5776e-05, -3.4332e-05, -3.0518e-05, -6.8665e-05, -3.8147e-05],\n",
            "        [-2.4796e-04, -2.7466e-04, -2.4414e-04, -3.9673e-04, -3.3569e-04],\n",
            "        [ 1.1253e-04,  1.6022e-04,  1.5831e-04,  2.0981e-04,  1.7548e-04],\n",
            "        [ 4.5776e-05,  3.0518e-05, -7.6294e-05,  9.1553e-05,  7.6294e-05],\n",
            "        [ 1.9073e-05,  2.2888e-05,  3.0518e-05,  2.4319e-05,  2.2888e-05],\n",
            "        [-2.0599e-04, -2.7466e-04, -1.9836e-04, -3.8147e-04, -3.2043e-04]],\n",
            "       device='cuda:0')\n",
            "least square loss 5.977891098796206e-11\n",
            "gradient decent loss 0.09737139940261841\n"
          ]
        }
      ]
    },
    {
      "cell_type": "markdown",
      "source": [
        "##### set gradient of network to the theoretical sol"
      ],
      "metadata": {
        "id": "V6y1VUCa_8dP"
      }
    },
    {
      "cell_type": "code",
      "source": [
        "n = 10\n",
        "p = 5\n",
        "m = 100\n",
        "X = torch.rand(m, n)\n",
        "y = torch.rand(m, p)\n",
        "theta = (torch.inverse(X.T @ X) @ X.T @ y).T\n",
        "\n",
        "net = FE_Net(n, p)\n",
        "net.theta.weight.data = theta\n",
        "#print(theta)\n",
        "#print(list(net.parameters()))"
      ],
      "metadata": {
        "id": "72ucN2OFHBHB"
      },
      "execution_count": null,
      "outputs": []
    },
    {
      "cell_type": "code",
      "source": [
        "criterion = nn.MSELoss()\n",
        "params = list(net.parameters())\n",
        "optimiser = optim.SGD(params, lr=1)\n",
        "optimiser.zero_grad()\n",
        "output = net(X)\n",
        "loss = criterion(output, y)\n",
        "loss.backward()\n",
        "optimiser.step()"
      ],
      "metadata": {
        "id": "rFpxanz5DWKz"
      },
      "execution_count": null,
      "outputs": []
    },
    {
      "cell_type": "code",
      "source": [
        "print(list(net.parameters())[0].clone().detach()-theta)"
      ],
      "metadata": {
        "colab": {
          "base_uri": "https://localhost:8080/"
        },
        "id": "vzJf_s2MDcOM",
        "outputId": "027ba43a-df92-4c21-b609-403f10765b36"
      },
      "execution_count": null,
      "outputs": [
        {
          "output_type": "stream",
          "name": "stdout",
          "text": [
            "tensor([[0., 0., 0., 0., 0., 0., 0., 0., 0., 0.],\n",
            "        [0., 0., 0., 0., 0., 0., 0., 0., 0., 0.],\n",
            "        [0., 0., 0., 0., 0., 0., 0., 0., 0., 0.],\n",
            "        [0., 0., 0., 0., 0., 0., 0., 0., 0., 0.],\n",
            "        [0., 0., 0., 0., 0., 0., 0., 0., 0., 0.]])\n"
          ]
        }
      ]
    },
    {
      "cell_type": "code",
      "source": [],
      "metadata": {
        "id": "B-5pjYfhIIZt"
      },
      "execution_count": null,
      "outputs": []
    },
    {
      "cell_type": "markdown",
      "source": [
        "### check the analytic solution of autoencoder\n",
        "Linear autoencoder"
      ],
      "metadata": {
        "id": "sDJB-HAnIak4"
      }
    },
    {
      "cell_type": "code",
      "source": [
        "train_num, val_num, test_num = (4000, 500, 2000) # larger number of dataset\n",
        "sample_num_split = (train_num, train_num + val_num)\n",
        "total = train_num+val_num+test_num\n",
        "\n",
        "# need to consider f_dim <, =, > z_dim\n",
        "z_dim = 10 # dimension of z\n",
        "H = 4\n",
        "W = 4\n",
        "sample_dim = torch.tensor([H, W])\n",
        "x_dim = H * W\n",
        "f_dim = 8\n",
        "y_dim = z_dim // 2\n",
        "\n",
        "z = torch.normal(mean=0, std=1, size=(total,z_dim), generator=torch.random.manual_seed(1911)) # here distribution is high dimensional guassian\n",
        "z = z.to(device)\n",
        "\n",
        "U = torch.rand(x_dim, z_dim, generator=torch.random.manual_seed(1911))\n",
        "U = U.to(device)\n",
        "V = torch.rand(y_dim, z_dim, generator=torch.random.manual_seed(1911))\n",
        "V = V.to(device)\n",
        "\n",
        "x = z @ U.T\n",
        "y = z @ V.T\n",
        "X_train, X_val, X_test = torch.tensor_split(x, sample_num_split)\n",
        "y_train, y_val, y_test = torch.tensor_split(y, sample_num_split)\n",
        "data_dict = {'X_train': X_train, 'y_train': y_train, 'X_val': X_val, 'y_val': y_val, 'X_test': X_test, 'y_test': y_test}"
      ],
      "metadata": {
        "id": "Zi8eMutEIgyk"
      },
      "execution_count": 4,
      "outputs": []
    },
    {
      "cell_type": "code",
      "source": [
        "Sigma = X_train.T @ X_train\n",
        "U, S, Vh = torch.linalg.svd(Sigma)\n",
        "U = U[:, :f_dim]\n",
        "W1 = U.T\n",
        "W2 = U"
      ],
      "metadata": {
        "id": "9SwwUQ0TMMp8"
      },
      "execution_count": 61,
      "outputs": []
    },
    {
      "cell_type": "code",
      "source": [
        "net = LAE(x_dim, f_dim)\n",
        "net.w1.weight.data = W1\n",
        "net.w2.weight.data = W2"
      ],
      "metadata": {
        "id": "MyfIN22MO7yb"
      },
      "execution_count": 6,
      "outputs": []
    },
    {
      "cell_type": "code",
      "source": [
        "criterion = nn.MSELoss()\n",
        "params = list(net.parameters())\n",
        "optimiser = optim.SGD(params, lr=0.3)\n",
        "\n",
        "optimiser.zero_grad()\n",
        "output = net(X_train)\n",
        "loss = criterion(output, X_train)\n",
        "loss.backward()\n",
        "optimiser.step()"
      ],
      "metadata": {
        "id": "1TnC8o3YPvuM"
      },
      "execution_count": 7,
      "outputs": []
    },
    {
      "cell_type": "code",
      "source": [
        "print(list(net.parameters())[0].clone().detach()-W1)"
      ],
      "metadata": {
        "colab": {
          "base_uri": "https://localhost:8080/"
        },
        "id": "ZJDZ7RvXP3JQ",
        "outputId": "7d2e21ba-7753-40aa-a7b8-33f9a189fc8d"
      },
      "execution_count": 8,
      "outputs": [
        {
          "output_type": "stream",
          "name": "stdout",
          "text": [
            "tensor([[0., 0., 0., 0., 0., 0., 0., 0., 0., 0., 0., 0., 0., 0., 0., 0.],\n",
            "        [0., 0., 0., 0., 0., 0., 0., 0., 0., 0., 0., 0., 0., 0., 0., 0.],\n",
            "        [0., 0., 0., 0., 0., 0., 0., 0., 0., 0., 0., 0., 0., 0., 0., 0.],\n",
            "        [0., 0., 0., 0., 0., 0., 0., 0., 0., 0., 0., 0., 0., 0., 0., 0.],\n",
            "        [0., 0., 0., 0., 0., 0., 0., 0., 0., 0., 0., 0., 0., 0., 0., 0.],\n",
            "        [0., 0., 0., 0., 0., 0., 0., 0., 0., 0., 0., 0., 0., 0., 0., 0.],\n",
            "        [0., 0., 0., 0., 0., 0., 0., 0., 0., 0., 0., 0., 0., 0., 0., 0.],\n",
            "        [0., 0., 0., 0., 0., 0., 0., 0., 0., 0., 0., 0., 0., 0., 0., 0.]],\n",
            "       device='cuda:0')\n"
          ]
        }
      ]
    },
    {
      "cell_type": "code",
      "source": [
        "print(list(net.parameters())[1].clone().detach()-W2)"
      ],
      "metadata": {
        "colab": {
          "base_uri": "https://localhost:8080/"
        },
        "id": "eCz_U_p9RInz",
        "outputId": "c1738070-573b-4177-fdde-7ebacac4bd86"
      },
      "execution_count": 9,
      "outputs": [
        {
          "output_type": "stream",
          "name": "stdout",
          "text": [
            "tensor([[0., 0., 0., 0., 0., 0., 0., 0.],\n",
            "        [0., 0., 0., 0., 0., 0., 0., 0.],\n",
            "        [0., 0., 0., 0., 0., 0., 0., 0.],\n",
            "        [0., 0., 0., 0., 0., 0., 0., 0.],\n",
            "        [0., 0., 0., 0., 0., 0., 0., 0.],\n",
            "        [0., 0., 0., 0., 0., 0., 0., 0.],\n",
            "        [0., 0., 0., 0., 0., 0., 0., 0.],\n",
            "        [0., 0., 0., 0., 0., 0., 0., 0.],\n",
            "        [0., 0., 0., 0., 0., 0., 0., 0.],\n",
            "        [0., 0., 0., 0., 0., 0., 0., 0.],\n",
            "        [0., 0., 0., 0., 0., 0., 0., 0.],\n",
            "        [0., 0., 0., 0., 0., 0., 0., 0.],\n",
            "        [0., 0., 0., 0., 0., 0., 0., 0.],\n",
            "        [0., 0., 0., 0., 0., 0., 0., 0.],\n",
            "        [0., 0., 0., 0., 0., 0., 0., 0.],\n",
            "        [0., 0., 0., 0., 0., 0., 0., 0.]], device='cuda:0')\n"
          ]
        }
      ]
    },
    {
      "cell_type": "markdown",
      "source": [
        "Masked linear autoencoder"
      ],
      "metadata": {
        "id": "CHpBxCQYyLzC"
      }
    },
    {
      "cell_type": "code",
      "source": [
        "cst = 5\n",
        "prob = 0\n",
        "prob_list = torch.rand(x_dim)\n",
        "patch_size = 4\n",
        "model_type = 'MLAE_patches'\n",
        "mask_dict = {}\n",
        "if model_type == 'MLAE_basic':\n",
        "    first_moment = prob + cst * (1-prob)\n",
        "    second_moment = prob + cst**2 * (1-prob)\n",
        "    mask_dict['mean'] = (torch.ones(train_num, x_dim, device=device) * first_moment)\n",
        "    mask_dict['square'] = torch.ones(x_dim, x_dim, device=device) * first_moment**2\n",
        "    mask_dict['square'].fill_diagonal_(second_moment)\n",
        "elif model_type == 'MLAE_probs':\n",
        "    first_moment = prob_list + cst * (1-prob_list)\n",
        "    second_moment = prob_list + cst**2 * (1-prob_list)\n",
        "    mask_dict['mean'] = first_moment.repeat(train_num, 1).to(device)\n",
        "    mask_dict['square'] = first_moment.view(x_dim, 1) @ first_moment.view(1, x_dim)\n",
        "    mask_dict['square'] = (mask_dict['square'].fill_diagonal_(0) + torch.diag(second_moment)).to(device)\n",
        "elif model_type == 'MLAE_patches':\n",
        "    first_moment = prob + cst * (1-prob)\n",
        "    second_moment = prob + cst**2 * (1-prob)\n",
        "    mask_dict['mean'] = torch.ones(train_num, x_dim, device=device) * first_moment\n",
        "    # plain patches\n",
        "    patch_block_mat = torch.ones(patch_size, patch_size, device=device)\n",
        "    mask_dict['square'] = torch.block_diag(*[patch_block_mat]*(x_dim//patch_size))*(second_moment-first_moment**2) + first_moment**2\n",
        "# block patches\n",
        "# patch_size = [2, 2]\n",
        "# pix_num = torch.div(torch.tensor(sample_dim), torch.tensor(patch_size), rounding_mode='floor')\n",
        "# mat_patches = torch.arange(pix_num[0]*pix_num[1]).view(*pix_num)\n",
        "# mat_patches = torch.repeat_interleave(mat_patches, patch_size[1], dim=1)\n",
        "# mat_patches = torch.repeat_interleave(mat_patches, patch_size[0], dim=0).view(n)\n",
        "# mask_dict['MLAE_patches']['square'] = torch.zeros(x_dim, x_dim)\n",
        "# for i in range(x_dim):\n",
        "#     for j in range(x_dim):\n",
        "#         if mat_patches[i] == mat_patches[j]:\n",
        "#             mask_dict['MLAE_patches']['square'][i, j] = prob\n",
        "#         else:\n",
        "#             mask_dict['MLAE_patches']['square'][i, j] = prob**2"
      ],
      "metadata": {
        "id": "bvqfoEFUcMPh"
      },
      "execution_count": 112,
      "outputs": []
    },
    {
      "cell_type": "code",
      "source": [
        "X_train, _, X_val, _, _, _ = data_dict.values()\n",
        "X = X_train\n",
        "try:\n",
        "    torch.inverse(mask_dict['square'] * (X.T @ X))\n",
        "except torch._C._LinAlgError:\n",
        "    # Sigma_XX = X.T@X\n",
        "    # U_XX, S_XX, Vh_XX = torch.linalg.svd(Sigma_XX)\n",
        "    # print(S_XX)\n",
        "    # inv = Vh_XX.T*torch.inverse(torch.diag(S_XX+1e-4))*U_XX.T\n",
        "\n",
        "    perturbation = torch.diag(torch.ones(x_dim, device=device)*1e-5)\n",
        "    inv = torch.inverse(mask_dict['square']*(X.T@X) + perturbation)\n",
        "else:\n",
        "    inv = torch.inverse(mask_dict['square'] * (X.T @ X))\n",
        "Sigma = X.T@(mask_dict['mean']*X) @ inv @ ((mask_dict['mean']*X).T@X)\n",
        "U, _, _ = torch.linalg.svd(Sigma)\n",
        "U = U[:, :f_dim]\n",
        "W1 = U.T @ (X.T@(mask_dict['mean']*X)) @ inv\n",
        "W2 = U\n",
        "# if model_type == 'MLAE_basic':\n",
        "#     loss = criterion((mask_basic(prob, val_num, x_dim, cst=cst)*X_val)@W1.T@W2.T, X_val)\n",
        "# elif model_type == 'MLAE_probs':\n",
        "#     loss = criterion((mask_probs(prob_list, val_num, x_dim, cst=cst)*X_val)@W1.T@W2.T, X_val)\n",
        "# elif model_type == 'MLAE_patches':\n",
        "#     loss = criterion((mask_patches_plain(prob, patch_size, val_num, x_dim, cst=cst)*X_val)@W1.T@W2.T, X_val)\n",
        "W1"
      ],
      "metadata": {
        "id": "RWM-XOX0RLbv",
        "colab": {
          "base_uri": "https://localhost:8080/"
        },
        "outputId": "11d625a3-9134-44bf-afce-62aab4956fb2"
      },
      "execution_count": 113,
      "outputs": [
        {
          "output_type": "execute_result",
          "data": {
            "text/plain": [
              "tensor([[-0.0625,  0.1250, -0.0312, -0.3125,  0.1250, -0.0312, -0.5000,  0.2500,\n",
              "          0.3750,  0.0000,  0.6250,  0.1875,  0.1094, -0.1875,  0.0781,  0.1250],\n",
              "        [-0.0703, -0.1172, -0.0635, -0.0078, -0.0391,  0.0000, -0.3438, -0.1016,\n",
              "         -0.0078,  0.2188,  0.1250,  0.0391, -0.0859, -0.2500,  0.1328,  0.1562],\n",
              "        [ 0.1641, -0.1406,  0.0625,  0.0938,  0.0000,  0.1211, -0.0625, -0.1328,\n",
              "         -0.1406,  0.0938, -0.1250,  0.0430,  0.0078,  0.4062, -0.0703, -0.1406],\n",
              "        [ 0.0312, -0.0938,  0.1875,  0.0312, -0.0391,  0.0703,  0.0000,  0.0000,\n",
              "         -0.1250,  0.1875,  0.0000, -0.0312,  0.0391,  0.2344, -0.0391,  0.0078],\n",
              "        [ 0.0195, -0.0508, -0.1621,  0.0938,  0.1133,  0.0137, -0.0508, -0.0234,\n",
              "          0.0352, -0.0781,  0.1641, -0.0400, -0.0693, -0.1484,  0.0000,  0.1406],\n",
              "        [ 0.0625,  0.0938,  0.1406, -0.1953, -0.1055,  0.0117,  0.1875, -0.0156,\n",
              "          0.0000, -0.3125, -0.1562,  0.0625,  0.0742,  0.0938, -0.0430, -0.0469],\n",
              "        [-0.0234, -0.1719,  0.0078,  0.0938,  0.0312,  0.1445,  0.0625, -0.0781,\n",
              "         -0.1641,  0.1875, -0.0938,  0.0664,  0.0527,  0.0234, -0.0352, -0.0332],\n",
              "        [-0.1016, -0.0859, -0.0234,  0.2344,  0.1240, -0.0293, -0.0938, -0.1094,\n",
              "          0.2188, -0.0469,  0.0312, -0.0078, -0.0479, -0.0547, -0.1401,  0.0391]],\n",
              "       device='cuda:0')"
            ]
          },
          "metadata": {},
          "execution_count": 113
        }
      ]
    },
    {
      "cell_type": "code",
      "source": [
        "rand_loop = 100\n",
        "total_W1 = 0\n",
        "total_W2 = 0\n",
        "for i in range(rand_loop):\n",
        "    net = M_LAE(prob, x_dim, f_dim, type='patches', patch_size=patch_size, cst=cst).to(device)\n",
        "    net.body[0].weight.data = W1.clone().detach()\n",
        "    net.body[1].weight.data = W2.clone().detach()\n",
        "    criterion = nn.MSELoss()\n",
        "    optimiser = optim.SGD(net.body.parameters(), lr=0.003)\n",
        "\n",
        "    optimiser.zero_grad()\n",
        "    output = net(X)\n",
        "    loss = criterion(output, X)\n",
        "    loss.backward()\n",
        "    optimiser.step()\n",
        "\n",
        "    total_W1 += net.body[0].weight.data.clone().detach().cpu()-W1.cpu()\n",
        "    total_W2 += net.body[1].weight.data.clone().detach().cpu()-W2.cpu()\n",
        "\n",
        "total_W1 /= rand_loop\n",
        "total_W2 /= rand_loop"
      ],
      "metadata": {
        "id": "SC8uUk3q3jEq"
      },
      "execution_count": 114,
      "outputs": []
    },
    {
      "cell_type": "code",
      "source": [
        "print(total_W1)"
      ],
      "metadata": {
        "colab": {
          "base_uri": "https://localhost:8080/"
        },
        "id": "IRc94mL85a8i",
        "outputId": "11f4e820-504e-4e63-a199-9e7dfa5594b0"
      },
      "execution_count": 115,
      "outputs": [
        {
          "output_type": "stream",
          "name": "stdout",
          "text": [
            "tensor([[-0.0033, -0.0014, -0.0014, -0.0016, -0.0028, -0.0032, -0.0019, -0.0039,\n",
            "         -0.0024, -0.0027, -0.0031, -0.0031, -0.0011, -0.0037, -0.0030, -0.0044],\n",
            "        [ 0.0036,  0.0043,  0.0038,  0.0052,  0.0030,  0.0034,  0.0046,  0.0043,\n",
            "          0.0036,  0.0052,  0.0043,  0.0048,  0.0049,  0.0028,  0.0047,  0.0044],\n",
            "        [ 0.0011,  0.0013,  0.0011,  0.0016,  0.0008,  0.0009,  0.0012,  0.0011,\n",
            "          0.0012,  0.0014,  0.0010,  0.0017,  0.0012,  0.0009,  0.0016,  0.0015],\n",
            "        [-0.0043, -0.0060, -0.0045, -0.0068, -0.0039, -0.0040, -0.0059, -0.0054,\n",
            "         -0.0043, -0.0067, -0.0055, -0.0062, -0.0063, -0.0035, -0.0058, -0.0049],\n",
            "        [ 0.0007,  0.0008,  0.0007,  0.0008,  0.0006,  0.0006,  0.0005,  0.0008,\n",
            "          0.0006,  0.0008,  0.0005,  0.0009,  0.0006,  0.0005,  0.0007,  0.0006],\n",
            "        [ 0.0021,  0.0024,  0.0021,  0.0028,  0.0018,  0.0018,  0.0024,  0.0024,\n",
            "          0.0024,  0.0031,  0.0019,  0.0028,  0.0026,  0.0017,  0.0029,  0.0024],\n",
            "        [-0.0016, -0.0021, -0.0017, -0.0025, -0.0014, -0.0015, -0.0020, -0.0020,\n",
            "         -0.0016, -0.0024, -0.0019, -0.0023, -0.0023, -0.0012, -0.0021, -0.0018],\n",
            "        [ 0.0010,  0.0012,  0.0010,  0.0015,  0.0008,  0.0009,  0.0014,  0.0012,\n",
            "          0.0011,  0.0016,  0.0013,  0.0013,  0.0014,  0.0009,  0.0015,  0.0013]])\n"
          ]
        }
      ]
    },
    {
      "cell_type": "code",
      "source": [
        "print(total_W2)"
      ],
      "metadata": {
        "colab": {
          "base_uri": "https://localhost:8080/"
        },
        "id": "VVLGIDp06r2L",
        "outputId": "317ef784-1468-4ef2-efda-a2eac4e2fff5"
      },
      "execution_count": 116,
      "outputs": [
        {
          "output_type": "stream",
          "name": "stdout",
          "text": [
            "tensor([[-7.4002e-04,  2.4545e-04, -4.6641e-05, -3.4681e-04, -9.7010e-05,\n",
            "          1.5509e-04, -8.5223e-05,  1.4651e-04],\n",
            "        [ 9.3579e-06, -1.0353e-04, -1.7381e-04,  4.6581e-05, -9.5457e-05,\n",
            "         -1.1124e-04,  9.6813e-05,  1.6436e-05],\n",
            "        [-3.4104e-03,  1.1090e-03, -2.7287e-04, -1.6612e-03,  6.4969e-05,\n",
            "          1.0751e-03, -4.6735e-04,  4.7761e-04],\n",
            "        [-1.5506e-04, -4.1834e-04, -3.0786e-04,  1.7340e-04, -2.6630e-04,\n",
            "         -1.3183e-04,  2.5612e-04,  2.2026e-05],\n",
            "        [-9.6220e-04,  4.2802e-04, -3.5077e-05, -5.2085e-04,  4.2595e-05,\n",
            "          2.4971e-04, -1.3104e-04,  1.7133e-04],\n",
            "        [-1.2338e-03,  3.7853e-04, -1.5220e-04, -5.5110e-04, -1.6898e-05,\n",
            "          3.7715e-04, -1.1849e-04,  1.9169e-04],\n",
            "        [ 9.7531e-04, -3.8153e-04, -1.9763e-04,  5.5108e-04,  6.8458e-05,\n",
            "         -3.2629e-04,  2.3210e-04, -1.6497e-04],\n",
            "        [-5.1880e-03,  1.5033e-03, -2.6818e-04, -2.5878e-03,  1.1517e-04,\n",
            "          1.7832e-03, -7.9195e-04,  6.9547e-04],\n",
            "        [-1.5095e-04,  2.7746e-05, -1.6268e-04,  3.6553e-05, -6.0350e-05,\n",
            "         -4.0576e-05,  4.4987e-05,  4.2945e-05],\n",
            "        [-1.7704e-04,  5.3912e-05, -1.1300e-04,  3.9339e-05, -9.0718e-05,\n",
            "         -1.4529e-04,  1.0648e-04,  4.7882e-05],\n",
            "        [ 3.3993e-04,  3.5048e-05, -1.8960e-04,  1.8357e-04,  1.4016e-04,\n",
            "         -1.1900e-04,  9.5602e-05, -5.0068e-05],\n",
            "        [-2.3714e-04, -3.3949e-04, -2.1744e-04,  7.0632e-06, -2.6274e-04,\n",
            "          2.9691e-05,  8.8371e-05,  4.9427e-05],\n",
            "        [-4.1337e-03,  1.0834e-03, -3.1316e-04, -1.9424e-03, -4.9875e-05,\n",
            "          1.2028e-03, -4.7314e-04,  5.6081e-04],\n",
            "        [-1.1081e-03,  3.2568e-04, -7.5698e-05, -5.8100e-04,  5.7355e-05,\n",
            "          3.7068e-04, -1.7220e-04,  1.4588e-04],\n",
            "        [ 3.5403e-03, -1.1360e-03, -1.1696e-04,  1.8261e-03, -9.4622e-05,\n",
            "         -1.2118e-03,  6.7175e-04, -4.4391e-04],\n",
            "        [ 3.6567e-04, -1.3116e-04, -6.6921e-05,  2.5293e-04, -1.1647e-04,\n",
            "         -2.0409e-04,  1.1986e-04, -9.2164e-06]])\n"
          ]
        }
      ]
    },
    {
      "cell_type": "code",
      "source": [],
      "metadata": {
        "id": "sI995cmBe2su"
      },
      "execution_count": 108,
      "outputs": []
    }
  ]
}