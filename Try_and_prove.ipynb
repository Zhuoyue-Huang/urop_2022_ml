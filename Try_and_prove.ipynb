{
  "nbformat": 4,
  "nbformat_minor": 0,
  "metadata": {
    "colab": {
      "provenance": [],
      "authorship_tag": "ABX9TyOe6+6rPcUlD510eHG+d+PQ",
      "include_colab_link": true
    },
    "kernelspec": {
      "name": "python3",
      "display_name": "Python 3"
    },
    "language_info": {
      "name": "python"
    },
    "accelerator": "GPU",
    "gpuClass": "standard"
  },
  "cells": [
    {
      "cell_type": "markdown",
      "metadata": {
        "id": "view-in-github",
        "colab_type": "text"
      },
      "source": [
        "<a href=\"https://colab.research.google.com/github/Zhuoyue-Huang/urop_2022_ml/blob/main/Try_and_prove.ipynb\" target=\"_parent\"><img src=\"https://colab.research.google.com/assets/colab-badge.svg\" alt=\"Open In Colab\"/></a>"
      ]
    },
    {
      "cell_type": "code",
      "execution_count": 1,
      "metadata": {
        "id": "Z2y2zwRVhxvx"
      },
      "outputs": [],
      "source": [
        "\"\"\"try and prove different results\"\"\"\n",
        "import torch\n",
        "import torch.nn as nn\n",
        "import torch.optim as optim\n",
        "import matplotlib.pyplot as plt\n",
        "from tqdm import tqdm\n",
        "import statistics\n",
        "import numpy as np\n",
        "import pandas as pd \n",
        "import scipy.stats as stats\n",
        "from copy import deepcopy"
      ]
    },
    {
      "cell_type": "code",
      "source": [
        "device = torch.device('cuda' if torch.cuda.is_available() else 'cpu')"
      ],
      "metadata": {
        "id": "kGSOoJzUh6U3"
      },
      "execution_count": 2,
      "outputs": []
    },
    {
      "cell_type": "code",
      "source": [
        "# Linear auto-encoder model\n",
        "class LAE(nn.Module):\n",
        "    def __init__(self, n, p):\n",
        "        super(LAE, self).__init__()\n",
        "        self.n = n\n",
        "        self.p = p\n",
        "        self.w1 = nn.Linear(n, p, bias=False)\n",
        "        self.w2 = nn.Linear(p, n, bias=False)\n",
        "\n",
        "    def forward(self, y):\n",
        "        y = self.w1(y)\n",
        "        y = self.w2(y)\n",
        "        return y\n",
        "\n",
        "## Masked lienar auto-encoder model\n",
        "# Define different types of masks\n",
        "def mask_basic(prob, sample_num, x_dim, cst=0, device='cuda'):\n",
        "    return torch.zeros(sample_num, x_dim, device=device).bernoulli_(prob)*(1-cst) + cst\n",
        "\n",
        "def mask_probs(prob_list: torch.Tensor, sample_num, x_dim, cst=0, device='cuda'):\n",
        "    return torch.zeros(sample_num, x_dim, device=device).bernoulli_(prob_list)*(1-cst) + cst\n",
        "\n",
        "# def mask_patches_block(prob, patch_size: torch.Tensor, sample_num, sample_dim: torch.Tensor, device='cuda'):\n",
        "#     x_dim = sample_dim[0]*sample_dim[1]\n",
        "#     div_check = sample_dim % patch_size == torch.zeros(2)\n",
        "#     if torch.all(div_check):\n",
        "#         pix_num = torch.div(sample_dim, patch_size, rounding_mode='floor')\n",
        "#         mat_patches = torch.zeros(sample_num, *pix_num).bernoulli_(prob).to(device)\n",
        "#         mat_patches = torch.repeat_interleave(mat_patches, patch_size[1], dim=2)\n",
        "#         return mat_patches.repeat_interleave(patch_size[0], dim=1).view(sample_num, x_dim)\n",
        "#     else:\n",
        "#         raise NotImplementedError(f\"Both height ({sample_dim[0]}) and width ({sample_dim[1]}) should be divisible by patch_size ({patch_size}).\")\n",
        "\n",
        "def mask_patches_plain(prob, patch_size, sample_num, x_dim, cst=0, device='cuda'):\n",
        "    if not x_dim % patch_size:\n",
        "        pix_num = x_dim // patch_size\n",
        "        mat_patches = torch.zeros(sample_num, pix_num).bernoulli_(prob)\n",
        "        return mat_patches.repeat_interleave(patch_size, dim=1).to(device)*(1-cst) + cst\n",
        "    else:\n",
        "        raise NotImplementedError\n",
        "\n",
        "# Masked autoencoder (linear)\n",
        "class M_LAE(nn.Module):\n",
        "    def __init__(self, prob, x_dim, f_dim, type='basic', patch_size=None, sample_dim=None, cst=0, mask_val=0):\n",
        "        super(M_LAE, self).__init__()\n",
        "        self.prob = prob\n",
        "        if sample_dim is not None:\n",
        "            self.sample_dim = sample_dim\n",
        "            self.H, self.W = sample_dim\n",
        "            self.n = self.H * self.W\n",
        "        self.n = x_dim\n",
        "        self.p = f_dim\n",
        "        self.cst = cst\n",
        "        self.mask_val = mask_val\n",
        "        if type not in ['basic', 'probs', 'patches']:\n",
        "            raise NotImplementedError(\"Could only implement 'basic', 'probs' and 'patches' type of masking.\")\n",
        "        else:\n",
        "            self.masking_type = type\n",
        "        if patch_size is not None:\n",
        "            self.patch_size = patch_size\n",
        "        w1 = nn.Linear(self.n, self.p, bias=False)\n",
        "        w2 = nn.Linear(self.p, self.n, bias=False)\n",
        "        self.body = nn.Sequential(*[w1, w2])\n",
        "    \n",
        "    def forward(self, X, mask=None):\n",
        "        m = X.shape[0]\n",
        "        if mask is None:\n",
        "            if self.masking_type == 'basic':\n",
        "                mask = mask_basic(self.prob, m, self.n, cst=self.cst)\n",
        "            elif self.masking_type == 'probs':\n",
        "                mask = mask_probs(self.prob, m, self.n, cst=self.cst)\n",
        "            elif self.masking_type == 'patches':\n",
        "                mask = mask_patches_plain(self.prob, self.patch_size, m, self.n, cst=self.cst)\n",
        "        Y = mask*X + self.mask_val*(1-mask)\n",
        "        Y = self.body(Y)\n",
        "        return Y\n",
        "\n",
        "class FE_Net(nn.Module):\n",
        "    def __init__(self, f_dim, y_dim):\n",
        "        super(FE_Net, self).__init__()\n",
        "        self.theta = nn.Linear(f_dim, y_dim, bias=False)\n",
        "\n",
        "    def forward(self, W):\n",
        "        return self.theta(W)\n",
        "\n",
        "# representation learning\n",
        "def repr_learning(data_dict, model_parameters, criterion, type, epochs=200, device='cuda'):\n",
        "    X_train, y_train, _, _, X_test, y_test = data_dict.values()\n",
        "\n",
        "    params = list(model_parameters)\n",
        "    W1 = params[0].clone().detach()\n",
        "    f_train = X_train @ W1.T\n",
        "    f_test = X_test @ W1.T\n",
        "    f_dim = f_train.shape[1]\n",
        "    y_dim = y_train.shape[1]\n",
        "\n",
        "    if type=='ls':\n",
        "        theta = (torch.inverse(f_train.T @ f_train) @ f_train.T @ y_train).T\n",
        "        loss = criterion(y_test, f_test @ theta.T)\n",
        "        return loss.item()\n",
        "    elif type=='gd':\n",
        "        data_dict_fe = {'X_train': f_train, 'y_train': y_train,\n",
        "                        'X_test': f_test, 'y_test': y_test}\n",
        "        net_fe = FE_Net(f_dim, y_dim).to(device)\n",
        "        theta = list(net_fe.parameters())\n",
        "        optimizer = optim.Adam(theta, lr=0.0001)\n",
        "        ### TRAINING ###\n",
        "        train_loop(data_dict_fe, net_fe, criterion, optimizer, epochs=epochs, record=False, type='fe')\n",
        "        loss_fe = test_loop(data_dict_fe, net_fe, criterion, type='fe')\n",
        "        return loss_fe"
      ],
      "metadata": {
        "id": "0ao5Y8m4_aqd"
      },
      "execution_count": 3,
      "outputs": []
    },
    {
      "cell_type": "markdown",
      "source": [
        "### Examine the effect of detach"
      ],
      "metadata": {
        "id": "o9oWKJKGx09m"
      }
    },
    {
      "cell_type": "code",
      "source": [
        "# Linear auto-encoder model\n",
        "class LAE(nn.Module):\n",
        "    def __init__(self, n, p):\n",
        "        super(LAE, self).__init__()\n",
        "        self.n = n\n",
        "        self.p = p\n",
        "        self.w1 = nn.Linear(n, p, bias=False)\n",
        "        self.w2 = nn.Linear(p, n, bias=False)\n",
        "\n",
        "    def forward(self, y):\n",
        "        y = self.w1(y)\n",
        "        y = self.w2(y)\n",
        "        return y\n",
        "\n",
        "class FE_Net(nn.Module):\n",
        "    def __init__(self, in_dim, out_dim):\n",
        "        super(FE_Net, self).__init__()\n",
        "        self.in_dim = in_dim\n",
        "        self.out_dim = out_dim\n",
        "        self.theta = nn.Linear(in_dim, out_dim, bias=False)\n",
        "\n",
        "    def forward(self, W):\n",
        "        return self.theta(W)"
      ],
      "metadata": {
        "id": "PpAqNqjzh_eb"
      },
      "execution_count": null,
      "outputs": []
    },
    {
      "cell_type": "code",
      "source": [
        "def train_loop(data_dict, model, criterion, optimizer, type, epochs=10, sample_average=10, record=True):\n",
        "    train_loss = []\n",
        "    val_loss = []\n",
        "    if type=='encoder':\n",
        "        train_inputs = data_dict['train_inputs']\n",
        "        train_targets = train_inputs\n",
        "    elif type=='fe':\n",
        "        train_inputs = data_dict['train_inputs']\n",
        "        train_targets = data_dict['train_targets']\n",
        "        sample_average = 1\n",
        "\n",
        "    for epoch in range(epochs+1):\n",
        "        loss_total = 0\n",
        "        optimizer.zero_grad()\n",
        "        for i in range(sample_average):\n",
        "            train_outputs = model(train_inputs)\n",
        "            loss = criterion(train_outputs, train_targets)\n",
        "            loss_total += loss\n",
        "        loss_total /= sample_average\n",
        "        loss_total.backward()\n",
        "        optimizer.step()\n",
        "        if record:\n",
        "          train_loss.append(loss_total.item())\n",
        "          if epochs>=5 and epoch%(epochs//5)==0:\n",
        "              v_loss = test_loop(data_dict, model, criterion, type)\n",
        "              val_loss.append(v_loss)\n",
        "              print('epoch: ', epoch, ', train loss: ', loss.item(), ', val loss', v_loss)\n",
        "    if record:\n",
        "        return {'train_loss': train_loss, 'val_loss': val_loss}\n",
        "    else:\n",
        "        return loss_total.item()\n",
        "\n",
        "def test_loop(data_dict, model, criterion, type):\n",
        "    if type=='encoder':\n",
        "        val_inputs = data_dict['val_inputs']\n",
        "        val_targets = val_inputs\n",
        "    elif type=='fe':\n",
        "        val_inputs = data_dict['val_inputs']\n",
        "        val_targets = data_dict['val_targets']\n",
        "\n",
        "    with torch.no_grad():\n",
        "        val_outputs = model(val_inputs)\n",
        "        loss = criterion(val_outputs, val_targets)\n",
        "    return loss.item()"
      ],
      "metadata": {
        "id": "JCYIbXbGiBYj"
      },
      "execution_count": null,
      "outputs": []
    },
    {
      "cell_type": "code",
      "source": [
        "# feature extraction\n",
        "def feature_extraction_test(data_dict, model_parameters, criterion, type, epochs=200, device='cuda'):\n",
        "    train_inputs, train_targets, val_inputs, val_targets = data_dict.values()\n",
        "\n",
        "    params = list(model_parameters)\n",
        "    W1 = params[0]\n",
        "    W10 = deepcopy(W1)\n",
        "    W10 = W10.clone().detach()\n",
        "    print(W10)\n",
        "    train_inputs_fe0 = train_inputs @ W10.T\n",
        "    val_inputs_fe0 = val_inputs @ W10.T\n",
        "\n",
        "    W11 = deepcopy(W1)\n",
        "    W11 = W11.clone()\n",
        "    print(W11)\n",
        "    train_inputs_fe1 = (train_inputs @ W11.T).detach()\n",
        "    val_inputs_fe1 = (val_inputs @ W11.T).detach()\n",
        "\n",
        "    reduction_dim = train_inputs_fe1.shape[1]\n",
        "    target_dim = train_targets.shape[1]\n",
        "\n",
        "    if type=='ls':\n",
        "        param_fe0 = (torch.inverse(train_inputs_fe0.T@train_inputs_fe0) @ train_inputs_fe0.T @ train_targets).T\n",
        "        loss0 = criterion(val_targets, val_inputs_fe0 @ param_fe0.T)\n",
        "        print('test0', loss0.item())\n",
        "\n",
        "        param_fe1 = (torch.inverse(train_inputs_fe1.T@train_inputs_fe1) @ train_inputs_fe1.T @ train_targets).T\n",
        "        loss1 = criterion(val_targets, val_inputs_fe1 @ param_fe1.T)\n",
        "        print('test1', loss1.item())\n",
        "        #return loss.item()\n",
        "    elif type=='gd':\n",
        "        net_fe = FE_Net(reduction_dim, target_dim).to(device)\n",
        "        net_fe0 = deepcopy(net_fe)\n",
        "        net_fe1 = deepcopy(net_fe)\n",
        "\n",
        "        data_dict_fe0 = {'train_inputs': train_inputs_fe0, 'train_targets': train_targets,\n",
        "                        'val_inputs': val_inputs_fe0, 'val_targets': val_targets}\n",
        "        param_fe0 = list(net_fe0.parameters())\n",
        "        optimizer0 = optim.Adam(param_fe0, lr=0.0001)\n",
        "        ### TRAINING ###\n",
        "        loss_fe0 = train_loop(data_dict_fe0, net_fe0, criterion, optimizer0, epochs=epochs, record=False, type='fe')\n",
        "        print('test0', loss_fe0)\n",
        "        data_dict_fe1 = {'train_inputs': train_inputs_fe1, 'train_targets': train_targets,\n",
        "                        'val_inputs': val_inputs_fe1, 'val_targets': val_targets}\n",
        "        param_fe1 = list(net_fe1.parameters())\n",
        "        optimizer1 = optim.Adam(param_fe1, lr=0.0001)\n",
        "        ### TRAINING ###\n",
        "        loss_fe1 = train_loop(data_dict_fe1, net_fe1, criterion, optimizer1, epochs=epochs, record=False, type='fe')\n",
        "        print('test1', loss_fe1)\n",
        "        #return loss_fe"
      ],
      "metadata": {
        "id": "GM2bVyOuiKE4"
      },
      "execution_count": null,
      "outputs": []
    },
    {
      "cell_type": "code",
      "source": [
        "train_num = 50\n",
        "val_num = 20\n",
        "H = 8\n",
        "W = 8\n",
        "sample_dim = torch.tensor([H, W])\n",
        "feature_num = H * W\n",
        "reduction_dim = feature_num\n",
        "target_dim = feature_num\n",
        "\n",
        "prob = 0.75\n",
        "prob_list = torch.rand(feature_num)*0.2 + 0.65\n",
        "patch_size = torch.div(sample_dim, 2, rounding_mode='floor')\n",
        "\n",
        "train_inputs = torch.rand(train_num, feature_num) * 2\n",
        "train_inputs = train_inputs.to(device)\n",
        "train_targets = torch.rand(train_num, target_dim)\n",
        "train_targets = train_targets.to(device)\n",
        "val_inputs = torch.rand(val_num, feature_num) * 2\n",
        "val_inputs = val_inputs.to(device)\n",
        "val_targets = torch.rand(val_num, target_dim)\n",
        "val_targets = val_targets.to(device)\n",
        "data_dict = {'train_inputs': train_inputs, 'train_targets': train_targets,\n",
        "             'val_inputs': val_inputs, 'val_targets': val_targets}"
      ],
      "metadata": {
        "id": "XzBp1SkZjuoV"
      },
      "execution_count": null,
      "outputs": []
    },
    {
      "cell_type": "code",
      "source": [
        "net_LAE = LAE(feature_num, reduction_dim).to(device)\n",
        "\n",
        "params = list(net_LAE.parameters())\n",
        "criterion = nn.MSELoss()\n",
        "optimizer = optim.Adam(params, lr=0.001)\n",
        "\n",
        "### TRAINING ###\n",
        "train_loop(data_dict, net_LAE, criterion, optimizer, epochs=500, record=False, type='encoder')\n",
        "\n",
        "# feature extraction\n",
        "loss_ls = feature_extraction_test(data_dict, net_LAE.parameters(), criterion, type='ls', epochs=500)\n",
        "loss_gd = feature_extraction_test(data_dict, net_LAE.parameters(), criterion, type='gd', epochs=500)"
      ],
      "metadata": {
        "colab": {
          "base_uri": "https://localhost:8080/"
        },
        "id": "h6j4-h7cjy3I",
        "outputId": "92da21bf-28e0-4b44-f42e-bf3cfb72fb9a"
      },
      "execution_count": null,
      "outputs": [
        {
          "output_type": "stream",
          "name": "stdout",
          "text": [
            "tensor([[-0.1336,  0.0542,  0.0287,  ..., -0.1842,  0.0315,  0.1009],\n",
            "        [-0.0978, -0.0365, -0.1108,  ..., -0.0541, -0.1404,  0.0120],\n",
            "        [ 0.1117,  0.0700,  0.0037,  ...,  0.0655,  0.0070, -0.1101],\n",
            "        ...,\n",
            "        [ 0.1055,  0.0057, -0.0793,  ..., -0.0329,  0.1920,  0.0874],\n",
            "        [-0.1235, -0.0956,  0.1405,  ..., -0.0077,  0.0426, -0.1306],\n",
            "        [ 0.1496, -0.1518, -0.1922,  ..., -0.0546, -0.0099, -0.0903]],\n",
            "       device='cuda:0')\n",
            "tensor([[-0.1336,  0.0542,  0.0287,  ..., -0.1842,  0.0315,  0.1009],\n",
            "        [-0.0978, -0.0365, -0.1108,  ..., -0.0541, -0.1404,  0.0120],\n",
            "        [ 0.1117,  0.0700,  0.0037,  ...,  0.0655,  0.0070, -0.1101],\n",
            "        ...,\n",
            "        [ 0.1055,  0.0057, -0.0793,  ..., -0.0329,  0.1920,  0.0874],\n",
            "        [-0.1235, -0.0956,  0.1405,  ..., -0.0077,  0.0426, -0.1306],\n",
            "        [ 0.1496, -0.1518, -0.1922,  ..., -0.0546, -0.0099, -0.0903]],\n",
            "       device='cuda:0', grad_fn=<CloneBackward0>)\n",
            "test0 606.8356323242188\n",
            "test1 606.8356323242188\n",
            "tensor([[-0.1336,  0.0542,  0.0287,  ..., -0.1842,  0.0315,  0.1009],\n",
            "        [-0.0978, -0.0365, -0.1108,  ..., -0.0541, -0.1404,  0.0120],\n",
            "        [ 0.1117,  0.0700,  0.0037,  ...,  0.0655,  0.0070, -0.1101],\n",
            "        ...,\n",
            "        [ 0.1055,  0.0057, -0.0793,  ..., -0.0329,  0.1920,  0.0874],\n",
            "        [-0.1235, -0.0956,  0.1405,  ..., -0.0077,  0.0426, -0.1306],\n",
            "        [ 0.1496, -0.1518, -0.1922,  ..., -0.0546, -0.0099, -0.0903]],\n",
            "       device='cuda:0')\n",
            "tensor([[-0.1336,  0.0542,  0.0287,  ..., -0.1842,  0.0315,  0.1009],\n",
            "        [-0.0978, -0.0365, -0.1108,  ..., -0.0541, -0.1404,  0.0120],\n",
            "        [ 0.1117,  0.0700,  0.0037,  ...,  0.0655,  0.0070, -0.1101],\n",
            "        ...,\n",
            "        [ 0.1055,  0.0057, -0.0793,  ..., -0.0329,  0.1920,  0.0874],\n",
            "        [-0.1235, -0.0956,  0.1405,  ..., -0.0077,  0.0426, -0.1306],\n",
            "        [ 0.1496, -0.1518, -0.1922,  ..., -0.0546, -0.0099, -0.0903]],\n",
            "       device='cuda:0', grad_fn=<CloneBackward0>)\n",
            "test0 0.1140785962343216\n",
            "test1 0.1140785962343216\n"
          ]
        }
      ]
    },
    {
      "cell_type": "code",
      "source": [],
      "metadata": {
        "id": "kJjYBQb_kAjA"
      },
      "execution_count": null,
      "outputs": []
    },
    {
      "cell_type": "markdown",
      "source": [
        "### Least square vs gradient decent"
      ],
      "metadata": {
        "id": "TQ7WTuT0x-lT"
      }
    },
    {
      "cell_type": "markdown",
      "source": [
        "##### check whether least square estimator has zero gradient"
      ],
      "metadata": {
        "id": "TuKRG8eeyirE"
      }
    },
    {
      "cell_type": "code",
      "source": [
        "def train_loop(data_dict, model, criterion, optimizer, type, epochs=10, sample_average=10, record=True):\n",
        "    train_loss = []\n",
        "    val_loss = []\n",
        "    if type=='encoder':\n",
        "        train_x = data_dict['train_x']\n",
        "        train_y = train_x\n",
        "    elif type=='fe':\n",
        "        train_x = data_dict['train_x']\n",
        "        train_y = data_dict['train_y']\n",
        "        sample_average = 1\n",
        "\n",
        "    for epoch in range(epochs+1):\n",
        "        loss_total = 0\n",
        "        optimizer.zero_grad()\n",
        "        for i in range(sample_average):\n",
        "            outputs = model(train_x)\n",
        "            loss = criterion(outputs, train_y)\n",
        "            loss_total += loss\n",
        "        loss_total /= sample_average\n",
        "        loss_total.backward()\n",
        "        optimizer.step()\n",
        "        if record:\n",
        "          train_loss.append(loss_total.item())\n",
        "          if epochs>=5 and epoch%(epochs//5)==0:\n",
        "              v_loss = test_loop(data_dict, model, criterion, type)\n",
        "              val_loss.append(v_loss)\n",
        "              print('epoch: ', epoch, ', train loss: ', loss.item(), ', val loss', v_loss)\n",
        "    if record:\n",
        "        return {'train_loss': train_loss, 'val_loss': val_loss}\n",
        "    else:\n",
        "        return loss_total.item()\n",
        "\n",
        "def test_loop(data_dict, model, criterion, type):\n",
        "    if type=='encoder':\n",
        "        val_x = data_dict['val_x']\n",
        "        val_y = val_x\n",
        "    elif type=='fe':\n",
        "        val_x = data_dict['val_x']\n",
        "        val_y = data_dict['val_y']\n",
        "\n",
        "    with torch.no_grad():\n",
        "        outputs = model(val_x)\n",
        "        loss = criterion(outputs, val_y)\n",
        "    return loss.item()"
      ],
      "metadata": {
        "id": "rsyR9nDZ5Wxk"
      },
      "execution_count": null,
      "outputs": []
    },
    {
      "cell_type": "code",
      "source": [
        "class FE_Net(nn.Module):\n",
        "    def __init__(self, z_dim, y_dim):\n",
        "        super(FE_Net, self).__init__()\n",
        "        self.theta = nn.Linear(z_dim, y_dim, bias=False)\n",
        "\n",
        "    def forward(self, W):\n",
        "        return self.theta(W)\n",
        "\n",
        "def feature_extraction(data_dict, model_parameters, criterion, type, epochs=200, device='cuda'):\n",
        "    train_x, train_y, val_x, val_y, _, _ = data_dict.values()\n",
        "\n",
        "    params = list(model_parameters)\n",
        "    W1 = params[0].clone().detach()\n",
        "    train_z = train_x @ W1.T\n",
        "    val_z = val_x @ W1.T\n",
        "    z_dim = train_z.shape[1]\n",
        "    y_dim = train_y.shape[1]\n",
        "\n",
        "    if type=='ls':\n",
        "        print(torch.linalg.matrix_rank(train_z))\n",
        "        theta = (torch.inverse(train_z.T @ train_z) @ train_z.T @ train_y).T\n",
        "        print(-train_z.T @ train_y + train_z.T @ train_z @ theta.T)\n",
        "        loss = criterion(val_y, val_z @ theta.T)\n",
        "        return loss.item()\n",
        "    elif type=='gd':\n",
        "        data_dict_fe = {'train_x': train_z, 'train_y': train_y,\n",
        "                        'val_x': val_z, 'val_y': val_y}\n",
        "        net_fe = FE_Net(z_dim, y_dim).to(device)\n",
        "        theta = list(net_fe.parameters())\n",
        "        optimizer = optim.Adam(theta, lr=0.00001)\n",
        "        ### TRAINING ###\n",
        "        loss_fe = train_loop(data_dict_fe, net_fe, criterion, optimizer, epochs=epochs, record=False, type='fe')\n",
        "        return loss_fe"
      ],
      "metadata": {
        "id": "KR3VvCZ_yDYL"
      },
      "execution_count": null,
      "outputs": []
    },
    {
      "cell_type": "code",
      "source": [
        "train_num, val_num, test_num = (60, 20, 20)\n",
        "sample_num_split = (train_num, train_num+val_num)\n",
        "total = train_num+val_num+test_num\n",
        "\n",
        "# need to consider x_dim < and > z_dim\n",
        "z_dim = 10 # dimension of z\n",
        "H = 4\n",
        "W = 4\n",
        "sample_dim = torch.tensor([H, W])\n",
        "x_dim = H * W\n",
        "y_dim = z_dim // 2\n",
        "\n",
        "prob = 0.75\n",
        "prob_list = torch.rand(x_dim)*0.2 + 0.65\n",
        "patch_size = torch.tensor([2, 2])"
      ],
      "metadata": {
        "id": "HeTM_8Bp5MuA"
      },
      "execution_count": null,
      "outputs": []
    },
    {
      "cell_type": "code",
      "source": [
        "z = torch.normal(mean=0, std=1, size=(total,z_dim)) # here distribution is high dimensional guassian\n",
        "z = z.to(device)\n",
        "\n",
        "U = torch.rand(x_dim, z_dim)\n",
        "U = U.to(device)\n",
        "V = torch.rand(y_dim, z_dim)\n",
        "V = V.to(device)\n",
        "\n",
        "x = z @ U.T\n",
        "y = z @ V.T\n",
        "train_x, val_x, test_x = torch.tensor_split(x, sample_num_split)\n",
        "train_y, val_y, test_y = torch.tensor_split(y, sample_num_split)\n",
        "data_dict = {'train_x': train_x, 'train_y': train_y, 'val_x': val_x, 'val_y': val_y, 'test_x': test_x, 'test_y': test_y}\n",
        "fe_loss_dict = {'LAE': [], 'MLAE_basic': [], 'MLAE_probs': [], 'MLAE_patches': []}"
      ],
      "metadata": {
        "id": "QI1ZUTGGG6nf"
      },
      "execution_count": null,
      "outputs": []
    },
    {
      "cell_type": "code",
      "source": [
        "learning_rate = 0.01\n",
        "epochs = 500\n",
        "epochs_fe = 250"
      ],
      "metadata": {
        "id": "lQuHMagF5Dn6"
      },
      "execution_count": null,
      "outputs": []
    },
    {
      "cell_type": "code",
      "source": [
        "net_LAE = LAE(x_dim, z_dim).to(device)\n",
        "\n",
        "params = list(net_LAE.parameters())\n",
        "criterion = nn.MSELoss()\n",
        "optimizer = optim.Adam(params, lr=learning_rate)\n",
        "\n",
        "### TRAINING ###\n",
        "train_loop(data_dict, net_LAE, criterion, optimizer, epochs=epochs, record=False, type='encoder')\n",
        "\n",
        "# feature extraction\n",
        "loss_ls = feature_extraction(data_dict, net_LAE.parameters(), criterion, type='ls')\n",
        "loss_gd = feature_extraction(data_dict, net_LAE.parameters(), criterion, type='gd', epochs=50000)\n",
        "print('least square loss', loss_ls)\n",
        "print('gradient decent loss', loss_gd)"
      ],
      "metadata": {
        "colab": {
          "base_uri": "https://localhost:8080/"
        },
        "id": "pfAV8_imCkwU",
        "outputId": "7ceceb24-dc6d-4bc4-e4b3-3bfdde5d1d9b"
      },
      "execution_count": null,
      "outputs": [
        {
          "output_type": "stream",
          "name": "stdout",
          "text": [
            "tensor(10, device='cuda:0')\n",
            "tensor([[ 5.3024e-04,  6.4087e-04,  6.7139e-04,  8.3160e-04,  6.7902e-04],\n",
            "        [ 3.3569e-04,  3.6621e-04,  2.4414e-04,  5.1880e-04,  4.5776e-04],\n",
            "        [ 8.0109e-05,  1.1253e-04,  1.2589e-04,  1.4019e-04,  1.2922e-04],\n",
            "        [ 1.0681e-04,  1.6022e-04,  1.9836e-04,  1.8311e-04,  1.3733e-04],\n",
            "        [-4.5776e-05, -3.4332e-05, -3.0518e-05, -6.8665e-05, -3.8147e-05],\n",
            "        [-2.4796e-04, -2.7466e-04, -2.4414e-04, -3.9673e-04, -3.3569e-04],\n",
            "        [ 1.1253e-04,  1.6022e-04,  1.5831e-04,  2.0981e-04,  1.7548e-04],\n",
            "        [ 4.5776e-05,  3.0518e-05, -7.6294e-05,  9.1553e-05,  7.6294e-05],\n",
            "        [ 1.9073e-05,  2.2888e-05,  3.0518e-05,  2.4319e-05,  2.2888e-05],\n",
            "        [-2.0599e-04, -2.7466e-04, -1.9836e-04, -3.8147e-04, -3.2043e-04]],\n",
            "       device='cuda:0')\n",
            "least square loss 5.977891098796206e-11\n",
            "gradient decent loss 0.09737139940261841\n"
          ]
        }
      ]
    },
    {
      "cell_type": "markdown",
      "source": [
        "##### set gradient of network to the theoretical sol"
      ],
      "metadata": {
        "id": "V6y1VUCa_8dP"
      }
    },
    {
      "cell_type": "code",
      "source": [
        "n = 10\n",
        "p = 5\n",
        "m = 100\n",
        "X = torch.rand(m, n)\n",
        "y = torch.rand(m, p)\n",
        "theta = (torch.inverse(X.T @ X) @ X.T @ y).T\n",
        "\n",
        "net = FE_Net(n, p)\n",
        "net.theta.weight.data = theta\n",
        "#print(theta)\n",
        "#print(list(net.parameters()))"
      ],
      "metadata": {
        "id": "72ucN2OFHBHB"
      },
      "execution_count": null,
      "outputs": []
    },
    {
      "cell_type": "code",
      "source": [
        "criterion = nn.MSELoss()\n",
        "params = list(net.parameters())\n",
        "optimiser = optim.SGD(params, lr=1)\n",
        "optimiser.zero_grad()\n",
        "output = net(X)\n",
        "loss = criterion(output, y)\n",
        "loss.backward()\n",
        "optimiser.step()"
      ],
      "metadata": {
        "id": "rFpxanz5DWKz"
      },
      "execution_count": null,
      "outputs": []
    },
    {
      "cell_type": "code",
      "source": [
        "print(list(net.parameters())[0].clone().detach()-theta)"
      ],
      "metadata": {
        "colab": {
          "base_uri": "https://localhost:8080/"
        },
        "id": "vzJf_s2MDcOM",
        "outputId": "027ba43a-df92-4c21-b609-403f10765b36"
      },
      "execution_count": null,
      "outputs": [
        {
          "output_type": "stream",
          "name": "stdout",
          "text": [
            "tensor([[0., 0., 0., 0., 0., 0., 0., 0., 0., 0.],\n",
            "        [0., 0., 0., 0., 0., 0., 0., 0., 0., 0.],\n",
            "        [0., 0., 0., 0., 0., 0., 0., 0., 0., 0.],\n",
            "        [0., 0., 0., 0., 0., 0., 0., 0., 0., 0.],\n",
            "        [0., 0., 0., 0., 0., 0., 0., 0., 0., 0.]])\n"
          ]
        }
      ]
    },
    {
      "cell_type": "code",
      "source": [],
      "metadata": {
        "id": "B-5pjYfhIIZt"
      },
      "execution_count": null,
      "outputs": []
    },
    {
      "cell_type": "markdown",
      "source": [
        "### check the analytic solution of autoencoder\n",
        "Linear autoencoder"
      ],
      "metadata": {
        "id": "sDJB-HAnIak4"
      }
    },
    {
      "cell_type": "code",
      "source": [
        "train_num, val_num, test_num = (100, 500, 2000) # larger number of dataset\n",
        "sample_num_split = (train_num, train_num + val_num)\n",
        "total = train_num+val_num+test_num\n",
        "\n",
        "# need to consider f_dim <, =, > z_dim\n",
        "z_dim = 8 # dimension of z\n",
        "H = 3\n",
        "W = 3\n",
        "sample_dim = torch.tensor([H, W])\n",
        "x_dim = H * W\n",
        "f_dim = 8\n",
        "y_dim = z_dim // 2\n",
        "\n",
        "z = torch.normal(mean=0, std=1, size=(total,z_dim), generator=torch.random.manual_seed(522)) # here distribution is high dimensional guassian\n",
        "z = z.to(device)\n",
        "\n",
        "U = torch.rand(x_dim, z_dim, generator=torch.random.manual_seed(522))\n",
        "U = U.to(device)\n",
        "V = torch.rand(y_dim, z_dim, generator=torch.random.manual_seed(522))\n",
        "V = V.to(device)\n",
        "\n",
        "x = z @ U.T\n",
        "y = z @ V.T\n",
        "X_train, X_val, X_test = torch.tensor_split(x, sample_num_split)\n",
        "y_train, y_val, y_test = torch.tensor_split(y, sample_num_split)\n",
        "data_dict = {'X_train': X_train, 'y_train': y_train, 'X_val': X_val, 'y_val': y_val, 'X_test': X_test, 'y_test': y_test}"
      ],
      "metadata": {
        "id": "Zi8eMutEIgyk"
      },
      "execution_count": 33,
      "outputs": []
    },
    {
      "cell_type": "code",
      "source": [
        "Sigma = X_train.T @ X_train\n",
        "U, S, Vh = torch.linalg.svd(Sigma)\n",
        "U = U[:, :f_dim]\n",
        "W1 = U.T\n",
        "W2 = U"
      ],
      "metadata": {
        "id": "9SwwUQ0TMMp8"
      },
      "execution_count": null,
      "outputs": []
    },
    {
      "cell_type": "code",
      "source": [
        "net = LAE(x_dim, f_dim)\n",
        "net.w1.weight.data = W1\n",
        "net.w2.weight.data = W2"
      ],
      "metadata": {
        "id": "MyfIN22MO7yb"
      },
      "execution_count": null,
      "outputs": []
    },
    {
      "cell_type": "code",
      "source": [
        "criterion = nn.MSELoss()\n",
        "params = list(net.parameters())\n",
        "optimiser = optim.SGD(params, lr=0.3)\n",
        "\n",
        "optimiser.zero_grad()\n",
        "output = net(X_train)\n",
        "loss = criterion(output, X_train)\n",
        "loss.backward()\n",
        "optimiser.step()"
      ],
      "metadata": {
        "id": "1TnC8o3YPvuM"
      },
      "execution_count": null,
      "outputs": []
    },
    {
      "cell_type": "code",
      "source": [
        "print(list(net.parameters())[0].clone().detach()-W1)"
      ],
      "metadata": {
        "colab": {
          "base_uri": "https://localhost:8080/"
        },
        "id": "ZJDZ7RvXP3JQ",
        "outputId": "26d11846-cd32-49b1-d441-271286c3f267"
      },
      "execution_count": null,
      "outputs": [
        {
          "output_type": "stream",
          "name": "stdout",
          "text": [
            "tensor([[0., 0., 0., 0.],\n",
            "        [0., 0., 0., 0.],\n",
            "        [0., 0., 0., 0.]], device='cuda:0')\n"
          ]
        }
      ]
    },
    {
      "cell_type": "code",
      "source": [
        "print(list(net.parameters())[1].clone().detach()-W2)"
      ],
      "metadata": {
        "colab": {
          "base_uri": "https://localhost:8080/"
        },
        "id": "eCz_U_p9RInz",
        "outputId": "5eb402cc-e08b-4c6f-fcef-ac4647646b04"
      },
      "execution_count": null,
      "outputs": [
        {
          "output_type": "stream",
          "name": "stdout",
          "text": [
            "tensor([[0., 0., 0.],\n",
            "        [0., 0., 0.],\n",
            "        [0., 0., 0.],\n",
            "        [0., 0., 0.]], device='cuda:0')\n"
          ]
        }
      ]
    },
    {
      "cell_type": "markdown",
      "source": [
        "Masked linear autoencoder"
      ],
      "metadata": {
        "id": "CHpBxCQYyLzC"
      }
    },
    {
      "cell_type": "code",
      "source": [
        "cst = 0\n",
        "mask_val = -1\n",
        "prob = 0.75\n",
        "prob_list = torch.rand(x_dim)\n",
        "patch_size = 3\n",
        "model_type = 'MLAE_patches'\n",
        "X_train, _, X_val, _, _, _ = data_dict.values()\n",
        "X = X_train\n",
        "mask_dict = {}\n",
        "if model_type == 'MLAE_basic':\n",
        "    first_moment = prob + cst * (1-prob)\n",
        "    second_moment = prob + cst**2 * (1-prob)\n",
        "    second_moment_reverse = 1-prob + cst**2 * prob\n",
        "    mask_dict['mean'] = (torch.ones(train_num, x_dim, device=device) * first_moment)\n",
        "    mask_dict['square'] = torch.ones(x_dim, x_dim, device=device) * first_moment**2\n",
        "    mask_dict['square'].fill_diagonal_(second_moment)\n",
        "\n",
        "    x0_sum = torch.sum(X, 0, keepdim=True).repeat(x_dim, 1)\n",
        "    mask_x = torch.diag(torch.ones(x_dim, device=device))\n",
        "    mean_reverse = mask_x*(first_moment-second_moment)+(1-mask_x)*first_moment*(1-first_moment)\n",
        "    square_reverse = torch.ones(x_dim, x_dim, device=device) * (1-first_moment)**2\n",
        "    square_reverse.fill_diagonal_(second_moment_reverse)\n",
        "    mask_dict['var_increment'] = mask_val*(x0_sum+x0_sum.T)*mean_reverse + (mask_val**2)*train_num*square_reverse\n",
        "\n",
        "elif model_type == 'MLAE_probs':\n",
        "    first_moment = prob_list + cst * (1-prob_list)\n",
        "    second_moment = prob_list + cst**2 * (1-prob_list)\n",
        "    second_moment_reverse = 1-prob_list + cst**2*prob_list\n",
        "    mask_dict['mean'] = first_moment.repeat(train_num, 1).to(device)\n",
        "    mask_dict['square'] = first_moment.view(x_dim, 1) @ first_moment.view(1, x_dim)\n",
        "    mask_dict['square'] = (mask_dict['square'].fill_diagonal_(0) + torch.diag(second_moment)).to(device)\n",
        "    \n",
        "    x0_sum = torch.sum(X, 0, keepdim=True).repeat(x_dim, 1)\n",
        "    p_mat = first_moment.repeat(x_dim, 1).to(device)\n",
        "    mask_x = torch.diag(torch.ones(x_dim, device=device))\n",
        "    mean_reverse = torch.diag(first_moment-second_moment).to(device)+(1-mask_x)*(1-p_mat.T)*p_mat\n",
        "    square_reverse = (1-first_moment).view(x_dim, 1) @ (1-first_moment).view(1, x_dim)\n",
        "    square_reverse = (square_reverse.fill_diagonal_(0) + torch.diag(second_moment_reverse)).to(device)\n",
        "    mask_dict['var_increment'] = mask_val*mean_reverse*x0_sum + mask_val*mean_reverse.T*x0_sum.T*mask_x + (mask_val**2)*train_num*square_reverse\n",
        "    \n",
        "elif model_type == 'MLAE_patches':\n",
        "    first_moment = prob + cst * (1-prob)\n",
        "    second_moment = prob + cst**2 * (1-prob)\n",
        "    second_moment_reverse = 1-prob + cst**2 * prob\n",
        "    mask_dict['mean'] = torch.ones(train_num, x_dim, device=device) * first_moment\n",
        "    # plain patches\n",
        "    patch_block_mat = torch.ones(patch_size, patch_size, device=device)\n",
        "    mask_dict['square'] = torch.block_diag(*[patch_block_mat]*(x_dim//patch_size))*(second_moment-first_moment**2) + first_moment**2\n",
        "\n",
        "    x0_sum = torch.sum(X, 0, keepdim=True).repeat(x_dim, 1)\n",
        "    mask_x = torch.block_diag(*[patch_block_mat]*(x_dim//patch_size))\n",
        "    mean_reverse = mask_x*(first_moment-second_moment) + (1-mask_x)*first_moment*(1-first_moment)\n",
        "    square_reverse = torch.block_diag(*[patch_block_mat]*(x_dim//patch_size))*(second_moment_reverse-(1-first_moment)**2) + (1-first_moment)**2\n",
        "    mask_dict['var_increment'] = mask_val*(x0_sum+x0_sum.T)*mean_reverse + (mask_val**2)*train_num*square_reverse\n",
        "# block patches\n",
        "# patch_size = [2, 2]\n",
        "# pix_num = torch.div(torch.tensor(sample_dim), torch.tensor(patch_size), rounding_mode='floor')\n",
        "# mat_patches = torch.arange(pix_num[0]*pix_num[1]).view(*pix_num)\n",
        "# mat_patches = torch.repeat_interleave(mat_patches, patch_size[1], dim=1)\n",
        "# mat_patches = torch.repeat_interleave(mat_patches, patch_size[0], dim=0).view(n)\n",
        "# mask_dict['MLAE_patches']['square'] = torch.zeros(x_dim, x_dim)\n",
        "# for i in range(x_dim):\n",
        "#     for j in range(x_dim):\n",
        "#         if mat_patches[i] == mat_patches[j]:\n",
        "#             mask_dict['MLAE_patches']['square'][i, j] = prob\n",
        "#         else:\n",
        "#             mask_dict['MLAE_patches']['square'][i, j] = prob**2"
      ],
      "metadata": {
        "id": "bvqfoEFUcMPh"
      },
      "execution_count": 120,
      "outputs": []
    },
    {
      "cell_type": "code",
      "source": [
        "try:\n",
        "    inv = torch.inverse(mask_dict['square']*(X.T@X) + mask_dict['var_increment'])\n",
        "except torch._C._LinAlgError:\n",
        "    # Sigma_XX = X.T@X\n",
        "    # U_XX, S_XX, Vh_XX = torch.linalg.svd(Sigma_XX)\n",
        "    # print(S_XX)\n",
        "    # inv = Vh_XX.T*torch.inverse(torch.diag(S_XX+1e-4))*U_XX.T\n",
        "\n",
        "    perturbation = torch.diag(torch.ones(x_dim, device=device)*1e-20)\n",
        "    inv = torch.inverse(mask_dict['square']*(X.T@X) + mask_dict['var_increment'] + perturbation)\n",
        "Sigma = X.T@(mask_dict['mean']*X+(1-mask_dict['mean'])*mask_val) @ inv @ ((mask_dict['mean']*X+(1-mask_dict['mean'])*mask_val).T@X)\n",
        "U, _, _ = torch.linalg.svd(Sigma)\n",
        "U = U[:, :f_dim]\n",
        "W1 = U.T @ (X.T@(mask_dict['mean']*X+(1-mask_dict['mean'])*mask_val)) @ inv\n",
        "W2 = U\n",
        "# if model_type == 'MLAE_basic':\n",
        "#     loss = criterion((mask_basic(prob, val_num, x_dim, cst=cst)*X_val)@W1.T@W2.T, X_val)\n",
        "# elif model_type == 'MLAE_probs':\n",
        "#     loss = criterion((mask_probs(prob_list, val_num, x_dim, cst=cst)*X_val)@W1.T@W2.T, X_val)\n",
        "# elif model_type == 'MLAE_patches':\n",
        "#     loss = criterion((mask_patches_plain(prob, patch_size, val_num, x_dim, cst=cst)*X_val)@W1.T@W2.T, X_val)\n",
        "W1"
      ],
      "metadata": {
        "id": "RWM-XOX0RLbv",
        "colab": {
          "base_uri": "https://localhost:8080/"
        },
        "outputId": "d6fd111b-5800-47de-a13d-b1c2e0b9af37"
      },
      "execution_count": 121,
      "outputs": [
        {
          "output_type": "execute_result",
          "data": {
            "text/plain": [
              "tensor([[ 0.3622,  0.3539,  0.3769,  0.6519,  0.2496,  0.2082,  0.2046,  0.3284,\n",
              "          0.5619],\n",
              "        [ 0.3591, -0.5932,  0.1454,  0.1847,  0.3201, -0.5561, -0.6692,  0.1349,\n",
              "          0.3569],\n",
              "        [ 0.4806,  0.1729, -0.6253, -0.6148,  0.7439,  0.0240, -0.0637,  0.1269,\n",
              "         -0.0108],\n",
              "        [-0.0820, -0.2700,  0.1755, -0.4858, -0.0740,  0.6628, -0.0432, -0.1605,\n",
              "          0.3196],\n",
              "        [ 0.5569, -0.2725, -0.4557,  0.0931, -0.2152,  0.1204,  0.0846,  0.3601,\n",
              "         -0.2899],\n",
              "        [ 0.1341, -0.0817, -0.1302,  0.0890,  0.0767, -0.1459,  0.3233, -0.6347,\n",
              "          0.4165],\n",
              "        [-0.2469, -0.0327,  0.1990,  0.0063,  0.1312, -0.1045,  0.0174,  0.1893,\n",
              "         -0.1381],\n",
              "        [-0.0048,  0.0226, -0.0220,  0.0208, -0.0132, -0.0050, -0.0187, -0.0025,\n",
              "          0.0200]], device='cuda:0')"
            ]
          },
          "metadata": {},
          "execution_count": 121
        }
      ]
    },
    {
      "cell_type": "code",
      "source": [
        "rand_loop = 500\n",
        "total_W1 = 0\n",
        "total_W2 = 0\n",
        "for i in range(rand_loop):\n",
        "    net = M_LAE(prob, x_dim, f_dim, patch_size=patch_size, type='patches', cst=cst, mask_val=mask_val).to(device)\n",
        "    net.body[0].weight.data = W1.clone().detach()\n",
        "    net.body[1].weight.data = W2.clone().detach()\n",
        "    criterion = nn.MSELoss()\n",
        "    optimiser = optim.SGD(net.body.parameters(), lr=0.0003)\n",
        "\n",
        "    optimiser.zero_grad()\n",
        "    output = net(X)\n",
        "    loss = criterion(output, X)\n",
        "    loss.backward()\n",
        "    optimiser.step()\n",
        "\n",
        "    total_W1 += net.body[0].weight.data.clone().detach().cpu()-W1.cpu()\n",
        "    total_W2 += net.body[1].weight.data.clone().detach().cpu()-W2.cpu()\n",
        "\n",
        "total_W1 /= rand_loop\n",
        "total_W2 /= rand_loop"
      ],
      "metadata": {
        "id": "SC8uUk3q3jEq"
      },
      "execution_count": 122,
      "outputs": []
    },
    {
      "cell_type": "code",
      "source": [
        "print(total_W1)"
      ],
      "metadata": {
        "colab": {
          "base_uri": "https://localhost:8080/"
        },
        "id": "IRc94mL85a8i",
        "outputId": "14de8f90-67f8-42c6-abc4-3e22d285a904"
      },
      "execution_count": 123,
      "outputs": [
        {
          "output_type": "stream",
          "name": "stdout",
          "text": [
            "tensor([[-8.5276e-07,  1.8799e-07, -7.8166e-07, -1.2444e-06, -6.2627e-07,\n",
            "         -1.3762e-06,  1.3942e-06,  1.5778e-06,  1.5960e-06],\n",
            "        [ 3.5554e-07,  4.9472e-07,  4.7800e-07,  3.9661e-07,  3.8475e-07,\n",
            "          3.3772e-07,  2.6131e-07,  3.4001e-07,  2.9844e-07],\n",
            "        [ 1.6022e-07,  3.8660e-07,  9.0003e-08,  5.9009e-08, -1.6689e-09,\n",
            "          3.4884e-08,  3.4384e-07,  3.4049e-07,  2.3138e-07],\n",
            "        [-2.9206e-08,  8.5533e-08, -7.1377e-08,  1.4544e-07,  8.3283e-08,\n",
            "          1.3840e-07,  1.2475e-07,  1.2651e-07,  1.6481e-07],\n",
            "        [ 1.6582e-07,  7.0333e-08,  1.7148e-07,  1.8397e-07,  1.1426e-07,\n",
            "          2.7882e-07,  1.0145e-07,  1.2279e-08,  1.7166e-08],\n",
            "        [-2.3007e-08, -6.5401e-08, -4.9919e-08, -2.1753e-07, -1.9665e-07,\n",
            "         -1.4737e-07, -3.4511e-08, -3.2783e-08, -4.8280e-08],\n",
            "        [ 1.6388e-07,  1.6355e-07,  1.5143e-07, -1.0855e-07, -1.2553e-07,\n",
            "         -9.7424e-08,  1.9938e-08,  7.5370e-08,  6.2257e-08],\n",
            "        [ 7.0622e-08,  3.5275e-08,  7.0363e-08,  3.6336e-08,  1.6168e-08,\n",
            "          3.8025e-08,  6.0499e-09,  6.3330e-09, -2.7269e-09]])\n"
          ]
        }
      ]
    },
    {
      "cell_type": "code",
      "source": [
        "print(total_W2)"
      ],
      "metadata": {
        "colab": {
          "base_uri": "https://localhost:8080/"
        },
        "id": "VVLGIDp06r2L",
        "outputId": "a01bdf89-80bf-4f3b-dd98-9b062bea7bc2"
      },
      "execution_count": 124,
      "outputs": [
        {
          "output_type": "stream",
          "name": "stdout",
          "text": [
            "tensor([[ 3.3611e-07, -1.7625e-07,  1.8887e-07, -6.4850e-08, -6.3866e-08,\n",
            "          4.7117e-08,  1.0371e-07,  4.3288e-09],\n",
            "        [-5.5063e-07, -6.2406e-08,  1.6105e-07, -1.1069e-07,  3.5167e-09,\n",
            "          3.9190e-08,  6.2786e-08,  6.0201e-09],\n",
            "        [-1.2946e-07, -8.8811e-09,  1.9693e-07, -9.6381e-08, -1.0407e-07,\n",
            "          4.2960e-08,  1.0434e-07,  7.3910e-09],\n",
            "        [-4.0305e-07,  3.3677e-08,  1.0777e-07,  1.2100e-08, -3.9071e-08,\n",
            "          5.0098e-08,  6.1095e-08,  7.1526e-10],\n",
            "        [ 1.5104e-07, -1.9947e-07,  1.7130e-07, -1.2354e-07, -1.2755e-08,\n",
            "          2.9206e-09,  5.5015e-08,  6.8843e-09],\n",
            "        [-4.6635e-07, -6.2346e-08,  1.3968e-07, -9.4175e-09,  9.3430e-09,\n",
            "          9.6440e-08,  5.1141e-08,  8.0094e-09],\n",
            "        [-7.3507e-07, -7.0930e-08,  9.2626e-08,  8.6427e-09,  5.3763e-08,\n",
            "          5.0068e-08,  2.1491e-08,  2.5034e-09],\n",
            "        [ 7.5072e-07, -2.7063e-07,  1.5861e-07, -7.2330e-08, -3.7432e-08,\n",
            "          3.1233e-08,  6.0916e-08,  6.4820e-09],\n",
            "        [ 5.6392e-07, -2.5880e-07,  1.9521e-07, -8.7738e-08, -4.0404e-08,\n",
            "          2.7120e-08,  7.3895e-08,  8.9407e-09]])\n"
          ]
        }
      ]
    },
    {
      "cell_type": "code",
      "source": [],
      "metadata": {
        "id": "sI995cmBe2su"
      },
      "execution_count": 79,
      "outputs": []
    }
  ]
}