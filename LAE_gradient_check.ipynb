{
 "cells": [
  {
   "cell_type": "code",
   "execution_count": 9,
   "metadata": {},
   "outputs": [],
   "source": [
    "\"\"\"Verify the gradient derivation of linear autoencoder.\"\"\"\n",
    "import torch\n",
    "import torch.nn as nn\n",
    "from torch import transpose, mm"
   ]
  },
  {
   "cell_type": "code",
   "execution_count": 10,
   "metadata": {},
   "outputs": [],
   "source": [
    "# Initialise matrix and vector\n",
    "N = 6\n",
    "M = 5\n",
    "Y = torch.rand(N, 1)\n",
    "W1 = torch.rand(M, N, requires_grad=True)\n",
    "W2 = torch.rand(N, M, requires_grad=True)"
   ]
  },
  {
   "cell_type": "code",
   "execution_count": 11,
   "metadata": {},
   "outputs": [],
   "source": [
    "# define loss function in terms of W1 and W2\n",
    "def loss_func_W1(W1):\n",
    "    return mm(transpose(Y-mm(W2, mm(W1, Y)), 0, 1), Y-mm(W2, mm(W1, Y)))\n",
    "\n",
    "def loss_func_W2(W2):\n",
    "    return mm(transpose(Y-mm(W2, mm(W1, Y)), 0, 1), Y-mm(W2, mm(W1, Y)))"
   ]
  },
  {
   "cell_type": "code",
   "execution_count": 12,
   "metadata": {},
   "outputs": [
    {
     "name": "stdout",
     "output_type": "stream",
     "text": [
      "The matrix norm of the difference between theoretical and numerical solutions of W1: 5.540347046917304e-06\n",
      "The matrix norm of the difference between theoretical and numerical solutions of W2: 3.0439246074820403e-06\n"
     ]
    }
   ],
   "source": [
    "# find the theoretical and numerical solutions of W1 and W2\n",
    "grad_w1_true = 2*mm(mm(transpose(W2, 0, 1), mm(W2, W1)-torch.eye(N)), mm(Y, transpose(Y, 0, 1)))\n",
    "grad_w2_true = 2*mm(mm(mm(W2, W1)-torch.eye(N), mm(Y, transpose(Y, 0, 1))), transpose(W1, 0, 1))\n",
    "\n",
    "grad_w1 = torch.autograd.functional.jacobian(loss_func_W1, W1)\n",
    "grad_w2 = torch.autograd.functional.jacobian(loss_func_W2, W2)\n",
    "\n",
    "norm_diff_w1 = torch.linalg.matrix_norm(grad_w1-grad_w1_true)\n",
    "norm_diff_w2 = torch.linalg.matrix_norm(grad_w2-grad_w2_true)\n",
    "\n",
    "print(\"The matrix norm of the difference between theoretical and numerical solutions of W1:\", norm_diff_w1.item())\n",
    "print(\"The matrix norm of the difference between theoretical and numerical solutions of W2:\", norm_diff_w2.item())"
   ]
  },
  {
   "cell_type": "code",
   "execution_count": 31,
   "metadata": {},
   "outputs": [],
   "source": [
    "# gradient check for multiple samples\n",
    "# Initialise matrix and vector\n",
    "n = 6\n",
    "p = 5\n",
    "m = 4\n",
    "\n",
    "X = torch.rand(m, n)\n",
    "W1 = torch.rand(p, n, requires_grad=True)\n",
    "W2 = torch.rand(n, p, requires_grad=True)"
   ]
  },
  {
   "cell_type": "code",
   "execution_count": 40,
   "metadata": {},
   "outputs": [],
   "source": [
    "# define loss function in terms of W1 and W2\n",
    "# here we use two ways to implement loss\n",
    "def loss_func_W1(W1):\n",
    "    z = mm(X, mm(transpose(W1, 0, 1), transpose(W2, 0, 1)))-X\n",
    "    return sum(sum(torch.mul(z, z))) / m\n",
    "\n",
    "def loss_func_W2(W2):\n",
    "    return nn.MSELoss()(mm(X, mm(transpose(W1, 0, 1), transpose(W2, 0, 1))), X) * n"
   ]
  },
  {
   "cell_type": "code",
   "execution_count": 41,
   "metadata": {},
   "outputs": [
    {
     "name": "stdout",
     "output_type": "stream",
     "text": [
      "The matrix norm of the difference between theoretical and numerical solutions of W1: 6.468133960879641e-06\n",
      "The matrix norm of the difference between theoretical and numerical solutions of W2: 5.820539172418648e-06\n"
     ]
    }
   ],
   "source": [
    "# find the theoretical and numerical solutions of W1 and W2\n",
    "grad_w1_true = 2 * mm(mm(transpose(W2, 0, 1), mm(W2, W1)-torch.eye(n)), mm(transpose(X, 0, 1), X)) / m\n",
    "grad_w2_true = 2 * mm(mm(mm(W2, W1)-torch.eye(n), mm(transpose(X, 0, 1), X)), transpose(W1, 0, 1)) / m\n",
    "\n",
    "grad_w1 = torch.autograd.functional.jacobian(loss_func_W1, W1)\n",
    "grad_w2 = torch.autograd.functional.jacobian(loss_func_W2, W2)\n",
    "\n",
    "norm_diff_w1 = torch.linalg.matrix_norm(grad_w1-grad_w1_true)\n",
    "norm_diff_w2 = torch.linalg.matrix_norm(grad_w2-grad_w2_true)\n",
    "\n",
    "print(\"The matrix norm of the difference between theoretical and numerical solutions of W1:\", norm_diff_w1.item())\n",
    "print(\"The matrix norm of the difference between theoretical and numerical solutions of W2:\", norm_diff_w2.item())"
   ]
  },
  {
   "cell_type": "code",
   "execution_count": null,
   "metadata": {},
   "outputs": [],
   "source": []
  },
  {
   "cell_type": "code",
   "execution_count": null,
   "metadata": {},
   "outputs": [],
   "source": []
  }
 ],
 "metadata": {
  "kernelspec": {
   "display_name": "Python 3.9.6 ('SSL_venv': venv)",
   "language": "python",
   "name": "python3"
  },
  "language_info": {
   "codemirror_mode": {
    "name": "ipython",
    "version": 3
   },
   "file_extension": ".py",
   "mimetype": "text/x-python",
   "name": "python",
   "nbconvert_exporter": "python",
   "pygments_lexer": "ipython3",
   "version": "3.9.6"
  },
  "orig_nbformat": 4,
  "vscode": {
   "interpreter": {
    "hash": "9c3c12edae13c0508bae753e64eeaec91e16c05e32c8c48bac5bd7ee2e37cd7c"
   }
  }
 },
 "nbformat": 4,
 "nbformat_minor": 2
}
