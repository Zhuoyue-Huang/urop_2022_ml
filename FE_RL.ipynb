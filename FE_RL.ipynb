{
  "cells": [
    {
      "cell_type": "markdown",
      "metadata": {
        "id": "view-in-github",
        "colab_type": "text"
      },
      "source": [
        "<a href=\"https://colab.research.google.com/github/Zhuoyue-Huang/urop_2022_ml/blob/main/FE_RL.ipynb\" target=\"_parent\"><img src=\"https://colab.research.google.com/assets/colab-badge.svg\" alt=\"Open In Colab\"/></a>"
      ]
    },
    {
      "cell_type": "code",
      "execution_count": 241,
      "metadata": {
        "id": "Kbg1kWfKaDrE"
      },
      "outputs": [],
      "source": [
        "\"\"\"Verify the gradient derivation of linear masked autoencoder.\"\"\"\n",
        "import torch\n",
        "import torch.nn as nn\n",
        "import torch.optim as optim\n",
        "import matplotlib.pyplot as plt\n",
        "from tqdm import tqdm\n",
        "import statistics\n",
        "import numpy as np\n",
        "from torch.distributions.exponential import Exponential"
      ]
    },
    {
      "cell_type": "code",
      "execution_count": 242,
      "metadata": {
        "id": "lI0EeuiHacLQ"
      },
      "outputs": [],
      "source": [
        "device = torch.device('cuda' if torch.cuda.is_available() else 'cpu')"
      ]
    },
    {
      "cell_type": "code",
      "execution_count": 243,
      "metadata": {
        "id": "ieYyVAs6NgaM"
      },
      "outputs": [],
      "source": [
        "# set default to be float64\n",
        "torch.set_default_dtype(torch.float64)"
      ]
    },
    {
      "cell_type": "markdown",
      "metadata": {
        "id": "UqQEFeEGaDrH"
      },
      "source": [
        "### Model initialisation"
      ]
    },
    {
      "cell_type": "code",
      "execution_count": 244,
      "metadata": {
        "id": "j73gZMhnaDrI"
      },
      "outputs": [],
      "source": [
        "## Masked lienar auto-encoder model\n",
        "# Define different types of masks\n",
        "def mask_basic(prob, sample_num, x_dim):\n",
        "    return torch.zeros(sample_num, x_dim).bernoulli_(prob)\n",
        "\n",
        "def mask_probs(prob_list: torch.Tensor, sample_num, x_dim):\n",
        "    return torch.zeros(sample_num, x_dim).bernoulli_(prob_list)\n",
        "\n",
        "def mask_patches_block(prob, patch_size: torch.Tensor, sample_num, sample_dim: torch.Tensor):\n",
        "    x_dim = sample_dim[0]*sample_dim[1]\n",
        "    div_check = sample_dim % patch_size == torch.zeros(2)\n",
        "    if torch.all(div_check):\n",
        "        pix_num = torch.div(sample_dim, patch_size, rounding_mode='floor')\n",
        "        mat_patches = torch.zeros(sample_num, *pix_num).bernoulli_(prob)\n",
        "        mat_patches = torch.repeat_interleave(mat_patches, patch_size[1], dim=2)\n",
        "        return mat_patches.repeat_interleave(patch_size[0], dim=1).view(sample_num, x_dim)\n",
        "    else:\n",
        "        raise NotImplementedError(f\"Both height ({sample_dim[0]}) and width ({sample_dim[1]}) should be divisible by patch_size ({patch_size}).\")\n",
        "\n",
        "def mask_patches_plain(prob, patch_size, sample_num, x_dim):\n",
        "    if not x_dim % patch_size:\n",
        "        pix_num = x_dim // patch_size\n",
        "        mat_patches = torch.zeros(sample_num, pix_num).bernoulli_(prob)\n",
        "        return mat_patches.repeat_interleave(patch_size, dim=1)\n",
        "    else:\n",
        "        raise NotImplementedError"
      ]
    },
    {
      "cell_type": "code",
      "source": [
        "def feature_extraction(data_dict, f_dim, criterion, model_type, prob=None, prob_list=None, patch_size=None, device='cuda'):\n",
        "    X_train, _, X_val, _, _, _ = data_dict.values()\n",
        "    train_num, x_dim = X_train.shape\n",
        "    val_num = X_val.shape[0]\n",
        "    if model_type == 'LAE':\n",
        "        Sigma = X_train.T @ X_train\n",
        "        U, _, _ = torch.linalg.svd(Sigma)\n",
        "        U = U[:, :f_dim]\n",
        "        W1 = U.T \n",
        "        W2 = U\n",
        "        loss = criterion(X_val@W1.T@W2.T, X_val)\n",
        "    elif model_type == 'MLAE_basic':\n",
        "        X = mask_basic(prob, train_num, x_dim).to(device) * X_train\n",
        "        Y = X_train\n",
        "        try:\n",
        "            torch.inverse(X.T@X)\n",
        "        except torch._C._LinAlgError:\n",
        "            # Sigma_XX = X.T@X\n",
        "            # U_XX, S_XX, Vh_XX = torch.linalg.svd(Sigma_XX)\n",
        "            # print(S_XX)\n",
        "            # inv = Vh_XX.T*torch.inverse(torch.diag(S_XX+1e-4))*U_XX.T\n",
        "        \n",
        "            perturbation = torch.diag(torch.ones(x_dim)*1e-25).to(device)\n",
        "            inv = torch.inverse(X.T@X+perturbation)\n",
        "        else:\n",
        "            inv = torch.inverse(X.T@X)\n",
        "        if prob == 1:\n",
        "            Sigma = X.T@X\n",
        "            U, _, _ = torch.linalg.svd(Sigma)\n",
        "            U = U[:, :f_dim]\n",
        "            W1 = U.T\n",
        "            W2 = U\n",
        "            loss = criterion(X_val@W1.T@W2.T, X_val)\n",
        "        else:\n",
        "            Sigma = Y.T@X @ inv @ X.T@Y\n",
        "            U, _, _ = torch.linalg.svd(Sigma)\n",
        "            U = U[:, :f_dim]\n",
        "            W1 = U.T @ Y.T@X @ inv\n",
        "            W2 = U\n",
        "            loss = criterion((mask_basic(prob, val_num, x_dim).to(device)*X_val)@W1.T@W2.T, X_val)\n",
        "    elif model_type == 'MLAE_probs':\n",
        "        X = mask_probs(prob_list, train_num, x_dim).to(device) * X_train\n",
        "        Y = X_train\n",
        "        perturbation = torch.diag(torch.ones(x_dim)*1e-25).to(device)\n",
        "        inv = torch.inverse(X.T@X + perturbation)\n",
        "        Sigma = Y.T@X @ inv @ X.T@Y\n",
        "        U, _, _ = torch.linalg.svd(Sigma)\n",
        "        U = U[:, :f_dim]\n",
        "        W1 = U.T @ Y.T@X @ inv\n",
        "        W2 = U\n",
        "        loss = criterion((mask_probs(prob_list, val_num, x_dim).to(device)*X_val)@W1.T@W2.T, X_val)\n",
        "    elif model_type == 'MLAE_patches':\n",
        "        X = mask_patches_plain(prob, patch_size, train_num, x_dim).to(device) * X_train\n",
        "        Y = X_train\n",
        "        try:\n",
        "            torch.inverse(X.T@X)\n",
        "        except torch._C._LinAlgError:\n",
        "            # Sigma_XX = X.T@X\n",
        "            # U_XX, S_XX, Vh_XX = torch.linalg.svd(Sigma_XX)\n",
        "            # print(S_XX)\n",
        "            # inv = Vh_XX.T*torch.inverse(torch.diag(S_XX+1e-4))*U_XX.T\n",
        "        \n",
        "            perturbation = torch.diag(torch.ones(x_dim)*1e-25).to(device)\n",
        "            inv = torch.inverse(X.T@X+perturbation)\n",
        "        else:\n",
        "            inv = torch.inverse(X.T@X)\n",
        "        if prob == 1:\n",
        "            Sigma = X.T@X\n",
        "            U, _, _ = torch.linalg.svd(Sigma)\n",
        "            U = U[:, :f_dim]\n",
        "            W1 = U.T\n",
        "            W2 = U\n",
        "            loss = criterion(X_val@W1.T@W2.T, X_val)\n",
        "        else:\n",
        "            Sigma = Y.T@X @ inv @ X.T@Y\n",
        "            U, _, _ = torch.linalg.svd(Sigma)\n",
        "            U = U[:, :f_dim]\n",
        "            W1 = U.T @ Y.T@X @ inv\n",
        "            W2 = U\n",
        "            loss = criterion((mask_patches_plain(prob, patch_size, val_num, x_dim).to(device)*X_val)@W1.T@W2.T, X_val)\n",
        "    return (W1, loss.cpu().item())"
      ],
      "metadata": {
        "id": "L7AbxmnSTNaZ"
      },
      "execution_count": 245,
      "outputs": []
    },
    {
      "cell_type": "code",
      "execution_count": 246,
      "metadata": {
        "id": "TjY8ezY7aDrJ"
      },
      "outputs": [],
      "source": [
        "# representation learning\n",
        "def repr_learning(data_dict, W1, criterion, reg_coeff=0, device='cuda'):\n",
        "    X_train, y_train, _, _, X_test, y_test = data_dict.values()\n",
        "\n",
        "    f_train = X_train @ W1.T\n",
        "    f_test = X_test @ W1.T\n",
        "    f_dim = f_train.shape[1]\n",
        "    y_dim = y_train.shape[1]\n",
        "\n",
        "    theta = (torch.inverse(f_train.T@f_train+reg_coeff*torch.eye(f_dim, device=device)) @ f_train.T @ y_train).T\n",
        "    loss = criterion(y_test, f_test @ theta.T)\n",
        "    return loss.item()"
      ]
    },
    {
      "cell_type": "markdown",
      "metadata": {
        "id": "es2QcO7qaDrK"
      },
      "source": [
        "### Dataset"
      ]
    },
    {
      "cell_type": "code",
      "execution_count": 247,
      "metadata": {
        "id": "NoF5AZwxGVU7"
      },
      "outputs": [],
      "source": [
        "train_num, val_num, test_num = (4000, 500, 2000) # larger number of dataset\n",
        "sample_num_split = (train_num, train_num + val_num)\n",
        "total = train_num+val_num+test_num\n",
        "\n",
        "# need to consider f_dim <, =, > z_dim\n",
        "z_dim = 30 # dimension of z\n",
        "H = 8\n",
        "W = 8\n",
        "sample_dim = torch.tensor([H, W])\n",
        "x_dim = H * W\n",
        "f_dim = 15\n",
        "y_dim = z_dim // 2\n",
        "\n",
        "prob_search = torch.arange(0, 1+0.01, 0.01)\n",
        "prob_list_search = torch.rand(x_dim, generator=torch.random.manual_seed(1911))*0.1\\\n",
        "                   + torch.repeat_interleave(torch.arange(0, 0.9+0.01, 0.01).unsqueeze(1), x_dim, dim=1)\n",
        "patch_size_plain_search = torch.tensor([1, 2, 4, 8, 16])\n",
        "patch_size_block_search = []\n",
        "for i in [1, 2, 4, 8, 16]:\n",
        "    for j in [1, 2, 4, 8, 16]:\n",
        "        patch_size_block_search.append([i, j])\n",
        "patch_size_search = torch.tensor(patch_size_block_search)"
      ]
    },
    {
      "cell_type": "code",
      "execution_count": 248,
      "metadata": {
        "id": "6-p1AuTWIJk9"
      },
      "outputs": [],
      "source": [
        "#mean = torch.linspace(0, 5, z_dim).repeat(total, 1)\n",
        "#std = torch.linspace(3, 8, z_dim).repeat(total, 1)\n",
        "#m = Exponential(1)\n",
        "#z = m.rsample((total,z_dim))\n",
        "#z = torch.normal(mean=mean, std=std, generator=torch.random.manual_seed(1911))\n",
        "z = torch.normal(mean=0, std=1, size=(total,z_dim), generator=torch.random.manual_seed(1911)) # here distribution is high dimensional guassian\n",
        "z = z.to(device)"
      ]
    },
    {
      "cell_type": "code",
      "execution_count": 249,
      "metadata": {
        "id": "rLboN52waDrK"
      },
      "outputs": [],
      "source": [
        "U = torch.rand(x_dim, z_dim, generator=torch.random.manual_seed(1911))\n",
        "U = U.to(device)\n",
        "V = torch.rand(y_dim, z_dim, generator=torch.random.manual_seed(1911))\n",
        "V = V.to(device)\n",
        "\n",
        "x = z @ U.T\n",
        "y = z @ V.T\n",
        "X_train, X_val, X_test = torch.tensor_split(x, sample_num_split)\n",
        "y_train, y_val, y_test = torch.tensor_split(y, sample_num_split)\n",
        "data_dict = {'X_train': X_train, 'y_train': y_train, 'X_val': X_val, 'y_val': y_val, 'X_test': X_test, 'y_test': y_test}\n",
        "#fe_loss_dict = {'LAE': [], 'MLAE_basic': [], 'MLAE_probs': [], 'MLAE_patches': []}"
      ]
    },
    {
      "cell_type": "code",
      "execution_count": 280,
      "metadata": {
        "id": "_H5fnGlMaDrL"
      },
      "outputs": [],
      "source": [
        "criterion = nn.MSELoss()\n",
        "reg_coeff = 1"
      ]
    },
    {
      "cell_type": "markdown",
      "metadata": {
        "id": "DAoMiwCEaDrL"
      },
      "source": [
        "### Get features from autoencoder"
      ]
    },
    {
      "cell_type": "markdown",
      "metadata": {
        "id": "uPZVsK57aDrL"
      },
      "source": [
        "##### Linear autoencoder"
      ]
    },
    {
      "cell_type": "code",
      "execution_count": 281,
      "metadata": {
        "colab": {
          "base_uri": "https://localhost:8080/"
        },
        "id": "6K3nyMfkaDrM",
        "outputId": "f49a2cb7-b0e2-49b3-f434-9abc4b41e873"
      },
      "outputs": [
        {
          "output_type": "stream",
          "name": "stdout",
          "text": [
            "feature extraction loss: 0.5955466056991074\n",
            "representation learning loss: 0.6788679161009507\n"
          ]
        }
      ],
      "source": [
        "W1, fe_loss = feature_extraction(data_dict, f_dim, criterion, model_type='LAE')\n",
        "print('feature extraction loss:', fe_loss)\n",
        "rl_loss = repr_learning(data_dict, W1, criterion, reg_coeff=reg_coeff)\n",
        "print('representation learning loss:', rl_loss)"
      ]
    },
    {
      "cell_type": "code",
      "execution_count": 252,
      "metadata": {
        "id": "DlVArcy5pOVU"
      },
      "outputs": [],
      "source": [
        "#print('mean:', statistics.mean(fe_loss_dict['LAE']), ', sd:', statistics.stdev(fe_loss_dict['LAE']))"
      ]
    },
    {
      "cell_type": "markdown",
      "metadata": {
        "id": "Ez_oZJ5OaDrN"
      },
      "source": [
        "##### Masked linear autoencoder (basic)"
      ]
    },
    {
      "cell_type": "code",
      "execution_count": 253,
      "metadata": {
        "colab": {
          "base_uri": "https://localhost:8080/"
        },
        "id": "cYK3bC2qVXmA",
        "outputId": "4125defa-db1e-4582-b83f-08f49b00a984"
      },
      "outputs": [
        {
          "output_type": "stream",
          "name": "stderr",
          "text": [
            "100%|██████████| 101/101 [00:01<00:00, 88.98it/s]\n"
          ]
        }
      ],
      "source": [
        "# grid search\n",
        "search_score = []\n",
        "search_record = {'params': -1, 'best_score': 1e8}\n",
        "\n",
        "for prob in tqdm(prob_search):\n",
        "    W1, loss = feature_extraction(data_dict, f_dim, criterion, model_type='MLAE_basic', prob=prob)\n",
        "    search_score.append(loss)\n",
        "    if loss < search_record['best_score']:\n",
        "        search_record['best_score'] = loss\n",
        "        search_record['params'] = prob"
      ]
    },
    {
      "cell_type": "code",
      "execution_count": 254,
      "metadata": {
        "id": "Xl1YuRV5m5nA",
        "colab": {
          "base_uri": "https://localhost:8080/",
          "height": 285
        },
        "outputId": "99cf5c20-9c79-4e27-f706-d1bd36b81be1"
      },
      "outputs": [
        {
          "output_type": "execute_result",
          "data": {
            "text/plain": [
              "[<matplotlib.lines.Line2D at 0x7f6776c2f690>]"
            ]
          },
          "metadata": {},
          "execution_count": 254
        },
        {
          "output_type": "display_data",
          "data": {
            "text/plain": [
              "<Figure size 432x288 with 1 Axes>"
            ],
            "image/png": "[encoded data removed]"
          },
          "metadata": {
            "needs_background": "light"
          }
        }
      ],
      "source": [
        "# search check\n",
        "plt.plot(prob_search, search_score)"
      ]
    },
    {
      "cell_type": "code",
      "execution_count": 255,
      "metadata": {
        "id": "HDlNPA1MmkUx",
        "colab": {
          "base_uri": "https://localhost:8080/"
        },
        "outputId": "1c6c781d-b0aa-4c0f-8e40-082288610a44"
      },
      "outputs": [
        {
          "output_type": "stream",
          "name": "stdout",
          "text": [
            "prob: 1.0 \n",
            "loss: 0.5955466056991074\n"
          ]
        }
      ],
      "source": [
        "prob = search_record['params']\n",
        "print('prob:', prob.item(), '\\nloss:', loss)"
      ]
    },
    {
      "cell_type": "code",
      "execution_count": 256,
      "metadata": {
        "id": "zs-zpOO8aDrN",
        "colab": {
          "base_uri": "https://localhost:8080/"
        },
        "outputId": "09221c7b-dff1-4ba1-98a2-1d9807fa3a91"
      },
      "outputs": [
        {
          "output_type": "stream",
          "name": "stdout",
          "text": [
            "feature extraction loss: 0.5955466056991074\n",
            "representation learning loss: 0.6788679161009507\n"
          ]
        }
      ],
      "source": [
        "W1, fe_loss = feature_extraction(data_dict, f_dim, criterion, model_type='MLAE_basic', prob=prob)\n",
        "print('feature extraction loss:', fe_loss)\n",
        "rl_loss = repr_learning(data_dict, W1, criterion, reg_coeff=reg_coeff)\n",
        "print('representation learning loss:', rl_loss)"
      ]
    },
    {
      "cell_type": "code",
      "execution_count": 257,
      "metadata": {
        "id": "tfFIpuyrnlDo"
      },
      "outputs": [],
      "source": [
        "#print('mean:', statistics.mean(fe_loss_dict['MLAE_basic']), ', sd:', statistics.stdev(fe_loss_dict['MLAE_basic']))"
      ]
    },
    {
      "cell_type": "markdown",
      "metadata": {
        "id": "mYkcloIWaDrO"
      },
      "source": [
        "##### Masked linear autoencoder (probs)"
      ]
    },
    {
      "cell_type": "code",
      "execution_count": 258,
      "metadata": {
        "id": "QjhPsme3aDrO",
        "colab": {
          "base_uri": "https://localhost:8080/"
        },
        "outputId": "017079f9-5a06-406f-eab3-817d8cc35f0d"
      },
      "outputs": [
        {
          "output_type": "stream",
          "name": "stderr",
          "text": [
            "100%|██████████| 91/91 [00:01<00:00, 90.93it/s]\n"
          ]
        }
      ],
      "source": [
        "# grid search\n",
        "search_score = []\n",
        "search_record = {'params': -1, 'best_score': 1e8}\n",
        "\n",
        "for prob_list in tqdm(prob_list_search):\n",
        "    W1, loss = feature_extraction(data_dict, f_dim, criterion, model_type='MLAE_probs', prob_list=prob_list)\n",
        "    search_score.append(loss)\n",
        "    if loss < search_record['best_score']:\n",
        "        search_record['best_score'] = loss\n",
        "        search_record['params'] = prob_list"
      ]
    },
    {
      "cell_type": "code",
      "execution_count": 259,
      "metadata": {
        "id": "zmJaV5zpueHg",
        "colab": {
          "base_uri": "https://localhost:8080/",
          "height": 283
        },
        "outputId": "8189ae13-2dd0-4804-a520-1c84056bebdb"
      },
      "outputs": [
        {
          "output_type": "execute_result",
          "data": {
            "text/plain": [
              "[<matplotlib.lines.Line2D at 0x7f6776ba83d0>]"
            ]
          },
          "metadata": {},
          "execution_count": 259
        },
        {
          "output_type": "display_data",
          "data": {
            "text/plain": [
              "<Figure size 432x288 with 1 Axes>"
            ],
            "image/png": "[encoded data removed]"
          },
          "metadata": {
            "needs_background": "light"
          }
        }
      ],
      "source": [
        "# search check\n",
        "plt.plot(list(prob_search)[:91], search_score)"
      ]
    },
    {
      "cell_type": "code",
      "execution_count": 260,
      "metadata": {
        "id": "N47wNFMGujEa",
        "colab": {
          "base_uri": "https://localhost:8080/"
        },
        "outputId": "58f8837e-a88e-4fda-9b45-c9af7f4beff6"
      },
      "outputs": [
        {
          "output_type": "stream",
          "name": "stdout",
          "text": [
            "prob: tensor([0.9715, 0.9514, 0.9407, 0.9322, 0.9301, 0.9234, 0.9834, 0.9584, 0.9425,\n",
            "        0.9220, 0.9051, 0.9459, 0.9685, 0.9357, 0.9435, 0.9955, 0.9860, 0.9265,\n",
            "        0.9061, 0.9801, 0.9759, 0.9234, 0.9609, 0.9373, 0.9002, 0.9549, 0.9497,\n",
            "        0.9230, 0.9186, 0.9130, 0.9627, 0.9331, 0.9583, 0.9362, 0.9940, 0.9345,\n",
            "        0.9991, 0.9599, 0.9683, 0.9418, 0.9866, 0.9362, 0.9711, 0.9916, 0.9463,\n",
            "        0.9406, 0.9756, 0.9496, 0.9463, 0.9209, 0.9378, 0.9331, 0.9414, 0.9402,\n",
            "        0.9619, 0.9194, 0.9157, 0.9768, 0.9169, 0.9856, 0.9097, 0.9894, 0.9629,\n",
            "        0.9751]) \n",
            "loss: 0.6886920052842711\n"
          ]
        }
      ],
      "source": [
        "prob_list = search_record['params']\n",
        "print('prob:', prob_list, '\\nloss:', loss)"
      ]
    },
    {
      "cell_type": "code",
      "execution_count": 261,
      "metadata": {
        "id": "cy-i6MCExwGO",
        "colab": {
          "base_uri": "https://localhost:8080/"
        },
        "outputId": "8fa060d5-eccd-4901-c148-fe77b0cb9d0b"
      },
      "outputs": [
        {
          "output_type": "stream",
          "name": "stdout",
          "text": [
            "feature extraction loss: 0.6963852380666179\n",
            "representation learning loss: 0.684630774695964\n"
          ]
        }
      ],
      "source": [
        "W1, fe_loss = feature_extraction(data_dict, f_dim, criterion, model_type='MLAE_probs', prob_list=prob_list)\n",
        "print('feature extraction loss:', fe_loss)\n",
        "rl_loss = repr_learning(data_dict, W1, criterion, reg_coeff=reg_coeff)\n",
        "print('representation learning loss:', rl_loss)"
      ]
    },
    {
      "cell_type": "code",
      "execution_count": 262,
      "metadata": {
        "id": "dK62YaQGcMyR"
      },
      "outputs": [],
      "source": [
        "#print('mean:', statistics.mean(fe_loss_dict['MLAE_probs']), ', sd:', statistics.stdev(fe_loss_dict['MLAE_probs']))"
      ]
    },
    {
      "cell_type": "markdown",
      "metadata": {
        "id": "si7wv4fGaDrO"
      },
      "source": [
        "##### Masked linear autoencoder (patches)"
      ]
    },
    {
      "cell_type": "code",
      "execution_count": 263,
      "metadata": {
        "id": "zk_0aTEcu0jl",
        "colab": {
          "base_uri": "https://localhost:8080/"
        },
        "outputId": "89fda7d8-cb12-4e3b-a388-bd5d70003117"
      },
      "outputs": [
        {
          "output_type": "stream",
          "name": "stderr",
          "text": [
            "  0%|          | 0/101 [00:00<?, ?it/s]/usr/local/lib/python3.7/dist-packages/ipykernel_launcher.py:22: UserWarning: __rfloordiv__ is deprecated, and its behavior will change in a future version of pytorch. It currently rounds toward 0 (like the 'trunc' function NOT 'floor'). This results in incorrect rounding for negative values. To keep the current behavior, use torch.div(a, b, rounding_mode='trunc'), or for actual floor division, use torch.div(a, b, rounding_mode='floor').\n",
            "100%|██████████| 101/101 [00:04<00:00, 21.32it/s]\n"
          ]
        }
      ],
      "source": [
        "# grid search\n",
        "search_score = []\n",
        "search_record = {'params': -1, 'best_score': 1e8}\n",
        "\n",
        "for prob in tqdm(prob_search):\n",
        "    for patch_size in patch_size_plain_search:\n",
        "        W1, loss = feature_extraction(data_dict, f_dim, criterion, model_type='MLAE_patches', prob=prob, patch_size=patch_size)\n",
        "\n",
        "        search_score.append(loss)\n",
        "        if loss < search_record['best_score']:\n",
        "            search_record['best_score'] = loss\n",
        "            search_record['params'] = (prob, patch_size)"
      ]
    },
    {
      "cell_type": "code",
      "execution_count": 264,
      "metadata": {
        "id": "NNIFMFDfEHni",
        "colab": {
          "base_uri": "https://localhost:8080/",
          "height": 285
        },
        "outputId": "f2e1cf26-56ed-497f-cd4a-41dca01a38c2"
      },
      "outputs": [
        {
          "output_type": "execute_result",
          "data": {
            "text/plain": [
              "<matplotlib.legend.Legend at 0x7f6776b5f690>"
            ]
          },
          "metadata": {},
          "execution_count": 264
        },
        {
          "output_type": "display_data",
          "data": {
            "text/plain": [
              "<Figure size 432x288 with 1 Axes>"
            ],
            "image/png": "[encoded data removed]"
          },
          "metadata": {
            "needs_background": "light"
          }
        }
      ],
      "source": [
        "# search check\n",
        "for i in range(5):\n",
        "    plt.plot(prob_search, search_score[i::5])\n",
        "plt.legend([str(patch_size.item()) for patch_size in patch_size_plain_search])"
      ]
    },
    {
      "cell_type": "code",
      "execution_count": 265,
      "metadata": {
        "id": "lidLQTaFu06m",
        "colab": {
          "base_uri": "https://localhost:8080/"
        },
        "outputId": "f50889da-b117-48ca-e58c-96b044980a8b"
      },
      "outputs": [
        {
          "output_type": "stream",
          "name": "stdout",
          "text": [
            "prob: tensor(1.) ,\n",
            "patch_size: 1 ,\n",
            "loss: 0.5955466056991074\n"
          ]
        }
      ],
      "source": [
        "prob, patch_size = search_record['params']\n",
        "print('prob:', prob, ',\\npatch_size:', patch_size.item(), ',\\nloss:', loss)"
      ]
    },
    {
      "cell_type": "code",
      "execution_count": 266,
      "metadata": {
        "id": "m5CH1NYfaDrO",
        "colab": {
          "base_uri": "https://localhost:8080/"
        },
        "outputId": "01ba90f6-91b6-4ce2-85b1-b3e3def0bce8"
      },
      "outputs": [
        {
          "output_type": "stream",
          "name": "stderr",
          "text": [
            "/usr/local/lib/python3.7/dist-packages/ipykernel_launcher.py:22: UserWarning: __rfloordiv__ is deprecated, and its behavior will change in a future version of pytorch. It currently rounds toward 0 (like the 'trunc' function NOT 'floor'). This results in incorrect rounding for negative values. To keep the current behavior, use torch.div(a, b, rounding_mode='trunc'), or for actual floor division, use torch.div(a, b, rounding_mode='floor').\n"
          ]
        },
        {
          "output_type": "stream",
          "name": "stdout",
          "text": [
            "feature extraction loss: 0.5955466056991074\n",
            "representation learning loss: 0.6788679161009507\n"
          ]
        }
      ],
      "source": [
        "# feature extraction\n",
        "W1, fe_loss = feature_extraction(data_dict, f_dim, criterion, model_type='MLAE_patches', prob=prob, patch_size=patch_size)\n",
        "print('feature extraction loss:', fe_loss)\n",
        "rl_loss = repr_learning(data_dict, W1, criterion, reg_coeff=reg_coeff)\n",
        "print('representation learning loss:', rl_loss)"
      ]
    },
    {
      "cell_type": "code",
      "execution_count": 267,
      "metadata": {
        "id": "TcRAg3E-cVnc"
      },
      "outputs": [],
      "source": [
        "#print('mean:', statistics.mean(fe_loss_dict['MLAE_patches']), ', sd:', statistics.stdev(fe_loss_dict['MLAE_patches']))"
      ]
    },
    {
      "cell_type": "markdown",
      "metadata": {
        "id": "-4BzVMlQdmJ4"
      },
      "source": [
        "### Evaluation"
      ]
    },
    {
      "cell_type": "code",
      "execution_count": 267,
      "metadata": {
        "id": "IQdzko_m8UD3"
      },
      "outputs": [],
      "source": []
    }
  ],
  "metadata": {
    "accelerator": "GPU",
    "colab": {
      "collapsed_sections": [],
      "provenance": [],
      "include_colab_link": true
    },
    "gpuClass": "standard",
    "kernelspec": {
      "display_name": "Python 3.9.6 ('SSL_venv': venv)",
      "language": "python",
      "name": "python3"
    },
    "language_info": {
      "codemirror_mode": {
        "name": "ipython",
        "version": 3
      },
      "file_extension": ".py",
      "mimetype": "text/x-python",
      "name": "python",
      "nbconvert_exporter": "python",
      "pygments_lexer": "ipython3",
      "version": "3.9.6"
    },
    "vscode": {
      "interpreter": {
        "hash": "9c3c12edae13c0508bae753e64eeaec91e16c05e32c8c48bac5bd7ee2e37cd7c"
      }
    }
  },
  "nbformat": 4,
  "nbformat_minor": 0
}