{
  "cells": [
    {
      "cell_type": "markdown",
      "metadata": {
        "id": "view-in-github",
        "colab_type": "text"
      },
      "source": [
        "<a href=\"https://colab.research.google.com/github/Zhuoyue-Huang/urop_2022_ml/blob/main/FE_RL.ipynb\" target=\"_parent\"><img src=\"https://colab.research.google.com/assets/colab-badge.svg\" alt=\"Open In Colab\"/></a>"
      ]
    },
    {
      "cell_type": "code",
      "execution_count": null,
      "metadata": {
        "id": "Kbg1kWfKaDrE"
      },
      "outputs": [],
      "source": [
        "\"\"\"Verify the gradient derivation of linear masked autoencoder.\"\"\"\n",
        "import torch\n",
        "import torch.nn as nn\n",
        "import torch.optim as optim\n",
        "import matplotlib.pyplot as plt\n",
        "from tqdm import tqdm\n",
        "import statistics\n",
        "import numpy as np\n",
        "from torch.distributions.exponential import Exponential"
      ]
    },
    {
      "cell_type": "code",
      "execution_count": null,
      "metadata": {
        "id": "lI0EeuiHacLQ"
      },
      "outputs": [],
      "source": [
        "device = torch.device('cuda' if torch.cuda.is_available() else 'cpu')"
      ]
    },
    {
      "cell_type": "code",
      "execution_count": null,
      "metadata": {
        "id": "ieYyVAs6NgaM"
      },
      "outputs": [],
      "source": [
        "# set default to be float64\n",
        "torch.set_default_dtype(torch.float64)"
      ]
    },
    {
      "cell_type": "markdown",
      "metadata": {
        "id": "UqQEFeEGaDrH"
      },
      "source": [
        "### Model initialisation"
      ]
    },
    {
      "cell_type": "code",
      "execution_count": null,
      "metadata": {
        "id": "j73gZMhnaDrI"
      },
      "outputs": [],
      "source": [
        "## Masked lienar auto-encoder model\n",
        "# Define different types of masks\n",
        "def mask_basic(prob, sample_num, x_dim, scale_val=0, device='cuda'):\n",
        "    return torch.zeros(sample_num, x_dim, device=device).bernoulli_(prob)*(1-scale_val) + scale_val\n",
        "\n",
        "def mask_probs(prob_list: torch.Tensor, sample_num, x_dim, scale_val=0, device='cuda'):\n",
        "    return torch.zeros(sample_num, x_dim, device=device).bernoulli_(prob_list)*(1-scale_val) + scale_val\n",
        "\n",
        "# def mask_patches_block(prob, patch_size: torch.Tensor, sample_num, sample_dim: torch.Tensor, device='cuda'):\n",
        "#     x_dim = sample_dim[0]*sample_dim[1]\n",
        "#     div_check = sample_dim % patch_size == torch.zeros(2)\n",
        "#     if torch.all(div_check):\n",
        "#         pix_num = torch.div(sample_dim, patch_size, rounding_mode='floor')\n",
        "#         mat_patches = torch.zeros(sample_num, *pix_num).bernoulli_(prob).to(device)\n",
        "#         mat_patches = torch.repeat_interleave(mat_patches, patch_size[1], dim=2)\n",
        "#         return mat_patches.repeat_interleave(patch_size[0], dim=1).view(sample_num, x_dim)\n",
        "#     else:\n",
        "#         raise NotImplementedError(f\"Both height ({sample_dim[0]}) and width ({sample_dim[1]}) should be divisible by patch_size ({patch_size}).\")\n",
        "\n",
        "def mask_patches_plain(prob, patch_size, sample_num, x_dim, scale_val=0, device='cuda'):\n",
        "    if not x_dim % patch_size:\n",
        "        pix_num = x_dim // patch_size\n",
        "        mat_patches = torch.zeros(sample_num, pix_num).bernoulli_(prob)\n",
        "        return mat_patches.repeat_interleave(patch_size, dim=1).to(device)*(1-scale_val) + scale_val\n",
        "    else:\n",
        "        raise NotImplementedError"
      ]
    },
    {
      "cell_type": "code",
      "source": [
        "def feature_extraction(data_dict, f_dim, criterion, model_type, prob=None, prob_list=None, patch_size=None, scale_val=0, mask_val=0, data_type='val', device='cuda'):\n",
        "    X_train, y_train, X_val, y_val, X_test, y_test = data_dict.values()\n",
        "    train_num, x_dim = X_train.shape\n",
        "    val_num = X_val.shape[0]\n",
        "    y_dim = y_train.shape[1]\n",
        "    if model_type == 'LAE':\n",
        "        Sigma = X_train.T @ X_train\n",
        "        U, _, _ = torch.linalg.svd(Sigma)\n",
        "        U = U[:, :f_dim]\n",
        "        W1 = U.T \n",
        "        W2 = U\n",
        "        loss = criterion(X_val@W1.T@W2.T, X_val)\n",
        "    else:\n",
        "        X = X_train\n",
        "        if prob == 1 or scale_val==1:\n",
        "            Sigma = X.T@X\n",
        "            U, _, _ = torch.linalg.svd(Sigma)\n",
        "            U = U[:, :f_dim]\n",
        "            W1 = U.T\n",
        "            W2 = U\n",
        "            loss = criterion(X_val@W1.T@W2.T, X_val)\n",
        "        else:\n",
        "            mask_dict = {}\n",
        "            if model_type == 'MLAE_basic':\n",
        "                first_moment = prob + scale_val * (1-prob)\n",
        "                second_moment = prob + scale_val**2 * (1-prob)\n",
        "                second_moment_reverse = 1-prob + scale_val**2 * prob\n",
        "                mask_dict['mean'] = (torch.ones(train_num, x_dim, device=device) * first_moment)\n",
        "                mask_dict['square'] = torch.ones(x_dim, x_dim, device=device) * first_moment**2\n",
        "                mask_dict['square'].fill_diagonal_(second_moment)\n",
        "\n",
        "                x0_sum = torch.sum(X, 0, keepdim=True).repeat(x_dim, 1)\n",
        "                mask_x = torch.diag(torch.ones(x_dim, device=device))\n",
        "                mean_reverse = mask_x*(first_moment-second_moment)+(1-mask_x)*first_moment*(1-first_moment)\n",
        "                square_reverse = torch.ones(x_dim, x_dim, device=device) * (1-first_moment)**2\n",
        "                square_reverse.fill_diagonal_(second_moment_reverse)\n",
        "                mask_dict['var_increment'] = mask_val*(x0_sum+x0_sum.T)*mean_reverse + (mask_val**2)*train_num*square_reverse\n",
        "\n",
        "            elif model_type == 'MLAE_probs':\n",
        "                first_moment = prob_list + scale_val * (1-prob_list)\n",
        "                second_moment = prob_list + scale_val**2 * (1-prob_list)\n",
        "                second_moment_reverse = 1-prob_list + scale_val**2*prob_list\n",
        "                mask_dict['mean'] = first_moment.repeat(train_num, 1).to(device)\n",
        "                mask_dict['square'] = first_moment.view(x_dim, 1) @ first_moment.view(1, x_dim)\n",
        "                mask_dict['square'] = (mask_dict['square'].fill_diagonal_(0) + torch.diag(second_moment)).to(device)\n",
        "                \n",
        "                x0_sum = torch.sum(X, 0, keepdim=True).repeat(x_dim, 1)\n",
        "                p_mat = first_moment.repeat(x_dim, 1).to(device)\n",
        "                mask_x = torch.diag(torch.ones(x_dim, device=device))\n",
        "                mean_reverse = torch.diag(first_moment-second_moment).to(device)+(1-mask_x)*(1-p_mat.T)*p_mat\n",
        "                square_reverse = (1-first_moment).view(x_dim, 1) @ (1-first_moment).view(1, x_dim)\n",
        "                square_reverse = (square_reverse.fill_diagonal_(0) + torch.diag(second_moment_reverse)).to(device)\n",
        "                mask_dict['var_increment'] = mask_val*mean_reverse*x0_sum + mask_val*mean_reverse.T*x0_sum.T*mask_x + (mask_val**2)*train_num*square_reverse\n",
        "                \n",
        "            elif model_type == 'MLAE_patches':\n",
        "                first_moment = prob + scale_val * (1-prob)\n",
        "                second_moment = prob + scale_val**2 * (1-prob)\n",
        "                second_moment_reverse = 1-prob + scale_val**2 * prob\n",
        "                mask_dict['mean'] = torch.ones(train_num, x_dim, device=device) * first_moment\n",
        "                # plain patches\n",
        "                patch_block_mat = torch.ones(patch_size, patch_size, device=device)\n",
        "                mask_dict['square'] = torch.block_diag(*[patch_block_mat]*(x_dim//patch_size))*(second_moment-first_moment**2) + first_moment**2\n",
        "\n",
        "                x0_sum = torch.sum(X, 0, keepdim=True).repeat(x_dim, 1)\n",
        "                mask_x = torch.block_diag(*[patch_block_mat]*(x_dim//patch_size))\n",
        "                mean_reverse = mask_x*(first_moment-second_moment) + (1-mask_x)*first_moment*(1-first_moment)\n",
        "                square_reverse = torch.block_diag(*[patch_block_mat]*(x_dim//patch_size))*(second_moment_reverse-(1-first_moment)**2) + (1-first_moment)**2\n",
        "                mask_dict['var_increment'] = mask_val*(x0_sum+x0_sum.T)*mean_reverse + (mask_val**2)*train_num*square_reverse\n",
        "                # block patches\n",
        "                # patch_size = [2, 2]\n",
        "                # pix_num = torch.div(torch.tensor(sample_dim), torch.tensor(patch_size), rounding_mode='floor')\n",
        "                # mat_patches = torch.arange(pix_num[0]*pix_num[1]).view(*pix_num)\n",
        "                # mat_patches = torch.repeat_interleave(mat_patches, patch_size[1], dim=1)\n",
        "                # mat_patches = torch.repeat_interleave(mat_patches, patch_size[0], dim=0).view(n)\n",
        "                # mask_dict['square'] = torch.zeros(x_dim, x_dim)\n",
        "                # for i in range(x_dim):\n",
        "                #     for j in range(x_dim):\n",
        "                #         if mat_patches[i] == mat_patches[j]:\n",
        "                #             mask_dict['square'][i, j] = prob\n",
        "                #         else:\n",
        "                #             mask_dict['square'][i, j] = prob**2\n",
        "            try:\n",
        "                inv = torch.inverse(mask_dict['square']*(X.T@X) + mask_dict['var_increment'])\n",
        "            except torch._C._LinAlgError:\n",
        "                # Sigma_XX = X.T@X\n",
        "                # U_XX, S_XX, Vh_XX = torch.linalg.svd(Sigma_XX)\n",
        "                # print(S_XX)\n",
        "                # inv = Vh_XX.T*torch.inverse(torch.diag(S_XX+1e-4))*U_XX.T\n",
        "\n",
        "                perturbation = torch.diag(torch.ones(x_dim, device=device)*1e-20)\n",
        "                inv = torch.inverse(mask_dict['square']*(X.T@X) + mask_dict['var_increment'] + perturbation)\n",
        "            Sigma = X.T@(mask_dict['mean']*X+(1-mask_dict['mean'])*mask_val) @ inv @ ((mask_dict['mean']*X+(1-mask_dict['mean'])*mask_val).T@X)\n",
        "            U, _, _ = torch.linalg.svd(Sigma)\n",
        "            U = U[:, :f_dim]\n",
        "            W1 = U.T @ (X.T@(mask_dict['mean']*X+(1-mask_dict['mean'])*mask_val)) @ inv\n",
        "            W2 = U\n",
        "            if model_type == 'MLAE_basic':\n",
        "                loss = criterion((mask_basic(prob, val_num, x_dim, scale_val=scale_val)*X_val)@W1.T@W2.T, X_val)\n",
        "            elif model_type == 'MLAE_probs':\n",
        "                loss = criterion((mask_probs(prob_list, val_num, x_dim, scale_val=scale_val)*X_val)@W1.T@W2.T, X_val)\n",
        "            elif model_type == 'MLAE_patches':\n",
        "                loss = criterion((mask_patches_plain(prob, patch_size, val_num, x_dim, scale_val=scale_val)*X_val)@W1.T@W2.T, X_val)\n",
        "    if data_type == 'val':\n",
        "        test_X = X_val\n",
        "        test_y = y_val\n",
        "    elif data_type == 'test':\n",
        "        test_X = X_test\n",
        "        test_y = y_test\n",
        "    \n",
        "    f_train = X_train @ W1.T\n",
        "    f_test = test_X @ W1.T\n",
        "\n",
        "    return {'f_train': f_train, 'y_train': y_train, 'f_test': f_test, 'y_test': test_y}"
      ],
      "metadata": {
        "id": "L7AbxmnSTNaZ"
      },
      "execution_count": null,
      "outputs": []
    },
    {
      "cell_type": "code",
      "execution_count": null,
      "metadata": {
        "id": "TjY8ezY7aDrJ"
      },
      "outputs": [],
      "source": [
        "# representation learning\n",
        "def repr_learning(fe_dict, criterion, reg_coeff=0, device='cuda'):\n",
        "    f_train, y_train, f_test, y_test = fe_dict.values()\n",
        "\n",
        "    theta = (torch.inverse(f_train.T@f_train+reg_coeff*torch.eye(f_dim, device=device)) @ f_train.T @ y_train).T\n",
        "    loss = criterion(y_test, f_test @ theta.T)\n",
        "    return loss.item()"
      ]
    },
    {
      "cell_type": "markdown",
      "metadata": {
        "id": "es2QcO7qaDrK"
      },
      "source": [
        "### Dataset"
      ]
    },
    {
      "cell_type": "code",
      "execution_count": null,
      "metadata": {
        "id": "NoF5AZwxGVU7"
      },
      "outputs": [],
      "source": [
        "train_num, val_num, test_num = (4000, 500, 2000) # larger number of dataset\n",
        "sample_num_split = (train_num, train_num + val_num)\n",
        "total = train_num+val_num+test_num\n",
        "\n",
        "# need to consider f_dim <, =, > z_dim\n",
        "z_dim = 30 # dimension of z\n",
        "H = 8\n",
        "W = 8\n",
        "sample_dim = torch.tensor([H, W])\n",
        "x_dim = H * W\n",
        "f_dim = 15\n",
        "y_dim = z_dim // 2\n",
        "\n",
        "prob_search = torch.arange(0.01, 1+0.01, 0.01)\n",
        "prob_list_search = torch.rand(x_dim, generator=torch.random.manual_seed(1911))*0.1 + torch.repeat_interleave(torch.arange(0.01, 0.9+0.01, 0.01).unsqueeze(1), x_dim, dim=1)\n",
        "patch_size_plain_search = torch.tensor([1, 2, 4, 8, 16])\n",
        "# patch_size_block_search = []\n",
        "# for i in [1, 2, 4, 8, 16]:\n",
        "#     for j in [1, 2, 4, 8, 16]:\n",
        "#         patch_size_block_search.append([i, j])\n",
        "# patch_size_search = torch.tensor(patch_size_block_search)"
      ]
    },
    {
      "cell_type": "code",
      "execution_count": null,
      "metadata": {
        "id": "6-p1AuTWIJk9"
      },
      "outputs": [],
      "source": [
        "#mean = torch.linspace(0, 5, z_dim).repeat(total, 1)\n",
        "#std = torch.linspace(3, 8, z_dim).repeat(total, 1)\n",
        "#m = Exponential(1)\n",
        "#z = m.rsample((total,z_dim))\n",
        "#z = torch.normal(mean=mean, std=std, generator=torch.random.manual_seed(1911))\n",
        "z = torch.randn(total,z_dim)# here distribution is high dimensional guassian\n",
        "z = z.to(device)"
      ]
    },
    {
      "cell_type": "code",
      "execution_count": null,
      "metadata": {
        "id": "rLboN52waDrK",
        "colab": {
          "base_uri": "https://localhost:8080/"
        },
        "outputId": "a8a1340c-0959-4cab-cdc3-91da96cf65ae"
      },
      "outputs": [
        {
          "output_type": "stream",
          "name": "stdout",
          "text": [
            "tensor(0.0079, device='cuda:0')\n"
          ]
        }
      ],
      "source": [
        "U = torch.randn(x_dim, z_dim)\n",
        "U = U.to(device)\n",
        "V = torch.randn(y_dim, z_dim)\n",
        "V = V.to(device)\n",
        "\n",
        "x = z @ U.T\n",
        "print(torch.mean(x))\n",
        "y = z @ V.T\n",
        "X_train, X_val, X_test = torch.tensor_split(x, sample_num_split)\n",
        "y_train, y_val, y_test = torch.tensor_split(y, sample_num_split)\n",
        "data_dict = {'X_train': X_train, 'y_train': y_train, 'X_val': X_val, 'y_val': y_val, 'X_test': X_test, 'y_test': y_test}\n",
        "fe_loss_dict = {'LAE': [], 'MLAE_basic': [], 'MLAE_probs': [], 'MLAE_patches': [], 'PCA': []}"
      ]
    },
    {
      "cell_type": "code",
      "execution_count": null,
      "metadata": {
        "id": "_H5fnGlMaDrL"
      },
      "outputs": [],
      "source": [
        "criterion = nn.MSELoss()\n",
        "rand_epoch = 1\n",
        "reg_coeff = 1\n",
        "mask_val = 0"
      ]
    },
    {
      "cell_type": "markdown",
      "metadata": {
        "id": "DAoMiwCEaDrL"
      },
      "source": [
        "### Get features from autoencoder"
      ]
    },
    {
      "cell_type": "markdown",
      "metadata": {
        "id": "uPZVsK57aDrL"
      },
      "source": [
        "##### Linear autoencoder"
      ]
    },
    {
      "cell_type": "code",
      "execution_count": null,
      "metadata": {
        "colab": {
          "base_uri": "https://localhost:8080/"
        },
        "id": "6K3nyMfkaDrM",
        "outputId": "ddde47ff-d0ec-4214-a221-9cbbf5107c2d"
      },
      "outputs": [
        {
          "output_type": "stream",
          "name": "stdout",
          "text": [
            "Regression loss: 15.33994278256761\n"
          ]
        }
      ],
      "source": [
        "fe_dict = feature_extraction(data_dict, f_dim, criterion, data_type='test', model_type='LAE')\n",
        "reg_loss = repr_learning(fe_dict, criterion, reg_coeff=reg_coeff)\n",
        "fe_loss_dict['LAE'].append(reg_loss)\n",
        "print('Regression loss:', reg_loss)"
      ]
    },
    {
      "cell_type": "code",
      "execution_count": null,
      "metadata": {
        "id": "DlVArcy5pOVU"
      },
      "outputs": [],
      "source": [
        "#print('mean:', statistics.mean(fe_loss_dict['LAE']), ', sd:', statistics.stdev(fe_loss_dict['LAE']))"
      ]
    },
    {
      "cell_type": "markdown",
      "metadata": {
        "id": "Ez_oZJ5OaDrN"
      },
      "source": [
        "##### Masked linear autoencoder (basic)"
      ]
    },
    {
      "cell_type": "code",
      "execution_count": null,
      "metadata": {
        "id": "cYK3bC2qVXmA"
      },
      "outputs": [],
      "source": [
        "# grid search\n",
        "search_record = {'params': -1, 'best_score': 1e8, 'index': 0}\n",
        "search_score = []\n",
        "for index, prob in enumerate(prob_search):\n",
        "    total_loss = 0\n",
        "    for i in range(rand_epoch):\n",
        "        fe_dict = feature_extraction(data_dict, f_dim, criterion, model_type='MLAE_basic', prob=prob, mask_val=mask_val)\n",
        "        reg_loss = repr_learning(fe_dict, criterion, reg_coeff=reg_coeff)\n",
        "        total_loss += reg_loss\n",
        "    loss = total_loss / rand_epoch\n",
        "    search_score.append(loss)\n",
        "    if loss < search_record['best_score']:\n",
        "        search_record['best_score'] = loss\n",
        "        search_record['params'] = prob\n",
        "        search_record['index'] = index"
      ]
    },
    {
      "cell_type": "code",
      "execution_count": null,
      "metadata": {
        "id": "HDlNPA1MmkUx",
        "colab": {
          "base_uri": "https://localhost:8080/"
        },
        "outputId": "6cf93052-fa7e-424a-b030-78eed211e115"
      },
      "outputs": [
        {
          "output_type": "stream",
          "name": "stdout",
          "text": [
            "prob: 1.0 \n",
            "loss: 15.626932501399645\n"
          ]
        }
      ],
      "source": [
        "prob = round(search_record['params'].item(), 2)\n",
        "loss = search_record['best_score']\n",
        "index = search_record['index']\n",
        "print('prob:', prob, '\\nloss:', loss)"
      ]
    },
    {
      "cell_type": "code",
      "execution_count": null,
      "metadata": {
        "id": "Xl1YuRV5m5nA",
        "colab": {
          "base_uri": "https://localhost:8080/",
          "height": 407
        },
        "outputId": "a64dd8d8-be19-47b1-d0e8-c1e673c6613d"
      },
      "outputs": [
        {
          "output_type": "execute_result",
          "data": {
            "text/plain": [
              "Text(tensor(0.9500), 15.783201826413642, 'prob=1.0')"
            ]
          },
          "metadata": {},
          "execution_count": 255
        },
        {
          "output_type": "display_data",
          "data": {
            "text/plain": [
              "<Figure size 648x432 with 1 Axes>"
            ],
            "image/png": "[encoded data removed]"
          },
          "metadata": {
            "needs_background": "light"
          }
        }
      ],
      "source": [
        "# search check\n",
        "plt.figure(figsize=(9, 6))\n",
        "plt.plot(prob_search, search_score)\n",
        "plt.xlabel('probability')\n",
        "plt.ylabel('regression error')\n",
        "plt.scatter(prob_search[index], loss, s=50, color=\"red\")\n",
        "plt.text(prob_search[index]*(1-0.05), loss*(1+0.01), f'prob={prob}', fontsize=12)"
      ]
    },
    {
      "cell_type": "code",
      "execution_count": null,
      "metadata": {
        "id": "zs-zpOO8aDrN",
        "colab": {
          "base_uri": "https://localhost:8080/"
        },
        "outputId": "9273a5df-6c85-4e3f-c63f-9db27b0ae28a"
      },
      "outputs": [
        {
          "output_type": "stream",
          "name": "stdout",
          "text": [
            "Regression loss: 15.33994278256761\n"
          ]
        }
      ],
      "source": [
        "for i in range(rand_epoch):\n",
        "    fe_dict = feature_extraction(data_dict, f_dim, criterion, data_type='test', model_type='MLAE_basic', prob=prob)\n",
        "    reg_loss = repr_learning(fe_dict, criterion, reg_coeff=reg_coeff)\n",
        "    fe_loss_dict['MLAE_basic'].append(reg_loss)\n",
        "print('Regression loss:', np.mean(fe_loss_dict['MLAE_basic']))"
      ]
    },
    {
      "cell_type": "code",
      "execution_count": null,
      "metadata": {
        "id": "tfFIpuyrnlDo"
      },
      "outputs": [],
      "source": [
        "#print('mean:', statistics.mean(fe_loss_dict['MLAE_basic']), ', sd:', statistics.stdev(fe_loss_dict['MLAE_basic']))"
      ]
    },
    {
      "cell_type": "markdown",
      "metadata": {
        "id": "mYkcloIWaDrO"
      },
      "source": [
        "##### Masked linear autoencoder (probs)"
      ]
    },
    {
      "cell_type": "code",
      "execution_count": null,
      "metadata": {
        "id": "QjhPsme3aDrO"
      },
      "outputs": [],
      "source": [
        "# grid search\n",
        "search_score = []\n",
        "search_record = {'params': -1, 'best_score': 1e8, 'index': 0}\n",
        "\n",
        "for index, prob_list in enumerate(prob_list_search):\n",
        "    total_loss = 0\n",
        "    for i in range(rand_epoch):\n",
        "        fe_dict = feature_extraction(data_dict, f_dim, criterion, model_type='MLAE_probs', prob_list=prob_list, mask_val=mask_val)\n",
        "        reg_loss = repr_learning(fe_dict, criterion, reg_coeff=reg_coeff)\n",
        "        total_loss += reg_loss\n",
        "    loss = total_loss / rand_epoch\n",
        "    search_score.append(loss)\n",
        "    if loss < search_record['best_score']:\n",
        "        search_record['best_score'] = loss\n",
        "        search_record['params'] = prob_list\n",
        "        search_record['index'] = index"
      ]
    },
    {
      "cell_type": "code",
      "execution_count": null,
      "metadata": {
        "id": "N47wNFMGujEa",
        "colab": {
          "base_uri": "https://localhost:8080/"
        },
        "outputId": "52672191-2718-47b1-ec5e-6910eb92d9f4"
      },
      "outputs": [
        {
          "output_type": "stream",
          "name": "stdout",
          "text": [
            "prob: 0.01 \n",
            "loss: 15.61622633147603\n"
          ]
        }
      ],
      "source": [
        "prob_list = search_record['params']\n",
        "loss = search_record['best_score']\n",
        "index = search_record['index']\n",
        "prob = round(prob_search[index].item(), 2)\n",
        "print('prob:', prob, '\\nloss:', loss)"
      ]
    },
    {
      "cell_type": "code",
      "execution_count": null,
      "metadata": {
        "id": "zmJaV5zpueHg",
        "colab": {
          "base_uri": "https://localhost:8080/",
          "height": 407
        },
        "outputId": "a447de5b-5e28-4e0d-8e05-86557f1475f5"
      },
      "outputs": [
        {
          "output_type": "execute_result",
          "data": {
            "text/plain": [
              "Text(tensor(0.0095), 15.77238859479079, 'prob=0.01')"
            ]
          },
          "metadata": {},
          "execution_count": 260
        },
        {
          "output_type": "display_data",
          "data": {
            "text/plain": [
              "<Figure size 648x432 with 1 Axes>"
            ],
            "image/png": "[encoded data removed]"
          },
          "metadata": {
            "needs_background": "light"
          }
        }
      ],
      "source": [
        "# search check\n",
        "plt.figure(figsize=(9, 6))\n",
        "plt.plot(prob_search[:90], search_score)\n",
        "plt.xlabel('probability')\n",
        "plt.ylabel('regression error')\n",
        "plt.scatter(prob_search[index], loss, s=50, color=\"red\")\n",
        "plt.text(prob_search[index]*(1-0.05), loss*(1+0.01), f'prob={prob}', fontsize=12)"
      ]
    },
    {
      "cell_type": "code",
      "execution_count": null,
      "metadata": {
        "id": "cy-i6MCExwGO",
        "colab": {
          "base_uri": "https://localhost:8080/"
        },
        "outputId": "26cc4213-7e34-40d3-a230-cf669f34ea22"
      },
      "outputs": [
        {
          "output_type": "stream",
          "name": "stdout",
          "text": [
            "Regression loss: 15.35566310344556\n"
          ]
        }
      ],
      "source": [
        "for i in range(rand_epoch):\n",
        "    fe_dict = feature_extraction(data_dict, f_dim, criterion, data_type='test', model_type='MLAE_probs', prob_list=prob_list)\n",
        "    reg_loss = repr_learning(fe_dict, criterion, reg_coeff=reg_coeff)\n",
        "    fe_loss_dict['MLAE_probs'].append(reg_loss)\n",
        "print('Regression loss:', np.mean(fe_loss_dict['MLAE_probs']))"
      ]
    },
    {
      "cell_type": "code",
      "execution_count": null,
      "metadata": {
        "id": "dK62YaQGcMyR"
      },
      "outputs": [],
      "source": [
        "#print('mean:', statistics.mean(fe_loss_dict['MLAE_probs']), ', sd:', statistics.stdev(fe_loss_dict['MLAE_probs']))"
      ]
    },
    {
      "cell_type": "markdown",
      "metadata": {
        "id": "si7wv4fGaDrO"
      },
      "source": [
        "##### Masked linear autoencoder (patches)"
      ]
    },
    {
      "cell_type": "code",
      "execution_count": null,
      "metadata": {
        "id": "zk_0aTEcu0jl",
        "colab": {
          "base_uri": "https://localhost:8080/"
        },
        "outputId": "49b387c6-7fb7-44e1-8d53-e231fec81ebd"
      },
      "outputs": [
        {
          "output_type": "stream",
          "name": "stderr",
          "text": [
            "/usr/local/lib/python3.7/dist-packages/ipykernel_launcher.py:62: UserWarning: __rfloordiv__ is deprecated, and its behavior will change in a future version of pytorch. It currently rounds toward 0 (like the 'trunc' function NOT 'floor'). This results in incorrect rounding for negative values. To keep the current behavior, use torch.div(a, b, rounding_mode='trunc'), or for actual floor division, use torch.div(a, b, rounding_mode='floor').\n",
            "/usr/local/lib/python3.7/dist-packages/ipykernel_launcher.py:65: UserWarning: __rfloordiv__ is deprecated, and its behavior will change in a future version of pytorch. It currently rounds toward 0 (like the 'trunc' function NOT 'floor'). This results in incorrect rounding for negative values. To keep the current behavior, use torch.div(a, b, rounding_mode='trunc'), or for actual floor division, use torch.div(a, b, rounding_mode='floor').\n",
            "/usr/local/lib/python3.7/dist-packages/ipykernel_launcher.py:67: UserWarning: __rfloordiv__ is deprecated, and its behavior will change in a future version of pytorch. It currently rounds toward 0 (like the 'trunc' function NOT 'floor'). This results in incorrect rounding for negative values. To keep the current behavior, use torch.div(a, b, rounding_mode='trunc'), or for actual floor division, use torch.div(a, b, rounding_mode='floor').\n",
            "/usr/local/lib/python3.7/dist-packages/ipykernel_launcher.py:22: UserWarning: __rfloordiv__ is deprecated, and its behavior will change in a future version of pytorch. It currently rounds toward 0 (like the 'trunc' function NOT 'floor'). This results in incorrect rounding for negative values. To keep the current behavior, use torch.div(a, b, rounding_mode='trunc'), or for actual floor division, use torch.div(a, b, rounding_mode='floor').\n"
          ]
        }
      ],
      "source": [
        "# grid search\n",
        "search_score = []\n",
        "search_record = {'params': -1, 'best_score': 1e8, 'index': 0}\n",
        "\n",
        "for index, prob in enumerate(prob_search):\n",
        "    for patch_size in patch_size_plain_search:\n",
        "        total_loss = 0\n",
        "        for i in range(rand_epoch):\n",
        "            fe_dict = feature_extraction(data_dict, f_dim, criterion, model_type='MLAE_patches', prob=prob, patch_size=patch_size, mask_val=mask_val)\n",
        "            reg_loss = repr_learning(fe_dict, criterion, reg_coeff=reg_coeff)\n",
        "            total_loss += reg_loss\n",
        "        loss = total_loss / rand_epoch\n",
        "        search_score.append(loss)\n",
        "        if loss < search_record['best_score']:\n",
        "            search_record['best_score'] = loss\n",
        "            search_record['params'] = (prob, patch_size)\n",
        "            search_record['index'] = index"
      ]
    },
    {
      "cell_type": "code",
      "execution_count": null,
      "metadata": {
        "id": "lidLQTaFu06m",
        "colab": {
          "base_uri": "https://localhost:8080/"
        },
        "outputId": "f21d65a2-8a36-4a78-ab22-bff52d6098b2"
      },
      "outputs": [
        {
          "output_type": "stream",
          "name": "stdout",
          "text": [
            "prob: 0.79 \n",
            "patch size: tensor(16) \n",
            "loss: 15.604965732689806\n"
          ]
        }
      ],
      "source": [
        "prob = round(search_record['params'][0].item(), 2)\n",
        "patch_size = search_record['params'][1]\n",
        "loss = search_record['best_score']\n",
        "index = search_record['index']\n",
        "print('prob:', prob, '\\npatch size:', patch_size, '\\nloss:', loss)"
      ]
    },
    {
      "cell_type": "code",
      "execution_count": null,
      "metadata": {
        "id": "NNIFMFDfEHni",
        "colab": {
          "base_uri": "https://localhost:8080/",
          "height": 407
        },
        "outputId": "21495e9d-99a2-4ea0-84f4-61c32d78fc20"
      },
      "outputs": [
        {
          "output_type": "execute_result",
          "data": {
            "text/plain": [
              "Text(tensor(0.7505), 15.761015390016704, 'prob=0.79')"
            ]
          },
          "metadata": {},
          "execution_count": 265
        },
        {
          "output_type": "display_data",
          "data": {
            "text/plain": [
              "<Figure size 648x432 with 1 Axes>"
            ],
            "image/png": "[encoded data removed]"
          },
          "metadata": {
            "needs_background": "light"
          }
        }
      ],
      "source": [
        "# search check\n",
        "plt.figure(figsize=(9, 6))\n",
        "len_loop = len(patch_size_plain_search)\n",
        "for i in range(len_loop):\n",
        "    plt.plot(prob_search, search_score[i::len_loop])\n",
        "plt.legend([f'patch size: {patch_size}' for patch_size in patch_size_plain_search])\n",
        "plt.xlabel('probability')\n",
        "plt.ylabel('regression error')\n",
        "plt.scatter(prob_search[index], loss, s=50, color=\"red\")\n",
        "plt.text(prob_search[index]*(1-0.05), loss*(1+0.01), f'prob={prob}', fontsize=12)"
      ]
    },
    {
      "cell_type": "code",
      "execution_count": null,
      "metadata": {
        "id": "m5CH1NYfaDrO",
        "colab": {
          "base_uri": "https://localhost:8080/"
        },
        "outputId": "e41233c9-19da-4432-81ee-8f68b0c9b3bd"
      },
      "outputs": [
        {
          "output_type": "stream",
          "name": "stdout",
          "text": [
            "Regression loss: 15.332924352083007\n"
          ]
        },
        {
          "output_type": "stream",
          "name": "stderr",
          "text": [
            "/usr/local/lib/python3.7/dist-packages/ipykernel_launcher.py:62: UserWarning: __rfloordiv__ is deprecated, and its behavior will change in a future version of pytorch. It currently rounds toward 0 (like the 'trunc' function NOT 'floor'). This results in incorrect rounding for negative values. To keep the current behavior, use torch.div(a, b, rounding_mode='trunc'), or for actual floor division, use torch.div(a, b, rounding_mode='floor').\n",
            "/usr/local/lib/python3.7/dist-packages/ipykernel_launcher.py:65: UserWarning: __rfloordiv__ is deprecated, and its behavior will change in a future version of pytorch. It currently rounds toward 0 (like the 'trunc' function NOT 'floor'). This results in incorrect rounding for negative values. To keep the current behavior, use torch.div(a, b, rounding_mode='trunc'), or for actual floor division, use torch.div(a, b, rounding_mode='floor').\n",
            "/usr/local/lib/python3.7/dist-packages/ipykernel_launcher.py:67: UserWarning: __rfloordiv__ is deprecated, and its behavior will change in a future version of pytorch. It currently rounds toward 0 (like the 'trunc' function NOT 'floor'). This results in incorrect rounding for negative values. To keep the current behavior, use torch.div(a, b, rounding_mode='trunc'), or for actual floor division, use torch.div(a, b, rounding_mode='floor').\n",
            "/usr/local/lib/python3.7/dist-packages/ipykernel_launcher.py:22: UserWarning: __rfloordiv__ is deprecated, and its behavior will change in a future version of pytorch. It currently rounds toward 0 (like the 'trunc' function NOT 'floor'). This results in incorrect rounding for negative values. To keep the current behavior, use torch.div(a, b, rounding_mode='trunc'), or for actual floor division, use torch.div(a, b, rounding_mode='floor').\n"
          ]
        }
      ],
      "source": [
        "for i in range(rand_epoch):\n",
        "    fe_dict = feature_extraction(data_dict, f_dim, criterion, data_type='test', model_type='MLAE_patches', prob=prob, patch_size=patch_size)\n",
        "    reg_loss = repr_learning(fe_dict, criterion, reg_coeff=reg_coeff)\n",
        "    fe_loss_dict['MLAE_patches'].append(reg_loss)\n",
        "print('Regression loss:', np.mean(fe_loss_dict['MLAE_patches']))"
      ]
    },
    {
      "cell_type": "code",
      "execution_count": null,
      "metadata": {
        "id": "TcRAg3E-cVnc"
      },
      "outputs": [],
      "source": [
        "#print('mean:', statistics.mean(fe_loss_dict['MLAE_patches']), ', sd:', statistics.stdev(fe_loss_dict['MLAE_patches']))"
      ]
    },
    {
      "cell_type": "markdown",
      "source": [
        "### Get features from unsupervised learning"
      ],
      "metadata": {
        "id": "XURfStL2RAav"
      }
    },
    {
      "cell_type": "markdown",
      "source": [
        "##### PCA"
      ],
      "metadata": {
        "id": "-h_I5HuGRGB1"
      }
    },
    {
      "cell_type": "code",
      "source": [
        "# feature extraction\n",
        "U, S, V = torch.pca_lowrank(X_train, q=f_dim)\n",
        "fe_dict = {'f_train': X_train@V, 'y_train': y_train, 'f_test': X_test@V, 'y_test': y_test}\n",
        "reg_loss = repr_learning(fe_dict, criterion, reg_coeff=reg_coeff)\n",
        "fe_loss_dict['PCA'].append(reg_loss)\n",
        "print('Regression loss:', np.mean(fe_loss_dict['PCA']))"
      ],
      "metadata": {
        "colab": {
          "base_uri": "https://localhost:8080/"
        },
        "id": "HFUgAB0TRLTH",
        "outputId": "48a278a4-271c-425a-bb7e-7fd957107cfd"
      },
      "execution_count": null,
      "outputs": [
        {
          "output_type": "stream",
          "name": "stdout",
          "text": [
            "Regression loss: 14.708839017797873\n"
          ]
        }
      ]
    },
    {
      "cell_type": "markdown",
      "metadata": {
        "id": "-4BzVMlQdmJ4"
      },
      "source": [
        "### Evaluation"
      ]
    },
    {
      "cell_type": "code",
      "execution_count": null,
      "metadata": {
        "id": "IQdzko_m8UD3",
        "colab": {
          "base_uri": "https://localhost:8080/",
          "height": 444
        },
        "outputId": "9e73c860-5afc-43e2-9e27-398ea98a774b"
      },
      "outputs": [
        {
          "output_type": "display_data",
          "data": {
            "text/plain": [
              "<Figure size 720x504 with 1 Axes>"
            ],
            "image/png": "[encoded data removed]"
          },
          "metadata": {
            "needs_background": "light"
          }
        }
      ],
      "source": [
        "data = fe_loss_dict.values()\n",
        " \n",
        "fig = plt.figure(figsize =(10, 7))\n",
        "ax = fig.add_subplot(111)\n",
        " \n",
        "# Creating axes instance\n",
        "bp = ax.boxplot(data, patch_artist = True,\n",
        "                notch ='True', vert = 0)\n",
        " \n",
        "colors = ['#0000FF', '#00FF00',\n",
        "          '#FFFF00', '#FF00FF', '#00FFFF']\n",
        " \n",
        "for patch, color in zip(bp['boxes'], colors):\n",
        "    patch.set_facecolor(color)\n",
        " \n",
        "# changing color and linewidth of\n",
        "# whiskers\n",
        "for whisker in bp['whiskers']:\n",
        "    whisker.set(color ='#8B008B',\n",
        "                linewidth = 1.5,\n",
        "                linestyle =\":\")\n",
        " \n",
        "# changing color and linewidth of\n",
        "# caps\n",
        "for cap in bp['caps']:\n",
        "    cap.set(color ='#8B008B',\n",
        "            linewidth = 2)\n",
        " \n",
        "# changing color and linewidth of\n",
        "# medians\n",
        "for median in bp['medians']:\n",
        "    median.set(color ='red',\n",
        "               linewidth = 3)\n",
        " \n",
        "# changing style of fliers\n",
        "for flier in bp['fliers']:\n",
        "    flier.set(marker ='D',\n",
        "              color ='#e7298a',\n",
        "              alpha = 0.5)\n",
        "     \n",
        "# x-axis labels\n",
        "ax.set_yticklabels(fe_loss_dict.keys())\n",
        "#ax.set_yticklabels(patch_dict.keys())\n",
        " \n",
        "# Adding title\n",
        "plt.title(\"Box plot for feature loss\")\n",
        " \n",
        "# Removing top axes and right axes\n",
        "# ticks\n",
        "ax.get_xaxis().tick_bottom()\n",
        "ax.get_yaxis().tick_left()\n",
        "     \n",
        "# show plot\n",
        "plt.show()"
      ]
    },
    {
      "cell_type": "code",
      "source": [],
      "metadata": {
        "id": "JQ1MfXYQqxeC"
      },
      "execution_count": null,
      "outputs": []
    }
  ],
  "metadata": {
    "accelerator": "GPU",
    "colab": {
      "collapsed_sections": [],
      "provenance": [],
      "include_colab_link": true
    },
    "gpuClass": "standard",
    "kernelspec": {
      "display_name": "Python 3.9.6 ('SSL_venv': venv)",
      "language": "python",
      "name": "python3"
    },
    "language_info": {
      "codemirror_mode": {
        "name": "ipython",
        "version": 3
      },
      "file_extension": ".py",
      "mimetype": "text/x-python",
      "name": "python",
      "nbconvert_exporter": "python",
      "pygments_lexer": "ipython3",
      "version": "3.9.6"
    },
    "vscode": {
      "interpreter": {
        "hash": "9c3c12edae13c0508bae753e64eeaec91e16c05e32c8c48bac5bd7ee2e37cd7c"
      }
    }
  },
  "nbformat": 4,
  "nbformat_minor": 0
}