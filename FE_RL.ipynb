{
  "cells": [
    {
      "cell_type": "markdown",
      "metadata": {
        "id": "view-in-github",
        "colab_type": "text"
      },
      "source": [
        "<a href=\"https://colab.research.google.com/github/Zhuoyue-Huang/urop_2022_ml/blob/main/FE_RL.ipynb\" target=\"_parent\"><img src=\"https://colab.research.google.com/assets/colab-badge.svg\" alt=\"Open In Colab\"/></a>"
      ]
    },
    {
      "cell_type": "code",
      "execution_count": 272,
      "metadata": {
        "id": "Kbg1kWfKaDrE"
      },
      "outputs": [],
      "source": [
        "\"\"\"Verify the gradient derivation of linear masked autoencoder.\"\"\"\n",
        "import torch\n",
        "import torch.nn as nn\n",
        "import torch.optim as optim\n",
        "import matplotlib.pyplot as plt\n",
        "from tqdm import tqdm\n",
        "import statistics\n",
        "import numpy as np\n",
        "from torch.distributions.exponential import Exponential"
      ]
    },
    {
      "cell_type": "code",
      "execution_count": 273,
      "metadata": {
        "id": "lI0EeuiHacLQ"
      },
      "outputs": [],
      "source": [
        "device = torch.device('cuda' if torch.cuda.is_available() else 'cpu')"
      ]
    },
    {
      "cell_type": "code",
      "execution_count": 274,
      "metadata": {
        "id": "ieYyVAs6NgaM"
      },
      "outputs": [],
      "source": [
        "# set default to be float64\n",
        "torch.set_default_dtype(torch.float64)"
      ]
    },
    {
      "cell_type": "markdown",
      "metadata": {
        "id": "UqQEFeEGaDrH"
      },
      "source": [
        "### Model initialisation"
      ]
    },
    {
      "cell_type": "code",
      "execution_count": 275,
      "metadata": {
        "id": "j73gZMhnaDrI"
      },
      "outputs": [],
      "source": [
        "## Masked lienar auto-encoder model\n",
        "# Define different types of masks\n",
        "def mask_basic(prob, sample_num, x_dim, scale_val=0, device='cuda'):\n",
        "    return torch.zeros(sample_num, x_dim, device=device).bernoulli_(prob)*(1-scale_val) + scale_val\n",
        "\n",
        "def mask_probs(prob_list: torch.Tensor, sample_num, x_dim, scale_val=0, device='cuda'):\n",
        "    return torch.zeros(sample_num, x_dim, device=device).bernoulli_(prob_list)*(1-scale_val) + scale_val\n",
        "\n",
        "# def mask_patches_block(prob, patch_size: torch.Tensor, sample_num, sample_dim: torch.Tensor, device='cuda'):\n",
        "#     x_dim = sample_dim[0]*sample_dim[1]\n",
        "#     div_check = sample_dim % patch_size == torch.zeros(2)\n",
        "#     if torch.all(div_check):\n",
        "#         pix_num = torch.div(sample_dim, patch_size, rounding_mode='floor')\n",
        "#         mat_patches = torch.zeros(sample_num, *pix_num).bernoulli_(prob).to(device)\n",
        "#         mat_patches = torch.repeat_interleave(mat_patches, patch_size[1], dim=2)\n",
        "#         return mat_patches.repeat_interleave(patch_size[0], dim=1).view(sample_num, x_dim)\n",
        "#     else:\n",
        "#         raise NotImplementedError(f\"Both height ({sample_dim[0]}) and width ({sample_dim[1]}) should be divisible by patch_size ({patch_size}).\")\n",
        "\n",
        "def mask_patches_plain(prob, patch_size, sample_num, x_dim, scale_val=0, device='cuda'):\n",
        "    if not x_dim % patch_size:\n",
        "        pix_num = x_dim // patch_size\n",
        "        mat_patches = torch.zeros(sample_num, pix_num).bernoulli_(prob)\n",
        "        return mat_patches.repeat_interleave(patch_size, dim=1).to(device)*(1-scale_val) + scale_val\n",
        "    else:\n",
        "        raise NotImplementedError"
      ]
    },
    {
      "cell_type": "code",
      "source": [
        "def feature_extraction(data_dict, f_dim, criterion, model_type, prob=None, prob_list=None, patch_size=None, scale_val=0, mask_val=0, data_type='val', device='cuda'):\n",
        "    X_train, y_train, X_val, y_val, X_test, y_test = data_dict.values()\n",
        "    train_num, x_dim = X_train.shape\n",
        "    val_num = X_val.shape[0]\n",
        "    y_dim = y_train.shape[1]\n",
        "    if model_type == 'LAE':\n",
        "        Sigma = X_train.T @ X_train\n",
        "        U, _, _ = torch.linalg.svd(Sigma)\n",
        "        U = U[:, :f_dim]\n",
        "        W1 = U.T \n",
        "        W2 = U\n",
        "        loss = criterion(X_val@W1.T@W2.T, X_val)\n",
        "    else:\n",
        "        X = X_train\n",
        "        if prob == 1 or scale_val==1:\n",
        "            Sigma = X.T@X\n",
        "            U, _, _ = torch.linalg.svd(Sigma)\n",
        "            U = U[:, :f_dim]\n",
        "            W1 = U.T\n",
        "            W2 = U\n",
        "            loss = criterion(X_val@W1.T@W2.T, X_val)\n",
        "        else:\n",
        "            mask_dict = {}\n",
        "            if model_type == 'MLAE_basic':\n",
        "                first_moment = prob + scale_val * (1-prob)\n",
        "                second_moment = prob + scale_val**2 * (1-prob)\n",
        "                second_moment_reverse = 1-prob + scale_val**2 * prob\n",
        "                mask_dict['mean'] = (torch.ones(train_num, x_dim, device=device) * first_moment)\n",
        "                mask_dict['square'] = torch.ones(x_dim, x_dim, device=device) * first_moment**2\n",
        "                mask_dict['square'].fill_diagonal_(second_moment)\n",
        "\n",
        "                x0_sum = torch.sum(X, 0, keepdim=True).repeat(x_dim, 1)\n",
        "                mask_x = torch.diag(torch.ones(x_dim, device=device))\n",
        "                mean_reverse = mask_x*(first_moment-second_moment)+(1-mask_x)*first_moment*(1-first_moment)\n",
        "                square_reverse = torch.ones(x_dim, x_dim, device=device) * (1-first_moment)**2\n",
        "                square_reverse.fill_diagonal_(second_moment_reverse)\n",
        "                mask_dict['var_increment'] = mask_val*(x0_sum+x0_sum.T)*mean_reverse + (mask_val**2)*train_num*square_reverse\n",
        "\n",
        "            elif model_type == 'MLAE_probs':\n",
        "                first_moment = prob_list + scale_val * (1-prob_list)\n",
        "                second_moment = prob_list + scale_val**2 * (1-prob_list)\n",
        "                second_moment_reverse = 1-prob_list + scale_val**2*prob_list\n",
        "                mask_dict['mean'] = first_moment.repeat(train_num, 1).to(device)\n",
        "                mask_dict['square'] = first_moment.view(x_dim, 1) @ first_moment.view(1, x_dim)\n",
        "                mask_dict['square'] = (mask_dict['square'].fill_diagonal_(0) + torch.diag(second_moment)).to(device)\n",
        "                \n",
        "                x0_sum = torch.sum(X, 0, keepdim=True).repeat(x_dim, 1)\n",
        "                p_mat = first_moment.repeat(x_dim, 1).to(device)\n",
        "                mask_x = torch.diag(torch.ones(x_dim, device=device))\n",
        "                mean_reverse = torch.diag(first_moment-second_moment).to(device)+(1-mask_x)*(1-p_mat.T)*p_mat\n",
        "                square_reverse = (1-first_moment).view(x_dim, 1) @ (1-first_moment).view(1, x_dim)\n",
        "                square_reverse = (square_reverse.fill_diagonal_(0) + torch.diag(second_moment_reverse)).to(device)\n",
        "                mask_dict['var_increment'] = mask_val*mean_reverse*x0_sum + mask_val*mean_reverse.T*x0_sum.T*mask_x + (mask_val**2)*train_num*square_reverse\n",
        "                \n",
        "            elif model_type == 'MLAE_patches':\n",
        "                first_moment = prob + scale_val * (1-prob)\n",
        "                second_moment = prob + scale_val**2 * (1-prob)\n",
        "                second_moment_reverse = 1-prob + scale_val**2 * prob\n",
        "                mask_dict['mean'] = torch.ones(train_num, x_dim, device=device) * first_moment\n",
        "                # plain patches\n",
        "                patch_block_mat = torch.ones(patch_size, patch_size, device=device)\n",
        "                mask_dict['square'] = torch.block_diag(*[patch_block_mat]*(x_dim//patch_size))*(second_moment-first_moment**2) + first_moment**2\n",
        "\n",
        "                x0_sum = torch.sum(X, 0, keepdim=True).repeat(x_dim, 1)\n",
        "                mask_x = torch.block_diag(*[patch_block_mat]*(x_dim//patch_size))\n",
        "                mean_reverse = mask_x*(first_moment-second_moment) + (1-mask_x)*first_moment*(1-first_moment)\n",
        "                square_reverse = torch.block_diag(*[patch_block_mat]*(x_dim//patch_size))*(second_moment_reverse-(1-first_moment)**2) + (1-first_moment)**2\n",
        "                mask_dict['var_increment'] = mask_val*(x0_sum+x0_sum.T)*mean_reverse + (mask_val**2)*train_num*square_reverse\n",
        "                # block patches\n",
        "                # patch_size = [2, 2]\n",
        "                # pix_num = torch.div(torch.tensor(sample_dim), torch.tensor(patch_size), rounding_mode='floor')\n",
        "                # mat_patches = torch.arange(pix_num[0]*pix_num[1]).view(*pix_num)\n",
        "                # mat_patches = torch.repeat_interleave(mat_patches, patch_size[1], dim=1)\n",
        "                # mat_patches = torch.repeat_interleave(mat_patches, patch_size[0], dim=0).view(n)\n",
        "                # mask_dict['square'] = torch.zeros(x_dim, x_dim)\n",
        "                # for i in range(x_dim):\n",
        "                #     for j in range(x_dim):\n",
        "                #         if mat_patches[i] == mat_patches[j]:\n",
        "                #             mask_dict['square'][i, j] = prob\n",
        "                #         else:\n",
        "                #             mask_dict['square'][i, j] = prob**2\n",
        "            try:\n",
        "                inv = torch.inverse(mask_dict['square']*(X.T@X) + mask_dict['var_increment'])\n",
        "            except torch._C._LinAlgError:\n",
        "                # Sigma_XX = X.T@X\n",
        "                # U_XX, S_XX, Vh_XX = torch.linalg.svd(Sigma_XX)\n",
        "                # print(S_XX)\n",
        "                # inv = Vh_XX.T*torch.inverse(torch.diag(S_XX+1e-4))*U_XX.T\n",
        "\n",
        "                perturbation = torch.diag(torch.ones(x_dim, device=device)*1e-20)\n",
        "                inv = torch.inverse(mask_dict['square']*(X.T@X) + mask_dict['var_increment'] + perturbation)\n",
        "            Sigma = X.T@(mask_dict['mean']*X+(1-mask_dict['mean'])*mask_val) @ inv @ ((mask_dict['mean']*X+(1-mask_dict['mean'])*mask_val).T@X)\n",
        "            U, _, _ = torch.linalg.svd(Sigma)\n",
        "            U = U[:, :f_dim]\n",
        "            W1 = U.T @ (X.T@(mask_dict['mean']*X+(1-mask_dict['mean'])*mask_val)) @ inv\n",
        "            W2 = U\n",
        "            if model_type == 'MLAE_basic':\n",
        "                loss = criterion((mask_basic(prob, val_num, x_dim, scale_val=scale_val)*X_val)@W1.T@W2.T, X_val)\n",
        "            elif model_type == 'MLAE_probs':\n",
        "                loss = criterion((mask_probs(prob_list, val_num, x_dim, scale_val=scale_val)*X_val)@W1.T@W2.T, X_val)\n",
        "            elif model_type == 'MLAE_patches':\n",
        "                loss = criterion((mask_patches_plain(prob, patch_size, val_num, x_dim, scale_val=scale_val)*X_val)@W1.T@W2.T, X_val)\n",
        "    if data_type == 'val':\n",
        "        test_X = X_val\n",
        "        test_y = y_val\n",
        "    elif data_type == 'test':\n",
        "        test_X = X_test\n",
        "        test_y = y_test\n",
        "    \n",
        "    f_train = X_train @ W1.T\n",
        "    f_test = test_X @ W1.T\n",
        "\n",
        "    return {'f_train': f_train, 'y_train': y_train, 'f_test': f_test, 'y_test': test_y}"
      ],
      "metadata": {
        "id": "L7AbxmnSTNaZ"
      },
      "execution_count": 276,
      "outputs": []
    },
    {
      "cell_type": "code",
      "execution_count": 277,
      "metadata": {
        "id": "TjY8ezY7aDrJ"
      },
      "outputs": [],
      "source": [
        "# representation learning\n",
        "def repr_learning(fe_dict, criterion, reg_coeff=0, device='cuda'):\n",
        "    f_train, y_train, f_test, y_test = fe_dict.values()\n",
        "\n",
        "    theta = (torch.inverse(f_train.T@f_train+reg_coeff*torch.eye(f_dim, device=device)) @ f_train.T @ y_train).T\n",
        "    loss = criterion(y_test, f_test @ theta.T)\n",
        "    return loss.item()"
      ]
    },
    {
      "cell_type": "markdown",
      "metadata": {
        "id": "es2QcO7qaDrK"
      },
      "source": [
        "### Dataset"
      ]
    },
    {
      "cell_type": "code",
      "execution_count": 278,
      "metadata": {
        "id": "NoF5AZwxGVU7"
      },
      "outputs": [],
      "source": [
        "train_num, val_num, test_num = (4000, 500, 2000) # larger number of dataset\n",
        "sample_num_split = (train_num, train_num + val_num)\n",
        "total = train_num+val_num+test_num\n",
        "\n",
        "# need to consider f_dim <, =, > z_dim\n",
        "z_dim = 30 # dimension of z\n",
        "H = 8\n",
        "W = 8\n",
        "sample_dim = torch.tensor([H, W])\n",
        "x_dim = H * W\n",
        "f_dim = 15\n",
        "y_dim = z_dim // 2\n",
        "\n",
        "prob_search = torch.arange(0.01, 1+0.01, 0.01)\n",
        "prob_list_search = torch.rand(x_dim, generator=torch.random.manual_seed(1911))*0.1 + torch.repeat_interleave(torch.arange(0.01, 0.9+0.01, 0.01).unsqueeze(1), x_dim, dim=1)\n",
        "patch_size_plain_search = torch.tensor([1, 2, 4, 8, 16])\n",
        "# patch_size_block_search = []\n",
        "# for i in [1, 2, 4, 8, 16]:\n",
        "#     for j in [1, 2, 4, 8, 16]:\n",
        "#         patch_size_block_search.append([i, j])\n",
        "# patch_size_search = torch.tensor(patch_size_block_search)"
      ]
    },
    {
      "cell_type": "code",
      "execution_count": 279,
      "metadata": {
        "id": "6-p1AuTWIJk9"
      },
      "outputs": [],
      "source": [
        "#mean = torch.linspace(0, 5, z_dim).repeat(total, 1)\n",
        "#std = torch.linspace(3, 8, z_dim).repeat(total, 1)\n",
        "#m = Exponential(1)\n",
        "#z = m.rsample((total,z_dim))\n",
        "#z = torch.normal(mean=mean, std=std, generator=torch.random.manual_seed(1911))\n",
        "z = torch.normal(mean=10, std=1, size=(total,z_dim), generator=torch.random.manual_seed(1911))# here distribution is high dimensional guassian\n",
        "z = z.to(device)"
      ]
    },
    {
      "cell_type": "code",
      "execution_count": 280,
      "metadata": {
        "id": "rLboN52waDrK",
        "colab": {
          "base_uri": "https://localhost:8080/"
        },
        "outputId": "71d73828-0433-40c1-a8e2-fe5f5571e8d6"
      },
      "outputs": [
        {
          "output_type": "stream",
          "name": "stdout",
          "text": [
            "tensor(-8.8410, device='cuda:0')\n"
          ]
        }
      ],
      "source": [
        "U = torch.rand(x_dim, z_dim, generator=torch.random.manual_seed(1911))*2-1\n",
        "U = U.to(device)\n",
        "V = torch.rand(y_dim, z_dim, generator=torch.random.manual_seed(1911))*2-1\n",
        "V = V.to(device)\n",
        "\n",
        "x = z @ U.T\n",
        "print(torch.mean(x))\n",
        "y = z @ V.T\n",
        "X_train, X_val, X_test = torch.tensor_split(x, sample_num_split)\n",
        "y_train, y_val, y_test = torch.tensor_split(y, sample_num_split)\n",
        "data_dict = {'X_train': X_train, 'y_train': y_train, 'X_val': X_val, 'y_val': y_val, 'X_test': X_test, 'y_test': y_test}\n",
        "fe_loss_dict = {'LAE': [], 'MLAE_basic': [], 'MLAE_probs': [], 'MLAE_patches': [], 'PCA': []}"
      ]
    },
    {
      "cell_type": "code",
      "execution_count": 281,
      "metadata": {
        "id": "_H5fnGlMaDrL"
      },
      "outputs": [],
      "source": [
        "criterion = nn.MSELoss()\n",
        "rand_epoch = 1\n",
        "reg_coeff = 1\n",
        "mask_val = 0.2"
      ]
    },
    {
      "cell_type": "markdown",
      "metadata": {
        "id": "DAoMiwCEaDrL"
      },
      "source": [
        "### Get features from autoencoder"
      ]
    },
    {
      "cell_type": "markdown",
      "metadata": {
        "id": "uPZVsK57aDrL"
      },
      "source": [
        "##### Linear autoencoder"
      ]
    },
    {
      "cell_type": "code",
      "execution_count": 282,
      "metadata": {
        "colab": {
          "base_uri": "https://localhost:8080/"
        },
        "id": "6K3nyMfkaDrM",
        "outputId": "328d85e0-0dfe-4505-f27a-ada753ad4ffd"
      },
      "outputs": [
        {
          "output_type": "stream",
          "name": "stdout",
          "text": [
            "Regression loss: 2.713081965106139\n"
          ]
        }
      ],
      "source": [
        "fe_dict = feature_extraction(data_dict, f_dim, criterion, data_type='test', model_type='LAE')\n",
        "reg_loss = repr_learning(fe_dict, criterion, reg_coeff=reg_coeff)\n",
        "fe_loss_dict['LAE'].append(reg_loss)\n",
        "print('Regression loss:', reg_loss)"
      ]
    },
    {
      "cell_type": "code",
      "execution_count": 283,
      "metadata": {
        "id": "DlVArcy5pOVU"
      },
      "outputs": [],
      "source": [
        "#print('mean:', statistics.mean(fe_loss_dict['LAE']), ', sd:', statistics.stdev(fe_loss_dict['LAE']))"
      ]
    },
    {
      "cell_type": "markdown",
      "metadata": {
        "id": "Ez_oZJ5OaDrN"
      },
      "source": [
        "##### Masked linear autoencoder (basic)"
      ]
    },
    {
      "cell_type": "code",
      "execution_count": 284,
      "metadata": {
        "id": "cYK3bC2qVXmA"
      },
      "outputs": [],
      "source": [
        "# grid search\n",
        "search_record = {'params': -1, 'best_score': 1e8, 'index': 0}\n",
        "search_score = []\n",
        "for index, prob in enumerate(prob_search):\n",
        "    total_loss = 0\n",
        "    for i in range(rand_epoch):\n",
        "        fe_dict = feature_extraction(data_dict, f_dim, criterion, model_type='MLAE_basic', prob=prob, mask_val=mask_val)\n",
        "        reg_loss = repr_learning(fe_dict, criterion, reg_coeff=reg_coeff)\n",
        "        total_loss += reg_loss\n",
        "    loss = total_loss / rand_epoch\n",
        "    search_score.append(loss)\n",
        "    if loss < search_record['best_score']:\n",
        "        search_record['best_score'] = loss\n",
        "        search_record['params'] = prob\n",
        "        search_record['index'] = index"
      ]
    },
    {
      "cell_type": "code",
      "execution_count": 285,
      "metadata": {
        "id": "HDlNPA1MmkUx",
        "colab": {
          "base_uri": "https://localhost:8080/"
        },
        "outputId": "80c7974a-0ad6-496a-cf6c-848e5f1a5d33"
      },
      "outputs": [
        {
          "output_type": "stream",
          "name": "stdout",
          "text": [
            "prob: 0.99 \n",
            "loss: 2.5730966796650514\n"
          ]
        }
      ],
      "source": [
        "prob = round(search_record['params'].item(), 2)\n",
        "loss = search_record['best_score']\n",
        "index = search_record['index']\n",
        "print('prob:', prob, '\\nloss:', loss)"
      ]
    },
    {
      "cell_type": "code",
      "execution_count": 286,
      "metadata": {
        "id": "Xl1YuRV5m5nA",
        "colab": {
          "base_uri": "https://localhost:8080/",
          "height": 406
        },
        "outputId": "af5e96e7-ffff-4481-9ff3-442b115ce367"
      },
      "outputs": [
        {
          "output_type": "execute_result",
          "data": {
            "text/plain": [
              "Text(tensor(0.9405), 2.598827646461702, 'prob=0.99')"
            ]
          },
          "metadata": {},
          "execution_count": 286
        },
        {
          "output_type": "display_data",
          "data": {
            "text/plain": [
              "<Figure size 648x432 with 1 Axes>"
            ],
            "image/png": "[encoded data removed]"
          },
          "metadata": {
            "needs_background": "light"
          }
        }
      ],
      "source": [
        "# search check\n",
        "plt.figure(figsize=(9, 6))\n",
        "plt.plot(prob_search, search_score)\n",
        "plt.xlabel('probability')\n",
        "plt.ylabel('regression error')\n",
        "plt.scatter(prob_search[index], loss, s=50, color=\"red\")\n",
        "plt.text(prob_search[index]*(1-0.05), loss*(1+0.01), f'prob={prob}', fontsize=12)"
      ]
    },
    {
      "cell_type": "code",
      "execution_count": 287,
      "metadata": {
        "id": "zs-zpOO8aDrN",
        "colab": {
          "base_uri": "https://localhost:8080/"
        },
        "outputId": "3d7e5c27-1e6f-4675-b2a0-6c49c4688f7e"
      },
      "outputs": [
        {
          "output_type": "stream",
          "name": "stdout",
          "text": [
            "Regression loss: 2.5812626092182045\n"
          ]
        }
      ],
      "source": [
        "for i in range(rand_epoch):\n",
        "    fe_dict = feature_extraction(data_dict, f_dim, criterion, data_type='test', model_type='MLAE_basic', prob=prob)\n",
        "    reg_loss = repr_learning(fe_dict, criterion, reg_coeff=reg_coeff)\n",
        "    fe_loss_dict['MLAE_basic'].append(reg_loss)\n",
        "print('Regression loss:', np.mean(fe_loss_dict['MLAE_basic']))"
      ]
    },
    {
      "cell_type": "code",
      "execution_count": 288,
      "metadata": {
        "id": "tfFIpuyrnlDo"
      },
      "outputs": [],
      "source": [
        "#print('mean:', statistics.mean(fe_loss_dict['MLAE_basic']), ', sd:', statistics.stdev(fe_loss_dict['MLAE_basic']))"
      ]
    },
    {
      "cell_type": "markdown",
      "metadata": {
        "id": "mYkcloIWaDrO"
      },
      "source": [
        "##### Masked linear autoencoder (probs)"
      ]
    },
    {
      "cell_type": "code",
      "execution_count": 289,
      "metadata": {
        "id": "QjhPsme3aDrO"
      },
      "outputs": [],
      "source": [
        "# grid search\n",
        "search_score = []\n",
        "search_record = {'params': -1, 'best_score': 1e8, 'index': 0}\n",
        "\n",
        "for index, prob_list in enumerate(prob_list_search):\n",
        "    total_loss = 0\n",
        "    for i in range(rand_epoch):\n",
        "        fe_dict = feature_extraction(data_dict, f_dim, criterion, model_type='MLAE_probs', prob_list=prob_list, mask_val=mask_val)\n",
        "        reg_loss = repr_learning(fe_dict, criterion, reg_coeff=reg_coeff)\n",
        "        total_loss += reg_loss\n",
        "    loss = total_loss / rand_epoch\n",
        "    search_score.append(loss)\n",
        "    if loss < search_record['best_score']:\n",
        "        search_record['best_score'] = loss\n",
        "        search_record['params'] = prob_list\n",
        "        search_record['index'] = index"
      ]
    },
    {
      "cell_type": "code",
      "execution_count": 290,
      "metadata": {
        "id": "N47wNFMGujEa",
        "colab": {
          "base_uri": "https://localhost:8080/"
        },
        "outputId": "648e31aa-7143-4402-811d-5cfe9b830838"
      },
      "outputs": [
        {
          "output_type": "stream",
          "name": "stdout",
          "text": [
            "prob: 0.85 \n",
            "loss: 2.7331991779032814\n"
          ]
        }
      ],
      "source": [
        "prob_list = search_record['params']\n",
        "loss = search_record['best_score']\n",
        "index = search_record['index']\n",
        "prob = round(prob_search[index].item(), 2)\n",
        "print('prob:', prob, '\\nloss:', loss)"
      ]
    },
    {
      "cell_type": "code",
      "execution_count": 291,
      "metadata": {
        "id": "zmJaV5zpueHg",
        "colab": {
          "base_uri": "https://localhost:8080/",
          "height": 406
        },
        "outputId": "28b60158-d9bb-4cd0-db19-4e04e9468ebe"
      },
      "outputs": [
        {
          "output_type": "execute_result",
          "data": {
            "text/plain": [
              "Text(tensor(0.8075), 2.7605311696823143, 'prob=0.85')"
            ]
          },
          "metadata": {},
          "execution_count": 291
        },
        {
          "output_type": "display_data",
          "data": {
            "text/plain": [
              "<Figure size 648x432 with 1 Axes>"
            ],
            "image/png": "[encoded data removed]"
          },
          "metadata": {
            "needs_background": "light"
          }
        }
      ],
      "source": [
        "# search check\n",
        "plt.figure(figsize=(9, 6))\n",
        "plt.plot(prob_search[:90], search_score)\n",
        "plt.xlabel('probability')\n",
        "plt.ylabel('regression error')\n",
        "plt.scatter(prob_search[index], loss, s=50, color=\"red\")\n",
        "plt.text(prob_search[index]*(1-0.05), loss*(1+0.01), f'prob={prob}', fontsize=12)"
      ]
    },
    {
      "cell_type": "code",
      "execution_count": 292,
      "metadata": {
        "id": "cy-i6MCExwGO",
        "colab": {
          "base_uri": "https://localhost:8080/"
        },
        "outputId": "8a51ede1-7094-4e0e-8aaf-bccc32cefb5f"
      },
      "outputs": [
        {
          "output_type": "stream",
          "name": "stdout",
          "text": [
            "Regression loss: 2.787484747206054\n"
          ]
        }
      ],
      "source": [
        "for i in range(rand_epoch):\n",
        "    fe_dict = feature_extraction(data_dict, f_dim, criterion, data_type='test', model_type='MLAE_probs', prob_list=prob_list)\n",
        "    reg_loss = repr_learning(fe_dict, criterion, reg_coeff=reg_coeff)\n",
        "    fe_loss_dict['MLAE_probs'].append(reg_loss)\n",
        "print('Regression loss:', np.mean(fe_loss_dict['MLAE_probs']))"
      ]
    },
    {
      "cell_type": "code",
      "execution_count": 293,
      "metadata": {
        "id": "dK62YaQGcMyR"
      },
      "outputs": [],
      "source": [
        "#print('mean:', statistics.mean(fe_loss_dict['MLAE_probs']), ', sd:', statistics.stdev(fe_loss_dict['MLAE_probs']))"
      ]
    },
    {
      "cell_type": "markdown",
      "metadata": {
        "id": "si7wv4fGaDrO"
      },
      "source": [
        "##### Masked linear autoencoder (patches)"
      ]
    },
    {
      "cell_type": "code",
      "execution_count": 294,
      "metadata": {
        "id": "zk_0aTEcu0jl",
        "colab": {
          "base_uri": "https://localhost:8080/"
        },
        "outputId": "e6c04e29-a14a-4cfb-f740-c94cac91d19b"
      },
      "outputs": [
        {
          "output_type": "stream",
          "name": "stderr",
          "text": [
            "/usr/local/lib/python3.7/dist-packages/ipykernel_launcher.py:62: UserWarning: __rfloordiv__ is deprecated, and its behavior will change in a future version of pytorch. It currently rounds toward 0 (like the 'trunc' function NOT 'floor'). This results in incorrect rounding for negative values. To keep the current behavior, use torch.div(a, b, rounding_mode='trunc'), or for actual floor division, use torch.div(a, b, rounding_mode='floor').\n",
            "/usr/local/lib/python3.7/dist-packages/ipykernel_launcher.py:65: UserWarning: __rfloordiv__ is deprecated, and its behavior will change in a future version of pytorch. It currently rounds toward 0 (like the 'trunc' function NOT 'floor'). This results in incorrect rounding for negative values. To keep the current behavior, use torch.div(a, b, rounding_mode='trunc'), or for actual floor division, use torch.div(a, b, rounding_mode='floor').\n",
            "/usr/local/lib/python3.7/dist-packages/ipykernel_launcher.py:67: UserWarning: __rfloordiv__ is deprecated, and its behavior will change in a future version of pytorch. It currently rounds toward 0 (like the 'trunc' function NOT 'floor'). This results in incorrect rounding for negative values. To keep the current behavior, use torch.div(a, b, rounding_mode='trunc'), or for actual floor division, use torch.div(a, b, rounding_mode='floor').\n",
            "/usr/local/lib/python3.7/dist-packages/ipykernel_launcher.py:22: UserWarning: __rfloordiv__ is deprecated, and its behavior will change in a future version of pytorch. It currently rounds toward 0 (like the 'trunc' function NOT 'floor'). This results in incorrect rounding for negative values. To keep the current behavior, use torch.div(a, b, rounding_mode='trunc'), or for actual floor division, use torch.div(a, b, rounding_mode='floor').\n"
          ]
        }
      ],
      "source": [
        "# grid search\n",
        "search_score = []\n",
        "search_record = {'params': -1, 'best_score': 1e8, 'index': 0}\n",
        "\n",
        "for index, prob in enumerate(prob_search):\n",
        "    for patch_size in patch_size_plain_search:\n",
        "        total_loss = 0\n",
        "        for i in range(rand_epoch):\n",
        "            fe_dict = feature_extraction(data_dict, f_dim, criterion, model_type='MLAE_patches', prob=prob, patch_size=patch_size, mask_val=mask_val)\n",
        "            reg_loss = repr_learning(fe_dict, criterion, reg_coeff=reg_coeff)\n",
        "            total_loss += reg_loss\n",
        "        loss = total_loss / rand_epoch\n",
        "        search_score.append(loss)\n",
        "        if loss < search_record['best_score']:\n",
        "            search_record['best_score'] = loss\n",
        "            search_record['params'] = (prob, patch_size)\n",
        "            search_record['index'] = index"
      ]
    },
    {
      "cell_type": "code",
      "execution_count": 295,
      "metadata": {
        "id": "lidLQTaFu06m",
        "colab": {
          "base_uri": "https://localhost:8080/"
        },
        "outputId": "79a91de6-257b-4868-865a-cd625880c0bd"
      },
      "outputs": [
        {
          "output_type": "stream",
          "name": "stdout",
          "text": [
            "prob: 0.72 \n",
            "patch size: tensor(4) \n",
            "loss: 2.5309582889787015\n"
          ]
        }
      ],
      "source": [
        "prob = round(search_record['params'][0].item(), 2)\n",
        "patch_size = search_record['params'][1]\n",
        "loss = search_record['best_score']\n",
        "index = search_record['index']\n",
        "print('prob:', prob, '\\npatch size:', patch_size, '\\nloss:', loss)"
      ]
    },
    {
      "cell_type": "code",
      "execution_count": 296,
      "metadata": {
        "id": "NNIFMFDfEHni",
        "colab": {
          "base_uri": "https://localhost:8080/",
          "height": 406
        },
        "outputId": "ac9db1f3-a912-4c24-e308-b18d0af1a4ea"
      },
      "outputs": [
        {
          "output_type": "execute_result",
          "data": {
            "text/plain": [
              "Text(tensor(0.6840), 2.5562678718684886, 'prob=0.72')"
            ]
          },
          "metadata": {},
          "execution_count": 296
        },
        {
          "output_type": "display_data",
          "data": {
            "text/plain": [
              "<Figure size 648x432 with 1 Axes>"
            ],
            "image/png": "[encoded data removed]"
          },
          "metadata": {
            "needs_background": "light"
          }
        }
      ],
      "source": [
        "# search check\n",
        "plt.figure(figsize=(9, 6))\n",
        "len_loop = len(patch_size_plain_search)\n",
        "for i in range(len_loop):\n",
        "    plt.plot(prob_search, search_score[i::len_loop])\n",
        "plt.legend([f'patch size: {patch_size}' for patch_size in patch_size_plain_search])\n",
        "plt.xlabel('probability')\n",
        "plt.ylabel('regression error')\n",
        "plt.scatter(prob_search[index], loss, s=50, color=\"red\")\n",
        "plt.text(prob_search[index]*(1-0.05), loss*(1+0.01), f'prob={prob}', fontsize=12)"
      ]
    },
    {
      "cell_type": "code",
      "execution_count": 297,
      "metadata": {
        "id": "m5CH1NYfaDrO",
        "colab": {
          "base_uri": "https://localhost:8080/"
        },
        "outputId": "74f619db-8d35-4d1d-8864-6b962565cec0"
      },
      "outputs": [
        {
          "output_type": "stream",
          "name": "stdout",
          "text": [
            "Regression loss: 2.5390170670106667\n"
          ]
        },
        {
          "output_type": "stream",
          "name": "stderr",
          "text": [
            "/usr/local/lib/python3.7/dist-packages/ipykernel_launcher.py:62: UserWarning: __rfloordiv__ is deprecated, and its behavior will change in a future version of pytorch. It currently rounds toward 0 (like the 'trunc' function NOT 'floor'). This results in incorrect rounding for negative values. To keep the current behavior, use torch.div(a, b, rounding_mode='trunc'), or for actual floor division, use torch.div(a, b, rounding_mode='floor').\n",
            "/usr/local/lib/python3.7/dist-packages/ipykernel_launcher.py:65: UserWarning: __rfloordiv__ is deprecated, and its behavior will change in a future version of pytorch. It currently rounds toward 0 (like the 'trunc' function NOT 'floor'). This results in incorrect rounding for negative values. To keep the current behavior, use torch.div(a, b, rounding_mode='trunc'), or for actual floor division, use torch.div(a, b, rounding_mode='floor').\n",
            "/usr/local/lib/python3.7/dist-packages/ipykernel_launcher.py:67: UserWarning: __rfloordiv__ is deprecated, and its behavior will change in a future version of pytorch. It currently rounds toward 0 (like the 'trunc' function NOT 'floor'). This results in incorrect rounding for negative values. To keep the current behavior, use torch.div(a, b, rounding_mode='trunc'), or for actual floor division, use torch.div(a, b, rounding_mode='floor').\n",
            "/usr/local/lib/python3.7/dist-packages/ipykernel_launcher.py:22: UserWarning: __rfloordiv__ is deprecated, and its behavior will change in a future version of pytorch. It currently rounds toward 0 (like the 'trunc' function NOT 'floor'). This results in incorrect rounding for negative values. To keep the current behavior, use torch.div(a, b, rounding_mode='trunc'), or for actual floor division, use torch.div(a, b, rounding_mode='floor').\n"
          ]
        }
      ],
      "source": [
        "for i in range(rand_epoch):\n",
        "    fe_dict = feature_extraction(data_dict, f_dim, criterion, data_type='test', model_type='MLAE_patches', prob=prob, patch_size=patch_size)\n",
        "    reg_loss = repr_learning(fe_dict, criterion, reg_coeff=reg_coeff)\n",
        "    fe_loss_dict['MLAE_patches'].append(reg_loss)\n",
        "print('Regression loss:', np.mean(fe_loss_dict['MLAE_patches']))"
      ]
    },
    {
      "cell_type": "code",
      "execution_count": 298,
      "metadata": {
        "id": "TcRAg3E-cVnc"
      },
      "outputs": [],
      "source": [
        "#print('mean:', statistics.mean(fe_loss_dict['MLAE_patches']), ', sd:', statistics.stdev(fe_loss_dict['MLAE_patches']))"
      ]
    },
    {
      "cell_type": "markdown",
      "source": [
        "### Get features from unsupervised learning"
      ],
      "metadata": {
        "id": "XURfStL2RAav"
      }
    },
    {
      "cell_type": "markdown",
      "source": [
        "##### PCA"
      ],
      "metadata": {
        "id": "-h_I5HuGRGB1"
      }
    },
    {
      "cell_type": "code",
      "source": [
        "# feature extraction\n",
        "U, S, V = torch.pca_lowrank(X_train, q=f_dim)\n",
        "fe_dict = {'f_train': X_train@V, 'y_train': y_train, 'f_test': X_test@V, 'y_test': y_test}\n",
        "reg_loss = repr_learning(fe_dict, criterion, reg_coeff=reg_coeff)\n",
        "fe_loss_dict['PCA'].append(reg_loss)\n",
        "print('Regression loss:', np.mean(fe_loss_dict['PCA']))"
      ],
      "metadata": {
        "colab": {
          "base_uri": "https://localhost:8080/"
        },
        "id": "HFUgAB0TRLTH",
        "outputId": "e1a9dd10-63c3-4414-b445-02cafd31e600"
      },
      "execution_count": 299,
      "outputs": [
        {
          "output_type": "stream",
          "name": "stdout",
          "text": [
            "Regression loss: 2.7167164113730706\n"
          ]
        }
      ]
    },
    {
      "cell_type": "markdown",
      "metadata": {
        "id": "-4BzVMlQdmJ4"
      },
      "source": [
        "### Evaluation"
      ]
    },
    {
      "cell_type": "code",
      "execution_count": 300,
      "metadata": {
        "id": "IQdzko_m8UD3",
        "colab": {
          "base_uri": "https://localhost:8080/",
          "height": 444
        },
        "outputId": "74054c00-9c81-4e34-cf08-974a21f16d0b"
      },
      "outputs": [
        {
          "output_type": "display_data",
          "data": {
            "text/plain": [
              "<Figure size 720x504 with 1 Axes>"
            ],
            "image/png": "[encoded data removed]"
          },
          "metadata": {
            "needs_background": "light"
          }
        }
      ],
      "source": [
        "data = fe_loss_dict.values()\n",
        " \n",
        "fig = plt.figure(figsize =(10, 7))\n",
        "ax = fig.add_subplot(111)\n",
        " \n",
        "# Creating axes instance\n",
        "bp = ax.boxplot(data, patch_artist = True,\n",
        "                notch ='True', vert = 0)\n",
        " \n",
        "colors = ['#0000FF', '#00FF00',\n",
        "          '#FFFF00', '#FF00FF', '#00FFFF']\n",
        " \n",
        "for patch, color in zip(bp['boxes'], colors):\n",
        "    patch.set_facecolor(color)\n",
        " \n",
        "# changing color and linewidth of\n",
        "# whiskers\n",
        "for whisker in bp['whiskers']:\n",
        "    whisker.set(color ='#8B008B',\n",
        "                linewidth = 1.5,\n",
        "                linestyle =\":\")\n",
        " \n",
        "# changing color and linewidth of\n",
        "# caps\n",
        "for cap in bp['caps']:\n",
        "    cap.set(color ='#8B008B',\n",
        "            linewidth = 2)\n",
        " \n",
        "# changing color and linewidth of\n",
        "# medians\n",
        "for median in bp['medians']:\n",
        "    median.set(color ='red',\n",
        "               linewidth = 3)\n",
        " \n",
        "# changing style of fliers\n",
        "for flier in bp['fliers']:\n",
        "    flier.set(marker ='D',\n",
        "              color ='#e7298a',\n",
        "              alpha = 0.5)\n",
        "     \n",
        "# x-axis labels\n",
        "ax.set_yticklabels(fe_loss_dict.keys())\n",
        "#ax.set_yticklabels(patch_dict.keys())\n",
        " \n",
        "# Adding title\n",
        "plt.title(\"Box plot for feature loss\")\n",
        " \n",
        "# Removing top axes and right axes\n",
        "# ticks\n",
        "ax.get_xaxis().tick_bottom()\n",
        "ax.get_yaxis().tick_left()\n",
        "     \n",
        "# show plot\n",
        "plt.show()"
      ]
    },
    {
      "cell_type": "code",
      "source": [],
      "metadata": {
        "id": "JQ1MfXYQqxeC"
      },
      "execution_count": 300,
      "outputs": []
    }
  ],
  "metadata": {
    "accelerator": "GPU",
    "colab": {
      "collapsed_sections": [],
      "provenance": [],
      "include_colab_link": true
    },
    "gpuClass": "standard",
    "kernelspec": {
      "display_name": "Python 3.9.6 ('SSL_venv': venv)",
      "language": "python",
      "name": "python3"
    },
    "language_info": {
      "codemirror_mode": {
        "name": "ipython",
        "version": 3
      },
      "file_extension": ".py",
      "mimetype": "text/x-python",
      "name": "python",
      "nbconvert_exporter": "python",
      "pygments_lexer": "ipython3",
      "version": "3.9.6"
    },
    "vscode": {
      "interpreter": {
        "hash": "9c3c12edae13c0508bae753e64eeaec91e16c05e32c8c48bac5bd7ee2e37cd7c"
      }
    }
  },
  "nbformat": 4,
  "nbformat_minor": 0
}