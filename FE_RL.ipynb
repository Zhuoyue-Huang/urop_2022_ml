{
  "cells": [
    {
      "cell_type": "markdown",
      "metadata": {
        "id": "view-in-github",
        "colab_type": "text"
      },
      "source": [
        "<a href=\"https://colab.research.google.com/github/Zhuoyue-Huang/urop_2022_ml/blob/main/FE_RL.ipynb\" target=\"_parent\"><img src=\"https://colab.research.google.com/assets/colab-badge.svg\" alt=\"Open In Colab\"/></a>"
      ]
    },
    {
      "cell_type": "code",
      "execution_count": 29,
      "metadata": {
        "id": "Kbg1kWfKaDrE"
      },
      "outputs": [],
      "source": [
        "\"\"\"Verify the gradient derivation of linear masked autoencoder.\"\"\"\n",
        "import torch\n",
        "import torch.nn as nn\n",
        "import torch.optim as optim\n",
        "import matplotlib.pyplot as plt\n",
        "from tqdm import tqdm\n",
        "import statistics\n",
        "import numpy as np\n",
        "from torch.distributions.exponential import Exponential"
      ]
    },
    {
      "cell_type": "code",
      "execution_count": 30,
      "metadata": {
        "id": "lI0EeuiHacLQ"
      },
      "outputs": [],
      "source": [
        "device = torch.device('cuda' if torch.cuda.is_available() else 'cpu')"
      ]
    },
    {
      "cell_type": "code",
      "execution_count": 31,
      "metadata": {
        "id": "ieYyVAs6NgaM"
      },
      "outputs": [],
      "source": [
        "# set default to be float64\n",
        "torch.set_default_dtype(torch.float64)"
      ]
    },
    {
      "cell_type": "markdown",
      "metadata": {
        "id": "UqQEFeEGaDrH"
      },
      "source": [
        "### Model initialisation"
      ]
    },
    {
      "cell_type": "code",
      "execution_count": 32,
      "metadata": {
        "id": "j73gZMhnaDrI"
      },
      "outputs": [],
      "source": [
        "## Masked lienar auto-encoder model\n",
        "# Define different types of masks\n",
        "def mask_basic(prob, sample_num, x_dim, mask_val=0, device='cuda'):\n",
        "    return torch.zeros(sample_num, x_dim, device=device).bernoulli_(prob)*(1-mask_val) + mask_val\n",
        "\n",
        "def mask_probs(prob_list: torch.Tensor, sample_num, x_dim, mask_val=0, device='cuda'):\n",
        "    return torch.zeros(sample_num, x_dim, device=device).bernoulli_(prob_list)*(1-mask_val) + mask_val\n",
        "\n",
        "# def mask_patches_block(prob, patch_size: torch.Tensor, sample_num, sample_dim: torch.Tensor, device='cuda'):\n",
        "#     x_dim = sample_dim[0]*sample_dim[1]\n",
        "#     div_check = sample_dim % patch_size == torch.zeros(2)\n",
        "#     if torch.all(div_check):\n",
        "#         pix_num = torch.div(sample_dim, patch_size, rounding_mode='floor')\n",
        "#         mat_patches = torch.zeros(sample_num, *pix_num).bernoulli_(prob).to(device)\n",
        "#         mat_patches = torch.repeat_interleave(mat_patches, patch_size[1], dim=2)\n",
        "#         return mat_patches.repeat_interleave(patch_size[0], dim=1).view(sample_num, x_dim)\n",
        "#     else:\n",
        "#         raise NotImplementedError(f\"Both height ({sample_dim[0]}) and width ({sample_dim[1]}) should be divisible by patch_size ({patch_size}).\")\n",
        "\n",
        "def mask_patches_plain(prob, patch_size, sample_num, x_dim, mask_val=0, device='cuda'):\n",
        "    if not x_dim % patch_size:\n",
        "        pix_num = x_dim // patch_size\n",
        "        mat_patches = torch.zeros(sample_num, pix_num).bernoulli_(prob)\n",
        "        return mat_patches.repeat_interleave(patch_size, dim=1).to(device)*(1-mask_val) + mask_val\n",
        "    else:\n",
        "        raise NotImplementedError"
      ]
    },
    {
      "cell_type": "code",
      "source": [
        "def feature_extraction(data_dict, f_dim, criterion, model_type, prob=None, prob_list=None, patch_size=None, mask_val=0, device='cuda'):\n",
        "    X_train, _, X_val, _, _, _ = data_dict.values()\n",
        "    train_num, x_dim = X_train.shape\n",
        "    val_num = X_val.shape[0]\n",
        "    if model_type == 'LAE':\n",
        "        Sigma = X_train.T @ X_train\n",
        "        U, _, _ = torch.linalg.svd(Sigma)\n",
        "        U = U[:, :f_dim]\n",
        "        W1 = U.T \n",
        "        W2 = U\n",
        "        loss = criterion(X_val@W1.T@W2.T, X_val)\n",
        "    else:\n",
        "        X = X_train\n",
        "        if prob == 1 or mask_val==1:\n",
        "            Sigma = X.T@X\n",
        "            U, _, _ = torch.linalg.svd(Sigma)\n",
        "            U = U[:, :f_dim]\n",
        "            W1 = U.T\n",
        "            W2 = U\n",
        "            loss = criterion(X_val@W1.T@W2.T, X_val)\n",
        "        else:\n",
        "            mask_dict = {}\n",
        "            if model_type == 'MLAE_basic':\n",
        "                first_moment = prob + mask_val * (1-prob)\n",
        "                second_moment = prob + mask_val**2 * (1-prob)\n",
        "                mask_dict['mean'] = (torch.ones(train_num, x_dim, device=device) * first_moment)\n",
        "                mask_dict['square'] = torch.ones(x_dim, x_dim, device=device) * first_moment**2\n",
        "                mask_dict['square'].fill_diagonal_(second_moment)\n",
        "            elif model_type == 'MLAE_probs':\n",
        "                first_moment = prob_list + mask_val * (1-prob_list)\n",
        "                second_moment = prob_list + mask_val**2 * (1-prob_list)\n",
        "                mask_dict['mean'] = first_moment.repeat(train_num, 1).to(device)\n",
        "                mask_dict['square'] = first_moment.view(x_dim, 1) @ first_moment.view(1, x_dim)\n",
        "                mask_dict['square'] = (mask_dict['square'].fill_diagonal_(0) + torch.diag(second_moment)).to(device)\n",
        "            elif model_type == 'MLAE_patches':\n",
        "                first_moment = prob + mask_val * (1-prob)\n",
        "                second_moment = prob + mask_val**2 * (1-prob)\n",
        "                mask_dict['mean'] = torch.ones(train_num, x_dim, device=device) * first_moment\n",
        "                # plain patches\n",
        "                patch_block_mat = torch.ones(patch_size, patch_size, device=device)\n",
        "                mask_dict['square'] = torch.block_diag(*[patch_block_mat]*(x_dim//patch_size))*(second_moment-first_moment**2) + first_moment**2\n",
        "                # block patches\n",
        "                # patch_size = [2, 2]\n",
        "                # pix_num = torch.div(torch.tensor(sample_dim), torch.tensor(patch_size), rounding_mode='floor')\n",
        "                # mat_patches = torch.arange(pix_num[0]*pix_num[1]).view(*pix_num)\n",
        "                # mat_patches = torch.repeat_interleave(mat_patches, patch_size[1], dim=1)\n",
        "                # mat_patches = torch.repeat_interleave(mat_patches, patch_size[0], dim=0).view(n)\n",
        "                # mask_dict['square'] = torch.zeros(x_dim, x_dim)\n",
        "                # for i in range(x_dim):\n",
        "                #     for j in range(x_dim):\n",
        "                #         if mat_patches[i] == mat_patches[j]:\n",
        "                #             mask_dict['square'][i, j] = prob\n",
        "                #         else:\n",
        "                #             mask_dict['square'][i, j] = prob**2\n",
        "            try:\n",
        "                torch.inverse(mask_dict['square'] * (X.T @ X))\n",
        "            except torch._C._LinAlgError:\n",
        "                # Sigma_XX = X.T@X\n",
        "                # U_XX, S_XX, Vh_XX = torch.linalg.svd(Sigma_XX)\n",
        "                # print(S_XX)\n",
        "                # inv = Vh_XX.T*torch.inverse(torch.diag(S_XX+1e-4))*U_XX.T\n",
        "\n",
        "                perturbation = torch.diag(torch.ones(x_dim, device=device)*1e-5)\n",
        "                inv = torch.inverse(mask_dict['square']*(X.T@X) + perturbation)\n",
        "            else:\n",
        "                inv = torch.inverse(mask_dict['square'] * (X.T @ X))\n",
        "            Sigma = X.T@(mask_dict['mean']*X) @ inv @ ((mask_dict['mean']*X).T@X)\n",
        "            U, _, _ = torch.linalg.svd(Sigma)\n",
        "            U = U[:, :f_dim]\n",
        "            W1 = U.T @ (X.T@(mask_dict['mean']*X)) @ inv\n",
        "            W2 = U\n",
        "            if model_type == 'MLAE_basic':\n",
        "                loss = criterion((mask_basic(prob, val_num, x_dim, mask_val=mask_val)*X_val)@W1.T@W2.T, X_val)\n",
        "            elif model_type == 'MLAE_probs':\n",
        "                loss = criterion((mask_probs(prob_list, val_num, x_dim, mask_val=mask_val)*X_val)@W1.T@W2.T, X_val)\n",
        "            elif model_type == 'MLAE_patches':\n",
        "                loss = criterion((mask_patches_plain(prob, patch_size, val_num, x_dim, mask_val=mask_val)*X_val)@W1.T@W2.T, X_val)\n",
        "    return (W1, loss.cpu().item())"
      ],
      "metadata": {
        "id": "L7AbxmnSTNaZ"
      },
      "execution_count": 33,
      "outputs": []
    },
    {
      "cell_type": "code",
      "execution_count": 34,
      "metadata": {
        "id": "TjY8ezY7aDrJ"
      },
      "outputs": [],
      "source": [
        "# representation learning\n",
        "def repr_learning(data_dict, W1, criterion, reg_coeff=0, device='cuda'):\n",
        "    X_train, y_train, _, _, X_test, y_test = data_dict.values()\n",
        "\n",
        "    f_train = X_train @ W1.T\n",
        "    f_test = X_test @ W1.T\n",
        "    f_dim = f_train.shape[1]\n",
        "    y_dim = y_train.shape[1]\n",
        "\n",
        "    theta = (torch.inverse(f_train.T@f_train+reg_coeff*torch.eye(f_dim, device=device)) @ f_train.T @ y_train).T\n",
        "    loss = criterion(y_test, f_test @ theta.T)\n",
        "    return loss.item()"
      ]
    },
    {
      "cell_type": "markdown",
      "metadata": {
        "id": "es2QcO7qaDrK"
      },
      "source": [
        "### Dataset"
      ]
    },
    {
      "cell_type": "code",
      "execution_count": 35,
      "metadata": {
        "id": "NoF5AZwxGVU7"
      },
      "outputs": [],
      "source": [
        "train_num, val_num, test_num = (4000, 500, 2000) # larger number of dataset\n",
        "sample_num_split = (train_num, train_num + val_num)\n",
        "total = train_num+val_num+test_num\n",
        "\n",
        "# need to consider f_dim <, =, > z_dim\n",
        "z_dim = 30 # dimension of z\n",
        "H = 8\n",
        "W = 8\n",
        "sample_dim = torch.tensor([H, W])\n",
        "x_dim = H * W\n",
        "f_dim = 45\n",
        "y_dim = z_dim // 2\n",
        "\n",
        "prob_search = torch.arange(0.05, 1+0.01, 0.05)\n",
        "prob_list_search = torch.rand(x_dim, generator=torch.random.manual_seed(1911))*0.1 + torch.repeat_interleave(torch.arange(0.05, 0.9+0.01, 0.05).unsqueeze(1), x_dim, dim=1)\n",
        "patch_size_plain_search = torch.tensor([1, 2, 4, 8, 16])\n",
        "# patch_size_block_search = []\n",
        "# for i in [1, 2, 4, 8, 16]:\n",
        "#     for j in [1, 2, 4, 8, 16]:\n",
        "#         patch_size_block_search.append([i, j])\n",
        "# patch_size_search = torch.tensor(patch_size_block_search)"
      ]
    },
    {
      "cell_type": "code",
      "execution_count": 36,
      "metadata": {
        "id": "6-p1AuTWIJk9"
      },
      "outputs": [],
      "source": [
        "#mean = torch.linspace(0, 5, z_dim).repeat(total, 1)\n",
        "#std = torch.linspace(3, 8, z_dim).repeat(total, 1)\n",
        "#m = Exponential(1)\n",
        "#z = m.rsample((total,z_dim))\n",
        "#z = torch.normal(mean=mean, std=std, generator=torch.random.manual_seed(1911))\n",
        "z = torch.normal(mean=0, std=1, size=(total,z_dim), generator=torch.random.manual_seed(1911))# here distribution is high dimensional guassian\n",
        "z = z.to(device)"
      ]
    },
    {
      "cell_type": "code",
      "execution_count": 37,
      "metadata": {
        "id": "rLboN52waDrK"
      },
      "outputs": [],
      "source": [
        "U = torch.rand(x_dim, z_dim, generator=torch.random.manual_seed(1911))\n",
        "U = U.to(device)\n",
        "V = torch.rand(y_dim, z_dim, generator=torch.random.manual_seed(1911))\n",
        "V = V.to(device)\n",
        "\n",
        "x = z @ U.T\n",
        "y = z @ V.T\n",
        "X_train, X_val, X_test = torch.tensor_split(x, sample_num_split)\n",
        "y_train, y_val, y_test = torch.tensor_split(y, sample_num_split)\n",
        "data_dict = {'X_train': X_train, 'y_train': y_train, 'X_val': X_val, 'y_val': y_val, 'X_test': X_test, 'y_test': y_test}\n",
        "#fe_loss_dict = {'LAE': [], 'MLAE_basic': [], 'MLAE_probs': [], 'MLAE_patches': []}"
      ]
    },
    {
      "cell_type": "code",
      "execution_count": 38,
      "metadata": {
        "id": "_H5fnGlMaDrL"
      },
      "outputs": [],
      "source": [
        "criterion = nn.MSELoss()\n",
        "rand_epoch = 50\n",
        "reg_coeff = 1\n",
        "mask_val = 2"
      ]
    },
    {
      "cell_type": "markdown",
      "metadata": {
        "id": "DAoMiwCEaDrL"
      },
      "source": [
        "### Get features from autoencoder"
      ]
    },
    {
      "cell_type": "markdown",
      "metadata": {
        "id": "uPZVsK57aDrL"
      },
      "source": [
        "##### Linear autoencoder"
      ]
    },
    {
      "cell_type": "code",
      "execution_count": 39,
      "metadata": {
        "colab": {
          "base_uri": "https://localhost:8080/"
        },
        "id": "6K3nyMfkaDrM",
        "outputId": "9fd22b43-df12-4179-b552-ff46246a9074"
      },
      "outputs": [
        {
          "output_type": "stream",
          "name": "stdout",
          "text": [
            "feature extraction loss: 4.1734895734989276e-26\n",
            "representation learning loss: 1.0995967752072981e-08\n"
          ]
        }
      ],
      "source": [
        "W1, fe_loss = feature_extraction(data_dict, f_dim, criterion, model_type='LAE')\n",
        "print('feature extraction loss:', fe_loss)\n",
        "rl_loss = repr_learning(data_dict, W1, criterion, reg_coeff=reg_coeff)\n",
        "print('representation learning loss:', rl_loss)"
      ]
    },
    {
      "cell_type": "code",
      "execution_count": 40,
      "metadata": {
        "id": "DlVArcy5pOVU"
      },
      "outputs": [],
      "source": [
        "#print('mean:', statistics.mean(fe_loss_dict['LAE']), ', sd:', statistics.stdev(fe_loss_dict['LAE']))"
      ]
    },
    {
      "cell_type": "markdown",
      "metadata": {
        "id": "Ez_oZJ5OaDrN"
      },
      "source": [
        "##### Masked linear autoencoder (basic)"
      ]
    },
    {
      "cell_type": "code",
      "execution_count": 41,
      "metadata": {
        "colab": {
          "base_uri": "https://localhost:8080/"
        },
        "id": "cYK3bC2qVXmA",
        "outputId": "4e0217a7-c822-4f9f-aa60-d378c70f5708"
      },
      "outputs": [
        {
          "output_type": "stream",
          "name": "stderr",
          "text": [
            "100%|██████████| 20/20 [00:05<00:00,  3.74it/s]\n"
          ]
        }
      ],
      "source": [
        "# grid search\n",
        "search_score = []\n",
        "search_record = {'params': -1, 'best_score': 1e8}\n",
        "\n",
        "for prob in tqdm(prob_search):\n",
        "    total_loss = 0\n",
        "    for i in range(rand_epoch):\n",
        "        W1, loss = feature_extraction(data_dict, f_dim, criterion, model_type='MLAE_basic', prob=prob, mask_val=mask_val)\n",
        "        total_loss += loss\n",
        "    loss = total_loss / rand_epoch\n",
        "    search_score.append(loss)\n",
        "    if loss < search_record['best_score']:\n",
        "        search_record['best_score'] = loss\n",
        "        search_record['params'] = prob"
      ]
    },
    {
      "cell_type": "code",
      "execution_count": 42,
      "metadata": {
        "id": "Xl1YuRV5m5nA",
        "colab": {
          "base_uri": "https://localhost:8080/",
          "height": 283
        },
        "outputId": "650376df-6d9a-433f-821d-490328daab3c"
      },
      "outputs": [
        {
          "output_type": "execute_result",
          "data": {
            "text/plain": [
              "[<matplotlib.lines.Line2D at 0x7f1ab6654c10>]"
            ]
          },
          "metadata": {},
          "execution_count": 42
        },
        {
          "output_type": "display_data",
          "data": {
            "text/plain": [
              "<Figure size 432x288 with 1 Axes>"
            ],
            "image/png": "[encoded data removed]"
          },
          "metadata": {
            "needs_background": "light"
          }
        }
      ],
      "source": [
        "# search check\n",
        "plt.plot(prob_search, search_score)"
      ]
    },
    {
      "cell_type": "code",
      "source": [
        "#search_score"
      ],
      "metadata": {
        "id": "GBgogGv0gffG"
      },
      "execution_count": 43,
      "outputs": []
    },
    {
      "cell_type": "code",
      "execution_count": 44,
      "metadata": {
        "id": "HDlNPA1MmkUx",
        "colab": {
          "base_uri": "https://localhost:8080/"
        },
        "outputId": "6e212907-4e6e-4d99-f89b-d791a3b82ce8"
      },
      "outputs": [
        {
          "output_type": "stream",
          "name": "stdout",
          "text": [
            "prob: 1.0 \n",
            "loss: 4.1734895734989304e-26\n"
          ]
        }
      ],
      "source": [
        "prob = search_record['params']\n",
        "print('prob:', prob.item(), '\\nloss:', loss)"
      ]
    },
    {
      "cell_type": "code",
      "execution_count": 45,
      "metadata": {
        "id": "zs-zpOO8aDrN",
        "colab": {
          "base_uri": "https://localhost:8080/"
        },
        "outputId": "4e90bb36-f8c3-4bec-e328-14564c79f48e"
      },
      "outputs": [
        {
          "output_type": "stream",
          "name": "stdout",
          "text": [
            "feature extraction loss: 4.1734895734989276e-26\n",
            "representation learning loss: 1.0995967752072981e-08\n"
          ]
        }
      ],
      "source": [
        "W1, fe_loss = feature_extraction(data_dict, f_dim, criterion, model_type='MLAE_basic', prob=prob, mask_val=mask_val)\n",
        "print('feature extraction loss:', fe_loss)\n",
        "rl_loss = repr_learning(data_dict, W1, criterion, reg_coeff=reg_coeff)\n",
        "print('representation learning loss:', rl_loss)"
      ]
    },
    {
      "cell_type": "code",
      "execution_count": 46,
      "metadata": {
        "id": "tfFIpuyrnlDo"
      },
      "outputs": [],
      "source": [
        "#print('mean:', statistics.mean(fe_loss_dict['MLAE_basic']), ', sd:', statistics.stdev(fe_loss_dict['MLAE_basic']))"
      ]
    },
    {
      "cell_type": "markdown",
      "metadata": {
        "id": "mYkcloIWaDrO"
      },
      "source": [
        "##### Masked linear autoencoder (probs)"
      ]
    },
    {
      "cell_type": "code",
      "execution_count": 47,
      "metadata": {
        "id": "QjhPsme3aDrO",
        "colab": {
          "base_uri": "https://localhost:8080/"
        },
        "outputId": "3435c86c-a774-4329-8958-2c8837799976"
      },
      "outputs": [
        {
          "output_type": "stream",
          "name": "stderr",
          "text": [
            "100%|██████████| 18/18 [00:05<00:00,  3.20it/s]\n"
          ]
        }
      ],
      "source": [
        "# grid search\n",
        "search_score = []\n",
        "search_record = {'params': -1, 'best_score': 1e8}\n",
        "\n",
        "for prob_list in tqdm(prob_list_search):\n",
        "    total_loss = 0\n",
        "    for i in range(rand_epoch):\n",
        "        W1, loss = feature_extraction(data_dict, f_dim, criterion, model_type='MLAE_probs', prob_list=prob_list, mask_val=mask_val)\n",
        "        total_loss += loss\n",
        "    loss = total_loss / rand_epoch\n",
        "    search_score.append(loss)\n",
        "    if loss < search_record['best_score']:\n",
        "        search_record['best_score'] = loss\n",
        "        search_record['params'] = prob_list"
      ]
    },
    {
      "cell_type": "code",
      "execution_count": 48,
      "metadata": {
        "id": "zmJaV5zpueHg",
        "colab": {
          "base_uri": "https://localhost:8080/",
          "height": 283
        },
        "outputId": "d6a5601c-a951-488a-ee12-d811a440904e"
      },
      "outputs": [
        {
          "output_type": "execute_result",
          "data": {
            "text/plain": [
              "[<matplotlib.lines.Line2D at 0x7f1ac4b424d0>]"
            ]
          },
          "metadata": {},
          "execution_count": 48
        },
        {
          "output_type": "display_data",
          "data": {
            "text/plain": [
              "<Figure size 432x288 with 1 Axes>"
            ],
            "image/png": "[encoded data removed]"
          },
          "metadata": {
            "needs_background": "light"
          }
        }
      ],
      "source": [
        "# search check\n",
        "plt.plot(list(prob_search)[:18], search_score)"
      ]
    },
    {
      "cell_type": "code",
      "execution_count": 49,
      "metadata": {
        "id": "N47wNFMGujEa",
        "colab": {
          "base_uri": "https://localhost:8080/"
        },
        "outputId": "b0159c2f-e48d-4f10-c7e9-cdf5c929b940"
      },
      "outputs": [
        {
          "output_type": "stream",
          "name": "stdout",
          "text": [
            "prob: tensor([0.1215, 0.1014, 0.0907, 0.0822, 0.0801, 0.0734, 0.1334, 0.1084, 0.0925,\n",
            "        0.0720, 0.0551, 0.0959, 0.1185, 0.0857, 0.0935, 0.1455, 0.1360, 0.0765,\n",
            "        0.0561, 0.1301, 0.1259, 0.0734, 0.1109, 0.0873, 0.0502, 0.1049, 0.0997,\n",
            "        0.0730, 0.0686, 0.0630, 0.1127, 0.0831, 0.1083, 0.0862, 0.1440, 0.0845,\n",
            "        0.1491, 0.1099, 0.1183, 0.0918, 0.1366, 0.0862, 0.1211, 0.1416, 0.0963,\n",
            "        0.0906, 0.1256, 0.0996, 0.0963, 0.0709, 0.0878, 0.0831, 0.0914, 0.0902,\n",
            "        0.1119, 0.0694, 0.0657, 0.1268, 0.0669, 0.1356, 0.0597, 0.1394, 0.1129,\n",
            "        0.1251]) \n",
            "loss: 0.6426980393095867\n"
          ]
        }
      ],
      "source": [
        "prob_list = search_record['params']\n",
        "print('prob:', prob_list, '\\nloss:', loss)"
      ]
    },
    {
      "cell_type": "code",
      "execution_count": 50,
      "metadata": {
        "id": "cy-i6MCExwGO",
        "colab": {
          "base_uri": "https://localhost:8080/"
        },
        "outputId": "fcf6d3aa-6520-4ea2-c827-66f928660b5f"
      },
      "outputs": [
        {
          "output_type": "stream",
          "name": "stdout",
          "text": [
            "feature extraction loss: 0.5066407304065097\n",
            "representation learning loss: 5.697675358245308e-06\n"
          ]
        }
      ],
      "source": [
        "W1, fe_loss = feature_extraction(data_dict, f_dim, criterion, model_type='MLAE_probs', prob_list=prob_list, mask_val=mask_val)\n",
        "print('feature extraction loss:', fe_loss)\n",
        "rl_loss = repr_learning(data_dict, W1, criterion, reg_coeff=reg_coeff)\n",
        "print('representation learning loss:', rl_loss)"
      ]
    },
    {
      "cell_type": "code",
      "execution_count": 51,
      "metadata": {
        "id": "dK62YaQGcMyR"
      },
      "outputs": [],
      "source": [
        "#print('mean:', statistics.mean(fe_loss_dict['MLAE_probs']), ', sd:', statistics.stdev(fe_loss_dict['MLAE_probs']))"
      ]
    },
    {
      "cell_type": "markdown",
      "metadata": {
        "id": "si7wv4fGaDrO"
      },
      "source": [
        "##### Masked linear autoencoder (patches)"
      ]
    },
    {
      "cell_type": "code",
      "execution_count": 52,
      "metadata": {
        "id": "zk_0aTEcu0jl",
        "colab": {
          "base_uri": "https://localhost:8080/"
        },
        "outputId": "778ad722-d5fe-422a-ad7c-4b23d1da87a3"
      },
      "outputs": [
        {
          "output_type": "stream",
          "name": "stderr",
          "text": [
            "\r  0%|          | 0/20 [00:00<?, ?it/s]/usr/local/lib/python3.7/dist-packages/ipykernel_launcher.py:41: UserWarning: __rfloordiv__ is deprecated, and its behavior will change in a future version of pytorch. It currently rounds toward 0 (like the 'trunc' function NOT 'floor'). This results in incorrect rounding for negative values. To keep the current behavior, use torch.div(a, b, rounding_mode='trunc'), or for actual floor division, use torch.div(a, b, rounding_mode='floor').\n",
            "/usr/local/lib/python3.7/dist-packages/ipykernel_launcher.py:22: UserWarning: __rfloordiv__ is deprecated, and its behavior will change in a future version of pytorch. It currently rounds toward 0 (like the 'trunc' function NOT 'floor'). This results in incorrect rounding for negative values. To keep the current behavior, use torch.div(a, b, rounding_mode='trunc'), or for actual floor division, use torch.div(a, b, rounding_mode='floor').\n",
            "100%|██████████| 20/20 [00:29<00:00,  1.49s/it]\n"
          ]
        }
      ],
      "source": [
        "# grid search\n",
        "search_score = []\n",
        "search_record = {'params': -1, 'best_score': 1e8}\n",
        "\n",
        "for prob in tqdm(prob_search):\n",
        "    for patch_size in patch_size_plain_search:\n",
        "        total_loss = 0\n",
        "        for i in range(rand_epoch):\n",
        "            W1, loss = feature_extraction(data_dict, f_dim, criterion, model_type='MLAE_patches', prob=prob, patch_size=patch_size, mask_val=mask_val)\n",
        "            total_loss += loss\n",
        "        loss = total_loss / rand_epoch\n",
        "        search_score.append(loss)\n",
        "        if loss < search_record['best_score']:\n",
        "            search_record['best_score'] = loss\n",
        "            search_record['params'] = (prob, patch_size)"
      ]
    },
    {
      "cell_type": "code",
      "execution_count": 53,
      "metadata": {
        "id": "NNIFMFDfEHni",
        "colab": {
          "base_uri": "https://localhost:8080/",
          "height": 283
        },
        "outputId": "dce585ee-255a-4412-9156-9bc6040dd325"
      },
      "outputs": [
        {
          "output_type": "execute_result",
          "data": {
            "text/plain": [
              "<matplotlib.legend.Legend at 0x7f1ac4b5b0d0>"
            ]
          },
          "metadata": {},
          "execution_count": 53
        },
        {
          "output_type": "display_data",
          "data": {
            "text/plain": [
              "<Figure size 432x288 with 1 Axes>"
            ],
            "image/png": "[encoded data removed]"
          },
          "metadata": {
            "needs_background": "light"
          }
        }
      ],
      "source": [
        "# search check\n",
        "for i in range(5):\n",
        "    plt.plot(prob_search, search_score[i::5])\n",
        "plt.legend([str(patch_size.item()) for patch_size in patch_size_plain_search])"
      ]
    },
    {
      "cell_type": "code",
      "execution_count": 54,
      "metadata": {
        "id": "lidLQTaFu06m",
        "colab": {
          "base_uri": "https://localhost:8080/"
        },
        "outputId": "2aab3cc8-c6f6-4461-fd62-c0c8d9170614"
      },
      "outputs": [
        {
          "output_type": "stream",
          "name": "stdout",
          "text": [
            "prob: tensor(1.) ,\n",
            "patch_size: 1 ,\n",
            "loss: 4.1734895734989304e-26\n"
          ]
        }
      ],
      "source": [
        "prob, patch_size = search_record['params']\n",
        "print('prob:', prob, ',\\npatch_size:', patch_size.item(), ',\\nloss:', loss)"
      ]
    },
    {
      "cell_type": "code",
      "execution_count": 55,
      "metadata": {
        "id": "m5CH1NYfaDrO",
        "colab": {
          "base_uri": "https://localhost:8080/"
        },
        "outputId": "99b732ac-f226-49a6-e373-934c1c62755e"
      },
      "outputs": [
        {
          "output_type": "stream",
          "name": "stdout",
          "text": [
            "feature extraction loss: 4.1734895734989276e-26\n",
            "representation learning loss: 1.0995967752072981e-08\n"
          ]
        }
      ],
      "source": [
        "# feature extraction\n",
        "W1, fe_loss = feature_extraction(data_dict, f_dim, criterion, model_type='MLAE_patches', prob=prob, patch_size=patch_size, mask_val=mask_val)\n",
        "print('feature extraction loss:', fe_loss)\n",
        "rl_loss = repr_learning(data_dict, W1, criterion, reg_coeff=reg_coeff)\n",
        "print('representation learning loss:', rl_loss)"
      ]
    },
    {
      "cell_type": "code",
      "execution_count": 56,
      "metadata": {
        "id": "TcRAg3E-cVnc"
      },
      "outputs": [],
      "source": [
        "#print('mean:', statistics.mean(fe_loss_dict['MLAE_patches']), ', sd:', statistics.stdev(fe_loss_dict['MLAE_patches']))"
      ]
    },
    {
      "cell_type": "markdown",
      "metadata": {
        "id": "-4BzVMlQdmJ4"
      },
      "source": [
        "### Evaluation"
      ]
    },
    {
      "cell_type": "code",
      "execution_count": 56,
      "metadata": {
        "id": "IQdzko_m8UD3"
      },
      "outputs": [],
      "source": []
    }
  ],
  "metadata": {
    "accelerator": "GPU",
    "colab": {
      "collapsed_sections": [],
      "provenance": [],
      "include_colab_link": true
    },
    "gpuClass": "standard",
    "kernelspec": {
      "display_name": "Python 3.9.6 ('SSL_venv': venv)",
      "language": "python",
      "name": "python3"
    },
    "language_info": {
      "codemirror_mode": {
        "name": "ipython",
        "version": 3
      },
      "file_extension": ".py",
      "mimetype": "text/x-python",
      "name": "python",
      "nbconvert_exporter": "python",
      "pygments_lexer": "ipython3",
      "version": "3.9.6"
    },
    "vscode": {
      "interpreter": {
        "hash": "9c3c12edae13c0508bae753e64eeaec91e16c05e32c8c48bac5bd7ee2e37cd7c"
      }
    }
  },
  "nbformat": 4,
  "nbformat_minor": 0
}