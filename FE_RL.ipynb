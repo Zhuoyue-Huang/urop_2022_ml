{
  "cells": [
    {
      "cell_type": "markdown",
      "metadata": {
        "id": "view-in-github",
        "colab_type": "text"
      },
      "source": [
        "<a href=\"https://colab.research.google.com/github/Zhuoyue-Huang/urop_2022_ml/blob/main/FE_RL.ipynb\" target=\"_parent\"><img src=\"https://colab.research.google.com/assets/colab-badge.svg\" alt=\"Open In Colab\"/></a>"
      ]
    },
    {
      "cell_type": "code",
      "execution_count": 264,
      "metadata": {
        "id": "Kbg1kWfKaDrE"
      },
      "outputs": [],
      "source": [
        "\"\"\"Verify the gradient derivation of linear masked autoencoder.\"\"\"\n",
        "import torch\n",
        "import torch.nn as nn\n",
        "import torch.optim as optim\n",
        "import matplotlib.pyplot as plt\n",
        "from tqdm import tqdm\n",
        "import statistics\n",
        "import numpy as np\n",
        "import pandas as pd \n",
        "import scipy.stats as stats\n",
        "from torch.distributions.exponential import Exponential"
      ]
    },
    {
      "cell_type": "code",
      "execution_count": 265,
      "metadata": {
        "id": "lI0EeuiHacLQ"
      },
      "outputs": [],
      "source": [
        "device = torch.device('cuda' if torch.cuda.is_available() else 'cpu')"
      ]
    },
    {
      "cell_type": "code",
      "execution_count": 266,
      "metadata": {
        "id": "ieYyVAs6NgaM"
      },
      "outputs": [],
      "source": [
        "# set default to be float64\n",
        "torch.set_default_dtype(torch.float64)"
      ]
    },
    {
      "cell_type": "markdown",
      "metadata": {
        "id": "UqQEFeEGaDrH"
      },
      "source": [
        "### Model initialisation"
      ]
    },
    {
      "cell_type": "code",
      "execution_count": 267,
      "metadata": {
        "id": "j73gZMhnaDrI"
      },
      "outputs": [],
      "source": [
        "## Masked lienar auto-encoder model\n",
        "# Define different types of masks\n",
        "def mask_basic(prob, sample_num, x_dim):\n",
        "    return torch.zeros(sample_num, x_dim).bernoulli_(prob)\n",
        "\n",
        "def mask_probs(prob_list: torch.Tensor, sample_num, x_dim):\n",
        "    return torch.zeros(sample_num, x_dim).bernoulli_(prob_list)\n",
        "\n",
        "def mask_patches_block(prob, patch_size: torch.Tensor, sample_num, sample_dim: torch.Tensor):\n",
        "    x_dim = sample_dim[0]*sample_dim[1]\n",
        "    div_check = sample_dim % patch_size == torch.zeros(2)\n",
        "    if torch.all(div_check):\n",
        "        pix_num = torch.div(sample_dim, patch_size, rounding_mode='floor')\n",
        "        mat_patches = torch.zeros(sample_num, *pix_num).bernoulli_(prob)\n",
        "        mat_patches = torch.repeat_interleave(mat_patches, patch_size[1], dim=2)\n",
        "        return mat_patches.repeat_interleave(patch_size[0], dim=1).view(sample_num, x_dim)\n",
        "    else:\n",
        "        raise NotImplementedError(f\"Both height ({sample_dim[0]}) and width ({sample_dim[1]}) should be divisible by patch_size ({patch_size}).\")\n",
        "\n",
        "def mask_patches_plain(prob, patch_size, sample_num, x_dim):\n",
        "    if not x_dim % patch_size:\n",
        "        pix_num = x_dim // patch_size\n",
        "        mat_patches = torch.zeros(sample_num, pix_num).bernoulli_(prob)\n",
        "        return mat_patches.repeat_interleave(patch_size, dim=1)\n",
        "    else:\n",
        "        raise NotImplementedError"
      ]
    },
    {
      "cell_type": "code",
      "source": [
        "def feature_extraction(data_dict, f_dim, criterion, model_type, prob=None, prob_list=None, patch_size=None, device='cuda'):\n",
        "    X_train, _, X_val, _, _, _ = data_dict.values()\n",
        "    train_num, x_dim = X_train.shape\n",
        "    val_num = X_val.shape[0]\n",
        "    if model_type == 'LAE':\n",
        "        Sigma = X_train.T @ X_train\n",
        "        U, _, _ = torch.linalg.svd(Sigma)\n",
        "        U = U[:, :f_dim]\n",
        "        W1 = U.T\n",
        "        W2 = U\n",
        "        loss = criterion(X_val@W1.T@W2.T, X_val)\n",
        "    elif model_type == 'MLAE_basic':\n",
        "        X = mask_basic(prob, train_num, x_dim).to(device) * X_train\n",
        "        Y = X_train\n",
        "        try:\n",
        "            torch.inverse(X.T@X)\n",
        "        except torch._C._LinAlgError:\n",
        "            # Sigma_XX = X.T@X\n",
        "            # U_XX, S_XX, Vh_XX = torch.linalg.svd(Sigma_XX)\n",
        "            # print(S_XX)\n",
        "            # inv = Vh_XX.T*torch.inverse(torch.diag(S_XX+1e-4))*U_XX.T\n",
        "        \n",
        "            perturbation = torch.diag(torch.ones(x_dim)*1e-25).to(device)\n",
        "            inv = torch.inverse(X.T@X+perturbation)\n",
        "        else:\n",
        "            inv = torch.inverse(X.T@X)\n",
        "        if prob == 1:\n",
        "            Sigma = X.T@X\n",
        "            U, _, _ = torch.linalg.svd(Sigma)\n",
        "            U = U[:, :f_dim]\n",
        "            W1 = U.T\n",
        "            W2 = U\n",
        "            loss = criterion(X_val@W1.T@W2.T, X_val)\n",
        "        else:\n",
        "            Sigma = Y.T@X @ inv @ X.T@Y\n",
        "            U, _, _ = torch.linalg.svd(Sigma)\n",
        "            U = U[:, :f_dim]\n",
        "            W1 = U.T @ Y.T@X @ inv\n",
        "            W2 = U\n",
        "            loss = criterion((mask_basic(prob, val_num, x_dim).to(device)*X_val)@W1.T@W2.T, X_val)\n",
        "    elif model_type == 'MLAE_probs':\n",
        "        X = mask_probs(prob_list, train_num, x_dim).to(device) * X_train\n",
        "        Y = X_train\n",
        "        perturbation = torch.diag(torch.ones(x_dim)*1e-16).to(device)\n",
        "        inv = torch.inverse(X.T@X + perturbation)\n",
        "        Sigma = Y.T@X @ inv @ X.T@Y\n",
        "        U, _, _ = torch.linalg.svd(Sigma)\n",
        "        U = U[:, :f_dim]\n",
        "        W1 = U.T @ Y.T@X @ inv\n",
        "        W2 = U\n",
        "        loss = criterion((mask_probs(prob_list, val_num, x_dim).to(device)*X_val)@W1.T@W2.T, X_val)\n",
        "    elif model_type == 'MLAE_patches':\n",
        "        X = mask_patches_plain(prob, patch_size, train_num, x_dim).to(device) * X_train\n",
        "        Y = X_train\n",
        "        try:\n",
        "            torch.inverse(X.T@X)\n",
        "        except torch._C._LinAlgError:\n",
        "            # Sigma_XX = X.T@X\n",
        "            # U_XX, S_XX, Vh_XX = torch.linalg.svd(Sigma_XX)\n",
        "            # print(S_XX)\n",
        "            # inv = Vh_XX.T*torch.inverse(torch.diag(S_XX+1e-4))*U_XX.T\n",
        "        \n",
        "            perturbation = torch.diag(torch.ones(x_dim)*1e-25).to(device)\n",
        "            inv = torch.inverse(X.T@X+perturbation)\n",
        "        else:\n",
        "            inv = torch.inverse(X.T@X)\n",
        "        if prob == 1:\n",
        "            Sigma = X.T@X\n",
        "            U, _, _ = torch.linalg.svd(Sigma)\n",
        "            U = U[:, :f_dim]\n",
        "            W1 = U.T\n",
        "            W2 = U\n",
        "            loss = criterion(X_val@W1.T@W2.T, X_val)\n",
        "        else:\n",
        "            Sigma = Y.T@X @ inv @ X.T@Y\n",
        "            U, _, _ = torch.linalg.svd(Sigma)\n",
        "            U = U[:, :f_dim]\n",
        "            W1 = U.T @ Y.T@X @ inv\n",
        "            W2 = U\n",
        "            loss = criterion((mask_patches_plain(prob, patch_size, val_num, x_dim).to(device)*X_val)@W1.T@W2.T, X_val)\n",
        "    return (W1, loss.cpu().item())"
      ],
      "metadata": {
        "id": "L7AbxmnSTNaZ"
      },
      "execution_count": 268,
      "outputs": []
    },
    {
      "cell_type": "code",
      "execution_count": 269,
      "metadata": {
        "id": "TjY8ezY7aDrJ"
      },
      "outputs": [],
      "source": [
        "# representation learning\n",
        "def repr_learning(data_dict, W1, criterion, device='cuda'):\n",
        "    X_train, y_train, _, _, X_test, y_test = data_dict.values()\n",
        "\n",
        "    f_train = X_train @ W1.T\n",
        "    f_test = X_test @ W1.T\n",
        "    f_dim = f_train.shape[1]\n",
        "    y_dim = y_train.shape[1]\n",
        "\n",
        "    theta = (torch.inverse(f_train.T @ f_train) @ f_train.T @ y_train).T\n",
        "    loss = criterion(y_test, f_test @ theta.T)\n",
        "    return loss.item()"
      ]
    },
    {
      "cell_type": "markdown",
      "metadata": {
        "id": "es2QcO7qaDrK"
      },
      "source": [
        "### Dataset"
      ]
    },
    {
      "cell_type": "code",
      "execution_count": 270,
      "metadata": {
        "colab": {
          "base_uri": "https://localhost:8080/"
        },
        "id": "NoF5AZwxGVU7",
        "outputId": "d5be18c5-f061-4741-90f6-56d55369121f"
      },
      "outputs": [
        {
          "output_type": "stream",
          "name": "stderr",
          "text": [
            "/usr/local/lib/python3.7/dist-packages/ipykernel_launcher.py:14: UserWarning: torch.range is deprecated and will be removed in a future release because its behavior is inconsistent with Python's range builtin. Instead, use torch.arange, which produces values in [start, end).\n",
            "  \n",
            "/usr/local/lib/python3.7/dist-packages/ipykernel_launcher.py:16: UserWarning: torch.range is deprecated and will be removed in a future release because its behavior is inconsistent with Python's range builtin. Instead, use torch.arange, which produces values in [start, end).\n",
            "  app.launch_new_instance()\n"
          ]
        }
      ],
      "source": [
        "train_num, val_num, test_num = (4000, 500, 2000) # larger number of dataset\n",
        "sample_num_split = (train_num, train_num + val_num)\n",
        "total = train_num+val_num+test_num\n",
        "\n",
        "# need to consider f_dim <, =, > z_dim\n",
        "z_dim = 10 # dimension of z\n",
        "H = 4\n",
        "W = 4\n",
        "sample_dim = torch.tensor([H, W])\n",
        "x_dim = H * W\n",
        "f_dim = 14\n",
        "y_dim = z_dim // 2\n",
        "\n",
        "prob_search = torch.range(0, 1, 0.05)\n",
        "prob_list_search = torch.rand(x_dim, generator=torch.random.manual_seed(1911))*0.2\\\n",
        "                   + torch.repeat_interleave(torch.range(0, 0.8, 0.05).unsqueeze(1), x_dim, dim=1)\n",
        "patch_size_plain_search = torch.tensor([2, 4, 8])\n",
        "patch_size_block_search = []\n",
        "for i in [2, 4, 8]:\n",
        "    for j in [2, 4, 8]:\n",
        "        patch_size_block_search.append([i, j])\n",
        "patch_size_search = torch.tensor(patch_size_block_search)"
      ]
    },
    {
      "cell_type": "code",
      "execution_count": 271,
      "metadata": {
        "id": "6-p1AuTWIJk9"
      },
      "outputs": [],
      "source": [
        "#mean = torch.linspace(0, 5, z_dim).repeat(total, 1)\n",
        "#std = torch.linspace(3, 8, z_dim).repeat(total, 1)\n",
        "#m = Exponential(1)\n",
        "#z = m.rsample((total,z_dim))\n",
        "#z = torch.normal(mean=mean, std=std, generator=torch.random.manual_seed(1911))\n",
        "z = torch.normal(mean=0, std=1, size=(total,z_dim), generator=torch.random.manual_seed(1911)) # here distribution is high dimensional guassian\n",
        "z = z.to(device)"
      ]
    },
    {
      "cell_type": "code",
      "execution_count": 272,
      "metadata": {
        "id": "rLboN52waDrK"
      },
      "outputs": [],
      "source": [
        "U = torch.rand(x_dim, z_dim, generator=torch.random.manual_seed(1911))\n",
        "U = U.to(device)\n",
        "V = torch.rand(y_dim, z_dim, generator=torch.random.manual_seed(1911))\n",
        "V = V.to(device)\n",
        "\n",
        "x = z @ U.T\n",
        "y = z @ V.T\n",
        "X_train, X_val, X_test = torch.tensor_split(x, sample_num_split)\n",
        "y_train, y_val, y_test = torch.tensor_split(y, sample_num_split)\n",
        "data_dict = {'X_train': X_train, 'y_train': y_train, 'X_val': X_val, 'y_val': y_val, 'X_test': X_test, 'y_test': y_test}\n",
        "#fe_loss_dict = {'LAE': [], 'MLAE_basic': [], 'MLAE_probs': [], 'MLAE_patches': []}"
      ]
    },
    {
      "cell_type": "code",
      "execution_count": 273,
      "metadata": {
        "id": "_H5fnGlMaDrL"
      },
      "outputs": [],
      "source": [
        "epochs_grid = 50\n",
        "criterion = nn.MSELoss()"
      ]
    },
    {
      "cell_type": "markdown",
      "metadata": {
        "id": "DAoMiwCEaDrL"
      },
      "source": [
        "### Get features from autoencoder"
      ]
    },
    {
      "cell_type": "markdown",
      "metadata": {
        "id": "uPZVsK57aDrL"
      },
      "source": [
        "##### Linear autoencoder"
      ]
    },
    {
      "cell_type": "code",
      "execution_count": 274,
      "metadata": {
        "colab": {
          "base_uri": "https://localhost:8080/"
        },
        "id": "6K3nyMfkaDrM",
        "outputId": "f13c24b3-7558-44d7-b531-242949030468"
      },
      "outputs": [
        {
          "output_type": "stream",
          "name": "stdout",
          "text": [
            "feature extraction loss: 1.6356640622827573e-29\n",
            "representation learning loss: 5.0524731780626245e-27\n"
          ]
        }
      ],
      "source": [
        "W1, fe_loss = feature_extraction(data_dict, f_dim, criterion, model_type='LAE')\n",
        "print('feature extraction loss:', fe_loss)\n",
        "rl_loss = repr_learning(data_dict, W1, criterion)\n",
        "print('representation learning loss:', rl_loss)"
      ]
    },
    {
      "cell_type": "code",
      "execution_count": 275,
      "metadata": {
        "id": "DlVArcy5pOVU"
      },
      "outputs": [],
      "source": [
        "#print('mean:', statistics.mean(fe_loss_dict['LAE']), ', sd:', statistics.stdev(fe_loss_dict['LAE']))"
      ]
    },
    {
      "cell_type": "markdown",
      "metadata": {
        "id": "Ez_oZJ5OaDrN"
      },
      "source": [
        "##### Masked linear autoencoder (basic)"
      ]
    },
    {
      "cell_type": "code",
      "execution_count": 276,
      "metadata": {
        "colab": {
          "base_uri": "https://localhost:8080/"
        },
        "id": "cYK3bC2qVXmA",
        "outputId": "8f08ca7b-e948-4037-b08e-3a68c52ec5be"
      },
      "outputs": [
        {
          "output_type": "stream",
          "name": "stderr",
          "text": [
            "100%|██████████| 21/21 [00:00<00:00, 197.94it/s]\n"
          ]
        }
      ],
      "source": [
        "# grid search\n",
        "search_score = []\n",
        "search_record = {'params': -1, 'best_score': 1e8}\n",
        "\n",
        "for prob in tqdm(prob_search):\n",
        "    W1, loss = feature_extraction(data_dict, f_dim, criterion, model_type='MLAE_basic', prob=prob)\n",
        "    search_score.append(loss)\n",
        "    if loss < search_record['best_score']:\n",
        "        search_record['best_score'] = loss\n",
        "        search_record['params'] = prob"
      ]
    },
    {
      "cell_type": "code",
      "execution_count": 277,
      "metadata": {
        "id": "Xl1YuRV5m5nA",
        "colab": {
          "base_uri": "https://localhost:8080/",
          "height": 283
        },
        "outputId": "6e8cced8-2bd8-41d2-b85b-7f98ea65f1ce"
      },
      "outputs": [
        {
          "output_type": "execute_result",
          "data": {
            "text/plain": [
              "[<matplotlib.lines.Line2D at 0x7ff3946cd650>]"
            ]
          },
          "metadata": {},
          "execution_count": 277
        },
        {
          "output_type": "display_data",
          "data": {
            "text/plain": [
              "<Figure size 432x288 with 1 Axes>"
            ],
            "image/png": "[encoded data removed]"
          },
          "metadata": {
            "needs_background": "light"
          }
        }
      ],
      "source": [
        "# search check\n",
        "plt.plot(prob_search, search_score)"
      ]
    },
    {
      "cell_type": "code",
      "execution_count": 278,
      "metadata": {
        "id": "HDlNPA1MmkUx",
        "colab": {
          "base_uri": "https://localhost:8080/"
        },
        "outputId": "04f6709c-0a3b-4d34-f419-c170d90b05b0"
      },
      "outputs": [
        {
          "output_type": "stream",
          "name": "stdout",
          "text": [
            "prob: 1.0 \n",
            "loss: 1.6356640622827573e-29\n"
          ]
        }
      ],
      "source": [
        "prob = search_record['params']\n",
        "print('prob:', prob.item(), '\\nloss:', loss)"
      ]
    },
    {
      "cell_type": "code",
      "execution_count": 279,
      "metadata": {
        "id": "zs-zpOO8aDrN",
        "colab": {
          "base_uri": "https://localhost:8080/"
        },
        "outputId": "e2647857-f554-4d3f-c69e-e79468a8adae"
      },
      "outputs": [
        {
          "output_type": "stream",
          "name": "stdout",
          "text": [
            "feature extraction loss: 1.6356640622827573e-29\n",
            "representation learning loss: 5.0524731780626245e-27\n"
          ]
        }
      ],
      "source": [
        "W1, fe_loss = feature_extraction(data_dict, f_dim, criterion, model_type='MLAE_basic', prob=prob)\n",
        "print('feature extraction loss:', fe_loss)\n",
        "rl_loss = repr_learning(data_dict, W1, criterion)\n",
        "print('representation learning loss:', rl_loss)"
      ]
    },
    {
      "cell_type": "code",
      "execution_count": 280,
      "metadata": {
        "id": "tfFIpuyrnlDo"
      },
      "outputs": [],
      "source": [
        "#print('mean:', statistics.mean(fe_loss_dict['MLAE_basic']), ', sd:', statistics.stdev(fe_loss_dict['MLAE_basic']))"
      ]
    },
    {
      "cell_type": "markdown",
      "metadata": {
        "id": "mYkcloIWaDrO"
      },
      "source": [
        "##### Masked linear autoencoder (probs)"
      ]
    },
    {
      "cell_type": "code",
      "execution_count": 281,
      "metadata": {
        "id": "QjhPsme3aDrO",
        "colab": {
          "base_uri": "https://localhost:8080/"
        },
        "outputId": "f3aedcf7-a674-4c29-a978-b301c869537e"
      },
      "outputs": [
        {
          "output_type": "stream",
          "name": "stderr",
          "text": [
            "100%|██████████| 17/17 [00:00<00:00, 205.74it/s]\n"
          ]
        }
      ],
      "source": [
        "# grid search\n",
        "search_score = []\n",
        "search_record = {'params': -1, 'best_score': 1e8}\n",
        "\n",
        "for prob_list in tqdm(prob_list_search):\n",
        "    W1, loss = feature_extraction(data_dict, f_dim, criterion, model_type='MLAE_probs', prob_list=prob_list)\n",
        "    search_score.append(loss)\n",
        "    if loss < search_record['best_score']:\n",
        "        search_record['best_score'] = loss\n",
        "        search_record['params'] = prob_list"
      ]
    },
    {
      "cell_type": "code",
      "execution_count": 282,
      "metadata": {
        "id": "zmJaV5zpueHg",
        "colab": {
          "base_uri": "https://localhost:8080/",
          "height": 283
        },
        "outputId": "d34654a7-8f80-4aeb-ed39-79867d4d1696"
      },
      "outputs": [
        {
          "output_type": "execute_result",
          "data": {
            "text/plain": [
              "[<matplotlib.lines.Line2D at 0x7ff3945e4fd0>]"
            ]
          },
          "metadata": {},
          "execution_count": 282
        },
        {
          "output_type": "display_data",
          "data": {
            "text/plain": [
              "<Figure size 432x288 with 1 Axes>"
            ],
            "image/png": "[encoded data removed]"
          },
          "metadata": {
            "needs_background": "light"
          }
        }
      ],
      "source": [
        "# search check\n",
        "plt.plot(list(prob_search)[:17], search_score)"
      ]
    },
    {
      "cell_type": "code",
      "execution_count": 283,
      "metadata": {
        "id": "N47wNFMGujEa",
        "colab": {
          "base_uri": "https://localhost:8080/"
        },
        "outputId": "4b866a3e-3528-4553-dd2b-6fb4e08fbd3f"
      },
      "outputs": [
        {
          "output_type": "stream",
          "name": "stdout",
          "text": [
            "prob: tensor([0.9429, 0.9029, 0.8814, 0.8644, 0.8603, 0.8468, 0.9667, 0.9169, 0.8851,\n",
            "        0.8440, 0.8102, 0.8919, 0.9371, 0.8715, 0.8871, 0.9910]) \n",
            "loss: 0.13671838308445428\n"
          ]
        }
      ],
      "source": [
        "prob_list = search_record['params']\n",
        "print('prob:', prob_list, '\\nloss:', loss)"
      ]
    },
    {
      "cell_type": "code",
      "execution_count": 284,
      "metadata": {
        "id": "cy-i6MCExwGO",
        "colab": {
          "base_uri": "https://localhost:8080/"
        },
        "outputId": "e85ed675-eb35-42f7-aed1-54b53a2397d5"
      },
      "outputs": [
        {
          "output_type": "stream",
          "name": "stdout",
          "text": [
            "feature extraction loss: 0.12353492300165209\n",
            "representation learning loss: 0.11511140094620241\n"
          ]
        }
      ],
      "source": [
        "W1, fe_loss = feature_extraction(data_dict, f_dim, criterion, model_type='MLAE_probs', prob_list=prob_list)\n",
        "print('feature extraction loss:', fe_loss)\n",
        "rl_loss = repr_learning(data_dict, W1, criterion)\n",
        "print('representation learning loss:', rl_loss)"
      ]
    },
    {
      "cell_type": "code",
      "execution_count": 285,
      "metadata": {
        "id": "dK62YaQGcMyR"
      },
      "outputs": [],
      "source": [
        "#print('mean:', statistics.mean(fe_loss_dict['MLAE_probs']), ', sd:', statistics.stdev(fe_loss_dict['MLAE_probs']))"
      ]
    },
    {
      "cell_type": "markdown",
      "metadata": {
        "id": "si7wv4fGaDrO"
      },
      "source": [
        "##### Masked linear autoencoder (patches)"
      ]
    },
    {
      "cell_type": "code",
      "execution_count": 286,
      "metadata": {
        "id": "zk_0aTEcu0jl",
        "colab": {
          "base_uri": "https://localhost:8080/"
        },
        "outputId": "c9cf4416-c60a-4408-f0ed-b40a6165fd2f"
      },
      "outputs": [
        {
          "output_type": "stream",
          "name": "stderr",
          "text": [
            "  0%|          | 0/21 [00:00<?, ?it/s]/usr/local/lib/python3.7/dist-packages/ipykernel_launcher.py:22: UserWarning: __rfloordiv__ is deprecated, and its behavior will change in a future version of pytorch. It currently rounds toward 0 (like the 'trunc' function NOT 'floor'). This results in incorrect rounding for negative values. To keep the current behavior, use torch.div(a, b, rounding_mode='trunc'), or for actual floor division, use torch.div(a, b, rounding_mode='floor').\n",
            "100%|██████████| 21/21 [00:00<00:00, 78.70it/s]\n"
          ]
        }
      ],
      "source": [
        "# grid search\n",
        "search_score = []\n",
        "search_record = {'params': -1, 'best_score': 1e8}\n",
        "\n",
        "for prob in tqdm(prob_search):\n",
        "    for patch_size in patch_size_plain_search:\n",
        "        W1, loss = feature_extraction(data_dict, f_dim, criterion, model_type='MLAE_patches', prob=prob, patch_size=patch_size)\n",
        "\n",
        "        search_score.append(loss)\n",
        "        if loss < search_record['best_score']:\n",
        "            search_record['best_score'] = loss\n",
        "            search_record['params'] = (prob, patch_size)"
      ]
    },
    {
      "cell_type": "code",
      "execution_count": 289,
      "metadata": {
        "id": "NNIFMFDfEHni",
        "colab": {
          "base_uri": "https://localhost:8080/",
          "height": 283
        },
        "outputId": "65b85061-dfbf-4420-df57-7aa52c6751f5"
      },
      "outputs": [
        {
          "output_type": "execute_result",
          "data": {
            "text/plain": [
              "<matplotlib.legend.Legend at 0x7ff3941e61d0>"
            ]
          },
          "metadata": {},
          "execution_count": 289
        },
        {
          "output_type": "display_data",
          "data": {
            "text/plain": [
              "<Figure size 432x288 with 1 Axes>"
            ],
            "image/png": "[encoded data removed]"
          },
          "metadata": {
            "needs_background": "light"
          }
        }
      ],
      "source": [
        "# search check\n",
        "for i in range(3):\n",
        "    plt.plot(prob_search, search_score[i::3])\n",
        "plt.legend([str(patch_size.item()) for patch_size in patch_size_plain_search])"
      ]
    },
    {
      "cell_type": "code",
      "execution_count": 290,
      "metadata": {
        "id": "lidLQTaFu06m",
        "colab": {
          "base_uri": "https://localhost:8080/"
        },
        "outputId": "c42ff3ed-10d7-48ad-9ab9-73bb061f971e"
      },
      "outputs": [
        {
          "output_type": "stream",
          "name": "stdout",
          "text": [
            "prob: tensor(1.) ,\n",
            "patch_size: 2 ,\n",
            "loss: 1.6356640622827573e-29\n"
          ]
        }
      ],
      "source": [
        "prob, patch_size = search_record['params']\n",
        "print('prob:', prob, ',\\npatch_size:', patch_size.item(), ',\\nloss:', loss)"
      ]
    },
    {
      "cell_type": "code",
      "execution_count": 291,
      "metadata": {
        "id": "m5CH1NYfaDrO",
        "colab": {
          "base_uri": "https://localhost:8080/"
        },
        "outputId": "a3fd9962-4b62-41c4-90d6-97013d181220"
      },
      "outputs": [
        {
          "output_type": "stream",
          "name": "stdout",
          "text": [
            "feature extraction loss: 1.6356640622827573e-29\n",
            "representation learning loss: 5.0524731780626245e-27\n"
          ]
        },
        {
          "output_type": "stream",
          "name": "stderr",
          "text": [
            "/usr/local/lib/python3.7/dist-packages/ipykernel_launcher.py:22: UserWarning: __rfloordiv__ is deprecated, and its behavior will change in a future version of pytorch. It currently rounds toward 0 (like the 'trunc' function NOT 'floor'). This results in incorrect rounding for negative values. To keep the current behavior, use torch.div(a, b, rounding_mode='trunc'), or for actual floor division, use torch.div(a, b, rounding_mode='floor').\n"
          ]
        }
      ],
      "source": [
        "# feature extraction\n",
        "W1, fe_loss = feature_extraction(data_dict, f_dim, criterion, model_type='MLAE_patches', prob=prob, patch_size=patch_size)\n",
        "print('feature extraction loss:', fe_loss)\n",
        "rl_loss = repr_learning(data_dict, W1, criterion)\n",
        "print('representation learning loss:', rl_loss)"
      ]
    },
    {
      "cell_type": "code",
      "execution_count": 292,
      "metadata": {
        "id": "TcRAg3E-cVnc"
      },
      "outputs": [],
      "source": [
        "#print('mean:', statistics.mean(fe_loss_dict['MLAE_patches']), ', sd:', statistics.stdev(fe_loss_dict['MLAE_patches']))"
      ]
    },
    {
      "cell_type": "markdown",
      "metadata": {
        "id": "-4BzVMlQdmJ4"
      },
      "source": [
        "### Evaluation"
      ]
    },
    {
      "cell_type": "code",
      "execution_count": null,
      "metadata": {
        "id": "fm1caMrUdo_M",
        "colab": {
          "base_uri": "https://localhost:8080/",
          "height": 283
        },
        "outputId": "b484f1ac-7e81-4e1d-c4d4-2b71a30a61b8"
      },
      "outputs": [
        {
          "output_type": "execute_result",
          "data": {
            "text/plain": [
              "<matplotlib.legend.Legend at 0x7fa7436d90d0>"
            ]
          },
          "metadata": {},
          "execution_count": 64
        },
        {
          "output_type": "display_data",
          "data": {
            "text/plain": [
              "<Figure size 432x288 with 1 Axes>"
            ],
            "image/png": "[encoded data removed]"
          },
          "metadata": {
            "needs_background": "light"
          }
        }
      ],
      "source": [
        "plt.plot(fe_loss_dict['LAE'])\n",
        "plt.plot(fe_loss_dict['MLAE_basic'])\n",
        "plt.plot(fe_loss_dict['MLAE_probs'])\n",
        "plt.plot(fe_loss_dict['MLAE_patches'])\n",
        "plt.legend(['LAE', 'MLAE_basic', 'MLAE_probs', 'MLAE_patches'])"
      ]
    },
    {
      "cell_type": "code",
      "execution_count": null,
      "metadata": {
        "id": "wvIJxQQf6rLj",
        "colab": {
          "base_uri": "https://localhost:8080/"
        },
        "outputId": "1abddc6a-ae4e-4f76-d642-ba0e7fb2edf8"
      },
      "outputs": [
        {
          "output_type": "stream",
          "name": "stdout",
          "text": [
            "{'LAE': {'mean': 24.28822666196855, 'sd': 112.77483075262933}, 'MLAE_basic': {'mean': 19.764446280136564, 'sd': 130.27021268330387}, 'MLAE_probs': {'mean': 3.5287499164980014, 'sd': 1.076605118355581}, 'MLAE_patches': {'mean': 3.500800313630066, 'sd': 0.827311253735518}}\n"
          ]
        }
      ],
      "source": [
        "fe_stats_dict = {'LAE': {'mean': statistics.mean(fe_loss_dict['LAE']), 'sd': statistics.stdev(fe_loss_dict['LAE'])},\n",
        "                 'MLAE_basic': {'mean': statistics.mean(fe_loss_dict['MLAE_basic']), 'sd': statistics.stdev(fe_loss_dict['MLAE_basic'])},\n",
        "                 'MLAE_probs': {'mean': statistics.mean(fe_loss_dict['MLAE_probs']), 'sd': statistics.stdev(fe_loss_dict['MLAE_probs'])},\n",
        "                 'MLAE_patches': {'mean': statistics.mean(fe_loss_dict['MLAE_patches']), 'sd': statistics.stdev(fe_loss_dict['MLAE_patches'])}}\n",
        "print(fe_stats_dict)"
      ]
    },
    {
      "cell_type": "code",
      "execution_count": null,
      "metadata": {
        "id": "je7H8jYwZhAb",
        "colab": {
          "base_uri": "https://localhost:8080/",
          "height": 444
        },
        "outputId": "53081894-f0d2-40f2-f06d-19c9409ca5e5"
      },
      "outputs": [
        {
          "output_type": "display_data",
          "data": {
            "text/plain": [
              "<Figure size 720x504 with 1 Axes>"
            ],
            "image/png": "[encoded data removed]"
          },
          "metadata": {
            "needs_background": "light"
          }
        }
      ],
      "source": [
        "data = fe_loss_dict.values()\n",
        " \n",
        "fig = plt.figure(figsize =(10, 7))\n",
        "ax = fig.add_subplot(111)\n",
        " \n",
        "# Creating axes instance\n",
        "bp = ax.boxplot(data, patch_artist = True,\n",
        "                notch ='True', vert = 0)\n",
        " \n",
        "colors = ['#0000FF', '#00FF00',\n",
        "          '#FFFF00', '#FF00FF']\n",
        " \n",
        "for patch, color in zip(bp['boxes'], colors):\n",
        "    patch.set_facecolor(color)\n",
        " \n",
        "# changing color and linewidth of\n",
        "# whiskers\n",
        "for whisker in bp['whiskers']:\n",
        "    whisker.set(color ='#8B008B',\n",
        "                linewidth = 1.5,\n",
        "                linestyle =\":\")\n",
        " \n",
        "# changing color and linewidth of\n",
        "# caps\n",
        "for cap in bp['caps']:\n",
        "    cap.set(color ='#8B008B',\n",
        "            linewidth = 2)\n",
        " \n",
        "# changing color and linewidth of\n",
        "# medians\n",
        "for median in bp['medians']:\n",
        "    median.set(color ='red',\n",
        "               linewidth = 3)\n",
        " \n",
        "# changing style of fliers\n",
        "for flier in bp['fliers']:\n",
        "    flier.set(marker ='D',\n",
        "              color ='#e7298a',\n",
        "              alpha = 0.5)\n",
        "     \n",
        "# x-axis labels\n",
        "ax.set_yticklabels(fe_loss_dict.keys())\n",
        "#ax.set_yticklabels(patch_dict.keys())\n",
        " \n",
        "# Adding title\n",
        "plt.title(\"Box plot for feature loss\")\n",
        " \n",
        "# Removing top axes and right axes\n",
        "# ticks\n",
        "ax.get_xaxis().tick_bottom()\n",
        "ax.get_yaxis().tick_left()\n",
        "     \n",
        "# show plot\n",
        "plt.show()"
      ]
    },
    {
      "cell_type": "code",
      "execution_count": null,
      "metadata": {
        "id": "IQdzko_m8UD3"
      },
      "outputs": [],
      "source": []
    }
  ],
  "metadata": {
    "accelerator": "GPU",
    "colab": {
      "collapsed_sections": [],
      "provenance": [],
      "include_colab_link": true
    },
    "gpuClass": "standard",
    "kernelspec": {
      "display_name": "Python 3.9.6 ('SSL_venv': venv)",
      "language": "python",
      "name": "python3"
    },
    "language_info": {
      "codemirror_mode": {
        "name": "ipython",
        "version": 3
      },
      "file_extension": ".py",
      "mimetype": "text/x-python",
      "name": "python",
      "nbconvert_exporter": "python",
      "pygments_lexer": "ipython3",
      "version": "3.9.6"
    },
    "vscode": {
      "interpreter": {
        "hash": "9c3c12edae13c0508bae753e64eeaec91e16c05e32c8c48bac5bd7ee2e37cd7c"
      }
    }
  },
  "nbformat": 4,
  "nbformat_minor": 0
}