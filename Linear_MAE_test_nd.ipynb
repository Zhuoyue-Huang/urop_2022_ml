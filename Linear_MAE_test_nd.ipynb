{
 "cells": [
  {
   "cell_type": "code",
   "execution_count": 1,
   "metadata": {},
   "outputs": [],
   "source": [
    "\"\"\"Explore the behaviour of optimal solution of linear masked autoencoder for multiple samples.\"\"\"\n",
    "import torch\n",
    "import torch.nn as nn\n",
    "import torch.optim as optim\n",
    "import matplotlib.pyplot as plt"
   ]
  },
  {
   "cell_type": "code",
   "execution_count": 2,
   "metadata": {},
   "outputs": [],
   "source": [
    "# Note prob is the masked probability\n",
    "\"\"\"\n",
    "def binary_mat_generator(prob, m, n):\n",
    "    num0 = int(n*prob) # num1 of entries is 1 in every row\n",
    "    num1 = n - num0\n",
    "    vec = np.concatenate([np.zeros(num0), np.ones(num1)])\n",
    "    mat = np.tile(vec, (m, 1))\n",
    "    idx = np.random.rand(*mat.shape).argsort(axis=1)\n",
    "    mat_shuffle = np.take_along_axis(mat, idx, axis=1)\n",
    "    return torch.tensor(mat_shuffle).float()\n",
    "\"\"\"\n",
    "    \n",
    "def binary_mat_generator(prob, m, n):\n",
    "    mat_zero = torch.zeros(m, n)\n",
    "    return mat_zero.bernoulli(1-prob)\n"
   ]
  },
  {
   "cell_type": "code",
   "execution_count": 3,
   "metadata": {},
   "outputs": [],
   "source": [
    "# Masked autoencoder (linear)\n",
    "class M_LAE(nn.Module):\n",
    "    def __init__(self, prob, m, n):\n",
    "        super(M_LAE, self).__init__()\n",
    "        self.prob = prob\n",
    "        self.m = m\n",
    "        self.n = n\n",
    "        w1 = nn.Linear(n, n, bias=False)\n",
    "        w2 = nn.Linear(n, n, bias=False)\n",
    "        self.body = nn.Sequential(*[w1, w2])\n",
    "    \n",
    "    def forward(self, X, mask=None):\n",
    "        if mask is None:\n",
    "            mask = binary_mat_generator(self.prob, self.m, self.n)\n",
    "        Y = mask * X\n",
    "        Y = self.body(Y)\n",
    "        return Y"
   ]
  },
  {
   "cell_type": "code",
   "execution_count": 4,
   "metadata": {},
   "outputs": [],
   "source": [
    "prob = 0.5\n",
    "m = 200\n",
    "n = 50\n",
    "\n",
    "inputs = torch.rand(m, n) * 2\n",
    "targets = inputs"
   ]
  },
  {
   "cell_type": "code",
   "execution_count": 5,
   "metadata": {},
   "outputs": [],
   "source": [
    "m_net = M_LAE(prob, m, n)\n",
    "\n",
    "learning_rate = 0.0001\n",
    "epochs = 40000\n",
    "counter = 5000\n",
    "criterion = nn.MSELoss()\n",
    "optimizer = optim.Adam(m_net.body.parameters(), lr=learning_rate)"
   ]
  },
  {
   "cell_type": "code",
   "execution_count": 6,
   "metadata": {},
   "outputs": [
    {
     "name": "stdout",
     "output_type": "stream",
     "text": [
      "epoch:  0 loss:  1.476137638092041\n",
      "epoch:  5000 loss:  0.31907784938812256\n",
      "epoch:  10000 loss:  0.27722200751304626\n",
      "epoch:  15000 loss:  0.2750692069530487\n",
      "epoch:  20000 loss:  0.27519041299819946\n",
      "epoch:  25000 loss:  0.27479082345962524\n",
      "epoch:  30000 loss:  0.2745460569858551\n",
      "epoch:  35000 loss:  0.2752232551574707\n"
     ]
    }
   ],
   "source": [
    "\"\"\"\n",
    "# version 1\n",
    "loss_plt = []\n",
    "for epoch in range(epochs):\n",
    "    optimizer.zero_grad()\n",
    "    outputs = m_net(inputs)\n",
    "    loss = criterion(outputs, targets)\n",
    "    loss.backward()\n",
    "    optimizer.step()\n",
    "    loss_plt.append(loss.item())\n",
    "    if epoch % counter == 0:\n",
    "        print('epoch: ', epoch, 'loss: ', loss.item())\n",
    "    if epoch == 6000:\n",
    "        learning_rate /= 3\n",
    "        optimizer = optim.Adam(m_net.body.parameters(), lr=learning_rate)\n",
    "\"\"\"\n",
    "\n",
    "# version 2\n",
    "N = 30\n",
    "loss_plt = []\n",
    "for epoch in range(epochs):\n",
    "    loss_total = 0\n",
    "    optimizer.zero_grad()\n",
    "    #N = torch.randint(20, 60, (1,))[0]\n",
    "    for i in range(N):\n",
    "        outputs = m_net(inputs)\n",
    "        loss = criterion(outputs, targets)\n",
    "        loss_total += loss\n",
    "    loss_total /= N\n",
    "    loss_total.backward()\n",
    "    optimizer.step()\n",
    "    loss_plt.append(loss_total.item())\n",
    "    if epoch % counter == 0:\n",
    "        print('epoch: ', epoch, 'loss: ', loss_total.item())\n",
    "    if epoch % 10000 == 0:\n",
    "        learning_rate /= 4\n",
    "        optimizer = optim.Adam(m_net.body.parameters(), lr=learning_rate)"
   ]
  },
  {
   "cell_type": "code",
   "execution_count": 13,
   "metadata": {},
   "outputs": [
    {
     "data": {
      "text/plain": [
       "[<matplotlib.lines.Line2D at 0x29170ab8d30>]"
      ]
     },
     "execution_count": 13,
     "metadata": {},
     "output_type": "execute_result"
    },
    {
     "data": {
      "image/png": "[encoded data removed]",
      "text/plain": [
       "<Figure size 432x288 with 1 Axes>"
      ]
     },
     "metadata": {
      "needs_background": "light"
     },
     "output_type": "display_data"
    }
   ],
   "source": [
    "plt.plot(loss_plt[-20000:])"
   ]
  },
  {
   "cell_type": "code",
   "execution_count": 8,
   "metadata": {},
   "outputs": [],
   "source": [
    "params = list(m_net.body.parameters())"
   ]
  },
  {
   "cell_type": "code",
   "execution_count": 9,
   "metadata": {},
   "outputs": [],
   "source": [
    "W1 = params[0].requires_grad_(False)\n",
    "W2 = params[1].requires_grad_(False)"
   ]
  },
  {
   "cell_type": "code",
   "execution_count": 27,
   "metadata": {},
   "outputs": [
    {
     "name": "stdout",
     "output_type": "stream",
     "text": [
      "tensor([[-0.2162, -0.0572, -0.0928,  ...,  0.0505, -0.2559, -0.0895],\n",
      "        [-0.2510, -0.2256,  0.0392,  ..., -0.2140, -0.1478, -0.0316],\n",
      "        [ 0.2002, -0.0175,  0.1471,  ...,  0.0660,  0.0883,  0.2022],\n",
      "        ...,\n",
      "        [-0.1102, -0.0731, -0.0324,  ...,  0.0010,  0.0473, -0.1128],\n",
      "        [-0.3151, -0.3316, -0.2333,  ..., -0.2279, -0.1909, -0.1552],\n",
      "        [-0.1830,  0.0039, -0.0760,  ..., -0.0595, -0.1644,  0.2258]])\n",
      "tensor([[-0.2162, -0.0572, -0.0928,  ...,  0.0505, -0.2559, -0.0895],\n",
      "        [-0.2510, -0.2256,  0.0392,  ..., -0.2140, -0.1478, -0.0316],\n",
      "        [ 0.2002, -0.0175,  0.1471,  ...,  0.0660,  0.0883,  0.2022],\n",
      "        ...,\n",
      "        [-0.1102, -0.0731, -0.0324,  ...,  0.0010,  0.0473, -0.1128],\n",
      "        [-0.3151, -0.3316, -0.2333,  ..., -0.2279, -0.1909, -0.1552],\n",
      "        [-0.1830,  0.0039, -0.0760,  ..., -0.0595, -0.1644,  0.2258]])\n"
     ]
    }
   ],
   "source": [
    "N = 1000\n",
    "gradient1 = 0\n",
    "gradient2 = 0\n",
    "X = inputs\n",
    "for i in range(N):\n",
    "    Y = torch.mul(binary_mat_generator(prob, m, n), X)\n",
    "    gradient1 += W2.T @ (W2@W1@Y.T-X.T) @ Y\n",
    "    gradient2 += (W2@W1@Y.T-X.T) @ Y @ W1.T\n",
    "print(gradient1 / N)\n",
    "print(gradient1 / N)"
   ]
  },
  {
   "cell_type": "code",
   "execution_count": 31,
   "metadata": {},
   "outputs": [
    {
     "data": {
      "text/plain": [
       "tensor([[-0.0760,  0.0219,  0.1109,  ...,  0.0156, -0.0378,  0.1146],\n",
       "        [-0.0044, -0.1046,  0.1105,  ..., -0.0016, -0.0018,  0.0413],\n",
       "        [-0.0165, -0.0553,  0.0613,  ..., -0.0914, -0.0903,  0.0347],\n",
       "        ...,\n",
       "        [ 0.0379,  0.0335,  0.0180,  ...,  0.0120,  0.0208,  0.0263],\n",
       "        [-0.0616, -0.1816, -0.0482,  ..., -0.0667, -0.0411, -0.0181],\n",
       "        [-0.0443, -0.0061,  0.0206,  ..., -0.0190, -0.0329,  0.0686]])"
      ]
     },
     "execution_count": 31,
     "metadata": {},
     "output_type": "execute_result"
    }
   ],
   "source": [
    "X = inputs\n",
    "mean_m = torch.ones(m, n) * prob\n",
    "square_m = torch.ones(n, n) * prob**2\n",
    "square_m.fill_diagonal_(prob)\n",
    "W2.T @ (W2@W1@(square_m*(X.T@X)) - X.T@(mean_m*X))"
   ]
  },
  {
   "cell_type": "code",
   "execution_count": null,
   "metadata": {},
   "outputs": [],
   "source": []
  }
 ],
 "metadata": {
  "kernelspec": {
   "display_name": "Python 3.9.6 ('SSL_venv': venv)",
   "language": "python",
   "name": "python3"
  },
  "language_info": {
   "codemirror_mode": {
    "name": "ipython",
    "version": 3
   },
   "file_extension": ".py",
   "mimetype": "text/x-python",
   "name": "python",
   "nbconvert_exporter": "python",
   "pygments_lexer": "ipython3",
   "version": "3.9.6"
  },
  "orig_nbformat": 4,
  "vscode": {
   "interpreter": {
    "hash": "9c3c12edae13c0508bae753e64eeaec91e16c05e32c8c48bac5bd7ee2e37cd7c"
   }
  }
 },
 "nbformat": 4,
 "nbformat_minor": 2
}
