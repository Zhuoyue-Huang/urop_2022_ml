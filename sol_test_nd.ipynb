{
 "cells": [
  {
   "cell_type": "code",
   "execution_count": 1,
   "metadata": {},
   "outputs": [],
   "source": [
    "\"\"\"Explore the behaviour of optimal solution of linear autoencoder for multiple samples.\"\"\"\n",
    "import torch\n",
    "import torch.nn as nn\n",
    "import torch.optim as optim\n",
    "from torch import mm, transpose\n",
    "import matplotlib.pyplot as plt\n",
    "import numpy as np"
   ]
  },
  {
   "cell_type": "code",
   "execution_count": 27,
   "metadata": {},
   "outputs": [],
   "source": [
    "class LAE(nn.Module):\n",
    "    def __init__(self, n, p):\n",
    "        super(LAE, self).__init__()\n",
    "        self.n = n\n",
    "        self.p = p\n",
    "        self.w1 = nn.Linear(n, p, bias=False)\n",
    "        self.w2 = nn.Linear(p, n, bias=False)\n",
    "\n",
    "    def forward(self, y):\n",
    "        y = self.w1(y)\n",
    "        y = self.w2(y)\n",
    "        return y"
   ]
  },
  {
   "cell_type": "code",
   "execution_count": 28,
   "metadata": {},
   "outputs": [],
   "source": [
    "n = 25\n",
    "p = 20\n",
    "m = 100\n",
    "\n",
    "inputs = torch.rand(m, n)*2\n",
    "targets = inputs"
   ]
  },
  {
   "cell_type": "code",
   "execution_count": 29,
   "metadata": {},
   "outputs": [],
   "source": [
    "net = LAE(n, p)\n",
    "\n",
    "learning_rate = 0.0001\n",
    "epochs = 10000\n",
    "counter = 1000\n",
    "params = list(net.parameters())\n",
    "criterion = nn.MSELoss()\n",
    "optimizer = optim.Adam(params, lr=learning_rate)"
   ]
  },
  {
   "cell_type": "code",
   "execution_count": 30,
   "metadata": {},
   "outputs": [
    {
     "name": "stdout",
     "output_type": "stream",
     "text": [
      "epoch:  0 loss:  1.4174909591674805\n",
      "epoch:  1000 loss:  0.29508712887763977\n",
      "epoch:  2000 loss:  0.12934140861034393\n",
      "epoch:  3000 loss:  0.054526060819625854\n",
      "epoch:  4000 loss:  0.03059191256761551\n",
      "epoch:  5000 loss:  0.02622908540070057\n",
      "epoch:  6000 loss:  0.02584150992333889\n",
      "epoch:  7000 loss:  0.025837058201432228\n",
      "epoch:  8000 loss:  0.025837045162916183\n",
      "epoch:  9000 loss:  0.025837063789367676\n"
     ]
    }
   ],
   "source": [
    "loss_plt = []\n",
    "for epoch in range(epochs):\n",
    "    optimizer.zero_grad()\n",
    "    outputs = net(inputs)\n",
    "    loss = criterion(outputs, targets)\n",
    "    loss.backward()\n",
    "    optimizer.step()\n",
    "    loss_plt.append(loss.item())\n",
    "    if epoch % counter == 0:\n",
    "        learning_rate *= 0.95\n",
    "        optimizer = optim.Adam(params, lr=learning_rate)\n",
    "        print('epoch: ', epoch, 'loss: ', loss.item())"
   ]
  },
  {
   "cell_type": "code",
   "execution_count": 31,
   "metadata": {},
   "outputs": [
    {
     "data": {
      "text/plain": [
       "[<matplotlib.lines.Line2D at 0x12f7070dd90>]"
      ]
     },
     "execution_count": 31,
     "metadata": {},
     "output_type": "execute_result"
    },
    {
     "data": {
      "image/png": "[encoded data removed]",
      "text/plain": [
       "<Figure size 432x288 with 1 Axes>"
      ]
     },
     "metadata": {
      "needs_background": "light"
     },
     "output_type": "display_data"
    }
   ],
   "source": [
    "plt.plot(loss_plt)"
   ]
  },
  {
   "cell_type": "code",
   "execution_count": 32,
   "metadata": {},
   "outputs": [
    {
     "name": "stdout",
     "output_type": "stream",
     "text": [
      "[Parameter containing:\n",
      "tensor([[-0.1772, -0.2318, -0.0439, -0.2047, -0.0071,  0.3592, -0.3338, -0.2617,\n",
      "          0.2285,  0.0010, -0.3302, -0.0050,  0.1202, -0.2496, -0.1187,  0.0977,\n",
      "         -0.2178, -0.4704, -0.1933, -0.0272,  0.1664, -0.0536,  0.0515, -0.1215,\n",
      "         -0.2529],\n",
      "        [ 0.2931, -0.2127, -0.2787, -0.2612,  0.0252, -0.1247,  0.0708,  0.0261,\n",
      "         -0.1987, -0.0253,  0.3851, -0.1950, -0.1634, -0.0660, -0.3524, -0.0368,\n",
      "         -0.0223, -0.2892,  0.1059, -0.1723,  0.0665,  0.0758, -0.0779,  0.2359,\n",
      "         -0.2849],\n",
      "        [-0.1128,  0.1949,  0.0774, -0.2349,  0.1543,  0.2066, -0.0080,  0.2420,\n",
      "          0.2905, -0.0984,  0.4050,  0.0778,  0.0959, -0.0132, -0.0104, -0.2149,\n",
      "          0.2174,  0.0151, -0.1286, -0.4644, -0.1725, -0.0551,  0.1271, -0.1466,\n",
      "          0.1053],\n",
      "        [-0.1210, -0.3972, -0.1000,  0.0499, -0.1435,  0.2192,  0.2909,  0.0802,\n",
      "         -0.1055,  0.1596, -0.0150, -0.0842,  0.4077, -0.0714, -0.1258,  0.2326,\n",
      "          0.2696,  0.1011, -0.2923, -0.0150, -0.0845,  0.1064,  0.2111,  0.1945,\n",
      "         -0.2689],\n",
      "        [-0.2227, -0.1574, -0.2835,  0.3468, -0.0651, -0.1948, -0.1189,  0.2589,\n",
      "          0.1111, -0.3764,  0.1033,  0.0747, -0.0747,  0.0045, -0.2113,  0.1866,\n",
      "         -0.1644,  0.3051, -0.1656, -0.2012, -0.1520, -0.0151,  0.1943,  0.2739,\n",
      "         -0.0744],\n",
      "        [ 0.0933,  0.3949,  0.1356, -0.0222, -0.1993,  0.0083, -0.0848,  0.4955,\n",
      "         -0.2473,  0.0881, -0.2043,  0.2712, -0.0816, -0.3977, -0.0673,  0.1818,\n",
      "         -0.1283,  0.0354, -0.0433, -0.2139,  0.1648,  0.0876, -0.0339,  0.0112,\n",
      "         -0.1775],\n",
      "        [-0.2114, -0.1002, -0.0080,  0.2545, -0.1443,  0.2574, -0.4522,  0.1621,\n",
      "         -0.1842,  0.2862,  0.1089, -0.2345,  0.0908,  0.1459,  0.1716, -0.2878,\n",
      "         -0.1730, -0.1459, -0.1619, -0.0240,  0.2007, -0.0073, -0.1535,  0.2157,\n",
      "          0.3219],\n",
      "        [ 0.2727,  0.0397, -0.0442,  0.0724,  0.3336, -0.0330, -0.0347,  0.0709,\n",
      "          0.2371,  0.1965, -0.2125, -0.2516, -0.1186,  0.0349, -0.0632,  0.1720,\n",
      "         -0.1022,  0.2588, -0.3582, -0.3169,  0.2133,  0.4504, -0.1026, -0.1041,\n",
      "          0.3565],\n",
      "        [-0.4036, -0.0736,  0.1942,  0.4220,  0.2855, -0.0512,  0.0362, -0.1290,\n",
      "         -0.3247,  0.1602, -0.2260,  0.0488, -0.2371, -0.2523, -0.1347, -0.0931,\n",
      "         -0.0215, -0.0608,  0.0089, -0.4032,  0.0926, -0.3471,  0.2030, -0.1834,\n",
      "          0.0051],\n",
      "        [ 0.2559,  0.3532, -0.2328,  0.1562,  0.3283,  0.1421,  0.1756,  0.1807,\n",
      "          0.1355,  0.0062, -0.1676,  0.2568,  0.3237,  0.1190, -0.0617, -0.4306,\n",
      "         -0.1520, -0.0768, -0.1095,  0.1640,  0.2821,  0.0862,  0.2760,  0.2813,\n",
      "          0.1305],\n",
      "        [-0.0129, -0.1061, -0.2433, -0.0670,  0.2612,  0.0317,  0.2323,  0.2001,\n",
      "         -0.0504, -0.0736,  0.3716,  0.2026,  0.1919, -0.2929,  0.2475,  0.2936,\n",
      "         -0.1075,  0.2224,  0.0649,  0.2325,  0.2130, -0.1353, -0.0953, -0.1592,\n",
      "         -0.2447],\n",
      "        [ 0.2467, -0.1102,  0.2943, -0.0337,  0.0755,  0.0508,  0.1119,  0.0391,\n",
      "         -0.1652, -0.2542,  0.0361, -0.2177, -0.0839, -0.3407,  0.0893, -0.2026,\n",
      "         -0.0521,  0.1876, -0.4344,  0.0517, -0.1850, -0.0977, -0.1542,  0.2281,\n",
      "         -0.0645],\n",
      "        [ 0.0512,  0.3209,  0.0626,  0.2868,  0.2435, -0.2084, -0.1369, -0.1279,\n",
      "          0.1760,  0.1696,  0.0729, -0.0265,  0.1047, -0.2011, -0.1465,  0.0768,\n",
      "          0.3117, -0.0058, -0.2031,  0.2105,  0.2546, -0.1484, -0.2355,  0.1526,\n",
      "         -0.1818],\n",
      "        [ 0.1634, -0.0584,  0.1081,  0.1589, -0.1985, -0.1930,  0.1749, -0.1020,\n",
      "         -0.0337, -0.3903,  0.1054, -0.0464,  0.1925,  0.0558,  0.1680,  0.1041,\n",
      "         -0.0667, -0.1844, -0.2625, -0.3284,  0.3211,  0.1191,  0.1430, -0.0379,\n",
      "         -0.0110],\n",
      "        [-0.0604,  0.0785,  0.2147, -0.1275, -0.0087,  0.0680, -0.1514,  0.0618,\n",
      "         -0.1932,  0.0389,  0.2599, -0.2574, -0.1416,  0.2453, -0.4017,  0.0385,\n",
      "         -0.1497,  0.3155, -0.2693,  0.2269,  0.1337, -0.1339,  0.3078, -0.2680,\n",
      "         -0.0913],\n",
      "        [-0.2914, -0.1172, -0.2015, -0.1337,  0.1608, -0.2317, -0.1669,  0.1215,\n",
      "         -0.2044, -0.1288, -0.1257,  0.1747,  0.0316,  0.2302, -0.1918, -0.1050,\n",
      "          0.2218, -0.1223, -0.3316,  0.0846,  0.0266,  0.1438, -0.0693, -0.2089,\n",
      "          0.1755],\n",
      "        [ 0.0455, -0.2164,  0.3416, -0.0905,  0.2481,  0.0370, -0.2974,  0.2904,\n",
      "          0.0704, -0.2539,  0.2063,  0.0937, -0.1163, -0.0870, -0.1037,  0.0921,\n",
      "          0.1194, -0.0311,  0.2372,  0.2185,  0.1318,  0.3403,  0.2795,  0.2723,\n",
      "         -0.1605],\n",
      "        [ 0.2642,  0.1237, -0.0191,  0.3822,  0.3792,  0.3535, -0.1269,  0.2913,\n",
      "         -0.0819, -0.1912,  0.1733,  0.1505, -0.1173,  0.2616, -0.0423,  0.3672,\n",
      "          0.0851, -0.3881, -0.2686,  0.0399, -0.3354, -0.1954,  0.0642, -0.0083,\n",
      "          0.3432],\n",
      "        [ 0.3100, -0.0093, -0.1053,  0.0678,  0.0128,  0.3394, -0.3994, -0.3768,\n",
      "         -0.1893, -0.1130,  0.1486,  0.2710,  0.0661,  0.0285, -0.1432,  0.0208,\n",
      "         -0.0565,  0.2837,  0.0111, -0.1900,  0.1188,  0.0820, -0.1436, -0.0700,\n",
      "         -0.0387],\n",
      "        [ 0.2328,  0.0438, -0.2508,  0.0155, -0.0086, -0.0837, -0.2329,  0.1391,\n",
      "         -0.0743, -0.0176, -0.0168, -0.4245,  0.3711, -0.1765,  0.1157, -0.2861,\n",
      "          0.0631,  0.0019,  0.2082,  0.0308, -0.1595,  0.1981,  0.0194, -0.5479,\n",
      "         -0.3893]], requires_grad=True), Parameter containing:\n",
      "tensor([[-1.4870e-01,  2.5459e-01, -2.4228e-01, -3.3341e-02, -2.4915e-01,\n",
      "          8.2666e-02, -2.5856e-01,  1.7306e-01, -1.9688e-01,  1.8207e-01,\n",
      "         -1.7120e-01,  2.0373e-01, -3.2966e-02,  1.4181e-01, -1.6164e-02,\n",
      "         -3.0515e-01, -2.1582e-02,  3.0117e-01,  2.9311e-01,  2.0162e-01],\n",
      "        [-1.1106e-01, -1.1807e-01,  2.1582e-01, -2.9364e-01, -2.9990e-02,\n",
      "          4.3296e-01, -1.5126e-01, -1.4828e-01, -1.9950e-01,  1.9963e-01,\n",
      "         -2.2704e-01, -1.6588e-01,  3.8649e-01,  2.1321e-02,  2.1797e-01,\n",
      "         -1.6957e-01, -3.1078e-01,  7.5676e-02, -4.8140e-02,  4.4031e-02],\n",
      "        [-9.9941e-02, -3.8968e-01,  1.0719e-01,  1.8148e-02, -4.5392e-01,\n",
      "          1.0105e-01, -3.2207e-02, -7.7592e-02,  1.3675e-01, -2.2209e-01,\n",
      "         -2.7703e-01,  2.6498e-01,  8.5725e-02,  2.9483e-01,  1.9959e-01,\n",
      "         -2.0105e-01,  4.9772e-01, -3.4006e-02, -7.0789e-02, -1.6745e-01],\n",
      "        [-2.5693e-01, -2.2346e-01, -3.2738e-01,  1.0437e-01,  3.4898e-01,\n",
      "         -1.3076e-01,  1.9927e-01, -2.4087e-02,  3.6479e-01,  5.9315e-02,\n",
      "         -1.0965e-01, -1.4115e-01,  3.1705e-01,  2.0974e-01, -1.5016e-01,\n",
      "         -3.1758e-01,  3.5001e-02,  2.9268e-01,  9.0095e-02,  2.7649e-01],\n",
      "        [ 3.9558e-02,  1.0826e-01,  7.4010e-02, -1.5001e-01, -1.4097e-01,\n",
      "         -3.9078e-01, -1.7819e-01,  3.7992e-01,  4.5689e-01,  2.5458e-01,\n",
      "          3.8562e-01,  1.6354e-01,  7.7717e-02, -3.0347e-01, -1.1918e-01,\n",
      "          1.6949e-01,  3.1639e-01,  1.7270e-01, -1.6398e-02,  6.7188e-02],\n",
      "        [ 2.7851e-01, -1.4058e-01,  2.0556e-01,  3.3897e-01, -2.4584e-01,\n",
      "          2.3160e-02,  1.6399e-01, -1.8502e-02, -2.5079e-02,  1.3015e-01,\n",
      "          6.1105e-02,  6.3869e-02, -3.2104e-01, -2.9724e-01,  6.9408e-02,\n",
      "         -3.6204e-01,  1.2789e-02,  2.4451e-01,  3.5914e-01, -9.0288e-02],\n",
      "        [-2.5363e-01,  1.5907e-01, -2.1496e-02,  2.8998e-01, -2.7415e-01,\n",
      "         -9.3922e-02, -3.6379e-01,  5.9687e-02,  1.3776e-01,  2.4239e-01,\n",
      "          2.0232e-01,  7.5170e-02, -2.5387e-01,  1.5334e-01, -1.1690e-02,\n",
      "         -1.4974e-01, -3.0838e-01, -3.8470e-02, -3.5652e-01, -2.5877e-01],\n",
      "        [-1.4635e-01,  3.7222e-02,  1.4722e-01,  4.5353e-02,  1.6601e-01,\n",
      "          5.1978e-01,  2.7166e-01,  7.0630e-02, -1.2342e-01,  5.4792e-02,\n",
      "          1.9390e-01, -1.3230e-02, -1.9368e-01, -1.6697e-01,  2.4120e-02,\n",
      "          1.2111e-01,  1.7172e-01,  1.8022e-01, -5.0082e-01,  1.7778e-01],\n",
      "        [ 4.2478e-01, -2.2514e-01,  4.0486e-01, -2.1188e-01,  3.7100e-01,\n",
      "         -3.1455e-01, -1.7430e-01,  2.5413e-01, -3.5182e-01,  1.7156e-02,\n",
      "         -6.5353e-02, -1.9790e-01,  3.1118e-01, -8.8337e-02, -9.8400e-02,\n",
      "         -4.2045e-01,  2.8058e-02, -1.2908e-01, -3.2142e-01, -7.6568e-02],\n",
      "        [-1.2538e-01,  1.6879e-01,  1.1229e-03,  3.7967e-01, -3.7124e-01,\n",
      "          1.3686e-01,  2.8441e-01,  2.7482e-01,  1.3009e-01, -3.2755e-02,\n",
      "         -1.2200e-03, -3.7933e-01,  1.5195e-01, -4.6007e-01,  7.7311e-02,\n",
      "         -2.5560e-01, -1.8227e-01, -8.0673e-02, -1.3172e-01, -9.0366e-02],\n",
      "        [-2.6437e-01,  3.4054e-01,  4.5606e-01, -8.2716e-02, -1.4464e-02,\n",
      "         -2.1983e-01,  3.1741e-01, -1.6754e-01, -1.0544e-01, -1.9367e-01,\n",
      "          3.8218e-01, -1.3291e-01,  2.0094e-01,  2.1106e-01,  2.1883e-01,\n",
      "         -1.8119e-01,  6.6525e-02,  4.2044e-02,  9.2032e-02, -9.9564e-02],\n",
      "        [-3.7898e-02, -2.0406e-01,  8.7533e-02, -1.8140e-02, -3.8148e-02,\n",
      "          2.8669e-01, -2.4434e-01, -3.0053e-01,  8.1360e-03,  1.8866e-01,\n",
      "          1.5408e-01, -1.3844e-01, -9.8961e-02, -5.2591e-02, -2.8684e-01,\n",
      "          3.8437e-01,  6.5961e-02, -2.6238e-02,  4.6738e-01, -3.8356e-01],\n",
      "        [ 1.5534e-02, -2.6675e-01,  1.3780e-01,  4.3763e-01, -7.8712e-02,\n",
      "         -5.0154e-02,  1.2545e-01, -1.7639e-01, -1.5547e-01,  2.2402e-01,\n",
      "          8.5503e-02, -1.0911e-01,  1.5352e-01,  2.6166e-01, -9.5016e-02,\n",
      "          5.6481e-02, -6.4059e-02, -6.5249e-02,  1.3777e-01,  2.6548e-01],\n",
      "        [-2.4650e-01, -2.5281e-02, -9.4622e-02,  2.9132e-02, -5.0895e-02,\n",
      "         -2.6449e-01,  4.2463e-02, -5.2786e-02, -2.2590e-01,  7.4273e-02,\n",
      "         -2.4540e-01, -4.1204e-01, -1.4870e-01,  1.7324e-01,  3.0321e-01,\n",
      "          1.2911e-01, -8.7104e-02,  1.5002e-01,  4.5911e-02, -1.1589e-01],\n",
      "        [-1.0204e-01, -4.1929e-01, -5.1623e-03, -1.5837e-01, -1.9262e-01,\n",
      "         -9.8685e-02,  3.0259e-01, -9.1048e-03, -7.5629e-02, -1.5100e-01,\n",
      "          4.0029e-01,  1.4721e-01, -1.9796e-01,  2.9197e-01, -3.7793e-01,\n",
      "         -1.2971e-01,  6.0832e-02,  4.6124e-03, -1.4841e-01,  8.8755e-02],\n",
      "        [ 1.2149e-01, -8.7337e-02, -2.7040e-01,  2.1846e-01,  5.1395e-02,\n",
      "          2.0729e-01, -2.0654e-01,  2.5420e-01, -1.9672e-01, -4.9500e-01,\n",
      "          2.3974e-01, -4.1744e-01,  1.1663e-01,  1.3782e-01,  7.3284e-02,\n",
      "         -2.0810e-01,  5.5338e-03,  3.8456e-01, -6.7419e-02, -2.0586e-01],\n",
      "        [-3.7000e-01, -8.6238e-02,  2.8409e-01,  4.8307e-01, -3.3367e-01,\n",
      "         -5.2198e-02, -1.6069e-01, -1.2564e-01,  3.0340e-02, -2.4850e-01,\n",
      "         -3.1032e-01, -1.0724e-01,  4.8690e-01, -1.1954e-02, -2.7966e-01,\n",
      "          3.5376e-01,  2.4011e-01,  5.7444e-02,  1.3258e-01,  7.0595e-02],\n",
      "        [-3.8210e-01, -3.9976e-01,  3.4836e-02,  1.3158e-01,  3.0847e-01,\n",
      "         -5.1314e-02, -1.0077e-01,  2.3211e-01, -2.4687e-02, -1.3370e-02,\n",
      "          1.6191e-01,  1.9109e-01, -6.8458e-02, -3.3146e-01,  2.2457e-01,\n",
      "         -9.9578e-02, -2.1933e-02, -3.9421e-01,  4.2159e-01, -2.7151e-02],\n",
      "        [-2.6558e-01,  9.2796e-02, -1.1996e-01, -1.8629e-01, -7.5447e-02,\n",
      "         -8.6702e-02, -5.5376e-02, -1.4401e-01,  1.9386e-01, -2.5781e-02,\n",
      "          1.6593e-03, -5.0463e-01, -2.2132e-01, -2.2286e-01, -2.5788e-01,\n",
      "         -4.1036e-01,  3.4801e-01, -8.6232e-02,  7.9505e-02,  1.7106e-01],\n",
      "        [ 4.9050e-02, -2.6123e-01, -5.3448e-01, -7.2906e-02, -1.1824e-01,\n",
      "         -1.7004e-01, -1.5950e-02, -2.4633e-01, -3.3960e-01,  1.4556e-01,\n",
      "          2.0105e-01,  1.5653e-01,  1.5077e-01, -2.6268e-01,  2.8810e-01,\n",
      "          1.5747e-01,  1.6068e-01,  9.9442e-02, -2.2212e-01,  2.0439e-02],\n",
      "        [ 7.7167e-02,  1.0829e-01, -1.0766e-01, -1.2753e-01, -2.5200e-01,\n",
      "          7.8964e-02,  2.8552e-01,  1.6272e-01,  1.1190e-01,  1.9245e-01,\n",
      "          3.7036e-01, -3.0216e-01,  2.1651e-01,  5.2338e-01,  2.1187e-01,\n",
      "          5.7779e-02,  1.8720e-01, -3.3778e-01,  4.1919e-02, -2.5440e-01],\n",
      "        [-1.5067e-01, -3.1219e-02, -1.0436e-01,  2.0606e-01, -1.1567e-01,\n",
      "          1.0161e-01, -6.6854e-03,  4.1446e-01, -1.6858e-01, -1.0854e-02,\n",
      "         -1.7568e-01, -1.3629e-01, -1.8415e-01,  9.5064e-02, -2.2561e-01,\n",
      "          2.2358e-01,  4.5343e-01, -1.5876e-01,  1.2459e-01,  1.4258e-01],\n",
      "        [ 4.2260e-02, -1.3306e-01,  4.3808e-02,  2.2039e-01,  9.3415e-02,\n",
      "         -9.6789e-02, -2.1727e-01, -8.6098e-02,  2.6408e-01,  3.6193e-01,\n",
      "         -1.9429e-01, -2.4770e-01, -2.9200e-01,  1.9912e-01,  3.8928e-01,\n",
      "         -2.8035e-01,  3.0199e-01,  3.8770e-02, -1.5749e-01,  1.1602e-01],\n",
      "        [-8.7551e-02,  2.6117e-01, -8.7346e-02,  1.8706e-01,  2.5867e-01,\n",
      "          7.4206e-05,  2.3851e-01, -1.2310e-01, -1.5947e-01,  2.2042e-01,\n",
      "         -2.4953e-01,  2.0367e-01,  1.8547e-01, -1.6504e-01, -2.9433e-01,\n",
      "         -2.3150e-01,  1.8077e-01, -1.3378e-01, -2.3513e-02, -4.2931e-01],\n",
      "        [-2.0711e-01, -1.5460e-01,  5.1755e-02, -1.6601e-01, -1.4279e-01,\n",
      "         -1.3957e-01,  2.3131e-01,  2.5878e-01, -2.4188e-02, -1.8723e-03,\n",
      "          4.0589e-03, -1.3875e-02, -2.5253e-01, -3.2752e-04, -1.1929e-01,\n",
      "          1.6435e-01, -5.8104e-02,  1.1382e-01, -3.3951e-02, -2.7236e-01]],\n",
      "       requires_grad=True)]\n"
     ]
    }
   ],
   "source": [
    "print(params)"
   ]
  },
  {
   "cell_type": "code",
   "execution_count": 33,
   "metadata": {},
   "outputs": [],
   "source": [
    "W1 = params[0].requires_grad_(False)\n",
    "W2 = params[1].requires_grad_(False)"
   ]
  },
  {
   "cell_type": "code",
   "execution_count": 34,
   "metadata": {},
   "outputs": [
    {
     "data": {
      "text/plain": [
       "torch.Size([20, 25])"
      ]
     },
     "execution_count": 34,
     "metadata": {},
     "output_type": "execute_result"
    }
   ],
   "source": [
    "W1.size()"
   ]
  },
  {
   "cell_type": "code",
   "execution_count": 2,
   "metadata": {},
   "outputs": [],
   "source": [
    "# Masked autoencoder (linear)\n",
    "# Note prob is the un-masked probability\n",
    "def binary_mat_generator(prob, m, n):\n",
    "    num1 = int(n*prob) # num1 of entries is 1 in every row\n",
    "    num0 = n - num1\n",
    "    vec = np.concatenate([np.zeros(num0), np.ones(num1)])\n",
    "    mat = np.tile(vec, (m, 1))\n",
    "    idx = np.random.rand(*mat.shape).argsort(axis=1)\n",
    "    mat_shuffle = np.take_along_axis(mat, idx, axis=1)\n",
    "    return torch.tensor(mat_shuffle).float()\n",
    "    \n",
    "\n",
    "class M_LAE(nn.Module):\n",
    "    def __init__(self, prob, m, n):\n",
    "        super(M_LAE, self).__init__()\n",
    "        self.mask = binary_mat_generator(prob, m, n)\n",
    "        w1 = nn.Linear(n, n, bias=False)\n",
    "        w2 = nn.Linear(n, n, bias=False)\n",
    "        self.body = nn.Sequential(*[w1, w2])\n",
    "    \n",
    "    def forward(self, X):\n",
    "        Y = torch.mul(self.mask, X)\n",
    "        Y = self.body(Y)\n",
    "        return Y"
   ]
  },
  {
   "cell_type": "code",
   "execution_count": 93,
   "metadata": {},
   "outputs": [],
   "source": [
    "prob = 0.4\n",
    "m = 200\n",
    "n = 50\n",
    "\n",
    "inputs = torch.rand(m, n)\n",
    "targets = inputs"
   ]
  },
  {
   "cell_type": "code",
   "execution_count": 116,
   "metadata": {},
   "outputs": [],
   "source": [
    "m_net = M_LAE(prob, m, n)\n",
    "\n",
    "learning_rate = 0.001\n",
    "epochs = 10000\n",
    "counter = 1000\n",
    "criterion = nn.MSELoss()\n",
    "optimizer = optim.Adam(m_net.body.parameters(), lr=learning_rate)"
   ]
  },
  {
   "cell_type": "code",
   "execution_count": 117,
   "metadata": {},
   "outputs": [
    {
     "name": "stdout",
     "output_type": "stream",
     "text": [
      "epoch:  0 loss:  0.36113861203193665\n",
      "epoch:  1000 loss:  0.05491527169942856\n",
      "epoch:  2000 loss:  0.05458786338567734\n",
      "epoch:  3000 loss:  0.05457066744565964\n",
      "epoch:  4000 loss:  0.05456827953457832\n",
      "epoch:  5000 loss:  0.05456792190670967\n",
      "epoch:  6000 loss:  0.05456789582967758\n",
      "epoch:  7000 loss:  0.05456792190670967\n",
      "epoch:  8000 loss:  0.05456789582967758\n",
      "epoch:  9000 loss:  0.05456789582967758\n"
     ]
    }
   ],
   "source": [
    "\"\"\"\n",
    "# version 1\n",
    "loss_plt = []\n",
    "for epoch in range(epochs):\n",
    "    optimizer.zero_grad()\n",
    "    outputs = m_net(inputs)\n",
    "    loss = criterion(outputs, targets)\n",
    "    loss.backward()\n",
    "    optimizer.step()\n",
    "    loss_plt.append(loss.item())\n",
    "    if epoch % counter == 0:\n",
    "        print('epoch: ', epoch, 'loss: ', loss.item())\n",
    "    if epoch == 6000:\n",
    "        learning_rate /= 3\n",
    "        optimizer = optim.Adam(m_net.body.parameters(), lr=learning_rate)\n",
    "\"\"\"\n",
    "\n",
    "# version 2\n",
    "N = 40\n",
    "loss_plt = []\n",
    "for epoch in range(epochs):\n",
    "    loss_total = 0\n",
    "    optimizer.zero_grad()\n",
    "    #N = torch.randint(20, 60, (1,))[0]\n",
    "    for i in range(N):\n",
    "        outputs = m_net(inputs)\n",
    "        loss = criterion(outputs, targets)\n",
    "        loss_total += loss\n",
    "    loss_total /= N\n",
    "    loss_total.backward()\n",
    "    optimizer.step()\n",
    "    loss_plt.append(loss_total.item())\n",
    "    if epoch % counter == 0:\n",
    "        print('epoch: ', epoch, 'loss: ', loss_total.item())\n",
    "    if epoch == 6000:\n",
    "        learning_rate /= 3\n",
    "        optimizer = optim.Adam(m_net.body.parameters(), lr=learning_rate)"
   ]
  },
  {
   "cell_type": "code",
   "execution_count": 118,
   "metadata": {},
   "outputs": [
    {
     "data": {
      "text/plain": [
       "[<matplotlib.lines.Line2D at 0x18f89870760>]"
      ]
     },
     "execution_count": 118,
     "metadata": {},
     "output_type": "execute_result"
    },
    {
     "data": {
      "image/png": "[encoded data removed]",
      "text/plain": [
       "<Figure size 432x288 with 1 Axes>"
      ]
     },
     "metadata": {
      "needs_background": "light"
     },
     "output_type": "display_data"
    }
   ],
   "source": [
    "plt.plot(loss_plt[-50:])"
   ]
  },
  {
   "cell_type": "code",
   "execution_count": 119,
   "metadata": {},
   "outputs": [],
   "source": [
    "params = list(m_net.body.parameters())"
   ]
  },
  {
   "cell_type": "code",
   "execution_count": 120,
   "metadata": {},
   "outputs": [],
   "source": [
    "W1 = params[0].requires_grad_(False)\n",
    "W2 = params[1].requires_grad_(False)"
   ]
  },
  {
   "cell_type": "code",
   "execution_count": 126,
   "metadata": {},
   "outputs": [
    {
     "data": {
      "text/plain": [
       "tensor([[ 11.1510,  18.0504,  15.9387,  ...,  15.8014,  19.6703,  18.7646],\n",
       "        [-39.5821, -40.6497, -35.3739,  ..., -38.0789, -38.7425, -42.2492],\n",
       "        [ 21.5838,  21.4273,  19.3667,  ...,  21.7175,  22.0442,  23.8687],\n",
       "        ...,\n",
       "        [ 11.0461,  13.6170,  12.7003,  ...,   8.3668,  12.6103,  14.0103],\n",
       "        [-33.9031, -37.3703, -31.4176,  ..., -35.4275, -37.3163, -37.2849],\n",
       "        [-27.6109, -28.6940, -27.1520,  ..., -27.8542, -26.3111, -37.1343]])"
      ]
     },
     "execution_count": 126,
     "metadata": {},
     "output_type": "execute_result"
    }
   ],
   "source": [
    "N = 100000\n",
    "gradient1 = 0\n",
    "for i in range(N):\n",
    "    X = inputs\n",
    "    Y = torch.mul(binary_mat_generator(prob, m, n), X)\n",
    "    gradient1 += mm(transpose(W2, 0, 1), mm(mm(W2, mm(W1, transpose(Y, 0, 1))-transpose(X, 0, 1)), Y))\n",
    "gradient1 / N"
   ]
  },
  {
   "cell_type": "code",
   "execution_count": 121,
   "metadata": {},
   "outputs": [
    {
     "data": {
      "text/plain": [
       "tensor([[ 1.5867,  2.3149,  2.1477,  ...,  0.8232,  2.5456,  0.9676],\n",
       "        [-3.3828, -1.2988, -1.4688,  ..., -1.4965, -1.1829, -2.2164],\n",
       "        [ 1.8535,  1.3424,  3.1321,  ...,  1.4368,  1.0818,  2.3889],\n",
       "        ...,\n",
       "        [-0.3858,  1.8442,  0.5111,  ...,  0.2836,  0.2827,  0.9305],\n",
       "        [-1.4747, -3.1841, -0.3495,  ..., -1.3665, -1.1852, -1.7795],\n",
       "        [-0.9216, -1.7714, -1.6635,  ...,  0.4920,  0.0747, -4.6179]])"
      ]
     },
     "execution_count": 121,
     "metadata": {},
     "output_type": "execute_result"
    }
   ],
   "source": [
    "X = inputs\n",
    "Xt = transpose(X, 0, 1)\n",
    "mean_m = torch.ones(m, n) * prob\n",
    "square_m = torch.ones(n, n) * prob**2\n",
    "square_m.fill_diagonal_(prob)\n",
    "mm(transpose(W2, 0, 1), mm(W2, mm(W1, torch.mul(square_m, mm(Xt, X))))-mm(Xt, torch.mul(mean_m, X)))"
   ]
  },
  {
   "cell_type": "code",
   "execution_count": null,
   "metadata": {},
   "outputs": [],
   "source": []
  },
  {
   "cell_type": "code",
   "execution_count": null,
   "metadata": {},
   "outputs": [],
   "source": []
  }
 ],
 "metadata": {
  "kernelspec": {
   "display_name": "Python 3.9.6 ('SSL_venv': venv)",
   "language": "python",
   "name": "python3"
  },
  "language_info": {
   "codemirror_mode": {
    "name": "ipython",
    "version": 3
   },
   "file_extension": ".py",
   "mimetype": "text/x-python",
   "name": "python",
   "nbconvert_exporter": "python",
   "pygments_lexer": "ipython3",
   "version": "3.9.6"
  },
  "orig_nbformat": 4,
  "vscode": {
   "interpreter": {
    "hash": "9c3c12edae13c0508bae753e64eeaec91e16c05e32c8c48bac5bd7ee2e37cd7c"
   }
  }
 },
 "nbformat": 4,
 "nbformat_minor": 2
}
