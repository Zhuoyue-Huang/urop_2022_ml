{
 "cells": [
  {
   "cell_type": "code",
   "execution_count": 1,
   "metadata": {},
   "outputs": [],
   "source": [
    "\"\"\"Explore the behaviour of optimal solution of linear autoencoder for multiple samples.\"\"\"\n",
    "import torch\n",
    "import torch.nn as nn\n",
    "import torch.optim as optim\n",
    "from torch import mm, transpose\n",
    "import matplotlib.pyplot as plt"
   ]
  },
  {
   "cell_type": "code",
   "execution_count": null,
   "metadata": {},
   "outputs": [],
   "source": [
    "class LAE(nn.Module):\n",
    "    def __init__(self, n, p):\n",
    "        super(LAE, self).__init__()\n",
    "        self.n = n\n",
    "        self.p = p\n",
    "        self.w1 = nn.Linear(n, p, bias=False)\n",
    "        self.w2 = nn.Linear(p, n, bias=False)\n",
    "\n",
    "    def forward(self, y):\n",
    "        y = self.w1(y)\n",
    "        y = self.w2(y)\n",
    "        return y"
   ]
  },
  {
   "cell_type": "code",
   "execution_count": null,
   "metadata": {},
   "outputs": [],
   "source": [
    "n = 25\n",
    "p = 20\n",
    "m = 100\n",
    "\n",
    "inputs = torch.rand(m, n)*2\n",
    "targets = inputs"
   ]
  },
  {
   "cell_type": "code",
   "execution_count": null,
   "metadata": {},
   "outputs": [],
   "source": [
    "net = LAE(n, p)\n",
    "\n",
    "learning_rate = 0.0001\n",
    "epochs = 10000\n",
    "counter = 1000\n",
    "params = list(net.parameters())\n",
    "criterion = nn.MSELoss()\n",
    "optimizer = optim.Adam(params, lr=learning_rate)"
   ]
  },
  {
   "cell_type": "code",
   "execution_count": null,
   "metadata": {},
   "outputs": [],
   "source": [
    "loss_plt = []\n",
    "for epoch in range(epochs):\n",
    "    optimizer.zero_grad()\n",
    "    outputs = net(inputs)\n",
    "    loss = criterion(outputs, targets)\n",
    "    loss.backward()\n",
    "    optimizer.step()\n",
    "    loss_plt.append(loss.item())\n",
    "    if epoch % counter == 0:\n",
    "        learning_rate *= 0.95\n",
    "        optimizer = optim.Adam(params, lr=learning_rate)\n",
    "        print('epoch: ', epoch, 'loss: ', loss.item())"
   ]
  },
  {
   "cell_type": "code",
   "execution_count": null,
   "metadata": {},
   "outputs": [],
   "source": [
    "plt.plot(loss_plt)"
   ]
  },
  {
   "cell_type": "code",
   "execution_count": null,
   "metadata": {},
   "outputs": [],
   "source": [
    "print(params)"
   ]
  },
  {
   "cell_type": "code",
   "execution_count": null,
   "metadata": {},
   "outputs": [],
   "source": [
    "W1 = params[0].requires_grad_(False)\n",
    "W2 = params[1].requires_grad_(False)"
   ]
  },
  {
   "cell_type": "code",
   "execution_count": null,
   "metadata": {},
   "outputs": [],
   "source": [
    "W1.size()"
   ]
  },
  {
   "cell_type": "code",
   "execution_count": 17,
   "metadata": {},
   "outputs": [],
   "source": [
    "# Masked autoencoder (linear)\n",
    "def binary_mat_generator(prob, m, n):\n",
    "    zero_mat = torch.zeros(m, n)\n",
    "    return zero_mat.bernoulli(prob)\n",
    "\n",
    "class M_LAE(nn.Module):\n",
    "    def __init__(self, prob, m, n):\n",
    "        super(M_LAE, self).__init__()\n",
    "        self.mask = binary_mat_generator(prob, m, n)\n",
    "        self.m = m\n",
    "        self.n = n\n",
    "        w1 = nn.Linear(n, n, bias=False)\n",
    "        w2 = nn.Linear(n, n, bias=False)\n",
    "        self.body = nn.Sequential(*[w1, w2])\n",
    "    \n",
    "    def forward(self, X):\n",
    "        Y = torch.mul(self.mask, X)\n",
    "        Y = self.body(Y)\n",
    "        return Y"
   ]
  },
  {
   "cell_type": "code",
   "execution_count": 18,
   "metadata": {},
   "outputs": [],
   "source": [
    "prob = 0.5\n",
    "m = 100\n",
    "n = 10\n",
    "\n",
    "inputs = torch.rand(m, n)\n",
    "targets = inputs"
   ]
  },
  {
   "cell_type": "code",
   "execution_count": 19,
   "metadata": {},
   "outputs": [],
   "source": [
    "m_net = M_LAE(prob, m, n)\n",
    "\n",
    "learning_rate = 0.00003\n",
    "epochs = 25000\n",
    "counter = 2000\n",
    "criterion = nn.MSELoss()\n",
    "optimizer = optim.Adam(m_net.body.parameters(), lr=learning_rate)"
   ]
  },
  {
   "cell_type": "code",
   "execution_count": 20,
   "metadata": {},
   "outputs": [
    {
     "name": "stdout",
     "output_type": "stream",
     "text": [
      "epoch:  0 loss:  0.3698064088821411\n",
      "epoch:  2000 loss:  0.22719575464725494\n",
      "epoch:  4000 loss:  0.13753052055835724\n",
      "epoch:  6000 loss:  0.10687027126550674\n",
      "epoch:  8000 loss:  0.09546829015016556\n",
      "epoch:  10000 loss:  0.088083915412426\n",
      "epoch:  12000 loss:  0.08315503597259521\n",
      "epoch:  14000 loss:  0.08049385249614716\n",
      "epoch:  16000 loss:  0.07923746854066849\n",
      "epoch:  18000 loss:  0.07864534109830856\n",
      "epoch:  20000 loss:  0.07858358323574066\n",
      "epoch:  22000 loss:  0.07858343422412872\n",
      "epoch:  24000 loss:  0.07858343422412872\n"
     ]
    }
   ],
   "source": [
    "loss_plt = []\n",
    "for epoch in range(epochs):\n",
    "    optimizer.zero_grad()\n",
    "    outputs = m_net(inputs)\n",
    "    loss = criterion(outputs, targets)\n",
    "    loss.backward()\n",
    "    optimizer.step()\n",
    "    loss_plt.append(loss.item())\n",
    "    if epoch % counter == 0:\n",
    "        print('epoch: ', epoch, 'loss: ', loss.item())"
   ]
  },
  {
   "cell_type": "code",
   "execution_count": 21,
   "metadata": {},
   "outputs": [
    {
     "data": {
      "text/plain": [
       "[<matplotlib.lines.Line2D at 0x12f705a6760>]"
      ]
     },
     "execution_count": 21,
     "metadata": {},
     "output_type": "execute_result"
    },
    {
     "data": {
      "image/png": "[encoded data removed]",
      "text/plain": [
       "<Figure size 432x288 with 1 Axes>"
      ]
     },
     "metadata": {
      "needs_background": "light"
     },
     "output_type": "display_data"
    }
   ],
   "source": [
    "plt.plot(loss_plt)"
   ]
  },
  {
   "cell_type": "code",
   "execution_count": 23,
   "metadata": {},
   "outputs": [],
   "source": [
    "params = list(m_net.body.parameters())"
   ]
  },
  {
   "cell_type": "code",
   "execution_count": 24,
   "metadata": {},
   "outputs": [],
   "source": [
    "W1 = params[0].requires_grad_(False)\n",
    "W2 = params[1].requires_grad_(False)"
   ]
  },
  {
   "cell_type": "code",
   "execution_count": 25,
   "metadata": {},
   "outputs": [
    {
     "data": {
      "text/plain": [
       "tensor([[-0.2129,  1.2040,  0.1258, -0.7564, -1.2577, -1.8771, -2.1270, -1.0328,\n",
       "         -0.3870, -1.8541],\n",
       "        [ 1.0258,  2.0279, -0.6544,  0.1399, -0.0222, -0.3248, -1.5385,  0.9175,\n",
       "         -0.5132,  0.3587],\n",
       "        [ 0.8795, -0.6351,  1.4198, -1.5360, -0.8613, -0.1300,  1.0064, -0.8828,\n",
       "         -0.8646,  0.1063],\n",
       "        [-0.3331, -1.4166,  0.7382, -0.6169,  0.2749,  0.3346,  0.9495, -0.5737,\n",
       "          0.3225,  0.7101],\n",
       "        [-0.3464, -2.3468,  1.0255, -1.0053,  0.3130,  0.3762,  1.4447, -1.1819,\n",
       "         -0.2645,  0.5863],\n",
       "        [ 0.9382,  2.4128, -0.8849, -0.1273,  1.0815, -1.3363, -1.9459,  0.5940,\n",
       "          0.3118, -0.0545],\n",
       "        [-0.8566,  0.2653,  0.9956,  0.3883, -0.3253,  0.1957,  0.1593,  0.3246,\n",
       "         -0.2392, -0.8821],\n",
       "        [-0.1314,  1.5531, -1.3143, -0.6994,  0.4188, -0.9600, -1.4366, -0.0871,\n",
       "          0.6977, -0.5827],\n",
       "        [ 0.2180, -0.1957,  0.6802,  0.3323, -0.2212,  0.4790,  0.2418, -0.2160,\n",
       "         -0.1675, -0.0684],\n",
       "        [ 0.3653,  0.8839, -0.1598, -1.8141, -0.7976, -1.4549, -0.5095, -0.6529,\n",
       "         -0.4730, -0.8660]])"
      ]
     },
     "execution_count": 25,
     "metadata": {},
     "output_type": "execute_result"
    }
   ],
   "source": [
    "X = inputs\n",
    "Xt = transpose(X, 0, 1)\n",
    "mean_m = torch.ones(m, n) * prob\n",
    "square_m = torch.ones(n, n) * prob**2\n",
    "square_m.fill_diagonal_(prob)\n",
    "mm(transpose(W2, 0, 1), mm(W2, mm(W1, torch.mul(square_m, mm(Xt, X))))-mm(Xt, torch.mul(mean_m, X)))"
   ]
  },
  {
   "cell_type": "code",
   "execution_count": null,
   "metadata": {},
   "outputs": [],
   "source": []
  }
 ],
 "metadata": {
  "kernelspec": {
   "display_name": "Python 3.9.6 ('SSL_venv': venv)",
   "language": "python",
   "name": "python3"
  },
  "language_info": {
   "codemirror_mode": {
    "name": "ipython",
    "version": 3
   },
   "file_extension": ".py",
   "mimetype": "text/x-python",
   "name": "python",
   "nbconvert_exporter": "python",
   "pygments_lexer": "ipython3",
   "version": "3.9.6"
  },
  "orig_nbformat": 4,
  "vscode": {
   "interpreter": {
    "hash": "9c3c12edae13c0508bae753e64eeaec91e16c05e32c8c48bac5bd7ee2e37cd7c"
   }
  }
 },
 "nbformat": 4,
 "nbformat_minor": 2
}
