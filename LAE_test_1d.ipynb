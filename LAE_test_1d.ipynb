{
 "cells": [
  {
   "cell_type": "code",
   "execution_count": 1,
   "metadata": {},
   "outputs": [],
   "source": [
    "\"\"\"Explore the behaviour of optimal solution of linear autoencoder for 1 sample.\"\"\"\n",
    "import torch\n",
    "import torch.nn as nn\n",
    "import torch.optim as optim\n",
    "from torch import transpose\n",
    "from torch.linalg import inv\n",
    "import matplotlib.pyplot as plt"
   ]
  },
  {
   "cell_type": "code",
   "execution_count": 2,
   "metadata": {},
   "outputs": [],
   "source": [
    "class LAE(nn.Module):\n",
    "    def __init__(self, M, N):\n",
    "        super(LAE, self).__init__()\n",
    "        self.m = M\n",
    "        self.n = N\n",
    "        self.w1 = nn.Linear(M, N, bias=False)\n",
    "        self.w2 = nn.Linear(N, M, bias=False)\n",
    "\n",
    "    def forward(self, y):\n",
    "        y = self.w1(y)\n",
    "        y = self.w2(y)\n",
    "        return y\n",
    "\n",
    "def L2Loss(outputs, targets):\n",
    "    return torch.linalg.norm(outputs-targets)\n"
   ]
  },
  {
   "cell_type": "code",
   "execution_count": 3,
   "metadata": {},
   "outputs": [],
   "source": [
    "M = 50\n",
    "N = 40\n",
    "\n",
    "inputs = torch.rand(M)*2\n",
    "targets = inputs"
   ]
  },
  {
   "cell_type": "code",
   "execution_count": 4,
   "metadata": {},
   "outputs": [],
   "source": [
    "net = LAE(M, N)\n",
    "\n",
    "learning_rate = 0.000003\n",
    "epochs = 20000\n",
    "counter = 1000\n",
    "params = list(net.parameters())\n",
    "optimizer = optim.Adam(params, lr=learning_rate)"
   ]
  },
  {
   "cell_type": "code",
   "execution_count": 5,
   "metadata": {},
   "outputs": [
    {
     "name": "stdout",
     "output_type": "stream",
     "text": [
      "epoch:  0 loss:  7.961854457855225\n",
      "epoch:  1000 loss:  7.253173828125\n",
      "epoch:  2000 loss:  6.433579921722412\n",
      "epoch:  3000 loss:  5.512208461761475\n",
      "epoch:  4000 loss:  4.5360517501831055\n",
      "epoch:  5000 loss:  3.541959285736084\n",
      "epoch:  6000 loss:  2.5217037200927734\n",
      "epoch:  7000 loss:  1.4856083393096924\n",
      "epoch:  8000 loss:  0.5663383603096008\n",
      "epoch:  9000 loss:  0.00017290518735535443\n",
      "epoch:  10000 loss:  9.646238322602585e-05\n",
      "epoch:  11000 loss:  9.369331382913515e-05\n",
      "epoch:  12000 loss:  8.21871726657264e-05\n",
      "epoch:  13000 loss:  8.237779547926039e-05\n",
      "epoch:  14000 loss:  7.91316560935229e-05\n",
      "epoch:  15000 loss:  8.509113104082644e-05\n",
      "epoch:  16000 loss:  8.072124910540879e-05\n",
      "epoch:  17000 loss:  9.018174750963226e-05\n",
      "epoch:  18000 loss:  8.409859583480284e-05\n",
      "epoch:  19000 loss:  0.00010451177513459697\n"
     ]
    }
   ],
   "source": [
    "loss_plt = []\n",
    "for epoch in range(epochs):\n",
    "    optimizer.zero_grad()\n",
    "    outputs = net(inputs)\n",
    "    loss = L2Loss(outputs, targets)\n",
    "    loss.backward()\n",
    "    optimizer.step()\n",
    "    #outputs = outputs.detach()\n",
    "    loss_plt.append(loss.item())\n",
    "    if ((epoch+1)%counter) == True:\n",
    "        print('epoch: ', epoch, 'loss: ', loss.item())"
   ]
  },
  {
   "cell_type": "code",
   "execution_count": 6,
   "metadata": {},
   "outputs": [
    {
     "data": {
      "text/plain": [
       "0.00010045698581961915"
      ]
     },
     "execution_count": 6,
     "metadata": {},
     "output_type": "execute_result"
    },
    {
     "data": {
      "image/png": "[encoded data removed]",
      "text/plain": [
       "<Figure size 432x288 with 1 Axes>"
      ]
     },
     "metadata": {
      "needs_background": "light"
     },
     "output_type": "display_data"
    }
   ],
   "source": [
    "plt.plot(loss_plt)\n",
    "loss_plt[-1]\n"
   ]
  },
  {
   "cell_type": "code",
   "execution_count": 7,
   "metadata": {},
   "outputs": [
    {
     "data": {
      "text/plain": [
       "tensor(0.0001, grad_fn=<LinalgVectorNormBackward0>)"
      ]
     },
     "execution_count": 7,
     "metadata": {},
     "output_type": "execute_result"
    }
   ],
   "source": [
    "L2Loss(net(inputs), targets)"
   ]
  },
  {
   "cell_type": "code",
   "execution_count": 8,
   "metadata": {},
   "outputs": [
    {
     "name": "stdout",
     "output_type": "stream",
     "text": [
      "[Parameter containing:\n",
      "tensor([[ 0.0916,  0.0746, -0.1133,  ..., -0.1688, -0.0524, -0.0142],\n",
      "        [ 0.1433,  0.0594, -0.1018,  ..., -0.1049,  0.0275,  0.0510],\n",
      "        [ 0.0164, -0.0734,  0.1022,  ..., -0.1102, -0.0573,  0.1144],\n",
      "        ...,\n",
      "        [ 0.1210,  0.0142,  0.0890,  ...,  0.1103,  0.0373,  0.0471],\n",
      "        [-0.0303,  0.1144,  0.0214,  ..., -0.0090, -0.1234, -0.1443],\n",
      "        [ 0.0308,  0.0278,  0.0002,  ...,  0.0699, -0.0455,  0.1346]],\n",
      "       requires_grad=True), Parameter containing:\n",
      "tensor([[ 0.1511, -0.1647,  0.0685,  ...,  0.0586, -0.1550, -0.1395],\n",
      "        [-0.0029,  0.1392,  0.1178,  ..., -0.0886, -0.1235, -0.0704],\n",
      "        [ 0.1044, -0.0789, -0.1174,  ...,  0.0182, -0.0018, -0.0525],\n",
      "        ...,\n",
      "        [-0.0147, -0.0521,  0.0533,  ...,  0.0701, -0.1455,  0.1122],\n",
      "        [ 0.0259, -0.0825, -0.0958,  ...,  0.0031,  0.0653,  0.1075],\n",
      "        [ 0.1347,  0.1290, -0.1241,  ...,  0.1154,  0.0781,  0.1047]],\n",
      "       requires_grad=True)]\n"
     ]
    }
   ],
   "source": [
    "print(params)"
   ]
  },
  {
   "cell_type": "code",
   "execution_count": 9,
   "metadata": {},
   "outputs": [],
   "source": [
    "W1 = params[0].requires_grad_(False)\n",
    "W2 = params[1].requires_grad_(False)"
   ]
  },
  {
   "cell_type": "code",
   "execution_count": 10,
   "metadata": {},
   "outputs": [
    {
     "data": {
      "text/plain": [
       "tensor([0.0001])"
      ]
     },
     "execution_count": 10,
     "metadata": {},
     "output_type": "execute_result"
    }
   ],
   "source": [
    "inputs.resize_(M, 1)\n",
    "sum(abs(W2@W1@inputs) - inputs)"
   ]
  },
  {
   "cell_type": "code",
   "execution_count": 11,
   "metadata": {},
   "outputs": [],
   "source": [
    "Y = inputs\n",
    "grad_w1_true = 2 * transpose(W2, 0, 1) @ (W2@W1-torch.eye(M)) @ Y @ transpose(Y, 0, 1)\n",
    "grad_w2_true = 2 * (W2@W1-torch.eye(M)) @ Y @ transpose(Y, 0, 1) @ transpose(W1, 0, 1)"
   ]
  },
  {
   "cell_type": "code",
   "execution_count": 12,
   "metadata": {},
   "outputs": [
    {
     "name": "stdout",
     "output_type": "stream",
     "text": [
      "tensor([[ 6.4477e-05,  3.8632e-05,  2.6824e-05,  ...,  1.2181e-05,\n",
      "          6.5023e-05,  6.0353e-05],\n",
      "        [-4.1171e-05, -2.4668e-05, -1.7128e-05,  ..., -7.7782e-06,\n",
      "         -4.1520e-05, -3.8538e-05],\n",
      "        [-2.9761e-05, -1.7831e-05, -1.2381e-05,  ..., -5.6225e-06,\n",
      "         -3.0013e-05, -2.7857e-05],\n",
      "        ...,\n",
      "        [ 2.1938e-05,  1.3144e-05,  9.1270e-06,  ...,  4.1447e-06,\n",
      "          2.2124e-05,  2.0535e-05],\n",
      "        [-6.4109e-06, -3.8412e-06, -2.6672e-06,  ..., -1.2112e-06,\n",
      "         -6.4653e-06, -6.0009e-06],\n",
      "        [ 7.3225e-06,  4.3874e-06,  3.0464e-06,  ...,  1.3834e-06,\n",
      "          7.3846e-06,  6.8543e-06]])\n",
      "tensor([[-7.2263e-05,  5.5413e-05, -7.5290e-05,  ...,  4.0111e-05,\n",
      "         -1.0539e-04,  4.0096e-05],\n",
      "        [ 2.9763e-05, -2.2823e-05,  3.1010e-05,  ..., -1.6521e-05,\n",
      "          4.3406e-05, -1.6514e-05],\n",
      "        [-1.1233e-05,  8.6138e-06, -1.1704e-05,  ...,  6.2351e-06,\n",
      "         -1.6382e-05,  6.2327e-06],\n",
      "        ...,\n",
      "        [ 3.0736e-05, -2.3569e-05,  3.2024e-05,  ..., -1.7061e-05,\n",
      "          4.4825e-05, -1.7054e-05],\n",
      "        [-8.3640e-05,  6.4137e-05, -8.7144e-05,  ...,  4.6426e-05,\n",
      "         -1.2198e-04,  4.6408e-05],\n",
      "        [-7.0229e-05,  5.3853e-05, -7.3171e-05,  ...,  3.8982e-05,\n",
      "         -1.0242e-04,  3.8967e-05]])\n"
     ]
    }
   ],
   "source": [
    "print(grad_w1_true)\n",
    "print(grad_w2_true)"
   ]
  },
  {
   "cell_type": "code",
   "execution_count": 13,
   "metadata": {},
   "outputs": [
    {
     "data": {
      "text/plain": [
       "tensor([[-1.4643,  1.1229, -1.5256,  ...,  0.8128, -2.1355,  0.8125],\n",
       "        [-0.8773,  0.6728, -0.9141,  ...,  0.4870, -1.2795,  0.4868],\n",
       "        [-0.6092,  0.4671, -0.6347,  ...,  0.3381, -0.8884,  0.3380],\n",
       "        ...,\n",
       "        [-0.2766,  0.2121, -0.2882,  ...,  0.1536, -0.4035,  0.1535],\n",
       "        [-1.4767,  1.1324, -1.5386,  ...,  0.8197, -2.1536,  0.8194],\n",
       "        [-1.3707,  1.0510, -1.4281,  ...,  0.7608, -1.9989,  0.7605]])"
      ]
     },
     "execution_count": 13,
     "metadata": {},
     "output_type": "execute_result"
    }
   ],
   "source": [
    "Y @ transpose(Y, 0, 1) @ transpose(W1, 0, 1)"
   ]
  },
  {
   "cell_type": "code",
   "execution_count": 14,
   "metadata": {},
   "outputs": [
    {
     "name": "stdout",
     "output_type": "stream",
     "text": [
      "tensor(40)\n",
      "tensor(10)\n"
     ]
    }
   ],
   "source": [
    "if torch.linalg.matrix_rank(W2) == N:\n",
    "    test_mat = W2 @ inv(transpose(W2, 0, 1) @ W2) @ transpose(W2, 0, 1) - torch.eye(M)\n",
    "    print(torch.linalg.matrix_rank(test_mat + torch.eye(M)))\n",
    "    print(torch.linalg.matrix_rank(test_mat))"
   ]
  },
  {
   "cell_type": "code",
   "execution_count": 15,
   "metadata": {},
   "outputs": [
    {
     "data": {
      "text/plain": [
       "tensor([[ -3.1424,  -1.8828,  -1.3074,  ...,  -0.5937,  -3.1691,  -2.9415],\n",
       "        [ -1.3296,  -0.7966,  -0.5532,  ...,  -0.2512,  -1.3409,  -1.2446],\n",
       "        [ 11.1548,   6.6835,   4.6408,  ...,   2.1074,  11.2494,  10.4414],\n",
       "        ...,\n",
       "        [ -0.4277,  -0.2563,  -0.1780,  ...,  -0.0808,  -0.4314,  -0.4004],\n",
       "        [  2.8009,   1.6782,   1.1653,  ...,   0.5292,   2.8247,   2.6218],\n",
       "        [-13.3922,  -8.0240,  -5.5716,  ...,  -2.5301, -13.5057, -12.5357]])"
      ]
     },
     "execution_count": 15,
     "metadata": {},
     "output_type": "execute_result"
    }
   ],
   "source": [
    "inv(transpose(W2, 0, 1) @ W2) @ (transpose(W2, 0, 1)-W1) @ Y @ transpose(Y, 0, 1)"
   ]
  },
  {
   "cell_type": "code",
   "execution_count": 16,
   "metadata": {},
   "outputs": [
    {
     "data": {
      "text/plain": [
       "tensor([[0.9737, 0.5834, 0.4051,  ..., 0.1840, 0.9820, 0.9114],\n",
       "        [0.5834, 0.3496, 0.2427,  ..., 0.1102, 0.5883, 0.5461],\n",
       "        [0.4051, 0.2427, 0.1685,  ..., 0.0765, 0.4085, 0.3792],\n",
       "        ...,\n",
       "        [0.1840, 0.1102, 0.0765,  ..., 0.0348, 0.1855, 0.1722],\n",
       "        [0.9820, 0.5883, 0.4085,  ..., 0.1855, 0.9903, 0.9192],\n",
       "        [0.9114, 0.5461, 0.3792,  ..., 0.1722, 0.9192, 0.8531]])"
      ]
     },
     "execution_count": 16,
     "metadata": {},
     "output_type": "execute_result"
    }
   ],
   "source": [
    "Y @ transpose(Y, 0, 1)"
   ]
  },
  {
   "cell_type": "code",
   "execution_count": 17,
   "metadata": {},
   "outputs": [
    {
     "name": "stdout",
     "output_type": "stream",
     "text": [
      "tensor(49)\n",
      "tensor(1)\n"
     ]
    }
   ],
   "source": [
    "print(torch.linalg.matrix_rank((W2 @ W1) - torch.eye(M)))\n",
    "print(torch.linalg.matrix_rank((W2 @ W1 - torch.eye(M)) @ Y @ transpose(Y, 0, 1)))"
   ]
  },
  {
   "cell_type": "code",
   "execution_count": null,
   "metadata": {},
   "outputs": [],
   "source": []
  }
 ],
 "metadata": {
  "kernelspec": {
   "display_name": "Python 3.9.6 ('SSL_venv': venv)",
   "language": "python",
   "name": "python3"
  },
  "language_info": {
   "codemirror_mode": {
    "name": "ipython",
    "version": 3
   },
   "file_extension": ".py",
   "mimetype": "text/x-python",
   "name": "python",
   "nbconvert_exporter": "python",
   "pygments_lexer": "ipython3",
   "version": "3.9.6"
  },
  "orig_nbformat": 4,
  "vscode": {
   "interpreter": {
    "hash": "9c3c12edae13c0508bae753e64eeaec91e16c05e32c8c48bac5bd7ee2e37cd7c"
   }
  }
 },
 "nbformat": 4,
 "nbformat_minor": 2
}
