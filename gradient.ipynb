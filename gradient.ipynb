{
 "cells": [
  {
   "cell_type": "code",
   "execution_count": 1,
   "metadata": {},
   "outputs": [
    {
     "name": "stderr",
     "output_type": "stream",
     "text": [
      "c:\\Users\\Besty\\AppData\\Local\\Programs\\Python\\Python39\\lib\\site-packages\\tqdm\\auto.py:22: TqdmWarning: IProgress not found. Please update jupyter and ipywidgets. See https://ipywidgets.readthedocs.io/en/stable/user_install.html\n",
      "  from .autonotebook import tqdm as notebook_tqdm\n"
     ]
    }
   ],
   "source": [
    "\"\"\"Verify the gradient derivation of linear autoencoder.\"\"\"\n",
    "import torch\n",
    "from torch import transpose, mm"
   ]
  },
  {
   "cell_type": "code",
   "execution_count": 2,
   "metadata": {},
   "outputs": [],
   "source": [
    "# Initialise matrix and vector\n",
    "N = 6\n",
    "M = 5\n",
    "Y = torch.rand(N, 1)\n",
    "W1 = torch.rand(M, N, requires_grad=True)\n",
    "W2 = torch.rand(N, M, requires_grad=True)"
   ]
  },
  {
   "cell_type": "code",
   "execution_count": 3,
   "metadata": {},
   "outputs": [],
   "source": [
    "# define loss function in terms of W1 and W2\n",
    "def loss_func_W1(W1):\n",
    "    return mm(transpose(Y-mm(W2, mm(W1, Y)), 0, 1), Y-mm(W2, mm(W1, Y)))\n",
    "\n",
    "def loss_func_W2(W2):\n",
    "    return mm(transpose(Y-mm(W2, mm(W1, Y)), 0, 1), Y-mm(W2, mm(W1, Y)))"
   ]
  },
  {
   "cell_type": "code",
   "execution_count": 4,
   "metadata": {},
   "outputs": [
    {
     "name": "stdout",
     "output_type": "stream",
     "text": [
      "The matrix norm of the difference between theoretical and numerical solutions of W1: 7.993246981641278e-06\n",
      "The matrix norm of the difference between theoretical and numerical solutions of W2: 1.2025375326629728e-05\n"
     ]
    }
   ],
   "source": [
    "# find the theoretical and numerical solutions of W1 and W2\n",
    "grad_w1_true = 2*mm(mm(transpose(W2, 0, 1), mm(W2, W1)-torch.eye(N)), mm(Y, transpose(Y, 0, 1)))\n",
    "grad_w2_true = 2*mm(mm(mm(W2, W1)-torch.eye(N), mm(Y, transpose(Y, 0, 1))), transpose(W1, 0, 1))\n",
    "\n",
    "grad_w1 = torch.autograd.functional.jacobian(loss_func_W1, W1)\n",
    "grad_w2 = torch.autograd.functional.jacobian(loss_func_W2, W2)\n",
    "\n",
    "norm_diff_w1 = torch.linalg.matrix_norm(grad_w1-grad_w1_true)\n",
    "norm_diff_w2 = torch.linalg.matrix_norm(grad_w2-grad_w2_true)\n",
    "\n",
    "print(\"The matrix norm of the difference between theoretical and numerical solutions of W1:\", norm_diff_w1.item())\n",
    "print(\"The matrix norm of the difference between theoretical and numerical solutions of W2:\", norm_diff_w2.item())"
   ]
  },
  {
   "cell_type": "code",
   "execution_count": null,
   "metadata": {},
   "outputs": [],
   "source": []
  }
 ],
 "metadata": {
  "kernelspec": {
   "display_name": "Python 3.9.6 64-bit",
   "language": "python",
   "name": "python3"
  },
  "language_info": {
   "codemirror_mode": {
    "name": "ipython",
    "version": 3
   },
   "file_extension": ".py",
   "mimetype": "text/x-python",
   "name": "python",
   "nbconvert_exporter": "python",
   "pygments_lexer": "ipython3",
   "version": "3.9.6"
  },
  "orig_nbformat": 4,
  "vscode": {
   "interpreter": {
    "hash": "564aee36413f03b7190b7de1b12a6e695e2661bae8bd59105d5e2048aa9f9e35"
   }
  }
 },
 "nbformat": 4,
 "nbformat_minor": 2
}
