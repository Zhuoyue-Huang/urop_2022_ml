{
  "cells": [
    {
      "cell_type": "markdown",
      "metadata": {
        "id": "view-in-github",
        "colab_type": "text"
      },
      "source": [
        "<a href=\"https://colab.research.google.com/github/Zhuoyue-Huang/urop_2022_ml/blob/main/feature_extraction.ipynb\" target=\"_parent\"><img src=\"https://colab.research.google.com/assets/colab-badge.svg\" alt=\"Open In Colab\"/></a>"
      ]
    },
    {
      "cell_type": "code",
      "execution_count": 1,
      "metadata": {
        "id": "Kbg1kWfKaDrE"
      },
      "outputs": [],
      "source": [
        "\"\"\"Verify the gradient derivation of linear masked autoencoder.\"\"\"\n",
        "import torch\n",
        "import torch.nn as nn\n",
        "import torch.optim as optim\n",
        "import matplotlib.pyplot as plt\n",
        "from tqdm import tqdm\n",
        "import statistics\n",
        "import numpy as np\n",
        "import pandas as pd \n",
        "import scipy.stats as stats"
      ]
    },
    {
      "cell_type": "code",
      "execution_count": 2,
      "metadata": {
        "id": "lI0EeuiHacLQ"
      },
      "outputs": [],
      "source": [
        "device = torch.device('cuda' if torch.cuda.is_available() else 'cpu')"
      ]
    },
    {
      "cell_type": "code",
      "source": [
        "# set default to be float64\n",
        "torch.set_default_dtype(torch.float64)"
      ],
      "metadata": {
        "id": "ieYyVAs6NgaM"
      },
      "execution_count": 3,
      "outputs": []
    },
    {
      "cell_type": "markdown",
      "metadata": {
        "id": "UqQEFeEGaDrH"
      },
      "source": [
        "### Model initialisation"
      ]
    },
    {
      "cell_type": "code",
      "execution_count": 4,
      "metadata": {
        "id": "8ktQADqRaDrI"
      },
      "outputs": [],
      "source": [
        "# Linear auto-encoder model\n",
        "class LAE(nn.Module):\n",
        "    def __init__(self, n, p):\n",
        "        super(LAE, self).__init__()\n",
        "        self.n = n\n",
        "        self.p = p\n",
        "        self.w1 = nn.Linear(n, p, bias=False)\n",
        "        self.w2 = nn.Linear(p, n, bias=False)\n",
        "\n",
        "    def forward(self, y):\n",
        "        y = self.w1(y)\n",
        "        y = self.w2(y)\n",
        "        return y"
      ]
    },
    {
      "cell_type": "code",
      "execution_count": 5,
      "metadata": {
        "id": "j73gZMhnaDrI"
      },
      "outputs": [],
      "source": [
        "## Masked lienar auto-encoder model\n",
        "# Define different types of masks\n",
        "def mask_basic(prob, sample_num, x_dim):\n",
        "    return torch.zeros(sample_num, x_dim).bernoulli_(prob)\n",
        "\n",
        "def mask_dropping_probs(prob_list: torch.Tensor, sample_num, x_dim):\n",
        "    return torch.zeros(sample_num, x_dim).bernoulli_(prob_list)\n",
        "\n",
        "def mask_patches_block(prob, patch_size: torch.Tensor, sample_num, sample_dim: torch.Tensor):\n",
        "    x_dim = sample_dim[0]*sample_dim[1]\n",
        "    div_check = sample_dim % patch_size == torch.zeros(2)\n",
        "    if torch.all(div_check):\n",
        "        pix_num = torch.div(sample_dim, patch_size, rounding_mode='floor')\n",
        "        mat_patches = torch.zeros(sample_num, *pix_num).bernoulli_(prob)\n",
        "        mat_patches = torch.repeat_interleave(mat_patches, patch_size[1], dim=2)\n",
        "        return mat_patches.repeat_interleave(patch_size[0], dim=1).view(sample_num, x_dim)\n",
        "    else:\n",
        "        raise NotImplementedError(f\"Both height ({sample_dim[0]}) and width ({sample_dim[1]}) should be divisible by patch_size ({patch_size}).\")\n",
        "\n",
        "def mask_patches_plain(prob, patch_size, sample_num, x_dim):\n",
        "    if not x_dim % patch_size:\n",
        "        pix_num = x_dim // patch_size\n",
        "        mat_patches = torch.zeros(sample_num, pix_num).bernoulli_(prob)\n",
        "        return mat_patches.repeat_interleave(patch_size, dim=1)\n",
        "    else:\n",
        "        raise NotImplementedError\n",
        "\n",
        "\n",
        "# Masked autoencoder (linear)\n",
        "class M_LAE(nn.Module):\n",
        "    def __init__(self, prob, x_dim, z_dim, type='basic', patch_size=None, sample_dim=None):\n",
        "        super(M_LAE, self).__init__()\n",
        "        self.prob = prob\n",
        "        if sample_dim is not None:\n",
        "            self.sample_dim = sample_dim\n",
        "            self.H, self.W = sample_dim\n",
        "            self.n = self.H * self.W\n",
        "        self.n = x_dim\n",
        "        self.p = z_dim\n",
        "        if type not in ['basic', 'probs', 'patches']:\n",
        "            raise NotImplementedError(\"Could only implement 'basic', 'probs' and 'patches' type of masking.\")\n",
        "        else:\n",
        "            self.masking_type = type\n",
        "        if patch_size is not None:\n",
        "            self.patch_size = patch_size\n",
        "        w1 = nn.Linear(self.n, self.p, bias=False)\n",
        "        w2 = nn.Linear(self.p, self.n, bias=False)\n",
        "        self.body = nn.Sequential(*[w1, w2])\n",
        "    \n",
        "    def forward(self, X, mask=None):\n",
        "        m = X.shape[0]\n",
        "        if mask is None:\n",
        "            if self.masking_type == 'basic':\n",
        "                mask = mask_basic(self.prob, m, self.n).to(device)\n",
        "            elif self.masking_type == 'probs':\n",
        "                mask = mask_dropping_probs(self.prob, m, self.n).to(device)\n",
        "            elif self.masking_type == 'patches':\n",
        "                mask = mask_patches_plain(self.prob, self.patch_size, m, self.n).to(device)\n",
        "        Y = mask * X\n",
        "        Y = self.body(Y)\n",
        "        return Y"
      ]
    },
    {
      "cell_type": "code",
      "source": [
        "class FE_Net(nn.Module):\n",
        "    def __init__(self, z_dim, y_dim):\n",
        "        super(FE_Net, self).__init__()\n",
        "        self.theta = nn.Linear(z_dim, y_dim, bias=False)\n",
        "\n",
        "    def forward(self, W):\n",
        "        return self.theta(W)"
      ],
      "metadata": {
        "id": "WeS-TP2yaBmJ"
      },
      "execution_count": 12,
      "outputs": []
    },
    {
      "cell_type": "code",
      "execution_count": 7,
      "metadata": {
        "id": "USAf_nrKaDrJ"
      },
      "outputs": [],
      "source": [
        "def train_loop(data_dict, model, criterion, optimizer, type, epochs=10, sample_average=10, record=True):\n",
        "    train_loss = []\n",
        "    val_loss = []\n",
        "    if type=='encoder':\n",
        "        train_x = data_dict['train_x']\n",
        "        train_y = train_x\n",
        "    elif type=='fe':\n",
        "        train_x = data_dict['train_x']\n",
        "        train_y = data_dict['train_y']\n",
        "        sample_average = 1\n",
        "\n",
        "    for epoch in range(epochs+1):\n",
        "        loss_total = 0\n",
        "        optimizer.zero_grad()\n",
        "        for i in range(sample_average):\n",
        "            outputs = model(train_x)\n",
        "            loss = criterion(outputs, train_y)\n",
        "            loss_total += loss\n",
        "        loss_total /= sample_average\n",
        "        loss_total.backward()\n",
        "        optimizer.step()\n",
        "        if record:\n",
        "          train_loss.append(loss_total.item())\n",
        "          if epochs>=5 and epoch%(epochs//5)==0:\n",
        "              v_loss = test_loop(data_dict, model, criterion, type)\n",
        "              val_loss.append(v_loss)\n",
        "              print('epoch: ', epoch, ', train loss: ', loss.item(), ', val loss', v_loss)\n",
        "    if record:\n",
        "        return {'train_loss': train_loss, 'val_loss': val_loss}\n",
        "    else:\n",
        "        return loss_total.item()\n",
        "\n",
        "def test_loop(data_dict, model, criterion, type):\n",
        "    if type=='encoder':\n",
        "        val_x = data_dict['val_x']\n",
        "        val_y = val_x\n",
        "    elif type=='fe':\n",
        "        val_x = data_dict['val_x']\n",
        "        val_y = data_dict['val_y']\n",
        "\n",
        "    with torch.no_grad():\n",
        "        outputs = model(val_x)\n",
        "        loss = criterion(outputs, val_y)\n",
        "    return loss.item()"
      ]
    },
    {
      "cell_type": "code",
      "execution_count": 8,
      "metadata": {
        "id": "TjY8ezY7aDrJ"
      },
      "outputs": [],
      "source": [
        "# feature extraction\n",
        "def feature_extraction(data_dict, model_parameters, criterion, type, epochs=200, device='cuda'):\n",
        "    train_x, train_y, val_x, val_y = data_dict.values()[:4]\n",
        "\n",
        "    params = list(model_parameters)\n",
        "    W1 = params[0].clone().detach()\n",
        "    train_z = train_x @ W1.T\n",
        "    val_z = val_x @ W1.T\n",
        "    z_dim = train_z.shape[1]\n",
        "    y_dim = train_y.shape[1]\n",
        "\n",
        "    if type=='ls':\n",
        "        theta = (torch.inverse(train_z.T @ train_z) @ train_z.T @ train_y).T\n",
        "        loss = criterion(val_y, val_z @ theta.T)\n",
        "        return loss.item()\n",
        "    elif type=='gd':\n",
        "        data_dict_fe = {'train_x': train_z, 'train_y': train_y,\n",
        "                        'val_x': val_z, 'val_y': val_y}\n",
        "        net_fe = FE_Net(z_dim, y_dim).to(device)\n",
        "        theta = list(net_fe.parameters())\n",
        "        optimizer = optim.Adam(theta, lr=0.0001)\n",
        "        ### TRAINING ###\n",
        "        loss_fe = train_loop(data_dict_fe, net_fe, criterion, optimizer, epochs=epochs, record=False, type='fe')\n",
        "        return loss_fe"
      ]
    },
    {
      "cell_type": "markdown",
      "metadata": {
        "id": "es2QcO7qaDrK"
      },
      "source": [
        "### Dataset"
      ]
    },
    {
      "cell_type": "code",
      "source": [
        "train_num, val_num, test_num = (60, 20, 20)\n",
        "sample_num_split = (train_num, train_num+val_num)\n",
        "total = train_num+val_num+test_num\n",
        "\n",
        "# need to consider x_dim < and > z_dim\n",
        "z_dim = 10 # dimension of z\n",
        "H = 8\n",
        "W = 8\n",
        "sample_dim = torch.tensor([H, W])\n",
        "x_dim = H * W\n",
        "y_dim = z_dim // 2\n",
        "\n",
        "prob = 0.75\n",
        "prob_list = torch.rand(x_dim)*0.2 + 0.65\n",
        "patch_size = torch.tensor([2, 2])"
      ],
      "metadata": {
        "id": "NoF5AZwxGVU7"
      },
      "execution_count": 18,
      "outputs": []
    },
    {
      "cell_type": "code",
      "execution_count": 20,
      "metadata": {
        "id": "rLboN52waDrK",
        "colab": {
          "base_uri": "https://localhost:8080/"
        },
        "outputId": "9f09e183-1cbc-4b0c-9614-0a883a2a820e"
      },
      "outputs": [
        {
          "output_type": "stream",
          "name": "stdout",
          "text": [
            "torch.Size([20, 64])\n"
          ]
        }
      ],
      "source": [
        "z = torch.normal(mean=0, std=1, size=(total,z_dim)) # here distribution is high dimensional guassian\n",
        "z = z.to(device)\n",
        "\n",
        "U = torch.rand(x_dim, z_dim)\n",
        "U = U.to(device)\n",
        "V = torch.rand(y_dim, z_dim)\n",
        "V = V.to(device)\n",
        "\n",
        "x = z @ U.T\n",
        "y = z @ V.T\n",
        "train_x, val_x, test_x = torch.tensor_split(x, sample_num_split)\n",
        "train_y, val_y, test_y = torch.tensor_split(y, sample_num_split)\n",
        "data_dict = {'train_x': train_x, 'train_y': train_y, 'val_x': val_x, 'val_y': val_y, 'test_x': test_x, 'test_y': test_y}\n",
        "fe_loss_dict = {'LAE': [], 'MLAE_basic': [], 'MLAE_probs': [], 'MLAE_patches': []}"
      ]
    },
    {
      "cell_type": "code",
      "execution_count": 10,
      "metadata": {
        "id": "_H5fnGlMaDrL"
      },
      "outputs": [],
      "source": [
        "learning_rate = 0.01\n",
        "epochs = 500\n",
        "epochs_fe = 250"
      ]
    },
    {
      "cell_type": "markdown",
      "metadata": {
        "id": "DAoMiwCEaDrL"
      },
      "source": [
        "### Get features from autoencoder"
      ]
    },
    {
      "cell_type": "code",
      "source": [
        "net_LAE = LAE(x_dim, z_dim).to(device)\n",
        "\n",
        "params = list(net_LAE.parameters())\n",
        "criterion = nn.MSELoss()\n",
        "optimizer = optim.Adam(params, lr=learning_rate)\n",
        "\n",
        "### TRAINING ###\n",
        "train_loop(data_dict, net_LAE, criterion, optimizer, epochs=epochs, record=False, type='encoder')\n",
        "\n",
        "# feature extraction\n",
        "loss_ls = feature_extraction(data_dict, net_LAE.parameters(), criterion, type='ls', epochs=epochs)\n",
        "loss_gd = feature_extraction(data_dict, net_LAE.parameters(), criterion, type='gd', epochs=epochs)\n",
        "print('least square loss', loss_ls)\n",
        "print('gradient decent loss', loss_gd)"
      ],
      "metadata": {
        "colab": {
          "base_uri": "https://localhost:8080/"
        },
        "id": "33mvQkgooLxk",
        "outputId": "da004404-79ee-4605-ef09-b8a918581060"
      },
      "execution_count": null,
      "outputs": [
        {
          "output_type": "stream",
          "name": "stdout",
          "text": [
            "least square loss 49.13276788015068\n",
            "gradient decent loss 0.11213263151369246\n"
          ]
        }
      ]
    },
    {
      "cell_type": "code",
      "source": [
        "net_LAE = LAE(x_dim, z_dim).to(device)\n",
        "\n",
        "params = list(net_LAE.parameters())\n",
        "criterion = nn.MSELoss()\n",
        "optimizer = optim.Adam(params, lr=learning_rate)\n",
        "\n",
        "### TRAINING ###\n",
        "train_loop(data_dict, net_LAE, criterion, optimizer, epochs=epochs, record=False, type='encoder')\n",
        "\n",
        "# feature extraction\n",
        "loss_ls = feature_extraction(data_dict, net_LAE.parameters(), criterion, type='ls', epochs=epochs)"
      ],
      "metadata": {
        "colab": {
          "base_uri": "https://localhost:8080/",
          "height": 342
        },
        "id": "aP7XM3BpgHQf",
        "outputId": "302277ee-5901-4b41-ee4a-ea64ea6191c6"
      },
      "execution_count": 11,
      "outputs": [
        {
          "output_type": "error",
          "ename": "NameError",
          "evalue": "ignored",
          "traceback": [
            "\u001b[0;31m---------------------------------------------------------------------------\u001b[0m",
            "\u001b[0;31mNameError\u001b[0m                                 Traceback (most recent call last)",
            "\u001b[0;32m<ipython-input-11-81779a48c734>\u001b[0m in \u001b[0;36m<module>\u001b[0;34m\u001b[0m\n\u001b[1;32m      9\u001b[0m \u001b[0;34m\u001b[0m\u001b[0m\n\u001b[1;32m     10\u001b[0m \u001b[0;31m# feature extraction\u001b[0m\u001b[0;34m\u001b[0m\u001b[0;34m\u001b[0m\u001b[0;34m\u001b[0m\u001b[0m\n\u001b[0;32m---> 11\u001b[0;31m \u001b[0mloss_ls\u001b[0m \u001b[0;34m=\u001b[0m \u001b[0mfeature_extraction\u001b[0m\u001b[0;34m(\u001b[0m\u001b[0mdata_dict\u001b[0m\u001b[0;34m,\u001b[0m \u001b[0mnet_LAE\u001b[0m\u001b[0;34m.\u001b[0m\u001b[0mparameters\u001b[0m\u001b[0;34m(\u001b[0m\u001b[0;34m)\u001b[0m\u001b[0;34m,\u001b[0m \u001b[0mcriterion\u001b[0m\u001b[0;34m,\u001b[0m \u001b[0mtype\u001b[0m\u001b[0;34m=\u001b[0m\u001b[0;34m'ls'\u001b[0m\u001b[0;34m,\u001b[0m \u001b[0mepochs\u001b[0m\u001b[0;34m=\u001b[0m\u001b[0mepochs\u001b[0m\u001b[0;34m)\u001b[0m\u001b[0;34m\u001b[0m\u001b[0;34m\u001b[0m\u001b[0m\n\u001b[0m",
            "\u001b[0;32m<ipython-input-8-8109f1b71d58>\u001b[0m in \u001b[0;36mfeature_extraction\u001b[0;34m(data_dict, model_parameters, criterion, type, epochs, device)\u001b[0m\n\u001b[1;32m      6\u001b[0m     \u001b[0mparams0\u001b[0m \u001b[0;34m=\u001b[0m \u001b[0mlist\u001b[0m\u001b[0;34m(\u001b[0m\u001b[0mmodel_parameters\u001b[0m\u001b[0;34m)\u001b[0m\u001b[0;34m\u001b[0m\u001b[0;34m\u001b[0m\u001b[0m\n\u001b[1;32m      7\u001b[0m     \u001b[0mW1_test0\u001b[0m \u001b[0;34m=\u001b[0m \u001b[0mparams0\u001b[0m\u001b[0;34m[\u001b[0m\u001b[0;36m0\u001b[0m\u001b[0;34m]\u001b[0m\u001b[0;34m.\u001b[0m\u001b[0mclone\u001b[0m\u001b[0;34m(\u001b[0m\u001b[0;34m)\u001b[0m\u001b[0;34m\u001b[0m\u001b[0;34m\u001b[0m\u001b[0m\n\u001b[0;32m----> 8\u001b[0;31m     \u001b[0mtrain_inputs_fe_test0\u001b[0m \u001b[0;34m=\u001b[0m \u001b[0;34m(\u001b[0m\u001b[0mtrain_inputs\u001b[0m \u001b[0;34m@\u001b[0m \u001b[0mW1\u001b[0m\u001b[0;34m.\u001b[0m\u001b[0mT\u001b[0m\u001b[0;34m)\u001b[0m\u001b[0;34m.\u001b[0m\u001b[0mdetach\u001b[0m\u001b[0;34m(\u001b[0m\u001b[0;34m)\u001b[0m\u001b[0;34m\u001b[0m\u001b[0;34m\u001b[0m\u001b[0m\n\u001b[0m\u001b[1;32m      9\u001b[0m \u001b[0;34m\u001b[0m\u001b[0m\n\u001b[1;32m     10\u001b[0m     \u001b[0;31m# test 1\u001b[0m\u001b[0;34m\u001b[0m\u001b[0;34m\u001b[0m\u001b[0;34m\u001b[0m\u001b[0m\n",
            "\u001b[0;31mNameError\u001b[0m: name 'W1' is not defined"
          ]
        }
      ]
    },
    {
      "cell_type": "code",
      "source": [
        "loss_gd = feature_extraction(data_dict, net_LAE.parameters(), criterion, type='gd', epochs=epochs)"
      ],
      "metadata": {
        "id": "KXz0hGHigM9R"
      },
      "execution_count": null,
      "outputs": []
    },
    {
      "cell_type": "markdown",
      "metadata": {
        "id": "uPZVsK57aDrL"
      },
      "source": [
        "##### Linear autoencoder"
      ]
    },
    {
      "cell_type": "code",
      "execution_count": null,
      "metadata": {
        "colab": {
          "base_uri": "https://localhost:8080/"
        },
        "id": "6K3nyMfkaDrM",
        "outputId": "99a5d308-d6f3-4e57-d4f8-3f18ce5bcdb7"
      },
      "outputs": [
        {
          "output_type": "stream",
          "name": "stderr",
          "text": [
            "\r  0%|          | 0/250 [00:00<?, ?it/s]"
          ]
        },
        {
          "output_type": "stream",
          "name": "stdout",
          "text": [
            "epoch:  0 , train loss:  1.6110563400342697 , val loss 0.9141163815394789\n",
            "epoch:  100 , train loss:  0.028172562758704195 , val loss 0.17748618970639496\n",
            "epoch:  200 , train loss:  0.00612381309925492 , val loss 0.13817017633355144\n",
            "epoch:  300 , train loss:  0.002311901358287666 , val loss 0.12356291755510251\n",
            "epoch:  400 , train loss:  0.001131814625302024 , val loss 0.11801111744279658\n",
            "epoch:  500 , train loss:  0.0006811806210626154 , val loss 0.11401772608661549\n"
          ]
        },
        {
          "output_type": "stream",
          "name": "stderr",
          "text": [
            "100%|██████████| 250/250 [06:49<00:00,  1.64s/it]\n"
          ]
        }
      ],
      "source": [
        "for i in tqdm(range(epochs_fe)):\n",
        "    net_LAE = LAE(feature_num, reduction_dim).to(device)\n",
        "\n",
        "    params = list(net_LAE.parameters())\n",
        "    criterion = nn.MSELoss()\n",
        "    optimizer = optim.Adam(params, lr=learning_rate)\n",
        "\n",
        "    ### TRAINING ###\n",
        "    if i==0:\n",
        "        loss_LAE = train_loop(data_dict, net_LAE, criterion, optimizer, epochs=epochs, record=True, type='encoder')\n",
        "    else:\n",
        "        train_loop(data_dict, net_LAE, criterion, optimizer, epochs=epochs, record=False, type='encoder')\n",
        "\n",
        "    # feature extraction\n",
        "    #loss_ls = feature_extraction(data_dict, net_LAE.parameters(), criterion, type='ls', epochs=epochs)\n",
        "    loss_gd = feature_extraction(data_dict, net_LAE.parameters(), criterion, type='gd', epochs=epochs)\n",
        "    fe_loss_dict['LAE'].append(loss_gd)"
      ]
    },
    {
      "cell_type": "code",
      "execution_count": null,
      "metadata": {
        "id": "2W43sxx8aDrM",
        "colab": {
          "base_uri": "https://localhost:8080/",
          "height": 283
        },
        "outputId": "c4c055f2-cf79-4ced-9972-572248d9eb69"
      },
      "outputs": [
        {
          "output_type": "execute_result",
          "data": {
            "text/plain": [
              "<matplotlib.legend.Legend at 0x7fcb321af8d0>"
            ]
          },
          "metadata": {},
          "execution_count": 75
        },
        {
          "output_type": "display_data",
          "data": {
            "text/plain": [
              "<Figure size 432x288 with 1 Axes>"
            ],
            "image/png": "[encoded data removed]"
          },
          "metadata": {
            "needs_background": "light"
          }
        }
      ],
      "source": [
        "plt.plot(loss_LAE['train_loss'])\n",
        "plt.plot(range(0, epochs+1, epochs//5), loss_LAE['val_loss'])\n",
        "plt.legend(loss_LAE.keys())"
      ]
    },
    {
      "cell_type": "markdown",
      "metadata": {
        "id": "Ez_oZJ5OaDrN"
      },
      "source": [
        "##### Masked linear autoencoder (basic)"
      ]
    },
    {
      "cell_type": "code",
      "execution_count": null,
      "metadata": {
        "colab": {
          "base_uri": "https://localhost:8080/"
        },
        "id": "zs-zpOO8aDrN",
        "outputId": "c1b64d83-c64d-4e78-89d9-51c67f562806"
      },
      "outputs": [
        {
          "output_type": "stream",
          "name": "stderr",
          "text": [
            "\r  0%|          | 0/250 [00:00<?, ?it/s]"
          ]
        },
        {
          "output_type": "stream",
          "name": "stdout",
          "text": [
            "epoch:  0 , train loss:  1.3257880439659948 , val loss 0.7784914304374851\n",
            "epoch:  100 , train loss:  0.07756457746118352 , val loss 0.22514656597019617\n",
            "epoch:  200 , train loss:  0.06861866331619418 , val loss 0.19182843271407277\n",
            "epoch:  300 , train loss:  0.0783699920529328 , val loss 0.1866600381324613\n",
            "epoch:  400 , train loss:  0.07090129153337708 , val loss 0.1867191063804635\n",
            "epoch:  500 , train loss:  0.07024118678859323 , val loss 0.18434221105772786\n"
          ]
        },
        {
          "output_type": "stream",
          "name": "stderr",
          "text": [
            "100%|██████████| 250/250 [09:15<00:00,  2.22s/it]\n"
          ]
        }
      ],
      "source": [
        "for i in tqdm(range(epochs_fe)):\n",
        "    net_MLAE_basic = M_LAE(prob, sample_dim, reduction_dim).to(device)\n",
        "\n",
        "    params = list(net_MLAE_basic.parameters())\n",
        "    criterion = nn.MSELoss()\n",
        "    optimizer = optim.Adam(params, lr=learning_rate)\n",
        "\n",
        "    ### TRAINING ###\n",
        "    if i==0:\n",
        "        loss_MLAE_basic = train_loop(data_dict, net_MLAE_basic, criterion, optimizer, epochs=epochs, record=True, type='encoder')\n",
        "    else:\n",
        "        train_loop(data_dict, net_MLAE_basic, criterion, optimizer, epochs=epochs, record=False, type='encoder')\n",
        "\n",
        "    # feature extraction\n",
        "    #loss_ls = feature_extraction(data_dict, net_MLAE_basic.parameters(), criterion, type='ls', epochs=epochs)\n",
        "    loss_gd = feature_extraction(data_dict, net_MLAE_basic.parameters(), criterion, type='gd', epochs=epochs)\n",
        "    fe_loss_dict['MLAE_basic'].append(loss_gd)"
      ]
    },
    {
      "cell_type": "code",
      "execution_count": null,
      "metadata": {
        "id": "YquLuCS2aDrN",
        "colab": {
          "base_uri": "https://localhost:8080/",
          "height": 283
        },
        "outputId": "07883b4c-575e-49ad-a56a-82b4f7c6db69"
      },
      "outputs": [
        {
          "output_type": "execute_result",
          "data": {
            "text/plain": [
              "<matplotlib.legend.Legend at 0x7fcb31c31a50>"
            ]
          },
          "metadata": {},
          "execution_count": 77
        },
        {
          "output_type": "display_data",
          "data": {
            "text/plain": [
              "<Figure size 432x288 with 1 Axes>"
            ],
            "image/png": "[encoded data removed]"
          },
          "metadata": {
            "needs_background": "light"
          }
        }
      ],
      "source": [
        "plt.plot(loss_MLAE_basic['train_loss'])\n",
        "plt.plot(range(0, epochs+1, epochs//5), loss_MLAE_basic['val_loss'])\n",
        "plt.legend(loss_MLAE_basic.keys())"
      ]
    },
    {
      "cell_type": "markdown",
      "metadata": {
        "id": "mYkcloIWaDrO"
      },
      "source": [
        "##### Masked linear autoencoder (probs)"
      ]
    },
    {
      "cell_type": "code",
      "execution_count": null,
      "metadata": {
        "colab": {
          "base_uri": "https://localhost:8080/"
        },
        "id": "QjhPsme3aDrO",
        "outputId": "944efe02-0dfc-4c75-a4c1-fdf06067b30b"
      },
      "outputs": [
        {
          "output_type": "stream",
          "name": "stderr",
          "text": [
            "\r  0%|          | 0/250 [00:00<?, ?it/s]"
          ]
        },
        {
          "output_type": "stream",
          "name": "stdout",
          "text": [
            "epoch:  0 , train loss:  1.355836491993298 , val loss 0.7263233651897262\n",
            "epoch:  100 , train loss:  0.07877178861687638 , val loss 0.22245120039611452\n",
            "epoch:  200 , train loss:  0.06741188408546109 , val loss 0.19691999314004624\n",
            "epoch:  300 , train loss:  0.07110426195884484 , val loss 0.18745777913139708\n",
            "epoch:  400 , train loss:  0.07258642358334706 , val loss 0.19792464337732688\n",
            "epoch:  500 , train loss:  0.06762264993301502 , val loss 0.18367721313837038\n"
          ]
        },
        {
          "output_type": "stream",
          "name": "stderr",
          "text": [
            "100%|██████████| 250/250 [09:42<00:00,  2.33s/it]\n"
          ]
        }
      ],
      "source": [
        "for i in tqdm(range(epochs_fe)):\n",
        "    net_MLAE_probs = M_LAE(prob_list, sample_dim, reduction_dim, type='probs').to(device)\n",
        "\n",
        "    params = list(net_MLAE_probs.parameters())\n",
        "    criterion = nn.MSELoss()\n",
        "    optimizer = optim.Adam(params, lr=learning_rate)\n",
        "\n",
        "    ### TRAINING ###\n",
        "    if i==0:\n",
        "        loss_MLAE_probs = train_loop(data_dict, net_MLAE_probs, criterion, optimizer, epochs=epochs, record=True, type='encoder')\n",
        "    else:\n",
        "        train_loop(data_dict, net_MLAE_probs, criterion, optimizer, epochs=epochs, record=False, type='encoder')\n",
        "\n",
        "    # feature extraction\n",
        "    #loss_ls = feature_extraction(data_dict, net_MLAE_probs.parameters(), criterion, type='ls', epochs=epochs)\n",
        "    loss_gd = feature_extraction(data_dict, net_MLAE_probs.parameters(), criterion, type='gd', epochs=epochs)\n",
        "    fe_loss_dict['MLAE_probs'].append(loss_gd)"
      ]
    },
    {
      "cell_type": "code",
      "execution_count": null,
      "metadata": {
        "id": "TyZ4Eg4BaDrO",
        "colab": {
          "base_uri": "https://localhost:8080/",
          "height": 284
        },
        "outputId": "5dcd9300-ee9b-4792-e5d1-a3e61125f527"
      },
      "outputs": [
        {
          "output_type": "execute_result",
          "data": {
            "text/plain": [
              "<matplotlib.legend.Legend at 0x7fcb31bc4dd0>"
            ]
          },
          "metadata": {},
          "execution_count": 79
        },
        {
          "output_type": "display_data",
          "data": {
            "text/plain": [
              "<Figure size 432x288 with 1 Axes>"
            ],
            "image/png": "[encoded data removed]"
          },
          "metadata": {
            "needs_background": "light"
          }
        }
      ],
      "source": [
        "plt.plot(loss_MLAE_probs['train_loss'])\n",
        "plt.plot(range(0, epochs+1, epochs//5), loss_MLAE_probs['val_loss'])\n",
        "plt.legend(loss_MLAE_probs.keys())"
      ]
    },
    {
      "cell_type": "markdown",
      "metadata": {
        "id": "si7wv4fGaDrO"
      },
      "source": [
        "##### Masked linear autoencoder (patches)"
      ]
    },
    {
      "cell_type": "code",
      "source": [
        "patch_dict = {'22': [], '24': [], '42': [], '44': []}"
      ],
      "metadata": {
        "id": "TNY76Rl36eEg"
      },
      "execution_count": null,
      "outputs": []
    },
    {
      "cell_type": "code",
      "execution_count": null,
      "metadata": {
        "colab": {
          "base_uri": "https://localhost:8080/"
        },
        "id": "m5CH1NYfaDrO",
        "outputId": "a4d0f707-81d9-499c-9a80-12f1cbb15c2b"
      },
      "outputs": [
        {
          "output_type": "stream",
          "name": "stderr",
          "text": [
            "\r  0%|          | 0/250 [00:00<?, ?it/s]"
          ]
        },
        {
          "output_type": "stream",
          "name": "stdout",
          "text": [
            "epoch:  0 , train loss:  1.3925296568389367 , val loss 0.7370636294631853\n",
            "epoch:  100 , train loss:  0.17040031385565105 , val loss 0.2720067918102285\n",
            "epoch:  200 , train loss:  0.15717951366401262 , val loss 0.25857679614693513\n",
            "epoch:  300 , train loss:  0.10631216678392111 , val loss 0.2857105087219251\n",
            "epoch:  400 , train loss:  0.1806177605799824 , val loss 0.25058826716587346\n",
            "epoch:  500 , train loss:  0.159000942931161 , val loss 0.30227158900919965\n"
          ]
        },
        {
          "output_type": "stream",
          "name": "stderr",
          "text": [
            "100%|██████████| 250/250 [13:14<00:00,  3.18s/it]\n"
          ]
        }
      ],
      "source": [
        "patch_size = torch.div(sample_dim, 2, rounding_mode='floor')\n",
        "for i in tqdm(range(epochs_fe)):\n",
        "    net_MLAE_patches = M_LAE(prob, sample_dim, reduction_dim, type='patches', patch_size=patch_size).to(device)\n",
        "\n",
        "    params = list(net_MLAE_patches.parameters())\n",
        "    criterion = nn.MSELoss()\n",
        "    optimizer = optim.Adam(params, lr=learning_rate)\n",
        "\n",
        "    ### TRAINING ###\n",
        "    if i==0:\n",
        "        loss_MLAE_patches = train_loop(data_dict, net_MLAE_patches, criterion, optimizer, epochs=epochs, record=True, type='encoder')\n",
        "    else:\n",
        "        train_loop(data_dict, net_MLAE_patches, criterion, optimizer, epochs=epochs, record=False, type='encoder')\n",
        "\n",
        "    # feature extraction\n",
        "    #loss_ls = feature_extraction(data_dict, net_MLAE_patches.parameters(), criterion, type='ls', epochs=epochs)\n",
        "    loss_gd = feature_extraction(data_dict, net_MLAE_patches.parameters(), criterion, type='gd', epochs=epochs)\n",
        "    fe_loss_dict['MLAE_patches'].append(loss_gd)\n",
        "    patch_dict['22'].append(loss_gd)"
      ]
    },
    {
      "cell_type": "code",
      "execution_count": null,
      "metadata": {
        "id": "M_KVuVqfaDrP",
        "colab": {
          "base_uri": "https://localhost:8080/",
          "height": 283
        },
        "outputId": "0caa7517-9e3e-49c6-c290-e3436f419e19"
      },
      "outputs": [
        {
          "output_type": "execute_result",
          "data": {
            "text/plain": [
              "<matplotlib.legend.Legend at 0x7fcb03b7e4d0>"
            ]
          },
          "metadata": {},
          "execution_count": 102
        },
        {
          "output_type": "display_data",
          "data": {
            "text/plain": [
              "<Figure size 432x288 with 1 Axes>"
            ],
            "image/png": "[encoded data removed]"
          },
          "metadata": {
            "needs_background": "light"
          }
        }
      ],
      "source": [
        "plt.plot(loss_MLAE_patches['train_loss'])\n",
        "plt.plot(range(0, epochs+1, epochs//5), loss_MLAE_patches['val_loss'])\n",
        "plt.legend(loss_MLAE_patches.keys())"
      ]
    },
    {
      "cell_type": "code",
      "execution_count": null,
      "metadata": {
        "colab": {
          "base_uri": "https://localhost:8080/"
        },
        "outputId": "da76807f-8372-4054-cde4-ca82ad2d5a8b",
        "id": "7mzy54UV7NbA"
      },
      "outputs": [
        {
          "output_type": "stream",
          "name": "stderr",
          "text": [
            "\r  0%|          | 0/250 [00:00<?, ?it/s]"
          ]
        },
        {
          "output_type": "stream",
          "name": "stdout",
          "text": [
            "epoch:  0 , train loss:  1.4244827293142341 , val loss 0.8900320925606332\n",
            "epoch:  100 , train loss:  0.11994025697633422 , val loss 0.2541695538785206\n",
            "epoch:  200 , train loss:  0.10752900689120005 , val loss 0.29242040540747727\n",
            "epoch:  300 , train loss:  0.10474137068496532 , val loss 0.2829531125386288\n",
            "epoch:  400 , train loss:  0.10345684138537181 , val loss 0.2662443284116839\n",
            "epoch:  500 , train loss:  0.09647288976662288 , val loss 0.2590857637916976\n"
          ]
        },
        {
          "output_type": "stream",
          "name": "stderr",
          "text": [
            "100%|██████████| 250/250 [12:58<00:00,  3.11s/it]\n"
          ]
        }
      ],
      "source": [
        "patch_size = torch.div(sample_dim, torch.tensor([2, 4]), rounding_mode='floor')\n",
        "for i in tqdm(range(epochs_fe)):\n",
        "    net_MLAE_patches = M_LAE(prob, sample_dim, reduction_dim, type='patches', patch_size=patch_size).to(device)\n",
        "\n",
        "    params = list(net_MLAE_patches.parameters())\n",
        "    criterion = nn.MSELoss()\n",
        "    optimizer = optim.Adam(params, lr=learning_rate)\n",
        "\n",
        "    ### TRAINING ###\n",
        "    if i==0:\n",
        "        loss_MLAE_patches = train_loop(data_dict, net_MLAE_patches, criterion, optimizer, epochs=epochs, record=True, type='encoder')\n",
        "    else:\n",
        "        train_loop(data_dict, net_MLAE_patches, criterion, optimizer, epochs=epochs, record=False, type='encoder')\n",
        "\n",
        "    # feature extraction\n",
        "    #loss_ls = feature_extraction(data_dict, net_MLAE_patches.parameters(), criterion, type='ls', epochs=epochs)\n",
        "    loss_gd = feature_extraction(data_dict, net_MLAE_patches.parameters(), criterion, type='gd', epochs=epochs)\n",
        "    fe_loss_dict['MLAE_patches'].append(loss_gd)\n",
        "    patch_dict['24'].append(loss_gd)"
      ]
    },
    {
      "cell_type": "code",
      "execution_count": null,
      "metadata": {
        "colab": {
          "base_uri": "https://localhost:8080/"
        },
        "outputId": "5a1d2c13-57e0-4b9a-a9ee-071c6f5d5e5e",
        "id": "xKgRM5eI7Oul"
      },
      "outputs": [
        {
          "output_type": "stream",
          "name": "stderr",
          "text": [
            "\r  0%|          | 0/250 [00:00<?, ?it/s]"
          ]
        },
        {
          "output_type": "stream",
          "name": "stdout",
          "text": [
            "epoch:  0 , train loss:  1.4533293512874879 , val loss 0.8924475756550074\n",
            "epoch:  100 , train loss:  0.14289964327076132 , val loss 0.26438558964155023\n",
            "epoch:  200 , train loss:  0.10615519735194529 , val loss 0.2522292924913096\n",
            "epoch:  300 , train loss:  0.10592486057251634 , val loss 0.25126169337975135\n",
            "epoch:  400 , train loss:  0.10962539470195541 , val loss 0.2802277034939031\n",
            "epoch:  500 , train loss:  0.1248438637834709 , val loss 0.2655424019710472\n"
          ]
        },
        {
          "output_type": "stream",
          "name": "stderr",
          "text": [
            "100%|██████████| 250/250 [12:56<00:00,  3.11s/it]\n"
          ]
        }
      ],
      "source": [
        "patch_size = torch.div(sample_dim, torch.tensor([4, 2]), rounding_mode='floor')\n",
        "for i in tqdm(range(epochs_fe)):\n",
        "    net_MLAE_patches = M_LAE(prob, sample_dim, reduction_dim, type='patches', patch_size=patch_size).to(device)\n",
        "\n",
        "    params = list(net_MLAE_patches.parameters())\n",
        "    criterion = nn.MSELoss()\n",
        "    optimizer = optim.Adam(params, lr=learning_rate)\n",
        "\n",
        "    ### TRAINING ###\n",
        "    if i==0:\n",
        "        loss_MLAE_patches = train_loop(data_dict, net_MLAE_patches, criterion, optimizer, epochs=epochs, record=True, type='encoder')\n",
        "    else:\n",
        "        train_loop(data_dict, net_MLAE_patches, criterion, optimizer, epochs=epochs, record=False, type='encoder')\n",
        "\n",
        "    # feature extraction\n",
        "    #loss_ls = feature_extraction(data_dict, net_MLAE_patches.parameters(), criterion, type='ls', epochs=epochs)\n",
        "    loss_gd = feature_extraction(data_dict, net_MLAE_patches.parameters(), criterion, type='gd', epochs=epochs)\n",
        "    fe_loss_dict['MLAE_patches'].append(loss_gd)\n",
        "    patch_dict['42'].append(loss_gd)"
      ]
    },
    {
      "cell_type": "code",
      "execution_count": null,
      "metadata": {
        "colab": {
          "base_uri": "https://localhost:8080/"
        },
        "outputId": "62cb159c-1a24-401f-f22b-b00208c2ec95",
        "id": "9fjvxtZI7O8G"
      },
      "outputs": [
        {
          "output_type": "stream",
          "name": "stderr",
          "text": [
            "\r  0%|          | 0/250 [00:00<?, ?it/s]"
          ]
        },
        {
          "output_type": "stream",
          "name": "stdout",
          "text": [
            "epoch:  0 , train loss:  1.4255241543436383 , val loss 0.8007183820601287\n",
            "epoch:  100 , train loss:  0.13039747063773116 , val loss 0.2754919177559386\n",
            "epoch:  200 , train loss:  0.11901162276561394 , val loss 0.2745816013883953\n",
            "epoch:  300 , train loss:  0.11604472780943742 , val loss 0.25131434071896347\n",
            "epoch:  400 , train loss:  0.10375648928473029 , val loss 0.2809909701229763\n",
            "epoch:  500 , train loss:  0.10462775838724817 , val loss 0.2580946341594131\n"
          ]
        },
        {
          "output_type": "stream",
          "name": "stderr",
          "text": [
            "100%|██████████| 250/250 [12:58<00:00,  3.11s/it]\n"
          ]
        }
      ],
      "source": [
        "patch_size = torch.div(sample_dim, 4, rounding_mode='floor')\n",
        "for i in tqdm(range(epochs_fe)):\n",
        "    net_MLAE_patches = M_LAE(prob, sample_dim, reduction_dim, type='patches', patch_size=patch_size).to(device)\n",
        "\n",
        "    params = list(net_MLAE_patches.parameters())\n",
        "    criterion = nn.MSELoss()\n",
        "    optimizer = optim.Adam(params, lr=learning_rate)\n",
        "\n",
        "    ### TRAINING ###\n",
        "    if i==0:\n",
        "        loss_MLAE_patches = train_loop(data_dict, net_MLAE_patches, criterion, optimizer, epochs=epochs, record=True, type='encoder')\n",
        "    else:\n",
        "        train_loop(data_dict, net_MLAE_patches, criterion, optimizer, epochs=epochs, record=False, type='encoder')\n",
        "\n",
        "    # feature extraction\n",
        "    #loss_ls = feature_extraction(data_dict, net_MLAE_patches.parameters(), criterion, type='ls', epochs=epochs)\n",
        "    loss_gd = feature_extraction(data_dict, net_MLAE_patches.parameters(), criterion, type='gd', epochs=epochs)\n",
        "    fe_loss_dict['MLAE_patches'].append(loss_gd)\n",
        "    patch_dict['44'].append(loss_gd)"
      ]
    },
    {
      "cell_type": "markdown",
      "metadata": {
        "id": "-4BzVMlQdmJ4"
      },
      "source": [
        "### Evaluation"
      ]
    },
    {
      "cell_type": "code",
      "execution_count": null,
      "metadata": {
        "colab": {
          "base_uri": "https://localhost:8080/",
          "height": 283
        },
        "id": "fm1caMrUdo_M",
        "outputId": "b011603a-0a9e-4e03-8e11-890c4b671762"
      },
      "outputs": [
        {
          "output_type": "execute_result",
          "data": {
            "text/plain": [
              "<matplotlib.legend.Legend at 0x7fcb32313a50>"
            ]
          },
          "metadata": {},
          "execution_count": 82
        },
        {
          "output_type": "display_data",
          "data": {
            "text/plain": [
              "<Figure size 432x288 with 1 Axes>"
            ],
            "image/png": "[encoded data removed]"
          },
          "metadata": {
            "needs_background": "light"
          }
        }
      ],
      "source": [
        "plt.plot(fe_loss_dict['LAE'])\n",
        "plt.plot(fe_loss_dict['MLAE_basic'])\n",
        "plt.plot(fe_loss_dict['MLAE_probs'])\n",
        "plt.plot(fe_loss_dict['MLAE_patches'])\n",
        "plt.legend(['LAE', 'MLAE_basic', 'MLAE_probs', 'MLAE_patches'])"
      ]
    },
    {
      "cell_type": "code",
      "source": [
        "fe_stats_dict = {'LAE': {'mean': statistics.mean(fe_loss_dict['LAE']), 'sd': statistics.stdev(fe_loss_dict['LAE'])},\n",
        "                 'MLAE_basic': {'mean': statistics.mean(fe_loss_dict['MLAE_basic']), 'sd': statistics.stdev(fe_loss_dict['MLAE_basic'])},\n",
        "                 'MLAE_probs': {'mean': statistics.mean(fe_loss_dict['MLAE_probs']), 'sd': statistics.stdev(fe_loss_dict['MLAE_probs'])},\n",
        "                 'MLAE_patches': {'mean': statistics.mean(fe_loss_dict['MLAE_patches']), 'sd': statistics.stdev(fe_loss_dict['MLAE_patches'])}}\n",
        "print(fe_stats_dict)"
      ],
      "metadata": {
        "id": "wvIJxQQf6rLj",
        "colab": {
          "base_uri": "https://localhost:8080/"
        },
        "outputId": "25d3f862-9ada-4fde-ca74-8747d6103917"
      },
      "execution_count": null,
      "outputs": [
        {
          "output_type": "stream",
          "name": "stdout",
          "text": [
            "{'LAE': {'mean': 0.11711120344995622, 'sd': 0.006192273792688416}, 'MLAE_basic': {'mean': 0.11242539964732247, 'sd': 0.005559274631809486}, 'MLAE_probs': {'mean': 0.11344288484728231, 'sd': 0.006058766885491044}, 'MLAE_patches': {'mean': 0.11739819623717052, 'sd': 0.0065601003835967266}}\n"
          ]
        }
      ]
    },
    {
      "cell_type": "code",
      "source": [
        "#data = fe_loss_dict.values()\n",
        "data = patch_dict.values()\n",
        " \n",
        "fig = plt.figure(figsize =(10, 7))\n",
        "ax = fig.add_subplot(111)\n",
        " \n",
        "# Creating axes instance\n",
        "bp = ax.boxplot(data, patch_artist = True,\n",
        "                notch ='True', vert = 0)\n",
        " \n",
        "colors = ['#0000FF', '#00FF00',\n",
        "          '#FFFF00', '#FF00FF']\n",
        " \n",
        "for patch, color in zip(bp['boxes'], colors):\n",
        "    patch.set_facecolor(color)\n",
        " \n",
        "# changing color and linewidth of\n",
        "# whiskers\n",
        "for whisker in bp['whiskers']:\n",
        "    whisker.set(color ='#8B008B',\n",
        "                linewidth = 1.5,\n",
        "                linestyle =\":\")\n",
        " \n",
        "# changing color and linewidth of\n",
        "# caps\n",
        "for cap in bp['caps']:\n",
        "    cap.set(color ='#8B008B',\n",
        "            linewidth = 2)\n",
        " \n",
        "# changing color and linewidth of\n",
        "# medians\n",
        "for median in bp['medians']:\n",
        "    median.set(color ='red',\n",
        "               linewidth = 3)\n",
        " \n",
        "# changing style of fliers\n",
        "for flier in bp['fliers']:\n",
        "    flier.set(marker ='D',\n",
        "              color ='#e7298a',\n",
        "              alpha = 0.5)\n",
        "     \n",
        "# x-axis labels\n",
        "#ax.set_yticklabels(fe_loss_dict.keys())\n",
        "ax.set_yticklabels(patch_dict.keys())\n",
        " \n",
        "# Adding title\n",
        "plt.title(\"Box plot for feature loss\")\n",
        " \n",
        "# Removing top axes and right axes\n",
        "# ticks\n",
        "ax.get_xaxis().tick_bottom()\n",
        "ax.get_yaxis().tick_left()\n",
        "     \n",
        "# show plot\n",
        "plt.show()"
      ],
      "metadata": {
        "colab": {
          "base_uri": "https://localhost:8080/",
          "height": 444
        },
        "id": "je7H8jYwZhAb",
        "outputId": "8f4f7ef9-80e3-4345-b40a-898f9b075e65"
      },
      "execution_count": null,
      "outputs": [
        {
          "output_type": "display_data",
          "data": {
            "text/plain": [
              "<Figure size 720x504 with 1 Axes>"
            ],
            "image/png": "[encoded data removed]"
          },
          "metadata": {
            "needs_background": "light"
          }
        }
      ]
    },
    {
      "cell_type": "code",
      "source": [],
      "metadata": {
        "id": "IQdzko_m8UD3"
      },
      "execution_count": null,
      "outputs": []
    }
  ],
  "metadata": {
    "accelerator": "GPU",
    "colab": {
      "name": "feature_extraction.ipynb",
      "provenance": [],
      "collapsed_sections": [],
      "include_colab_link": true
    },
    "gpuClass": "standard",
    "kernelspec": {
      "display_name": "Python 3.9.6 ('SSL_venv': venv)",
      "language": "python",
      "name": "python3"
    },
    "language_info": {
      "codemirror_mode": {
        "name": "ipython",
        "version": 3
      },
      "file_extension": ".py",
      "mimetype": "text/x-python",
      "name": "python",
      "nbconvert_exporter": "python",
      "pygments_lexer": "ipython3",
      "version": "3.9.6"
    },
    "orig_nbformat": 4,
    "vscode": {
      "interpreter": {
        "hash": "9c3c12edae13c0508bae753e64eeaec91e16c05e32c8c48bac5bd7ee2e37cd7c"
      }
    }
  },
  "nbformat": 4,
  "nbformat_minor": 0
}