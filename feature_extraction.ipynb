{
  "cells": [
    {
      "cell_type": "markdown",
      "metadata": {
        "id": "view-in-github",
        "colab_type": "text"
      },
      "source": [
        "<a href=\"https://colab.research.google.com/github/Zhuoyue-Huang/urop_2022_ml/blob/main/feature_extraction.ipynb\" target=\"_parent\"><img src=\"https://colab.research.google.com/assets/colab-badge.svg\" alt=\"Open In Colab\"/></a>"
      ]
    },
    {
      "cell_type": "code",
      "execution_count": 38,
      "metadata": {
        "id": "Kbg1kWfKaDrE"
      },
      "outputs": [],
      "source": [
        "\"\"\"Verify the gradient derivation of linear masked autoencoder.\"\"\"\n",
        "import torch\n",
        "import torch.nn as nn\n",
        "import torch.optim as optim\n",
        "import matplotlib.pyplot as plt\n",
        "from tqdm import tqdm\n",
        "import statistics\n",
        "import numpy as np\n",
        "import pandas as pd \n",
        "import scipy.stats as stats"
      ]
    },
    {
      "cell_type": "code",
      "execution_count": 39,
      "metadata": {
        "id": "lI0EeuiHacLQ"
      },
      "outputs": [],
      "source": [
        "device = torch.device('cuda' if torch.cuda.is_available() else 'cpu')"
      ]
    },
    {
      "cell_type": "code",
      "source": [
        "# set default to be float64\n",
        "torch.set_default_dtype(torch.float64)"
      ],
      "metadata": {
        "id": "ieYyVAs6NgaM"
      },
      "execution_count": 40,
      "outputs": []
    },
    {
      "cell_type": "markdown",
      "metadata": {
        "id": "UqQEFeEGaDrH"
      },
      "source": [
        "### Model initialisation"
      ]
    },
    {
      "cell_type": "code",
      "execution_count": 41,
      "metadata": {
        "id": "8ktQADqRaDrI"
      },
      "outputs": [],
      "source": [
        "# Linear auto-encoder model\n",
        "class LAE(nn.Module):\n",
        "    def __init__(self, n, p):\n",
        "        super(LAE, self).__init__()\n",
        "        self.n = n\n",
        "        self.p = p\n",
        "        self.w1 = nn.Linear(n, p, bias=False)\n",
        "        self.w2 = nn.Linear(p, n, bias=False)\n",
        "\n",
        "    def forward(self, y):\n",
        "        y = self.w1(y)\n",
        "        y = self.w2(y)\n",
        "        return y"
      ]
    },
    {
      "cell_type": "code",
      "execution_count": 42,
      "metadata": {
        "id": "j73gZMhnaDrI"
      },
      "outputs": [],
      "source": [
        "## Masked lienar auto-encoder model\n",
        "# Define different types of masks\n",
        "def mask_basic(prob, sample_num, x_dim):\n",
        "    return torch.zeros(sample_num, x_dim).bernoulli_(prob)\n",
        "\n",
        "def mask_dropping_probs(prob_list: torch.Tensor, sample_num, x_dim):\n",
        "    return torch.zeros(sample_num, x_dim).bernoulli_(prob_list)\n",
        "\n",
        "def mask_patches_block(prob, patch_size: torch.Tensor, sample_num, sample_dim: torch.Tensor):\n",
        "    x_dim = sample_dim[0]*sample_dim[1]\n",
        "    div_check = sample_dim % patch_size == torch.zeros(2)\n",
        "    if torch.all(div_check):\n",
        "        pix_num = torch.div(sample_dim, patch_size, rounding_mode='floor')\n",
        "        mat_patches = torch.zeros(sample_num, *pix_num).bernoulli_(prob)\n",
        "        mat_patches = torch.repeat_interleave(mat_patches, patch_size[1], dim=2)\n",
        "        return mat_patches.repeat_interleave(patch_size[0], dim=1).view(sample_num, x_dim)\n",
        "    else:\n",
        "        raise NotImplementedError(f\"Both height ({sample_dim[0]}) and width ({sample_dim[1]}) should be divisible by patch_size ({patch_size}).\")\n",
        "\n",
        "def mask_patches_plain(prob, patch_size, sample_num, x_dim):\n",
        "    if not x_dim % patch_size:\n",
        "        pix_num = x_dim // patch_size\n",
        "        mat_patches = torch.zeros(sample_num, pix_num).bernoulli_(prob)\n",
        "        return mat_patches.repeat_interleave(patch_size, dim=1)\n",
        "    else:\n",
        "        raise NotImplementedError\n",
        "\n",
        "# Masked autoencoder (linear)\n",
        "class M_LAE(nn.Module):\n",
        "    def __init__(self, prob, x_dim, z_dim, type='basic', patch_size=None, sample_dim=None):\n",
        "        super(M_LAE, self).__init__()\n",
        "        self.prob = prob\n",
        "        if sample_dim is not None:\n",
        "            self.sample_dim = sample_dim\n",
        "            self.H, self.W = sample_dim\n",
        "            self.n = self.H * self.W\n",
        "        self.n = x_dim\n",
        "        self.p = z_dim\n",
        "        if type not in ['basic', 'probs', 'patches']:\n",
        "            raise NotImplementedError(\"Could only implement 'basic', 'probs' and 'patches' type of masking.\")\n",
        "        else:\n",
        "            self.masking_type = type\n",
        "        if patch_size is not None:\n",
        "            self.patch_size = patch_size\n",
        "        w1 = nn.Linear(self.n, self.p, bias=False)\n",
        "        w2 = nn.Linear(self.p, self.n, bias=False)\n",
        "        self.body = nn.Sequential(*[w1, w2])\n",
        "    \n",
        "    def forward(self, X, mask=None):\n",
        "        m = X.shape[0]\n",
        "        if mask is None:\n",
        "            if self.masking_type == 'basic':\n",
        "                mask = mask_basic(self.prob, m, self.n).to(device)\n",
        "            elif self.masking_type == 'probs':\n",
        "                mask = mask_dropping_probs(self.prob, m, self.n).to(device)\n",
        "            elif self.masking_type == 'patches':\n",
        "                mask = mask_patches_plain(self.prob, self.patch_size, m, self.n).to(device)\n",
        "        Y = mask * X\n",
        "        Y = self.body(Y)\n",
        "        return Y"
      ]
    },
    {
      "cell_type": "code",
      "source": [
        "class FE_Net(nn.Module):\n",
        "    def __init__(self, z_dim, y_dim):\n",
        "        super(FE_Net, self).__init__()\n",
        "        self.theta = nn.Linear(z_dim, y_dim, bias=False)\n",
        "\n",
        "    def forward(self, W):\n",
        "        return self.theta(W)"
      ],
      "metadata": {
        "id": "WeS-TP2yaBmJ"
      },
      "execution_count": 43,
      "outputs": []
    },
    {
      "cell_type": "code",
      "execution_count": 44,
      "metadata": {
        "id": "USAf_nrKaDrJ"
      },
      "outputs": [],
      "source": [
        "def train_loop(data_dict, model, criterion, optimizer, type, epochs=10, sample_average=10, record=True):\n",
        "    train_loss = []\n",
        "    val_loss = []\n",
        "    if type=='encoder':\n",
        "        X_train = data_dict['X_train']\n",
        "        y_train = X_train\n",
        "    elif type=='fe':\n",
        "        X_train = data_dict['X_train']\n",
        "        y_train = data_dict['y_train']\n",
        "        sample_average = 1\n",
        "\n",
        "    for epoch in range(epochs+1):\n",
        "        loss_total = 0\n",
        "        optimizer.zero_grad()\n",
        "        for i in range(sample_average):\n",
        "            outputs = model(X_train)\n",
        "            loss = criterion(outputs, y_train)\n",
        "            loss_total += loss\n",
        "        loss_total /= sample_average\n",
        "        loss_total.backward()\n",
        "        optimizer.step()\n",
        "        if record:\n",
        "          train_loss.append(loss_total.item())\n",
        "          if epochs>=20 and epoch%(epochs//20)==0:\n",
        "              v_loss = test_loop(data_dict, model, criterion, type)\n",
        "              val_loss.append(v_loss)\n",
        "              print('epoch: ', epoch, ', train loss: ', loss.item(), ', val loss', v_loss)\n",
        "    if record:\n",
        "        return {'train_loss': train_loss, 'val_loss': val_loss}\n",
        "    else:\n",
        "        return loss_total.item()\n",
        "\n",
        "def test_loop(data_dict, model, criterion, type):\n",
        "    if type=='encoder':\n",
        "        X_val = data_dict['X_val']\n",
        "        y_val = X_val\n",
        "    elif type=='fe':\n",
        "        X_val = data_dict['X_val']\n",
        "        y_val = data_dict['y_val']\n",
        "\n",
        "    with torch.no_grad():\n",
        "        outputs = model(X_val)\n",
        "        loss = criterion(outputs, y_val)\n",
        "    return loss.item()"
      ]
    },
    {
      "cell_type": "code",
      "execution_count": 45,
      "metadata": {
        "id": "TjY8ezY7aDrJ"
      },
      "outputs": [],
      "source": [
        "# feature extraction\n",
        "def feature_extraction(data_dict, model_parameters, criterion, type, epochs=200, device='cuda'):\n",
        "    X_train, y_train, X_val, y_val, _, _ = data_dict.values()\n",
        "\n",
        "    params = list(model_parameters)\n",
        "    W1 = params[0].clone().detach()\n",
        "    train_z = X_train @ W1.T\n",
        "    val_z = X_val @ W1.T\n",
        "    z_dim = train_z.shape[1]\n",
        "    y_dim = y_train.shape[1]\n",
        "\n",
        "    if type=='ls':\n",
        "        theta = (torch.inverse(train_z.T @ train_z) @ train_z.T @ y_train).T\n",
        "        loss = criterion(y_val, val_z @ theta.T)\n",
        "        return loss.item()\n",
        "    elif type=='gd':\n",
        "        data_dict_fe = {'X_train': train_z, 'y_train': y_train,\n",
        "                        'X_val': val_z, 'y_val': y_val}\n",
        "        net_fe = FE_Net(z_dim, y_dim).to(device)\n",
        "        theta = list(net_fe.parameters())\n",
        "        optimizer = optim.Adam(theta, lr=0.0001)\n",
        "        ### TRAINING ###\n",
        "        loss_fe = train_loop(data_dict_fe, net_fe, criterion, optimizer, epochs=epochs, record=False, type='fe')\n",
        "        return loss_fe"
      ]
    },
    {
      "cell_type": "markdown",
      "metadata": {
        "id": "es2QcO7qaDrK"
      },
      "source": [
        "### Dataset"
      ]
    },
    {
      "cell_type": "code",
      "source": [
        "train_num, val_num, test_num = (60, 20, 20)\n",
        "sample_num_split = (train_num, train_num + val_num)\n",
        "total = train_num+val_num+test_num\n",
        "\n",
        "# need to consider x_dim < and > z_dim\n",
        "z_dim = 30 # dimension of z\n",
        "H = 8\n",
        "W = 8\n",
        "sample_dim = torch.tensor([H, W])\n",
        "x_dim = H * W\n",
        "y_dim = z_dim // 2\n",
        "\n",
        "prob_search = torch.range(0, 1, 0.05)\n",
        "prob_list_search = torch.rand(x_dim, generator=torch.random.manual_seed(1911))*0.2\\\n",
        "                   + torch.repeat_interleave(torch.range(0, 0.8, 0.05).unsqueeze(1), x_dim, dim=1)\n",
        "patch_size_plain_search = torch.tensor([2, 4, 8, 16])\n",
        "patch_size_block_search = []\n",
        "for i in [2, 4, 8, 16]:\n",
        "    for j in [2, 4, 8, 16]:\n",
        "        patch_size_block_search.append([i, j])\n",
        "patch_size_search = torch.tensor(patch_size_block_search)"
      ],
      "metadata": {
        "colab": {
          "base_uri": "https://localhost:8080/"
        },
        "id": "NoF5AZwxGVU7",
        "outputId": "b181f13f-4f6a-44c7-e7e9-6fdd031ac93f"
      },
      "execution_count": 83,
      "outputs": [
        {
          "output_type": "stream",
          "name": "stderr",
          "text": [
            "/usr/local/lib/python3.7/dist-packages/ipykernel_launcher.py:13: UserWarning: torch.range is deprecated and will be removed in a future release because its behavior is inconsistent with Python's range builtin. Instead, use torch.arange, which produces values in [start, end).\n",
            "  del sys.path[0]\n",
            "/usr/local/lib/python3.7/dist-packages/ipykernel_launcher.py:15: UserWarning: torch.range is deprecated and will be removed in a future release because its behavior is inconsistent with Python's range builtin. Instead, use torch.arange, which produces values in [start, end).\n",
            "  from ipykernel import kernelapp as app\n"
          ]
        }
      ]
    },
    {
      "cell_type": "code",
      "source": [
        "mean = torch.linspace(0, 5, z_dim).repeat(total, 1)\n",
        "std = torch.linspace(3, 8, z_dim).repeat(total, 1)\n",
        "z = torch.normal(mean=mean, std=std, generator=torch.random.manual_seed(1911))\n",
        "#z = torch.normal(mean=0, std=1, size=(total,z_dim), generator=torch.random.manual_seed(1911)) # here distribution is high dimensional guassian\n",
        "z = z.to(device)\n",
        "print(z)"
      ],
      "metadata": {
        "id": "6-p1AuTWIJk9",
        "colab": {
          "base_uri": "https://localhost:8080/"
        },
        "outputId": "60839f75-942a-4a8b-98ce-29578aa3bfea"
      },
      "execution_count": 92,
      "outputs": [
        {
          "output_type": "stream",
          "name": "stdout",
          "text": [
            "tensor([[ -4.2401,   0.8917,   3.5890,  ...,  18.2923,  16.9860,   9.2572],\n",
            "        [ -2.9493,   2.8546,   3.3010,  ...,  -0.5569,  11.4914,  -0.6434],\n",
            "        [  1.7800,  -1.8138,  -3.0275,  ...,  13.8007,   4.2634,  -0.0749],\n",
            "        ...,\n",
            "        [  5.6195,   1.3791,   2.3917,  ...,   3.8568,   6.9248,  11.7555],\n",
            "        [  4.3048,  -0.0330,   8.9343,  ...,   0.6828,  10.4800, -12.9735],\n",
            "        [ -1.4269,  -4.1088,   3.5206,  ...,   5.1196,  -3.8657,  -5.6825]],\n",
            "       device='cuda:0')\n"
          ]
        }
      ]
    },
    {
      "cell_type": "code",
      "execution_count": 48,
      "metadata": {
        "id": "rLboN52waDrK"
      },
      "outputs": [],
      "source": [
        "U = torch.rand(x_dim, z_dim, generator=torch.random.manual_seed(1911))\n",
        "U = U.to(device)\n",
        "V = torch.rand(y_dim, z_dim, generator=torch.random.manual_seed(1911))\n",
        "V = V.to(device)\n",
        "\n",
        "x = z @ U.T\n",
        "y = z @ V.T\n",
        "X_train, X_val, X_test = torch.tensor_split(x, sample_num_split)\n",
        "y_train, y_val, y_test = torch.tensor_split(y, sample_num_split)\n",
        "data_dict = {'X_train': X_train, 'y_train': y_train, 'X_val': X_val, 'y_val': y_val, 'X_test': X_test, 'y_test': y_test}\n",
        "fe_loss_dict = {'LAE': [], 'MLAE_basic': [], 'MLAE_probs': [], 'MLAE_patches': []}"
      ]
    },
    {
      "cell_type": "code",
      "execution_count": 49,
      "metadata": {
        "id": "_H5fnGlMaDrL"
      },
      "outputs": [],
      "source": [
        "learning_rate = 0.01\n",
        "epochs = 1000\n",
        "epochs_fe = 100\n",
        "epochs_grid = 5"
      ]
    },
    {
      "cell_type": "markdown",
      "metadata": {
        "id": "DAoMiwCEaDrL"
      },
      "source": [
        "### Get features from autoencoder"
      ]
    },
    {
      "cell_type": "markdown",
      "metadata": {
        "id": "uPZVsK57aDrL"
      },
      "source": [
        "##### Linear autoencoder"
      ]
    },
    {
      "cell_type": "code",
      "execution_count": 50,
      "metadata": {
        "colab": {
          "base_uri": "https://localhost:8080/"
        },
        "id": "6K3nyMfkaDrM",
        "outputId": "579b4e72-cfd2-4064-b02c-55eb20d35f86"
      },
      "outputs": [
        {
          "output_type": "stream",
          "name": "stderr",
          "text": [
            "\r  0%|          | 0/100 [00:00<?, ?it/s]"
          ]
        },
        {
          "output_type": "stream",
          "name": "stdout",
          "text": [
            "epoch:  0 , train loss:  10.75418529651003 , val loss 7.18901058600618\n",
            "epoch:  50 , train loss:  0.7080410841574116 , val loss 1.0714952697197118\n",
            "epoch:  100 , train loss:  0.24135456076989825 , val loss 0.5274104243594536\n",
            "epoch:  150 , train loss:  0.120080444200453 , val loss 0.3437893348000173\n",
            "epoch:  200 , train loss:  0.09571922144216483 , val loss 0.259419700051626\n",
            "epoch:  250 , train loss:  0.048295665194353785 , val loss 0.1790956673649702\n",
            "epoch:  300 , train loss:  0.0322141114454895 , val loss 0.13647345538508074\n",
            "epoch:  350 , train loss:  0.021802493503695185 , val loss 0.10412886141400882\n",
            "epoch:  400 , train loss:  0.01742770035254835 , val loss 0.07896677799946605\n",
            "epoch:  450 , train loss:  0.010532599509938517 , val loss 0.059344066646572546\n",
            "epoch:  500 , train loss:  0.007641300251185898 , val loss 0.04505618316147705\n",
            "epoch:  550 , train loss:  0.005766991726172073 , val loss 0.03463724704573149\n",
            "epoch:  600 , train loss:  0.004481851944178366 , val loss 0.02677568769407205\n",
            "epoch:  650 , train loss:  0.003563614881704585 , val loss 0.02077609957409579\n",
            "epoch:  700 , train loss:  0.010015072148374918 , val loss 0.03005250867657583\n",
            "epoch:  750 , train loss:  0.015365901201718248 , val loss 0.031385195669222245\n",
            "epoch:  800 , train loss:  0.002232784420613096 , val loss 0.011047985133852483\n",
            "epoch:  850 , train loss:  0.001935563375913338 , val loss 0.009560522831740534\n",
            "epoch:  900 , train loss:  0.0017947467539988632 , val loss 0.008560695837359657\n",
            "epoch:  950 , train loss:  0.0016997682341523253 , val loss 0.007882808183473713\n",
            "epoch:  1000 , train loss:  0.007278538377530008 , val loss 0.010504705733562165\n"
          ]
        },
        {
          "output_type": "stream",
          "name": "stderr",
          "text": [
            "100%|██████████| 100/100 [06:46<00:00,  4.07s/it]\n"
          ]
        }
      ],
      "source": [
        "for i in tqdm(range(epochs_fe)):\n",
        "    net_LAE = LAE(x_dim, z_dim).to(device)\n",
        "\n",
        "    params = list(net_LAE.parameters())\n",
        "    criterion = nn.MSELoss()\n",
        "    optimizer = optim.Adam(params, lr=learning_rate)\n",
        "\n",
        "    ### TRAINING ###\n",
        "    if i==0:\n",
        "        loss_LAE = train_loop(data_dict, net_LAE, criterion, optimizer, epochs=epochs, record=True, type='encoder')\n",
        "    else:\n",
        "        train_loop(data_dict, net_LAE, criterion, optimizer, epochs=epochs, record=False, type='encoder')\n",
        "\n",
        "    # feature extraction\n",
        "    #loss_ls = feature_extraction(data_dict, net_LAE.parameters(), criterion, type='ls', epochs=epochs)\n",
        "    loss_ls = feature_extraction(data_dict, net_LAE.parameters(), criterion, type='ls', epochs=epochs)\n",
        "    fe_loss_dict['LAE'].append(loss_ls)"
      ]
    },
    {
      "cell_type": "code",
      "execution_count": 51,
      "metadata": {
        "id": "2W43sxx8aDrM",
        "colab": {
          "base_uri": "https://localhost:8080/",
          "height": 283
        },
        "outputId": "ac64ef04-4fd1-46f1-e24b-b6cc60ab8a8a"
      },
      "outputs": [
        {
          "output_type": "execute_result",
          "data": {
            "text/plain": [
              "<matplotlib.legend.Legend at 0x7f5280346e50>"
            ]
          },
          "metadata": {},
          "execution_count": 51
        },
        {
          "output_type": "display_data",
          "data": {
            "text/plain": [
              "<Figure size 432x288 with 1 Axes>"
            ],
            "image/png": "[encoded data removed]"
          },
          "metadata": {
            "needs_background": "light"
          }
        }
      ],
      "source": [
        "plt.plot(loss_LAE['train_loss'])\n",
        "plt.plot(range(0, epochs+1, epochs//20), loss_LAE['val_loss'])\n",
        "plt.legend(loss_LAE.keys())"
      ]
    },
    {
      "cell_type": "code",
      "source": [
        "print('mean:', statistics.mean(fe_loss_dict['LAE']), ', sd:', statistics.stdev(fe_loss_dict['LAE']))"
      ],
      "metadata": {
        "colab": {
          "base_uri": "https://localhost:8080/"
        },
        "id": "DlVArcy5pOVU",
        "outputId": "ca2c71b6-caf9-4f4d-b1cc-ff3dbab2b206"
      },
      "execution_count": 52,
      "outputs": [
        {
          "output_type": "stream",
          "name": "stdout",
          "text": [
            "mean: 7.981267277054154e-18 , sd: 7.592882303516115e-17\n"
          ]
        }
      ]
    },
    {
      "cell_type": "markdown",
      "metadata": {
        "id": "Ez_oZJ5OaDrN"
      },
      "source": [
        "##### Masked linear autoencoder (basic)"
      ]
    },
    {
      "cell_type": "code",
      "source": [
        "# grid search\n",
        "search_score = []\n",
        "search_record = {'params': -1, 'best_score': 1e8}\n",
        "\n",
        "for prob in tqdm(prob_search):\n",
        "    for i in range(epochs_grid):\n",
        "        loss = 0\n",
        "\n",
        "        net_MLAE_basic = M_LAE(prob, x_dim, z_dim).to(device)\n",
        "\n",
        "        params = list(net_MLAE_basic.parameters())\n",
        "        criterion = nn.MSELoss()\n",
        "        optimizer = optim.Adam(params, lr=learning_rate)\n",
        "\n",
        "        ### TRAINING ###\n",
        "        if i==0 and prob==0.75:\n",
        "            loss_MLAE_basic = train_loop(data_dict, net_MLAE_basic, criterion, optimizer, epochs=epochs, record=True, type='encoder')\n",
        "        else:\n",
        "            train_loop(data_dict, net_MLAE_basic, criterion, optimizer, epochs=epochs, record=False, type='encoder')\n",
        "        loss += test_loop(data_dict, net_MLAE_basic, criterion, type='encoder')\n",
        "\n",
        "    loss /= epochs_grid\n",
        "    search_score.append(loss)\n",
        "    if loss < search_record['best_score']:\n",
        "        search_record['best_score'] = loss\n",
        "        search_record['params'] = prob"
      ],
      "metadata": {
        "colab": {
          "base_uri": "https://localhost:8080/"
        },
        "id": "cYK3bC2qVXmA",
        "outputId": "5f33b14e-8202-4e38-8ad3-6b8a7fcd844c"
      },
      "execution_count": 53,
      "outputs": [
        {
          "output_type": "stream",
          "name": "stderr",
          "text": [
            " 71%|███████▏  | 15/21 [07:26<02:56, 29.35s/it]"
          ]
        },
        {
          "output_type": "stream",
          "name": "stdout",
          "text": [
            "epoch:  0 , train loss:  11.180587408283337 , val loss 8.402849041816728\n",
            "epoch:  50 , train loss:  1.2224402198764073 , val loss 1.591993752106995\n",
            "epoch:  100 , train loss:  0.8134064885531146 , val loss 1.1951297048292253\n",
            "epoch:  150 , train loss:  0.8180348305550817 , val loss 1.1091913705837333\n",
            "epoch:  200 , train loss:  0.8267463697755087 , val loss 1.1484186863317947\n",
            "epoch:  250 , train loss:  0.7799212290841944 , val loss 0.9996089855161254\n",
            "epoch:  300 , train loss:  0.8859898082498321 , val loss 1.0692352959412028\n",
            "epoch:  350 , train loss:  0.7675666339887754 , val loss 1.0420148894920593\n",
            "epoch:  400 , train loss:  0.7686247989112127 , val loss 1.0505763328297935\n",
            "epoch:  450 , train loss:  0.7430032031586394 , val loss 1.0143133295857687\n",
            "epoch:  500 , train loss:  0.7412194363571993 , val loss 1.007953420687327\n",
            "epoch:  550 , train loss:  0.7728382005970853 , val loss 0.978727355660968\n",
            "epoch:  600 , train loss:  0.8196251371046839 , val loss 1.024540901462286\n",
            "epoch:  650 , train loss:  0.7506677575137426 , val loss 1.0598289270894616\n",
            "epoch:  700 , train loss:  0.8009052941217435 , val loss 0.9809994376001889\n",
            "epoch:  750 , train loss:  0.882712750175202 , val loss 0.9083046499216348\n",
            "epoch:  800 , train loss:  0.8577834150337597 , val loss 0.9339945046217735\n",
            "epoch:  850 , train loss:  0.825336804248777 , val loss 1.0241026766981154\n",
            "epoch:  900 , train loss:  0.7546279544992477 , val loss 1.143381481711837\n",
            "epoch:  950 , train loss:  0.7254339862014146 , val loss 0.9370018739354009\n",
            "epoch:  1000 , train loss:  0.8701157188889648 , val loss 1.001534017245876\n"
          ]
        },
        {
          "output_type": "stream",
          "name": "stderr",
          "text": [
            "100%|██████████| 21/21 [10:17<00:00, 29.42s/it]\n"
          ]
        }
      ]
    },
    {
      "cell_type": "code",
      "execution_count": 54,
      "metadata": {
        "id": "YquLuCS2aDrN",
        "colab": {
          "base_uri": "https://localhost:8080/",
          "height": 283
        },
        "outputId": "16b51f60-3c80-4b79-cf76-7b6645fe9cba"
      },
      "outputs": [
        {
          "output_type": "execute_result",
          "data": {
            "text/plain": [
              "<matplotlib.legend.Legend at 0x7f52802d55d0>"
            ]
          },
          "metadata": {},
          "execution_count": 54
        },
        {
          "output_type": "display_data",
          "data": {
            "text/plain": [
              "<Figure size 432x288 with 1 Axes>"
            ],
            "image/png": "[encoded data removed]"
          },
          "metadata": {
            "needs_background": "light"
          }
        }
      ],
      "source": [
        "# training check at prob is 0.75\n",
        "plt.plot(loss_MLAE_basic['train_loss'])\n",
        "plt.plot(range(0, epochs+1, epochs//20), loss_MLAE_basic['val_loss'])\n",
        "plt.legend(loss_MLAE_basic.keys())"
      ]
    },
    {
      "cell_type": "code",
      "source": [
        "# search check\n",
        "plt.plot(prob_search, search_score)"
      ],
      "metadata": {
        "colab": {
          "base_uri": "https://localhost:8080/",
          "height": 283
        },
        "id": "Xl1YuRV5m5nA",
        "outputId": "aebe4564-bf0a-4b07-8ea7-b1085eddb600"
      },
      "execution_count": 55,
      "outputs": [
        {
          "output_type": "execute_result",
          "data": {
            "text/plain": [
              "[<matplotlib.lines.Line2D at 0x7f5280299810>]"
            ]
          },
          "metadata": {},
          "execution_count": 55
        },
        {
          "output_type": "display_data",
          "data": {
            "text/plain": [
              "<Figure size 432x288 with 1 Axes>"
            ],
            "image/png": "[encoded data removed]"
          },
          "metadata": {
            "needs_background": "light"
          }
        }
      ]
    },
    {
      "cell_type": "code",
      "source": [
        "prob = search_record['params']\n",
        "print('prob:', prob.item(), '\\nloss:', loss)"
      ],
      "metadata": {
        "colab": {
          "base_uri": "https://localhost:8080/"
        },
        "id": "HDlNPA1MmkUx",
        "outputId": "d04073c2-89c6-4ae4-828c-c3334aeda94e"
      },
      "execution_count": 56,
      "outputs": [
        {
          "output_type": "stream",
          "name": "stdout",
          "text": [
            "prob: 1.0 \n",
            "loss: 0.0017853411300354726\n"
          ]
        }
      ]
    },
    {
      "cell_type": "code",
      "execution_count": 57,
      "metadata": {
        "colab": {
          "base_uri": "https://localhost:8080/"
        },
        "id": "zs-zpOO8aDrN",
        "outputId": "edd852fc-0bd1-4bd7-99b7-4a1719622fca"
      },
      "outputs": [
        {
          "output_type": "stream",
          "name": "stderr",
          "text": [
            "100%|██████████| 100/100 [09:19<00:00,  5.59s/it]\n"
          ]
        }
      ],
      "source": [
        "for i in tqdm(range(epochs_fe)):\n",
        "    net_MLAE_basic = M_LAE(prob, x_dim, z_dim).to(device)\n",
        "\n",
        "    params = list(net_MLAE_basic.parameters())\n",
        "    criterion = nn.MSELoss()\n",
        "    optimizer = optim.Adam(params, lr=learning_rate)\n",
        "\n",
        "    ### TRAINING ###\n",
        "    train_loop(data_dict, net_MLAE_basic, criterion, optimizer, epochs=epochs, record=False, type='encoder')\n",
        "\n",
        "    # feature extraction\n",
        "    #loss_ls = feature_extraction(data_dict, net_MLAE_basic.parameters(), criterion, type='ls', epochs=epochs)\n",
        "    loss_ls = feature_extraction(data_dict, net_MLAE_basic.parameters(), criterion, type='ls', epochs=epochs)\n",
        "    fe_loss_dict['MLAE_basic'].append(loss_ls)"
      ]
    },
    {
      "cell_type": "code",
      "source": [
        "print('mean:', statistics.mean(fe_loss_dict['MLAE_basic']), ', sd:', statistics.stdev(fe_loss_dict['MLAE_basic']))"
      ],
      "metadata": {
        "colab": {
          "base_uri": "https://localhost:8080/"
        },
        "id": "tfFIpuyrnlDo",
        "outputId": "e90364bb-3a50-45cc-bd4c-17142d8bf5d7"
      },
      "execution_count": 58,
      "outputs": [
        {
          "output_type": "stream",
          "name": "stdout",
          "text": [
            "mean: 1.2104658900235374e-19 , sd: 7.057202146729156e-19\n"
          ]
        }
      ]
    },
    {
      "cell_type": "markdown",
      "metadata": {
        "id": "mYkcloIWaDrO"
      },
      "source": [
        "##### Masked linear autoencoder (probs)"
      ]
    },
    {
      "cell_type": "code",
      "execution_count": 59,
      "metadata": {
        "colab": {
          "base_uri": "https://localhost:8080/"
        },
        "id": "QjhPsme3aDrO",
        "outputId": "58462a36-3867-44eb-fe94-b973b6faef0d"
      },
      "outputs": [
        {
          "output_type": "stream",
          "name": "stderr",
          "text": [
            "15it [07:16, 28.97s/it]"
          ]
        },
        {
          "output_type": "stream",
          "name": "stdout",
          "text": [
            "epoch:  0 , train loss:  11.958497053804585 , val loss 8.719763842554508\n",
            "epoch:  50 , train loss:  1.0485685407523337 , val loss 1.4442497237064669\n",
            "epoch:  100 , train loss:  0.6772833209576934 , val loss 1.0382380008296506\n",
            "epoch:  150 , train loss:  0.6308260277476218 , val loss 0.9238193616727758\n",
            "epoch:  200 , train loss:  0.5964615642916056 , val loss 0.9027407502853386\n",
            "epoch:  250 , train loss:  0.4756464611713217 , val loss 0.6956216901071143\n",
            "epoch:  300 , train loss:  0.5096608601816001 , val loss 0.6902835851221216\n",
            "epoch:  350 , train loss:  0.4957750304626945 , val loss 0.7115506867943648\n",
            "epoch:  400 , train loss:  0.5188508600362485 , val loss 0.6686706710385638\n",
            "epoch:  450 , train loss:  0.5068271179576033 , val loss 0.6465186391406655\n",
            "epoch:  500 , train loss:  0.5004240019972229 , val loss 0.7315938135325103\n",
            "epoch:  550 , train loss:  0.47217402975842426 , val loss 0.6840628772829974\n",
            "epoch:  600 , train loss:  0.5035488504920455 , val loss 0.6162967539753957\n",
            "epoch:  650 , train loss:  0.46733082309902135 , val loss 0.6687861776503861\n",
            "epoch:  700 , train loss:  0.47842918091830605 , val loss 0.6258702262883032\n",
            "epoch:  750 , train loss:  0.4900410894762429 , val loss 0.6667700381132966\n",
            "epoch:  800 , train loss:  0.4343668544928362 , val loss 0.726046392810996\n",
            "epoch:  850 , train loss:  0.5362801826121967 , val loss 0.695632819213796\n",
            "epoch:  900 , train loss:  0.5082104438434609 , val loss 0.6850811823872057\n",
            "epoch:  950 , train loss:  0.4904201785128575 , val loss 0.8181128023857586\n",
            "epoch:  1000 , train loss:  0.44847730179778983 , val loss 0.6748760478248208\n"
          ]
        },
        {
          "output_type": "stream",
          "name": "stderr",
          "text": [
            "17it [08:14, 29.08s/it]\n"
          ]
        }
      ],
      "source": [
        "# grid search\n",
        "search_score = []\n",
        "search_record = {'params': -1, 'best_score': 1e8}\n",
        "\n",
        "for count, prob_list in tqdm(enumerate(prob_list_search)):\n",
        "    for i in range(epochs_grid):\n",
        "        loss = 0\n",
        "\n",
        "        net_MLAE_probs = M_LAE(prob_list, x_dim, z_dim, type='probs').to(device)\n",
        "\n",
        "        params = list(net_MLAE_probs.parameters())\n",
        "        criterion = nn.MSELoss()\n",
        "        optimizer = optim.Adam(params, lr=learning_rate)\n",
        "\n",
        "        ### TRAINING ###\n",
        "        if i==0 and count==15:\n",
        "            loss_MLAE_probs = train_loop(data_dict, net_MLAE_probs, criterion, optimizer, epochs=epochs, record=True, type='encoder')\n",
        "        else:\n",
        "            train_loop(data_dict, net_MLAE_probs, criterion, optimizer, epochs=epochs, record=False, type='encoder')\n",
        "        loss += test_loop(data_dict, net_MLAE_probs, criterion, type='encoder')\n",
        "\n",
        "    loss /= epochs_grid\n",
        "    search_score.append(loss)\n",
        "    if loss < search_record['best_score']:\n",
        "        search_record['best_score'] = loss\n",
        "        search_record['params'] = prob_list"
      ]
    },
    {
      "cell_type": "code",
      "execution_count": 60,
      "metadata": {
        "id": "TyZ4Eg4BaDrO",
        "colab": {
          "base_uri": "https://localhost:8080/",
          "height": 283
        },
        "outputId": "06ab7612-ed51-433a-feaa-d27b37161b34"
      },
      "outputs": [
        {
          "output_type": "execute_result",
          "data": {
            "text/plain": [
              "<matplotlib.legend.Legend at 0x7f52801e3350>"
            ]
          },
          "metadata": {},
          "execution_count": 60
        },
        {
          "output_type": "display_data",
          "data": {
            "text/plain": [
              "<Figure size 432x288 with 1 Axes>"
            ],
            "image/png": "[encoded data removed]"
          },
          "metadata": {
            "needs_background": "light"
          }
        }
      ],
      "source": [
        "# training check at prob is 0.75\n",
        "plt.plot(loss_MLAE_probs['train_loss'])\n",
        "plt.plot(range(0, epochs+1, epochs//20), loss_MLAE_probs['val_loss'])\n",
        "plt.legend(loss_MLAE_probs.keys())"
      ]
    },
    {
      "cell_type": "code",
      "source": [
        "# search check\n",
        "plt.plot(list(prob_search)[:17], search_score)"
      ],
      "metadata": {
        "colab": {
          "base_uri": "https://localhost:8080/",
          "height": 283
        },
        "id": "zmJaV5zpueHg",
        "outputId": "c226b488-26e2-464a-f0a4-683402452d08"
      },
      "execution_count": 61,
      "outputs": [
        {
          "output_type": "execute_result",
          "data": {
            "text/plain": [
              "[<matplotlib.lines.Line2D at 0x7f528014e650>]"
            ]
          },
          "metadata": {},
          "execution_count": 61
        },
        {
          "output_type": "display_data",
          "data": {
            "text/plain": [
              "<Figure size 432x288 with 1 Axes>"
            ],
            "image/png": "[encoded data removed]"
          },
          "metadata": {
            "needs_background": "light"
          }
        }
      ]
    },
    {
      "cell_type": "code",
      "source": [
        "prob_list = search_record['params']\n",
        "print('prob:', prob_list, '\\nloss:', loss)"
      ],
      "metadata": {
        "colab": {
          "base_uri": "https://localhost:8080/"
        },
        "id": "N47wNFMGujEa",
        "outputId": "ebf52829-1952-4c98-df4d-3dc21c3bb677"
      },
      "execution_count": 62,
      "outputs": [
        {
          "output_type": "stream",
          "name": "stdout",
          "text": [
            "prob: tensor([0.9429, 0.9029, 0.8814, 0.8644, 0.8603, 0.8468, 0.9667, 0.9169, 0.8851,\n",
            "        0.8440, 0.8102, 0.8919, 0.9371, 0.8715, 0.8871, 0.9910, 0.9719, 0.8529,\n",
            "        0.8122, 0.9602, 0.9517, 0.8467, 0.9217, 0.8747, 0.8003, 0.9097, 0.8994,\n",
            "        0.8459, 0.8373, 0.8260, 0.9255, 0.8661, 0.9166, 0.8724, 0.9880, 0.8690,\n",
            "        0.9982, 0.9198, 0.9367, 0.8836, 0.9733, 0.8724, 0.9421, 0.9831, 0.8926,\n",
            "        0.8811, 0.9513, 0.8992, 0.8926, 0.8419, 0.8757, 0.8663, 0.8828, 0.8803,\n",
            "        0.9237, 0.8387, 0.8314, 0.9536, 0.8338, 0.9712, 0.8195, 0.9788, 0.9259,\n",
            "        0.9502]) \n",
            "loss: 0.08078506544590627\n"
          ]
        }
      ]
    },
    {
      "cell_type": "code",
      "source": [
        "for i in tqdm(range(epochs_fe)):\n",
        "    net_MLAE_probs = M_LAE(prob_list, x_dim, z_dim, type='probs').to(device)\n",
        "\n",
        "    params = list(net_MLAE_probs.parameters())\n",
        "    criterion = nn.MSELoss()\n",
        "    optimizer = optim.Adam(params, lr=learning_rate)\n",
        "\n",
        "    ### TRAINING ###\n",
        "    train_loop(data_dict, net_MLAE_probs, criterion, optimizer, epochs=epochs, record=False, type='encoder')\n",
        "\n",
        "    # feature extraction\n",
        "    #loss_ls = feature_extraction(data_dict, net_MLAE_probs.parameters(), criterion, type='ls', epochs=epochs)\n",
        "    loss_ls = feature_extraction(data_dict, net_MLAE_probs.parameters(), criterion, type='ls', epochs=epochs)\n",
        "    fe_loss_dict['MLAE_probs'].append(loss_ls)"
      ],
      "metadata": {
        "colab": {
          "base_uri": "https://localhost:8080/"
        },
        "id": "cy-i6MCExwGO",
        "outputId": "4c620bf6-045b-4538-e6c7-bdbb33a03300"
      },
      "execution_count": 63,
      "outputs": [
        {
          "output_type": "stream",
          "name": "stderr",
          "text": [
            "100%|██████████| 100/100 [09:29<00:00,  5.70s/it]\n"
          ]
        }
      ]
    },
    {
      "cell_type": "code",
      "source": [
        "print('mean:', statistics.mean(fe_loss_dict['MLAE_probs']), ', sd:', statistics.stdev(fe_loss_dict['MLAE_probs']))"
      ],
      "metadata": {
        "id": "dK62YaQGcMyR",
        "colab": {
          "base_uri": "https://localhost:8080/"
        },
        "outputId": "7e300690-9160-401a-9eb4-9636cb8e6a39"
      },
      "execution_count": 64,
      "outputs": [
        {
          "output_type": "stream",
          "name": "stdout",
          "text": [
            "mean: 7.36806316646596e-18 , sd: 5.3870552688851267e-17\n"
          ]
        }
      ]
    },
    {
      "cell_type": "markdown",
      "metadata": {
        "id": "si7wv4fGaDrO"
      },
      "source": [
        "##### Masked linear autoencoder (patches)"
      ]
    },
    {
      "cell_type": "code",
      "source": [
        "# grid search\n",
        "search_score = []\n",
        "search_record = {'params': -1, 'best_score': 1e8}\n",
        "\n",
        "for prob in tqdm(prob_search):\n",
        "    for patch_size in patch_size_plain_search:\n",
        "        for i in range(epochs_grid):\n",
        "            loss = 0\n",
        "\n",
        "            net_MLAE_patches = M_LAE(prob, x_dim, z_dim, type='patches', patch_size=patch_size).to(device)\n",
        "\n",
        "            params = list(net_MLAE_patches.parameters())\n",
        "            criterion = nn.MSELoss()\n",
        "            optimizer = optim.Adam(params, lr=lr)\n",
        "\n",
        "            ### TRAINING ###\n",
        "            if i==0 and prob==0.75 and patch_size==8:\n",
        "                loss_MLAE_patches = train_loop(data_dict, net_MLAE_patches, criterion, optimizer, epochs=epochs, record=True, type='encoder')\n",
        "            else:\n",
        "                train_loop(data_dict, net_MLAE_patches, criterion, optimizer, epochs=epochs, record=False, type='encoder')\n",
        "            loss += test_loop(data_dict, net_MLAE_patches, criterion, type='encoder')\n",
        "\n",
        "        loss /= epochs_grid\n",
        "        search_score.append(loss)\n",
        "        if loss < search_record['best_score']:\n",
        "            search_record['best_score'] = loss\n",
        "            search_record['params'] = (prob, patch_size)"
      ],
      "metadata": {
        "colab": {
          "base_uri": "https://localhost:8080/"
        },
        "id": "zk_0aTEcu0jl",
        "outputId": "f73a4b9e-9816-421b-ea4d-287e19b66f7d"
      },
      "execution_count": 65,
      "outputs": [
        {
          "output_type": "stream",
          "name": "stderr",
          "text": [
            "  0%|          | 0/21 [00:00<?, ?it/s]/usr/local/lib/python3.7/dist-packages/ipykernel_launcher.py:22: UserWarning: __rfloordiv__ is deprecated, and its behavior will change in a future version of pytorch. It currently rounds toward 0 (like the 'trunc' function NOT 'floor'). This results in incorrect rounding for negative values. To keep the current behavior, use torch.div(a, b, rounding_mode='trunc'), or for actual floor division, use torch.div(a, b, rounding_mode='floor').\n",
            " 71%|███████▏  | 15/21 [32:22<13:02, 130.48s/it]"
          ]
        },
        {
          "output_type": "stream",
          "name": "stdout",
          "text": [
            "epoch:  0 , train loss:  12.603099992395455 , val loss 8.69344371530073\n",
            "epoch:  50 , train loss:  1.4871235226063237 , val loss 1.9912973056461838\n",
            "epoch:  100 , train loss:  0.7888070885283313 , val loss 1.2556447829881607\n",
            "epoch:  150 , train loss:  0.6516166830797434 , val loss 1.136431737811361\n",
            "epoch:  200 , train loss:  0.6761241839965161 , val loss 1.462487619067819\n",
            "epoch:  250 , train loss:  0.5567312980077747 , val loss 0.7438302714793813\n",
            "epoch:  300 , train loss:  0.5772048692861562 , val loss 0.7240951976966274\n",
            "epoch:  350 , train loss:  0.4987293943740743 , val loss 0.9794380898282807\n",
            "epoch:  400 , train loss:  0.6192155620408697 , val loss 0.6141467058376148\n",
            "epoch:  450 , train loss:  0.5677350385956397 , val loss 0.7147200516763773\n",
            "epoch:  500 , train loss:  0.5377586672874345 , val loss 1.008732343768527\n",
            "epoch:  550 , train loss:  1.0869146958399551 , val loss 0.6122017407247269\n",
            "epoch:  600 , train loss:  0.5664993904215022 , val loss 0.7394916150657007\n",
            "epoch:  650 , train loss:  0.8218903835364905 , val loss 0.5206169029126557\n",
            "epoch:  700 , train loss:  0.6452199558819309 , val loss 0.6367724941782583\n",
            "epoch:  750 , train loss:  0.640615673800858 , val loss 0.7710355737828009\n",
            "epoch:  800 , train loss:  0.5482195474876776 , val loss 0.8661243748673026\n",
            "epoch:  850 , train loss:  0.5912448124960027 , val loss 0.7913135921204258\n",
            "epoch:  900 , train loss:  0.669493056357954 , val loss 0.8394170517780973\n",
            "epoch:  950 , train loss:  0.5164763834287914 , val loss 0.8426385084792232\n",
            "epoch:  1000 , train loss:  0.7402619729718528 , val loss 0.8923938003956846\n"
          ]
        },
        {
          "output_type": "stream",
          "name": "stderr",
          "text": [
            "100%|██████████| 21/21 [45:21<00:00, 129.61s/it]\n"
          ]
        }
      ]
    },
    {
      "cell_type": "code",
      "execution_count": 66,
      "metadata": {
        "id": "M_KVuVqfaDrP",
        "colab": {
          "base_uri": "https://localhost:8080/",
          "height": 283
        },
        "outputId": "92ff3cd5-68a4-4c6e-8775-35e73bc5c8ff"
      },
      "outputs": [
        {
          "output_type": "execute_result",
          "data": {
            "text/plain": [
              "<matplotlib.legend.Legend at 0x7f5280069410>"
            ]
          },
          "metadata": {},
          "execution_count": 66
        },
        {
          "output_type": "display_data",
          "data": {
            "text/plain": [
              "<Figure size 432x288 with 1 Axes>"
            ],
            "image/png": "[encoded data removed]"
          },
          "metadata": {
            "needs_background": "light"
          }
        }
      ],
      "source": [
        "# training check at prob is 0.75\n",
        "plt.plot(loss_MLAE_patches['train_loss'])\n",
        "plt.plot(range(0, epochs+1, epochs//20), loss_MLAE_patches['val_loss'])\n",
        "plt.legend(loss_MLAE_patches.keys())"
      ]
    },
    {
      "cell_type": "code",
      "source": [
        "# search check\n",
        "for i in range(4):\n",
        "    plt.plot(prob_search, search_score[i::4])\n",
        "plt.legend([str(patch_size.item()) for patch_size in patch_size_plain_search])"
      ],
      "metadata": {
        "id": "NNIFMFDfEHni",
        "colab": {
          "base_uri": "https://localhost:8080/",
          "height": 283
        },
        "outputId": "34b7dd6b-c89b-411f-ff75-d13c58b75e39"
      },
      "execution_count": 67,
      "outputs": [
        {
          "output_type": "execute_result",
          "data": {
            "text/plain": [
              "<matplotlib.legend.Legend at 0x7f52498e5590>"
            ]
          },
          "metadata": {},
          "execution_count": 67
        },
        {
          "output_type": "display_data",
          "data": {
            "text/plain": [
              "<Figure size 432x288 with 1 Axes>"
            ],
            "image/png": "[encoded data removed]"
          },
          "metadata": {
            "needs_background": "light"
          }
        }
      ]
    },
    {
      "cell_type": "code",
      "source": [
        "prob, patch_size = search_record['params']\n",
        "print('prob:', prob_list, ',\\npatch_size:', patch_size.item(), ',\\nloss:', loss)"
      ],
      "metadata": {
        "id": "lidLQTaFu06m",
        "colab": {
          "base_uri": "https://localhost:8080/"
        },
        "outputId": "e5c5249d-c75a-4785-ee3d-904ddb3843d3"
      },
      "execution_count": 68,
      "outputs": [
        {
          "output_type": "stream",
          "name": "stdout",
          "text": [
            "prob: tensor([0.9429, 0.9029, 0.8814, 0.8644, 0.8603, 0.8468, 0.9667, 0.9169, 0.8851,\n",
            "        0.8440, 0.8102, 0.8919, 0.9371, 0.8715, 0.8871, 0.9910, 0.9719, 0.8529,\n",
            "        0.8122, 0.9602, 0.9517, 0.8467, 0.9217, 0.8747, 0.8003, 0.9097, 0.8994,\n",
            "        0.8459, 0.8373, 0.8260, 0.9255, 0.8661, 0.9166, 0.8724, 0.9880, 0.8690,\n",
            "        0.9982, 0.9198, 0.9367, 0.8836, 0.9733, 0.8724, 0.9421, 0.9831, 0.8926,\n",
            "        0.8811, 0.9513, 0.8992, 0.8926, 0.8419, 0.8757, 0.8663, 0.8828, 0.8803,\n",
            "        0.9237, 0.8387, 0.8314, 0.9536, 0.8338, 0.9712, 0.8195, 0.9788, 0.9259,\n",
            "        0.9502]) ,\n",
            "patch_size: 16 ,\n",
            "loss: 0.0013652427575665334\n"
          ]
        }
      ]
    },
    {
      "cell_type": "code",
      "execution_count": 76,
      "metadata": {
        "id": "m5CH1NYfaDrO",
        "colab": {
          "base_uri": "https://localhost:8080/"
        },
        "outputId": "3a7d70c6-30cd-4870-fdfa-d667d4b7c5a2"
      },
      "outputs": [
        {
          "output_type": "stream",
          "name": "stderr",
          "text": [
            "100%|██████████| 100/100 [09:58<00:00,  5.99s/it]\n"
          ]
        }
      ],
      "source": [
        "# feature extraction\n",
        "fe_loss_dict['MLAE_patches'] = []\n",
        "patch_size = 4\n",
        "for i in tqdm(range(epochs_fe)):\n",
        "    net_MLAE_patches = M_LAE(prob, x_dim, z_dim, type='patches', patch_size=patch_size).to(device)\n",
        "\n",
        "    params = list(net_MLAE_patches.parameters())\n",
        "    criterion = nn.MSELoss()\n",
        "    optimizer = optim.Adam(params, lr=learning_rate)\n",
        "\n",
        "    ### TRAINING ###\n",
        "    train_loop(data_dict, net_MLAE_patches, criterion, optimizer, epochs=epochs, record=False, type='encoder')\n",
        "\n",
        "    # feature extraction\n",
        "    #loss_ls = feature_extraction(data_dict, net_MLAE_patches.parameters(), criterion, type='ls', epochs=epochs)\n",
        "    loss_ls = feature_extraction(data_dict, net_MLAE_patches.parameters(), criterion, type='ls', epochs=epochs)\n",
        "    fe_loss_dict['MLAE_patches'].append(loss_ls)"
      ]
    },
    {
      "cell_type": "code",
      "source": [
        "print('mean:', statistics.mean(fe_loss_dict['MLAE_patches']), ', sd:', statistics.stdev(fe_loss_dict['MLAE_patches']))"
      ],
      "metadata": {
        "id": "TcRAg3E-cVnc",
        "colab": {
          "base_uri": "https://localhost:8080/"
        },
        "outputId": "d00d6198-cd7e-4114-b242-bcaa39c97c63"
      },
      "execution_count": 77,
      "outputs": [
        {
          "output_type": "stream",
          "name": "stdout",
          "text": [
            "mean: 1.5285811545394609e-19 , sd: 9.56344215830624e-19\n"
          ]
        }
      ]
    },
    {
      "cell_type": "markdown",
      "metadata": {
        "id": "-4BzVMlQdmJ4"
      },
      "source": [
        "### Evaluation"
      ]
    },
    {
      "cell_type": "code",
      "execution_count": 78,
      "metadata": {
        "id": "fm1caMrUdo_M",
        "colab": {
          "base_uri": "https://localhost:8080/",
          "height": 294
        },
        "outputId": "81bb3622-690a-4955-8465-b44c101b7d44"
      },
      "outputs": [
        {
          "output_type": "execute_result",
          "data": {
            "text/plain": [
              "<matplotlib.legend.Legend at 0x7f52496e3050>"
            ]
          },
          "metadata": {},
          "execution_count": 78
        },
        {
          "output_type": "display_data",
          "data": {
            "text/plain": [
              "<Figure size 432x288 with 1 Axes>"
            ],
            "image/png": "[encoded data removed]"
          },
          "metadata": {
            "needs_background": "light"
          }
        }
      ],
      "source": [
        "plt.plot(fe_loss_dict['LAE'])\n",
        "plt.plot(fe_loss_dict['MLAE_basic'])\n",
        "plt.plot(fe_loss_dict['MLAE_probs'])\n",
        "plt.plot(fe_loss_dict['MLAE_patches'])\n",
        "plt.legend(['LAE', 'MLAE_basic', 'MLAE_probs', 'MLAE_patches'])"
      ]
    },
    {
      "cell_type": "code",
      "source": [
        "fe_stats_dict = {'LAE': {'mean': statistics.mean(fe_loss_dict['LAE']), 'sd': statistics.stdev(fe_loss_dict['LAE'])},\n",
        "                 'MLAE_basic': {'mean': statistics.mean(fe_loss_dict['MLAE_basic']), 'sd': statistics.stdev(fe_loss_dict['MLAE_basic'])},\n",
        "                 'MLAE_probs': {'mean': statistics.mean(fe_loss_dict['MLAE_probs']), 'sd': statistics.stdev(fe_loss_dict['MLAE_probs'])},\n",
        "                 'MLAE_patches': {'mean': statistics.mean(fe_loss_dict['MLAE_patches']), 'sd': statistics.stdev(fe_loss_dict['MLAE_patches'])}}\n",
        "print(fe_stats_dict)"
      ],
      "metadata": {
        "id": "wvIJxQQf6rLj",
        "colab": {
          "base_uri": "https://localhost:8080/"
        },
        "outputId": "c00f6417-c730-4e82-d360-0101e2c02055"
      },
      "execution_count": 79,
      "outputs": [
        {
          "output_type": "stream",
          "name": "stdout",
          "text": [
            "{'LAE': {'mean': 7.981267277054154e-18, 'sd': 7.592882303516115e-17}, 'MLAE_basic': {'mean': 1.2104658900235374e-19, 'sd': 7.057202146729156e-19}, 'MLAE_probs': {'mean': 7.36806316646596e-18, 'sd': 5.3870552688851267e-17}, 'MLAE_patches': {'mean': 1.5285811545394609e-19, 'sd': 9.56344215830624e-19}}\n"
          ]
        }
      ]
    },
    {
      "cell_type": "code",
      "source": [
        "data = fe_loss_dict.values()\n",
        " \n",
        "fig = plt.figure(figsize =(10, 7))\n",
        "ax = fig.add_subplot(111)\n",
        " \n",
        "# Creating axes instance\n",
        "bp = ax.boxplot(data, patch_artist = True,\n",
        "                notch ='True', vert = 0)\n",
        " \n",
        "colors = ['#0000FF', '#00FF00',\n",
        "          '#FFFF00', '#FF00FF']\n",
        " \n",
        "for patch, color in zip(bp['boxes'], colors):\n",
        "    patch.set_facecolor(color)\n",
        " \n",
        "# changing color and linewidth of\n",
        "# whiskers\n",
        "for whisker in bp['whiskers']:\n",
        "    whisker.set(color ='#8B008B',\n",
        "                linewidth = 1.5,\n",
        "                linestyle =\":\")\n",
        " \n",
        "# changing color and linewidth of\n",
        "# caps\n",
        "for cap in bp['caps']:\n",
        "    cap.set(color ='#8B008B',\n",
        "            linewidth = 2)\n",
        " \n",
        "# changing color and linewidth of\n",
        "# medians\n",
        "for median in bp['medians']:\n",
        "    median.set(color ='red',\n",
        "               linewidth = 3)\n",
        " \n",
        "# changing style of fliers\n",
        "for flier in bp['fliers']:\n",
        "    flier.set(marker ='D',\n",
        "              color ='#e7298a',\n",
        "              alpha = 0.5)\n",
        "     \n",
        "# x-axis labels\n",
        "ax.set_yticklabels(fe_loss_dict.keys())\n",
        "#ax.set_yticklabels(patch_dict.keys())\n",
        " \n",
        "# Adding title\n",
        "plt.title(\"Box plot for feature loss\")\n",
        " \n",
        "# Removing top axes and right axes\n",
        "# ticks\n",
        "ax.get_xaxis().tick_bottom()\n",
        "ax.get_yaxis().tick_left()\n",
        "     \n",
        "# show plot\n",
        "plt.show()"
      ],
      "metadata": {
        "id": "je7H8jYwZhAb",
        "colab": {
          "base_uri": "https://localhost:8080/",
          "height": 457
        },
        "outputId": "a974b24f-030c-4dc2-b59d-536542251bbb"
      },
      "execution_count": 80,
      "outputs": [
        {
          "output_type": "display_data",
          "data": {
            "text/plain": [
              "<Figure size 720x504 with 1 Axes>"
            ],
            "image/png": "[encoded data removed]"
          },
          "metadata": {
            "needs_background": "light"
          }
        }
      ]
    },
    {
      "cell_type": "code",
      "source": [],
      "metadata": {
        "id": "IQdzko_m8UD3"
      },
      "execution_count": 73,
      "outputs": []
    }
  ],
  "metadata": {
    "accelerator": "GPU",
    "colab": {
      "provenance": [],
      "collapsed_sections": [],
      "include_colab_link": true
    },
    "gpuClass": "standard",
    "kernelspec": {
      "display_name": "Python 3.9.6 ('SSL_venv': venv)",
      "language": "python",
      "name": "python3"
    },
    "language_info": {
      "codemirror_mode": {
        "name": "ipython",
        "version": 3
      },
      "file_extension": ".py",
      "mimetype": "text/x-python",
      "name": "python",
      "nbconvert_exporter": "python",
      "pygments_lexer": "ipython3",
      "version": "3.9.6"
    },
    "orig_nbformat": 4,
    "vscode": {
      "interpreter": {
        "hash": "9c3c12edae13c0508bae753e64eeaec91e16c05e32c8c48bac5bd7ee2e37cd7c"
      }
    }
  },
  "nbformat": 4,
  "nbformat_minor": 0
}