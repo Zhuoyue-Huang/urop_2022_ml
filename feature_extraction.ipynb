{
  "cells": [
    {
      "cell_type": "markdown",
      "metadata": {
        "id": "view-in-github",
        "colab_type": "text"
      },
      "source": [
        "<a href=\"https://colab.research.google.com/github/Zhuoyue-Huang/urop_2022_ml/blob/main/feature_extraction.ipynb\" target=\"_parent\"><img src=\"https://colab.research.google.com/assets/colab-badge.svg\" alt=\"Open In Colab\"/></a>"
      ]
    },
    {
      "cell_type": "code",
      "execution_count": 1,
      "metadata": {
        "id": "Kbg1kWfKaDrE"
      },
      "outputs": [],
      "source": [
        "\"\"\"Verify the gradient derivation of linear masked autoencoder.\"\"\"\n",
        "import torch\n",
        "import torch.nn as nn\n",
        "import torch.optim as optim\n",
        "import matplotlib.pyplot as plt\n",
        "from tqdm import tqdm\n",
        "import statistics\n",
        "import numpy as np\n",
        "import pandas as pd \n",
        "import scipy.stats as stats\n",
        "from torch.distributions.exponential import Exponential"
      ]
    },
    {
      "cell_type": "code",
      "execution_count": 2,
      "metadata": {
        "id": "lI0EeuiHacLQ"
      },
      "outputs": [],
      "source": [
        "device = torch.device('cuda' if torch.cuda.is_available() else 'cpu')"
      ]
    },
    {
      "cell_type": "code",
      "execution_count": 3,
      "metadata": {
        "id": "ieYyVAs6NgaM"
      },
      "outputs": [],
      "source": [
        "# set default to be float64\n",
        "torch.set_default_dtype(torch.float64)"
      ]
    },
    {
      "cell_type": "markdown",
      "metadata": {
        "id": "UqQEFeEGaDrH"
      },
      "source": [
        "### Model initialisation"
      ]
    },
    {
      "cell_type": "code",
      "execution_count": 4,
      "metadata": {
        "id": "8ktQADqRaDrI"
      },
      "outputs": [],
      "source": [
        "# Linear auto-encoder model\n",
        "class LAE(nn.Module):\n",
        "    def __init__(self, n, p):\n",
        "        super(LAE, self).__init__()\n",
        "        self.n = n\n",
        "        self.p = p\n",
        "        self.w1 = nn.Linear(n, p, bias=False)\n",
        "        self.w2 = nn.Linear(p, n, bias=False)\n",
        "\n",
        "    def forward(self, y):\n",
        "        y = self.w1(y)\n",
        "        y = self.w2(y)\n",
        "        return y"
      ]
    },
    {
      "cell_type": "code",
      "execution_count": 5,
      "metadata": {
        "id": "j73gZMhnaDrI"
      },
      "outputs": [],
      "source": [
        "## Masked lienar auto-encoder model\n",
        "# Define different types of masks\n",
        "def mask_basic(prob, sample_num, x_dim):\n",
        "    return torch.zeros(sample_num, x_dim).bernoulli_(prob)\n",
        "\n",
        "def mask_dropping_probs(prob_list: torch.Tensor, sample_num, x_dim):\n",
        "    return torch.zeros(sample_num, x_dim).bernoulli_(prob_list)\n",
        "\n",
        "def mask_patches_block(prob, patch_size: torch.Tensor, sample_num, sample_dim: torch.Tensor):\n",
        "    x_dim = sample_dim[0]*sample_dim[1]\n",
        "    div_check = sample_dim % patch_size == torch.zeros(2)\n",
        "    if torch.all(div_check):\n",
        "        pix_num = torch.div(sample_dim, patch_size, rounding_mode='floor')\n",
        "        mat_patches = torch.zeros(sample_num, *pix_num).bernoulli_(prob)\n",
        "        mat_patches = torch.repeat_interleave(mat_patches, patch_size[1], dim=2)\n",
        "        return mat_patches.repeat_interleave(patch_size[0], dim=1).view(sample_num, x_dim)\n",
        "    else:\n",
        "        raise NotImplementedError(f\"Both height ({sample_dim[0]}) and width ({sample_dim[1]}) should be divisible by patch_size ({patch_size}).\")\n",
        "\n",
        "def mask_patches_plain(prob, patch_size, sample_num, x_dim):\n",
        "    if not x_dim % patch_size:\n",
        "        pix_num = x_dim // patch_size\n",
        "        mat_patches = torch.zeros(sample_num, pix_num).bernoulli_(prob)\n",
        "        return mat_patches.repeat_interleave(patch_size, dim=1)\n",
        "    else:\n",
        "        raise NotImplementedError\n",
        "\n",
        "# Masked autoencoder (linear)\n",
        "class M_LAE(nn.Module):\n",
        "    def __init__(self, prob, x_dim, f_dim, type='basic', patch_size=None, sample_dim=None):\n",
        "        super(M_LAE, self).__init__()\n",
        "        self.prob = prob\n",
        "        if sample_dim is not None:\n",
        "            self.sample_dim = sample_dim\n",
        "            self.H, self.W = sample_dim\n",
        "            self.n = self.H * self.W\n",
        "        self.n = x_dim\n",
        "        self.p = f_dim\n",
        "        if type not in ['basic', 'probs', 'patches']:\n",
        "            raise NotImplementedError(\"Could only implement 'basic', 'probs' and 'patches' type of masking.\")\n",
        "        else:\n",
        "            self.masking_type = type\n",
        "        if patch_size is not None:\n",
        "            self.patch_size = patch_size\n",
        "        w1 = nn.Linear(self.n, self.p, bias=False)\n",
        "        w2 = nn.Linear(self.p, self.n, bias=False)\n",
        "        self.body = nn.Sequential(*[w1, w2])\n",
        "    \n",
        "    def forward(self, X, mask=None):\n",
        "        m = X.shape[0]\n",
        "        if mask is None:\n",
        "            if self.masking_type == 'basic':\n",
        "                mask = mask_basic(self.prob, m, self.n).to(device)\n",
        "            elif self.masking_type == 'probs':\n",
        "                mask = mask_dropping_probs(self.prob, m, self.n).to(device)\n",
        "            elif self.masking_type == 'patches':\n",
        "                mask = mask_patches_plain(self.prob, self.patch_size, m, self.n).to(device)\n",
        "        Y = mask * X\n",
        "        Y = self.body(Y)\n",
        "        return Y"
      ]
    },
    {
      "cell_type": "code",
      "execution_count": 6,
      "metadata": {
        "id": "WeS-TP2yaBmJ"
      },
      "outputs": [],
      "source": [
        "class FE_Net(nn.Module):\n",
        "    def __init__(self, f_dim, y_dim):\n",
        "        super(FE_Net, self).__init__()\n",
        "        self.theta = nn.Linear(f_dim, y_dim, bias=False)\n",
        "\n",
        "    def forward(self, W):\n",
        "        return self.theta(W)"
      ]
    },
    {
      "cell_type": "code",
      "execution_count": 7,
      "metadata": {
        "id": "USAf_nrKaDrJ"
      },
      "outputs": [],
      "source": [
        "def train_loop(data_dict, model, criterion, optimizer, type, epochs=100, sample_average=10, record=True):\n",
        "    train_loss = []\n",
        "    val_loss = []\n",
        "    if type=='encoder':\n",
        "        X_train = data_dict['X_train']\n",
        "        y_train = X_train\n",
        "    elif type=='fe':\n",
        "        X_train = data_dict['X_train']\n",
        "        y_train = data_dict['y_train']\n",
        "        sample_average = 1\n",
        "\n",
        "    for epoch in range(epochs+1):\n",
        "        loss_total = 0\n",
        "        optimizer.zero_grad()\n",
        "        for i in range(sample_average):\n",
        "            outputs = model(X_train)\n",
        "            loss = criterion(outputs, y_train)\n",
        "            loss_total += loss\n",
        "        loss_total /= sample_average\n",
        "        loss_total.backward()\n",
        "        optimizer.step()\n",
        "        if record:\n",
        "          train_loss.append(loss_total.item())\n",
        "          if epochs>=20 and epoch%(epochs//20)==0:\n",
        "              v_loss = test_loop(data_dict, model, criterion, type)\n",
        "              val_loss.append(v_loss)\n",
        "              print('epoch: ', epoch, ', train loss: ', loss.item(), ', val loss', v_loss)\n",
        "    if record:\n",
        "        return {'train_loss': train_loss, 'val_loss': val_loss}\n",
        "    else:\n",
        "        return loss_total.item()\n",
        "\n",
        "def test_loop(data_dict, model, criterion, type):\n",
        "    if type=='encoder':\n",
        "        X = data_dict['X_val']\n",
        "        y = X\n",
        "    elif type=='fe':\n",
        "        X = data_dict['X_test']\n",
        "        y = data_dict['y_test']\n",
        "\n",
        "    with torch.no_grad():\n",
        "        outputs = model(X)\n",
        "        loss = criterion(outputs, y)\n",
        "    return loss.item()"
      ]
    },
    {
      "cell_type": "code",
      "execution_count": 8,
      "metadata": {
        "id": "TjY8ezY7aDrJ"
      },
      "outputs": [],
      "source": [
        "# representation learning\n",
        "def repr_learning(data_dict, model_parameters, criterion, type, epochs=200, device='cuda'):\n",
        "    X_train, y_train, _, _, X_test, y_test = data_dict.values()\n",
        "\n",
        "    params = list(model_parameters)\n",
        "    W1 = params[0].clone().detach()\n",
        "    f_train = X_train @ W1.T\n",
        "    f_test = X_test @ W1.T\n",
        "    f_dim = f_train.shape[1]\n",
        "    y_dim = y_train.shape[1]\n",
        "\n",
        "    if type=='ls':\n",
        "        theta = (torch.inverse(f_train.T @ f_train) @ f_train.T @ y_train).T\n",
        "        loss = criterion(y_test, f_test @ theta.T)\n",
        "        return loss.item()\n",
        "    elif type=='gd':\n",
        "        data_dict_fe = {'X_train': f_train, 'y_train': y_train,\n",
        "                        'X_test': f_test, 'y_test': y_test}\n",
        "        net_fe = FE_Net(f_dim, y_dim).to(device)\n",
        "        theta = list(net_fe.parameters())\n",
        "        optimizer = optim.Adam(theta, lr=0.0001)\n",
        "        ### TRAINING ###\n",
        "        train_loop(data_dict_fe, net_fe, criterion, optimizer, epochs=epochs, record=False, type='fe')\n",
        "        loss_fe = test_loop(data_dict_fe, net_fe, criterion, type='fe')\n",
        "        return loss_fe"
      ]
    },
    {
      "cell_type": "markdown",
      "metadata": {
        "id": "es2QcO7qaDrK"
      },
      "source": [
        "### Dataset"
      ]
    },
    {
      "cell_type": "code",
      "execution_count": 9,
      "metadata": {
        "colab": {
          "base_uri": "https://localhost:8080/"
        },
        "id": "NoF5AZwxGVU7",
        "outputId": "45e5c563-7100-4aae-92ab-ead7ad4d805d"
      },
      "outputs": [
        {
          "output_type": "stream",
          "name": "stderr",
          "text": [
            "/usr/local/lib/python3.7/dist-packages/ipykernel_launcher.py:14: UserWarning: torch.range is deprecated and will be removed in a future release because its behavior is inconsistent with Python's range builtin. Instead, use torch.arange, which produces values in [start, end).\n",
            "  \n",
            "/usr/local/lib/python3.7/dist-packages/ipykernel_launcher.py:16: UserWarning: torch.range is deprecated and will be removed in a future release because its behavior is inconsistent with Python's range builtin. Instead, use torch.arange, which produces values in [start, end).\n",
            "  app.launch_new_instance()\n"
          ]
        }
      ],
      "source": [
        "train_num, val_num, test_num = (4000, 500, 2000) # larger number of dataset\n",
        "sample_num_split = (train_num, train_num + val_num)\n",
        "total = train_num+val_num+test_num\n",
        "\n",
        "# need to consider f_dim <, =, > z_dim\n",
        "z_dim = 10 # dimension of z\n",
        "H = 4\n",
        "W = 4\n",
        "sample_dim = torch.tensor([H, W])\n",
        "x_dim = H * W\n",
        "f_dim = 13\n",
        "y_dim = z_dim // 2\n",
        "\n",
        "prob_search = torch.range(0, 1, 0.05)\n",
        "prob_list_search = torch.rand(x_dim, generator=torch.random.manual_seed(1911))*0.2\\\n",
        "                   + torch.repeat_interleave(torch.range(0, 0.8, 0.05).unsqueeze(1), x_dim, dim=1)\n",
        "patch_size_plain_search = torch.tensor([2, 4, 8, 16])\n",
        "patch_size_block_search = []\n",
        "for i in [2, 4, 8, 16]:\n",
        "    for j in [2, 4, 8, 16]:\n",
        "        patch_size_block_search.append([i, j])\n",
        "patch_size_search = torch.tensor(patch_size_block_search)"
      ]
    },
    {
      "cell_type": "code",
      "execution_count": 10,
      "metadata": {
        "id": "6-p1AuTWIJk9"
      },
      "outputs": [],
      "source": [
        "#mean = torch.linspace(0, 5, z_dim).repeat(total, 1)\n",
        "#std = torch.linspace(3, 8, z_dim).repeat(total, 1)\n",
        "#m = Exponential(1)\n",
        "#z = m.rsample((total,z_dim))\n",
        "#z = torch.normal(mean=mean, std=std, generator=torch.random.manual_seed(1911))\n",
        "z = torch.normal(mean=0, std=1, size=(total,z_dim), generator=torch.random.manual_seed(1911)) # here distribution is high dimensional guassian\n",
        "z = z.to(device)"
      ]
    },
    {
      "cell_type": "code",
      "execution_count": 11,
      "metadata": {
        "id": "rLboN52waDrK"
      },
      "outputs": [],
      "source": [
        "U = torch.rand(x_dim, z_dim, generator=torch.random.manual_seed(1911))\n",
        "U = U.to(device)\n",
        "V = torch.rand(y_dim, z_dim, generator=torch.random.manual_seed(1911))\n",
        "V = V.to(device)\n",
        "\n",
        "x = z @ U.T\n",
        "y = z @ V.T\n",
        "X_train, X_val, X_test = torch.tensor_split(x, sample_num_split)\n",
        "y_train, y_val, y_test = torch.tensor_split(y, sample_num_split)\n",
        "data_dict = {'X_train': X_train, 'y_train': y_train, 'X_val': X_val, 'y_val': y_val, 'X_test': X_test, 'y_test': y_test}\n",
        "fe_loss_dict = {'LAE': [], 'MLAE_basic': [], 'MLAE_probs': [], 'MLAE_patches': []}"
      ]
    },
    {
      "cell_type": "code",
      "execution_count": 60,
      "metadata": {
        "id": "_H5fnGlMaDrL"
      },
      "outputs": [],
      "source": [
        "learning_rate = 0.01\n",
        "epochs = 1000\n",
        "epochs_fe = 100\n",
        "epochs_grid = 50"
      ]
    },
    {
      "cell_type": "markdown",
      "metadata": {
        "id": "DAoMiwCEaDrL"
      },
      "source": [
        "### Get features from autoencoder"
      ]
    },
    {
      "cell_type": "markdown",
      "metadata": {
        "id": "uPZVsK57aDrL"
      },
      "source": [
        "##### Linear autoencoder"
      ]
    },
    {
      "cell_type": "code",
      "execution_count": 61,
      "metadata": {
        "colab": {
          "base_uri": "https://localhost:8080/"
        },
        "id": "6K3nyMfkaDrM",
        "outputId": "ce240f79-61a9-49c3-e8b3-6cc72b34c5df"
      },
      "outputs": [
        {
          "output_type": "stream",
          "name": "stderr",
          "text": [
            "\r  0%|          | 0/100 [00:00<?, ?it/s]"
          ]
        },
        {
          "output_type": "stream",
          "name": "stdout",
          "text": [
            "epoch:  0 , train loss:  3.530960470794398 , val loss 2.8863159468449613\n",
            "epoch:  50 , train loss:  0.19295041995744067 , val loss 0.1855944433629145\n",
            "epoch:  100 , train loss:  0.04280071828511353 , val loss 0.04242020778830265\n",
            "epoch:  150 , train loss:  0.01942103449403477 , val loss 0.01831114114431498\n",
            "epoch:  200 , train loss:  0.007870408865553978 , val loss 0.007625823267103261\n",
            "epoch:  250 , train loss:  0.0041361826224946925 , val loss 0.0043094738973569096\n",
            "epoch:  300 , train loss:  0.003502889106909544 , val loss 0.0036855358785239105\n",
            "epoch:  350 , train loss:  0.0030153667739091766 , val loss 0.003172680902816611\n",
            "epoch:  400 , train loss:  0.0024716411405232837 , val loss 0.0025973310783915064\n",
            "epoch:  450 , train loss:  0.001873830121113052 , val loss 0.001965625581527579\n",
            "epoch:  500 , train loss:  0.001281851129343775 , val loss 0.0013418545104441604\n",
            "epoch:  550 , train loss:  0.0007844802224722854 , val loss 0.0008196635989153051\n",
            "epoch:  600 , train loss:  0.0004412335987641284 , val loss 0.0004606249651380545\n",
            "epoch:  650 , train loss:  0.0002424017181818288 , val loss 0.00025318166901947735\n",
            "epoch:  700 , train loss:  0.00013687333387772915 , val loss 0.00014311965131162503\n",
            "epoch:  750 , train loss:  7.98061167597946e-05 , val loss 8.351373397333362e-05\n",
            "epoch:  800 , train loss:  4.698137952870088e-05 , val loss 4.917564039665589e-05\n",
            "epoch:  850 , train loss:  2.7377710954235674e-05 , val loss 2.865257963052394e-05\n",
            "epoch:  900 , train loss:  1.563360233855181e-05 , val loss 1.6356284260741357e-05\n",
            "epoch:  950 , train loss:  8.711850254219296e-06 , val loss 9.110724674240772e-06\n"
          ]
        },
        {
          "output_type": "stream",
          "name": "stderr",
          "text": [
            "\r  1%|          | 1/100 [00:02<04:42,  2.86s/it]"
          ]
        },
        {
          "output_type": "stream",
          "name": "stdout",
          "text": [
            "epoch:  1000 , train loss:  4.729761580252083e-06 , val loss 4.943967224538073e-06\n"
          ]
        },
        {
          "output_type": "stream",
          "name": "stderr",
          "text": [
            "100%|██████████| 100/100 [04:28<00:00,  2.69s/it]\n"
          ]
        }
      ],
      "source": [
        "fe_loss_dict['LAE'] = []\n",
        "for i in tqdm(range(epochs_fe)):\n",
        "    net_LAE = LAE(x_dim, f_dim).to(device)\n",
        "\n",
        "    params = list(net_LAE.parameters())\n",
        "    criterion = nn.MSELoss()\n",
        "    optimizer = optim.Adam(params, lr=learning_rate)\n",
        "\n",
        "    ### TRAINING ###\n",
        "    if i==0:\n",
        "        loss_LAE = train_loop(data_dict, net_LAE, criterion, optimizer, epochs=epochs, record=True, type='encoder')\n",
        "    else:\n",
        "        train_loop(data_dict, net_LAE, criterion, optimizer, epochs=epochs, record=False, type='encoder')\n",
        "\n",
        "    # feature extraction\n",
        "    loss_ls = repr_learning(data_dict, net_LAE.parameters(), criterion, type='ls', epochs=epochs)\n",
        "    fe_loss_dict['LAE'].append(loss_ls)"
      ]
    },
    {
      "cell_type": "code",
      "execution_count": 62,
      "metadata": {
        "colab": {
          "base_uri": "https://localhost:8080/",
          "height": 283
        },
        "id": "2W43sxx8aDrM",
        "outputId": "3ed63480-13c3-41c8-9700-4f74c4cb1304"
      },
      "outputs": [
        {
          "output_type": "execute_result",
          "data": {
            "text/plain": [
              "<matplotlib.legend.Legend at 0x7fa7426f9290>"
            ]
          },
          "metadata": {},
          "execution_count": 62
        },
        {
          "output_type": "display_data",
          "data": {
            "text/plain": [
              "<Figure size 432x288 with 1 Axes>"
            ],
            "image/png": "[encoded data removed]"
          },
          "metadata": {
            "needs_background": "light"
          }
        }
      ],
      "source": [
        "plt.plot(loss_LAE['train_loss'])\n",
        "plt.plot(range(0, epochs+1, epochs//20), loss_LAE['val_loss'])\n",
        "plt.legend(loss_LAE.keys())"
      ]
    },
    {
      "cell_type": "code",
      "execution_count": 63,
      "metadata": {
        "colab": {
          "base_uri": "https://localhost:8080/"
        },
        "id": "DlVArcy5pOVU",
        "outputId": "06d7bbcb-9f99-4b0e-fa0b-c8855e9f2c6d"
      },
      "outputs": [
        {
          "output_type": "stream",
          "name": "stdout",
          "text": [
            "mean: 24.28822666196855 , sd: 112.77483075262933\n"
          ]
        }
      ],
      "source": [
        "print('mean:', statistics.mean(fe_loss_dict['LAE']), ', sd:', statistics.stdev(fe_loss_dict['LAE']))"
      ]
    },
    {
      "cell_type": "code",
      "source": [
        "epochs = 100"
      ],
      "metadata": {
        "id": "G3NTifLIUJ8M"
      },
      "execution_count": 16,
      "outputs": []
    },
    {
      "cell_type": "markdown",
      "metadata": {
        "id": "Ez_oZJ5OaDrN"
      },
      "source": [
        "##### Masked linear autoencoder (basic)"
      ]
    },
    {
      "cell_type": "code",
      "execution_count": 17,
      "metadata": {
        "colab": {
          "base_uri": "https://localhost:8080/"
        },
        "id": "cYK3bC2qVXmA",
        "outputId": "56650af2-7f00-4d20-e1fe-4c09985ae17a"
      },
      "outputs": [
        {
          "output_type": "stream",
          "name": "stderr",
          "text": [
            " 71%|███████▏  | 15/21 [21:17<08:57, 89.54s/it]"
          ]
        },
        {
          "output_type": "stream",
          "name": "stdout",
          "text": [
            "epoch:  0 , train loss:  3.5236145462201067 , val loss 2.865061627141473\n",
            "epoch:  5 , train loss:  2.1886807504241026 , val loss 1.0661856624672534\n",
            "epoch:  10 , train loss:  0.8025831753364375 , val loss 1.0722978307651918\n",
            "epoch:  15 , train loss:  0.8079123554072127 , val loss 0.7402685838381435\n",
            "epoch:  20 , train loss:  0.6243586970718239 , val loss 0.5899247235146451\n",
            "epoch:  25 , train loss:  0.49562341318575237 , val loss 0.5028800126259475\n",
            "epoch:  30 , train loss:  0.42060068984351423 , val loss 0.41873306006374206\n",
            "epoch:  35 , train loss:  0.4012568121640055 , val loss 0.36987550940638064\n",
            "epoch:  40 , train loss:  0.363194684659789 , val loss 0.3411346449372729\n",
            "epoch:  45 , train loss:  0.35150673404167365 , val loss 0.3471333520997764\n",
            "epoch:  50 , train loss:  0.33703679048922636 , val loss 0.33075695970460267\n",
            "epoch:  55 , train loss:  0.3169723225221476 , val loss 0.3120387377037947\n",
            "epoch:  60 , train loss:  0.3138737879712771 , val loss 0.2946338742144764\n",
            "epoch:  65 , train loss:  0.31520338925930036 , val loss 0.30941322304072755\n",
            "epoch:  70 , train loss:  0.31617672017188647 , val loss 0.3028951202302785\n",
            "epoch:  75 , train loss:  0.3113650803824611 , val loss 0.31722740862031445\n",
            "epoch:  80 , train loss:  0.3152396902144643 , val loss 0.299470890707684\n",
            "epoch:  85 , train loss:  0.31263010549427916 , val loss 0.33639230485829635\n",
            "epoch:  90 , train loss:  0.31392329144824194 , val loss 0.3055901969509155\n",
            "epoch:  95 , train loss:  0.31938289251675567 , val loss 0.2817088784655584\n",
            "epoch:  100 , train loss:  0.3134198977009514 , val loss 0.29465278121519295\n"
          ]
        },
        {
          "output_type": "stream",
          "name": "stderr",
          "text": [
            "100%|██████████| 21/21 [28:41<00:00, 81.97s/it]\n"
          ]
        }
      ],
      "source": [
        "# grid search\n",
        "search_score = []\n",
        "search_record = {'params': -1, 'best_score': 1e8}\n",
        "\n",
        "for prob in tqdm(prob_search):\n",
        "    for i in range(epochs_grid):\n",
        "        loss = 0\n",
        "\n",
        "        net_MLAE_basic = M_LAE(prob, x_dim, f_dim).to(device)\n",
        "\n",
        "        params = list(net_MLAE_basic.parameters())\n",
        "        criterion = nn.MSELoss()\n",
        "        optimizer = optim.Adam(params, lr=learning_rate)\n",
        "\n",
        "        ### TRAINING ###\n",
        "        if i==0 and prob==0.75:\n",
        "            loss_MLAE_basic = train_loop(data_dict, net_MLAE_basic, criterion, optimizer, epochs=epochs, record=True, type='encoder')\n",
        "        else:\n",
        "            train_loop(data_dict, net_MLAE_basic, criterion, optimizer, epochs=epochs, record=False, type='encoder')\n",
        "        loss += test_loop(data_dict, net_MLAE_basic, criterion, type='encoder')\n",
        "\n",
        "    loss /= epochs_grid\n",
        "    search_score.append(loss)\n",
        "    if loss < search_record['best_score']:\n",
        "        search_record['best_score'] = loss\n",
        "        search_record['params'] = prob"
      ]
    },
    {
      "cell_type": "code",
      "execution_count": 18,
      "metadata": {
        "id": "YquLuCS2aDrN",
        "colab": {
          "base_uri": "https://localhost:8080/",
          "height": 283
        },
        "outputId": "fe28027e-f62b-4616-b76c-da8f1b1603d9"
      },
      "outputs": [
        {
          "output_type": "execute_result",
          "data": {
            "text/plain": [
              "<matplotlib.legend.Legend at 0x7fa780405ad0>"
            ]
          },
          "metadata": {},
          "execution_count": 18
        },
        {
          "output_type": "display_data",
          "data": {
            "text/plain": [
              "<Figure size 432x288 with 1 Axes>"
            ],
            "image/png": "[encoded data removed]"
          },
          "metadata": {
            "needs_background": "light"
          }
        }
      ],
      "source": [
        "# training check at prob is 0.75\n",
        "plt.plot(loss_MLAE_basic['train_loss'])\n",
        "plt.plot(range(0, epochs+1, epochs//20), loss_MLAE_basic['val_loss'])\n",
        "plt.legend(loss_MLAE_basic.keys())"
      ]
    },
    {
      "cell_type": "code",
      "execution_count": 19,
      "metadata": {
        "id": "Xl1YuRV5m5nA",
        "colab": {
          "base_uri": "https://localhost:8080/",
          "height": 283
        },
        "outputId": "fd5f85e9-baa4-488c-f148-2df9676544c2"
      },
      "outputs": [
        {
          "output_type": "execute_result",
          "data": {
            "text/plain": [
              "[<matplotlib.lines.Line2D at 0x7fa78037c310>]"
            ]
          },
          "metadata": {},
          "execution_count": 19
        },
        {
          "output_type": "display_data",
          "data": {
            "text/plain": [
              "<Figure size 432x288 with 1 Axes>"
            ],
            "image/png": "[encoded data removed]"
          },
          "metadata": {
            "needs_background": "light"
          }
        }
      ],
      "source": [
        "# search check\n",
        "plt.plot(prob_search, search_score)"
      ]
    },
    {
      "cell_type": "code",
      "execution_count": 20,
      "metadata": {
        "id": "HDlNPA1MmkUx",
        "colab": {
          "base_uri": "https://localhost:8080/"
        },
        "outputId": "71c40e09-bd3d-43ad-afaa-b5a60ab4ac25"
      },
      "outputs": [
        {
          "output_type": "stream",
          "name": "stdout",
          "text": [
            "prob: 1.0 \n",
            "loss: 8.316570958423541e-05\n"
          ]
        }
      ],
      "source": [
        "prob = search_record['params']\n",
        "print('prob:', prob.item(), '\\nloss:', loss)"
      ]
    },
    {
      "cell_type": "code",
      "execution_count": 21,
      "metadata": {
        "id": "zs-zpOO8aDrN",
        "colab": {
          "base_uri": "https://localhost:8080/"
        },
        "outputId": "4b95958f-85eb-45ae-e80d-028b2a182726"
      },
      "outputs": [
        {
          "output_type": "stream",
          "name": "stderr",
          "text": [
            "100%|██████████| 100/100 [02:10<00:00,  1.31s/it]\n"
          ]
        }
      ],
      "source": [
        "for i in tqdm(range(epochs_fe)):\n",
        "    net_MLAE_basic = M_LAE(prob, x_dim, f_dim).to(device)\n",
        "\n",
        "    params = list(net_MLAE_basic.parameters())\n",
        "    criterion = nn.MSELoss()\n",
        "    optimizer = optim.Adam(params, lr=learning_rate)\n",
        "\n",
        "    ### TRAINING ###\n",
        "    train_loop(data_dict, net_MLAE_basic, criterion, optimizer, epochs=epochs, record=False, type='encoder')\n",
        "\n",
        "    # feature extraction\n",
        "    #loss_ls = feature_extraction(data_dict, net_MLAE_basic.parameters(), criterion, type='ls', epochs=epochs)\n",
        "    loss_ls = repr_learning(data_dict, net_MLAE_basic.parameters(), criterion, type='ls', epochs=epochs)\n",
        "    fe_loss_dict['MLAE_basic'].append(loss_ls)"
      ]
    },
    {
      "cell_type": "code",
      "execution_count": 22,
      "metadata": {
        "id": "tfFIpuyrnlDo",
        "colab": {
          "base_uri": "https://localhost:8080/"
        },
        "outputId": "a41a3ff2-97d4-424d-e1ec-215892cccb81"
      },
      "outputs": [
        {
          "output_type": "stream",
          "name": "stdout",
          "text": [
            "mean: 19.764446280136564 , sd: 130.27021268330387\n"
          ]
        }
      ],
      "source": [
        "print('mean:', statistics.mean(fe_loss_dict['MLAE_basic']), ', sd:', statistics.stdev(fe_loss_dict['MLAE_basic']))"
      ]
    },
    {
      "cell_type": "markdown",
      "metadata": {
        "id": "mYkcloIWaDrO"
      },
      "source": [
        "##### Masked linear autoencoder (probs)"
      ]
    },
    {
      "cell_type": "code",
      "execution_count": 23,
      "metadata": {
        "id": "QjhPsme3aDrO",
        "colab": {
          "base_uri": "https://localhost:8080/"
        },
        "outputId": "ddfa6b1b-0a7e-4db0-e520-db1443e5113d"
      },
      "outputs": [
        {
          "output_type": "stream",
          "name": "stderr",
          "text": [
            "15it [22:07, 88.03s/it]"
          ]
        },
        {
          "output_type": "stream",
          "name": "stdout",
          "text": [
            "epoch:  0 , train loss:  3.8981230818734094 , val loss 3.2475638325263945\n",
            "epoch:  5 , train loss:  1.2318400841828028 , val loss 0.9943999861549803\n",
            "epoch:  10 , train loss:  0.7784391384544415 , val loss 0.7396999064731535\n",
            "epoch:  15 , train loss:  0.513999295205135 , val loss 0.4416857863800908\n",
            "epoch:  20 , train loss:  0.3965432626393966 , val loss 0.40881985830014955\n",
            "epoch:  25 , train loss:  0.3400049884062246 , val loss 0.34186522023998617\n",
            "epoch:  30 , train loss:  0.28453224950353845 , val loss 0.2862950548423922\n",
            "epoch:  35 , train loss:  0.263512414800827 , val loss 0.25662358779736677\n",
            "epoch:  40 , train loss:  0.23655444030026157 , val loss 0.2515904538169924\n",
            "epoch:  45 , train loss:  0.2307143921397011 , val loss 0.23151560968651722\n",
            "epoch:  50 , train loss:  0.2194730673868675 , val loss 0.2194309589364305\n",
            "epoch:  55 , train loss:  0.2215690966482557 , val loss 0.19939658236218444\n",
            "epoch:  60 , train loss:  0.21565847842083224 , val loss 0.21534730013277734\n",
            "epoch:  65 , train loss:  0.2087879664064658 , val loss 0.19885176810301858\n",
            "epoch:  70 , train loss:  0.20907297373768047 , val loss 0.21327070606828122\n",
            "epoch:  75 , train loss:  0.2079611354024453 , val loss 0.17757280701591707\n",
            "epoch:  80 , train loss:  0.20436044713554088 , val loss 0.20748400449576426\n",
            "epoch:  85 , train loss:  0.2034367699772456 , val loss 0.20330221201583587\n",
            "epoch:  90 , train loss:  0.2089269439625984 , val loss 0.21534930981748876\n",
            "epoch:  95 , train loss:  0.20507671124089927 , val loss 0.1964030872818054\n",
            "epoch:  100 , train loss:  0.20684567357457184 , val loss 0.1905633703214141\n"
          ]
        },
        {
          "output_type": "stream",
          "name": "stderr",
          "text": [
            "17it [24:39, 87.05s/it]\n"
          ]
        }
      ],
      "source": [
        "# grid search\n",
        "search_score = []\n",
        "search_record = {'params': -1, 'best_score': 1e8}\n",
        "\n",
        "for count, prob_list in tqdm(enumerate(prob_list_search)):\n",
        "    for i in range(epochs_grid):\n",
        "        loss = 0\n",
        "\n",
        "        net_MLAE_probs = M_LAE(prob_list, x_dim, f_dim, type='probs').to(device)\n",
        "\n",
        "        params = list(net_MLAE_probs.parameters())\n",
        "        criterion = nn.MSELoss()\n",
        "        optimizer = optim.Adam(params, lr=learning_rate)\n",
        "\n",
        "        ### TRAINING ###\n",
        "        if i==0 and count==15:\n",
        "            loss_MLAE_probs = train_loop(data_dict, net_MLAE_probs, criterion, optimizer, epochs=epochs, record=True, type='encoder')\n",
        "        else:\n",
        "            train_loop(data_dict, net_MLAE_probs, criterion, optimizer, epochs=epochs, record=False, type='encoder')\n",
        "        loss += test_loop(data_dict, net_MLAE_probs, criterion, type='encoder')\n",
        "\n",
        "    loss /= epochs_grid\n",
        "    search_score.append(loss)\n",
        "    if loss < search_record['best_score']:\n",
        "        search_record['best_score'] = loss\n",
        "        search_record['params'] = prob_list"
      ]
    },
    {
      "cell_type": "code",
      "execution_count": 24,
      "metadata": {
        "id": "TyZ4Eg4BaDrO",
        "colab": {
          "base_uri": "https://localhost:8080/",
          "height": 283
        },
        "outputId": "180913c2-0c7c-4a01-a2a2-4f0c58d93134"
      },
      "outputs": [
        {
          "output_type": "execute_result",
          "data": {
            "text/plain": [
              "<matplotlib.legend.Legend at 0x7fa78025d590>"
            ]
          },
          "metadata": {},
          "execution_count": 24
        },
        {
          "output_type": "display_data",
          "data": {
            "text/plain": [
              "<Figure size 432x288 with 1 Axes>"
            ],
            "image/png": "[encoded data removed]"
          },
          "metadata": {
            "needs_background": "light"
          }
        }
      ],
      "source": [
        "# training check at prob is 0.75\n",
        "plt.plot(loss_MLAE_probs['train_loss'])\n",
        "plt.plot(range(0, epochs+1, epochs//20), loss_MLAE_probs['val_loss'])\n",
        "plt.legend(loss_MLAE_probs.keys())"
      ]
    },
    {
      "cell_type": "code",
      "execution_count": 25,
      "metadata": {
        "id": "zmJaV5zpueHg",
        "colab": {
          "base_uri": "https://localhost:8080/",
          "height": 283
        },
        "outputId": "99118c55-b2c3-4b07-b74b-c3136bde0e95"
      },
      "outputs": [
        {
          "output_type": "execute_result",
          "data": {
            "text/plain": [
              "[<matplotlib.lines.Line2D at 0x7fa780325750>]"
            ]
          },
          "metadata": {},
          "execution_count": 25
        },
        {
          "output_type": "display_data",
          "data": {
            "text/plain": [
              "<Figure size 432x288 with 1 Axes>"
            ],
            "image/png": "[encoded data removed]"
          },
          "metadata": {
            "needs_background": "light"
          }
        }
      ],
      "source": [
        "# search check\n",
        "plt.plot(list(prob_search)[:17], search_score)"
      ]
    },
    {
      "cell_type": "code",
      "execution_count": 26,
      "metadata": {
        "id": "N47wNFMGujEa",
        "colab": {
          "base_uri": "https://localhost:8080/"
        },
        "outputId": "eb80c7fb-b025-4dc2-a8d9-c69633370dc2"
      },
      "outputs": [
        {
          "output_type": "stream",
          "name": "stdout",
          "text": [
            "prob: tensor([0.9429, 0.9029, 0.8814, 0.8644, 0.8603, 0.8468, 0.9667, 0.9169, 0.8851,\n",
            "        0.8440, 0.8102, 0.8919, 0.9371, 0.8715, 0.8871, 0.9910]) \n",
            "loss: 0.0026597472803311715\n"
          ]
        }
      ],
      "source": [
        "prob_list = search_record['params']\n",
        "print('prob:', prob_list, '\\nloss:', loss)"
      ]
    },
    {
      "cell_type": "code",
      "execution_count": 27,
      "metadata": {
        "id": "cy-i6MCExwGO",
        "colab": {
          "base_uri": "https://localhost:8080/"
        },
        "outputId": "39a8ab4b-bf79-470c-8742-26e467b86960"
      },
      "outputs": [
        {
          "output_type": "stream",
          "name": "stderr",
          "text": [
            "100%|██████████| 100/100 [02:36<00:00,  1.56s/it]\n"
          ]
        }
      ],
      "source": [
        "for i in tqdm(range(epochs_fe)):\n",
        "    net_MLAE_probs = M_LAE(prob_list, x_dim, f_dim, type='probs').to(device)\n",
        "\n",
        "    params = list(net_MLAE_probs.parameters())\n",
        "    criterion = nn.MSELoss()\n",
        "    optimizer = optim.Adam(params, lr=learning_rate)\n",
        "\n",
        "    ### TRAINING ###\n",
        "    train_loop(data_dict, net_MLAE_probs, criterion, optimizer, epochs=epochs, record=False, type='encoder')\n",
        "\n",
        "    # feature extraction\n",
        "    #loss_ls = feature_extraction(data_dict, net_MLAE_probs.parameters(), criterion, type='ls', epochs=epochs)\n",
        "    loss_ls = repr_learning(data_dict, net_MLAE_probs.parameters(), criterion, type='gd', epochs=epochs)\n",
        "    fe_loss_dict['MLAE_probs'].append(loss_ls)"
      ]
    },
    {
      "cell_type": "code",
      "execution_count": 28,
      "metadata": {
        "id": "dK62YaQGcMyR",
        "colab": {
          "base_uri": "https://localhost:8080/"
        },
        "outputId": "79bfe95c-928a-4a6b-ddf7-f60921239076"
      },
      "outputs": [
        {
          "output_type": "stream",
          "name": "stdout",
          "text": [
            "mean: 3.5287499164980014 , sd: 1.076605118355581\n"
          ]
        }
      ],
      "source": [
        "print('mean:', statistics.mean(fe_loss_dict['MLAE_probs']), ', sd:', statistics.stdev(fe_loss_dict['MLAE_probs']))"
      ]
    },
    {
      "cell_type": "markdown",
      "metadata": {
        "id": "si7wv4fGaDrO"
      },
      "source": [
        "##### Masked linear autoencoder (patches)"
      ]
    },
    {
      "cell_type": "code",
      "execution_count": 29,
      "metadata": {
        "id": "zk_0aTEcu0jl",
        "colab": {
          "base_uri": "https://localhost:8080/"
        },
        "outputId": "b021193e-01e8-4624-8db4-b8af94077563"
      },
      "outputs": [
        {
          "output_type": "stream",
          "name": "stderr",
          "text": [
            "  0%|          | 0/21 [00:00<?, ?it/s]/usr/local/lib/python3.7/dist-packages/ipykernel_launcher.py:22: UserWarning: __rfloordiv__ is deprecated, and its behavior will change in a future version of pytorch. It currently rounds toward 0 (like the 'trunc' function NOT 'floor'). This results in incorrect rounding for negative values. To keep the current behavior, use torch.div(a, b, rounding_mode='trunc'), or for actual floor division, use torch.div(a, b, rounding_mode='floor').\n",
            " 71%|███████▏  | 15/21 [56:46<23:09, 231.65s/it]"
          ]
        },
        {
          "output_type": "stream",
          "name": "stdout",
          "text": [
            "epoch:  0 , train loss:  3.4470821927190713 , val loss 5.483412515622795\n",
            "epoch:  5 , train loss:  1.943485113474706 , val loss 1.8455046290404282\n",
            "epoch:  10 , train loss:  1.2379300166643747 , val loss 1.0390361111116755\n",
            "epoch:  15 , train loss:  0.87183961072065 , val loss 0.9698258530088092\n",
            "epoch:  20 , train loss:  0.7329648009051073 , val loss 0.7636003589396255\n",
            "epoch:  25 , train loss:  0.7141249326897958 , val loss 0.7114470782569564\n",
            "epoch:  30 , train loss:  0.6114205369745516 , val loss 0.6184717169015469\n",
            "epoch:  35 , train loss:  0.6101255839215479 , val loss 0.6739539796075108\n",
            "epoch:  40 , train loss:  0.5641878901022932 , val loss 0.4930101495759635\n",
            "epoch:  45 , train loss:  0.5488182143558743 , val loss 0.5694961942127819\n",
            "epoch:  50 , train loss:  0.5346817932156357 , val loss 0.5136083966570711\n",
            "epoch:  55 , train loss:  0.5185196371415086 , val loss 0.5636496737487203\n",
            "epoch:  60 , train loss:  0.5030194995503866 , val loss 0.47615149237417637\n",
            "epoch:  65 , train loss:  0.49351144063445473 , val loss 0.4829717235837976\n",
            "epoch:  70 , train loss:  0.5252555371672711 , val loss 0.4333336036662742\n",
            "epoch:  75 , train loss:  0.48759793891856457 , val loss 0.40046554055421585\n",
            "epoch:  80 , train loss:  0.4730439724287144 , val loss 0.5367774887354074\n",
            "epoch:  85 , train loss:  0.5105394661665676 , val loss 0.47525826846964925\n",
            "epoch:  90 , train loss:  0.4840189468767616 , val loss 0.5113009805740476\n",
            "epoch:  95 , train loss:  0.4569840685957504 , val loss 0.5744320443376819\n",
            "epoch:  100 , train loss:  0.47288348113687256 , val loss 0.49658833983559625\n"
          ]
        },
        {
          "output_type": "stream",
          "name": "stderr",
          "text": [
            "100%|██████████| 21/21 [1:18:32<00:00, 224.42s/it]\n"
          ]
        }
      ],
      "source": [
        "# grid search\n",
        "search_score = []\n",
        "search_record = {'params': -1, 'best_score': 1e8}\n",
        "\n",
        "for prob in tqdm(prob_search):\n",
        "    for patch_size in patch_size_plain_search:\n",
        "        for i in range(epochs_grid):\n",
        "            loss = 0\n",
        "\n",
        "            net_MLAE_patches = M_LAE(prob, x_dim, f_dim, type='patches', patch_size=patch_size).to(device)\n",
        "\n",
        "            params = list(net_MLAE_patches.parameters())\n",
        "            criterion = nn.MSELoss()\n",
        "            optimizer = optim.Adam(params, lr=learning_rate)\n",
        "\n",
        "            ### TRAINING ###\n",
        "            if i==0 and prob==0.75 and patch_size==8:\n",
        "                loss_MLAE_patches = train_loop(data_dict, net_MLAE_patches, criterion, optimizer, epochs=epochs, record=True, type='encoder')\n",
        "            else:\n",
        "                train_loop(data_dict, net_MLAE_patches, criterion, optimizer, epochs=epochs, record=False, type='encoder')\n",
        "            loss += test_loop(data_dict, net_MLAE_patches, criterion, type='encoder')\n",
        "\n",
        "        loss /= epochs_grid\n",
        "        search_score.append(loss)\n",
        "        if loss < search_record['best_score']:\n",
        "            search_record['best_score'] = loss\n",
        "            search_record['params'] = (prob, patch_size)"
      ]
    },
    {
      "cell_type": "code",
      "execution_count": 30,
      "metadata": {
        "id": "M_KVuVqfaDrP",
        "colab": {
          "base_uri": "https://localhost:8080/",
          "height": 283
        },
        "outputId": "21f692a1-3a5a-4163-f3d8-d48ba544522c"
      },
      "outputs": [
        {
          "output_type": "execute_result",
          "data": {
            "text/plain": [
              "<matplotlib.legend.Legend at 0x7fa780070850>"
            ]
          },
          "metadata": {},
          "execution_count": 30
        },
        {
          "output_type": "display_data",
          "data": {
            "text/plain": [
              "<Figure size 432x288 with 1 Axes>"
            ],
            "image/png": "[encoded data removed]"
          },
          "metadata": {
            "needs_background": "light"
          }
        }
      ],
      "source": [
        "# training check at prob is 0.75\n",
        "plt.plot(loss_MLAE_patches['train_loss'])\n",
        "plt.plot(range(0, epochs+1, epochs//20), loss_MLAE_patches['val_loss'])\n",
        "plt.legend(loss_MLAE_patches.keys())"
      ]
    },
    {
      "cell_type": "code",
      "execution_count": 31,
      "metadata": {
        "id": "NNIFMFDfEHni",
        "colab": {
          "base_uri": "https://localhost:8080/",
          "height": 283
        },
        "outputId": "98532ae5-f468-4a05-cce4-c47bba3d8605"
      },
      "outputs": [
        {
          "output_type": "execute_result",
          "data": {
            "text/plain": [
              "<matplotlib.legend.Legend at 0x7fa7800346d0>"
            ]
          },
          "metadata": {},
          "execution_count": 31
        },
        {
          "output_type": "display_data",
          "data": {
            "text/plain": [
              "<Figure size 432x288 with 1 Axes>"
            ],
            "image/png": "[encoded data removed]"
          },
          "metadata": {
            "needs_background": "light"
          }
        }
      ],
      "source": [
        "# search check\n",
        "for i in range(4):\n",
        "    plt.plot(prob_search, search_score[i::4])\n",
        "plt.legend([str(patch_size.item()) for patch_size in patch_size_plain_search])"
      ]
    },
    {
      "cell_type": "code",
      "execution_count": 32,
      "metadata": {
        "id": "lidLQTaFu06m",
        "colab": {
          "base_uri": "https://localhost:8080/"
        },
        "outputId": "be4eaadf-8451-42b1-aff6-debcce527f3a"
      },
      "outputs": [
        {
          "output_type": "stream",
          "name": "stdout",
          "text": [
            "prob: tensor(1.) ,\n",
            "patch_size: 2 ,\n",
            "loss: 0.00017838464427819177\n"
          ]
        }
      ],
      "source": [
        "prob, patch_size = search_record['params']\n",
        "print('prob:', prob, ',\\npatch_size:', patch_size.item(), ',\\nloss:', loss)"
      ]
    },
    {
      "cell_type": "code",
      "execution_count": 33,
      "metadata": {
        "id": "m5CH1NYfaDrO",
        "colab": {
          "base_uri": "https://localhost:8080/"
        },
        "outputId": "ee001aca-b003-4914-ebfa-f545236e2a00"
      },
      "outputs": [
        {
          "output_type": "stream",
          "name": "stderr",
          "text": [
            "100%|██████████| 100/100 [01:50<00:00,  1.10s/it]\n"
          ]
        }
      ],
      "source": [
        "# feature extraction\n",
        "fe_loss_dict['MLAE_patches'] = []\n",
        "patch_size = 4\n",
        "for i in tqdm(range(epochs_fe)):\n",
        "    net_MLAE_patches = M_LAE(prob, x_dim, f_dim, type='patches', patch_size=patch_size).to(device)\n",
        "\n",
        "    params = list(net_MLAE_patches.parameters())\n",
        "    criterion = nn.MSELoss()\n",
        "    optimizer = optim.Adam(params, lr=learning_rate)\n",
        "\n",
        "    ### TRAINING ###\n",
        "    train_loop(data_dict, net_MLAE_patches, criterion, optimizer, epochs=epochs, record=False, type='encoder')\n",
        "\n",
        "    # feature extraction\n",
        "    #loss_ls = feature_extraction(data_dict, net_MLAE_patches.parameters(), criterion, type='ls', epochs=epochs)\n",
        "    loss_ls = repr_learning(data_dict, net_MLAE_patches.parameters(), criterion, type='gd', epochs=epochs)\n",
        "    fe_loss_dict['MLAE_patches'].append(loss_ls)"
      ]
    },
    {
      "cell_type": "code",
      "execution_count": 34,
      "metadata": {
        "id": "TcRAg3E-cVnc",
        "colab": {
          "base_uri": "https://localhost:8080/"
        },
        "outputId": "f5ea2d38-b63e-45e8-dfca-fc03a5cf71e7"
      },
      "outputs": [
        {
          "output_type": "stream",
          "name": "stdout",
          "text": [
            "mean: 3.500800313630066 , sd: 0.827311253735518\n"
          ]
        }
      ],
      "source": [
        "print('mean:', statistics.mean(fe_loss_dict['MLAE_patches']), ', sd:', statistics.stdev(fe_loss_dict['MLAE_patches']))"
      ]
    },
    {
      "cell_type": "markdown",
      "metadata": {
        "id": "-4BzVMlQdmJ4"
      },
      "source": [
        "### Evaluation"
      ]
    },
    {
      "cell_type": "code",
      "execution_count": 64,
      "metadata": {
        "id": "fm1caMrUdo_M",
        "colab": {
          "base_uri": "https://localhost:8080/",
          "height": 283
        },
        "outputId": "b484f1ac-7e81-4e1d-c4d4-2b71a30a61b8"
      },
      "outputs": [
        {
          "output_type": "execute_result",
          "data": {
            "text/plain": [
              "<matplotlib.legend.Legend at 0x7fa7436d90d0>"
            ]
          },
          "metadata": {},
          "execution_count": 64
        },
        {
          "output_type": "display_data",
          "data": {
            "text/plain": [
              "<Figure size 432x288 with 1 Axes>"
            ],
            "image/png": "[encoded data removed]"
          },
          "metadata": {
            "needs_background": "light"
          }
        }
      ],
      "source": [
        "plt.plot(fe_loss_dict['LAE'])\n",
        "plt.plot(fe_loss_dict['MLAE_basic'])\n",
        "plt.plot(fe_loss_dict['MLAE_probs'])\n",
        "plt.plot(fe_loss_dict['MLAE_patches'])\n",
        "plt.legend(['LAE', 'MLAE_basic', 'MLAE_probs', 'MLAE_patches'])"
      ]
    },
    {
      "cell_type": "code",
      "execution_count": 65,
      "metadata": {
        "id": "wvIJxQQf6rLj",
        "colab": {
          "base_uri": "https://localhost:8080/"
        },
        "outputId": "1abddc6a-ae4e-4f76-d642-ba0e7fb2edf8"
      },
      "outputs": [
        {
          "output_type": "stream",
          "name": "stdout",
          "text": [
            "{'LAE': {'mean': 24.28822666196855, 'sd': 112.77483075262933}, 'MLAE_basic': {'mean': 19.764446280136564, 'sd': 130.27021268330387}, 'MLAE_probs': {'mean': 3.5287499164980014, 'sd': 1.076605118355581}, 'MLAE_patches': {'mean': 3.500800313630066, 'sd': 0.827311253735518}}\n"
          ]
        }
      ],
      "source": [
        "fe_stats_dict = {'LAE': {'mean': statistics.mean(fe_loss_dict['LAE']), 'sd': statistics.stdev(fe_loss_dict['LAE'])},\n",
        "                 'MLAE_basic': {'mean': statistics.mean(fe_loss_dict['MLAE_basic']), 'sd': statistics.stdev(fe_loss_dict['MLAE_basic'])},\n",
        "                 'MLAE_probs': {'mean': statistics.mean(fe_loss_dict['MLAE_probs']), 'sd': statistics.stdev(fe_loss_dict['MLAE_probs'])},\n",
        "                 'MLAE_patches': {'mean': statistics.mean(fe_loss_dict['MLAE_patches']), 'sd': statistics.stdev(fe_loss_dict['MLAE_patches'])}}\n",
        "print(fe_stats_dict)"
      ]
    },
    {
      "cell_type": "code",
      "execution_count": 66,
      "metadata": {
        "id": "je7H8jYwZhAb",
        "colab": {
          "base_uri": "https://localhost:8080/",
          "height": 444
        },
        "outputId": "53081894-f0d2-40f2-f06d-19c9409ca5e5"
      },
      "outputs": [
        {
          "output_type": "display_data",
          "data": {
            "text/plain": [
              "<Figure size 720x504 with 1 Axes>"
            ],
            "image/png": "[encoded data removed]"
          },
          "metadata": {
            "needs_background": "light"
          }
        }
      ],
      "source": [
        "data = fe_loss_dict.values()\n",
        " \n",
        "fig = plt.figure(figsize =(10, 7))\n",
        "ax = fig.add_subplot(111)\n",
        " \n",
        "# Creating axes instance\n",
        "bp = ax.boxplot(data, patch_artist = True,\n",
        "                notch ='True', vert = 0)\n",
        " \n",
        "colors = ['#0000FF', '#00FF00',\n",
        "          '#FFFF00', '#FF00FF']\n",
        " \n",
        "for patch, color in zip(bp['boxes'], colors):\n",
        "    patch.set_facecolor(color)\n",
        " \n",
        "# changing color and linewidth of\n",
        "# whiskers\n",
        "for whisker in bp['whiskers']:\n",
        "    whisker.set(color ='#8B008B',\n",
        "                linewidth = 1.5,\n",
        "                linestyle =\":\")\n",
        " \n",
        "# changing color and linewidth of\n",
        "# caps\n",
        "for cap in bp['caps']:\n",
        "    cap.set(color ='#8B008B',\n",
        "            linewidth = 2)\n",
        " \n",
        "# changing color and linewidth of\n",
        "# medians\n",
        "for median in bp['medians']:\n",
        "    median.set(color ='red',\n",
        "               linewidth = 3)\n",
        " \n",
        "# changing style of fliers\n",
        "for flier in bp['fliers']:\n",
        "    flier.set(marker ='D',\n",
        "              color ='#e7298a',\n",
        "              alpha = 0.5)\n",
        "     \n",
        "# x-axis labels\n",
        "ax.set_yticklabels(fe_loss_dict.keys())\n",
        "#ax.set_yticklabels(patch_dict.keys())\n",
        " \n",
        "# Adding title\n",
        "plt.title(\"Box plot for feature loss\")\n",
        " \n",
        "# Removing top axes and right axes\n",
        "# ticks\n",
        "ax.get_xaxis().tick_bottom()\n",
        "ax.get_yaxis().tick_left()\n",
        "     \n",
        "# show plot\n",
        "plt.show()"
      ]
    },
    {
      "cell_type": "code",
      "execution_count": 37,
      "metadata": {
        "id": "IQdzko_m8UD3"
      },
      "outputs": [],
      "source": []
    }
  ],
  "metadata": {
    "accelerator": "GPU",
    "colab": {
      "collapsed_sections": [],
      "provenance": [],
      "include_colab_link": true
    },
    "gpuClass": "standard",
    "kernelspec": {
      "display_name": "Python 3.9.6 ('SSL_venv': venv)",
      "language": "python",
      "name": "python3"
    },
    "language_info": {
      "codemirror_mode": {
        "name": "ipython",
        "version": 3
      },
      "file_extension": ".py",
      "mimetype": "text/x-python",
      "name": "python",
      "nbconvert_exporter": "python",
      "pygments_lexer": "ipython3",
      "version": "3.9.6"
    },
    "vscode": {
      "interpreter": {
        "hash": "9c3c12edae13c0508bae753e64eeaec91e16c05e32c8c48bac5bd7ee2e37cd7c"
      }
    }
  },
  "nbformat": 4,
  "nbformat_minor": 0
}